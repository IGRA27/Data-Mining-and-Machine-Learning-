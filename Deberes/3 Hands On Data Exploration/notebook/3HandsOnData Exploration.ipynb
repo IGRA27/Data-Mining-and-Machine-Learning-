{
 "cells": [
  {
   "attachments": {},
   "cell_type": "markdown",
   "metadata": {},
   "source": [
    "Isaac Reyes\n",
    "\n",
    "***3 Hands On: Data Exploration***"
   ]
  },
  {
   "attachments": {},
   "cell_type": "markdown",
   "metadata": {},
   "source": [
    "1 Summarization\n",
    "\n",
    "Load the data set carIns final. It already has the imputation of missing values."
   ]
  },
  {
   "cell_type": "code",
   "execution_count": 2,
   "metadata": {
    "vscode": {
     "languageId": "r"
    }
   },
   "outputs": [
    {
     "data": {
      "text/html": [
       "'carIns_final'"
      ],
      "text/latex": [
       "'carIns\\_final'"
      ],
      "text/markdown": [
       "'carIns_final'"
      ],
      "text/plain": [
       "[1] \"carIns_final\""
      ]
     },
     "metadata": {},
     "output_type": "display_data"
    },
    {
     "data": {
      "text/html": [
       "<table class=\"dataframe\">\n",
       "<caption>A tibble: 6 × 26</caption>\n",
       "<thead>\n",
       "\t<tr><th></th><th scope=col>symb</th><th scope=col>normLoss</th><th scope=col>make</th><th scope=col>fuelType</th><th scope=col>aspiration</th><th scope=col>nDoors</th><th scope=col>bodyStyle</th><th scope=col>driveWheels</th><th scope=col>engineLocation</th><th scope=col>wheelBase</th><th scope=col>⋯</th><th scope=col>engineSize</th><th scope=col>fuelSystem</th><th scope=col>bore</th><th scope=col>stroke</th><th scope=col>compressionRatio</th><th scope=col>horsePower</th><th scope=col>peakRpm</th><th scope=col>cityMpg</th><th scope=col>highwayMpg</th><th scope=col>price</th></tr>\n",
       "\t<tr><th></th><th scope=col>&lt;int&gt;</th><th scope=col>&lt;int&gt;</th><th scope=col>&lt;fct&gt;</th><th scope=col>&lt;fct&gt;</th><th scope=col>&lt;fct&gt;</th><th scope=col>&lt;fct&gt;</th><th scope=col>&lt;fct&gt;</th><th scope=col>&lt;fct&gt;</th><th scope=col>&lt;fct&gt;</th><th scope=col>&lt;dbl&gt;</th><th scope=col>⋯</th><th scope=col>&lt;int&gt;</th><th scope=col>&lt;fct&gt;</th><th scope=col>&lt;dbl&gt;</th><th scope=col>&lt;dbl&gt;</th><th scope=col>&lt;dbl&gt;</th><th scope=col>&lt;int&gt;</th><th scope=col>&lt;int&gt;</th><th scope=col>&lt;int&gt;</th><th scope=col>&lt;int&gt;</th><th scope=col>&lt;int&gt;</th></tr>\n",
       "</thead>\n",
       "<tbody>\n",
       "\t<tr><th scope=row>1</th><td>3</td><td>161</td><td>alfa-romero</td><td>gas</td><td>std</td><td>two </td><td>convertible</td><td>rwd</td><td>front</td><td>88.6</td><td>⋯</td><td>130</td><td>mpfi</td><td>3.47</td><td>2.68</td><td> 9.0</td><td>111</td><td>5000</td><td>21</td><td>27</td><td>13495</td></tr>\n",
       "\t<tr><th scope=row>2</th><td>3</td><td>161</td><td>alfa-romero</td><td>gas</td><td>std</td><td>two </td><td>convertible</td><td>rwd</td><td>front</td><td>88.6</td><td>⋯</td><td>130</td><td>mpfi</td><td>3.47</td><td>2.68</td><td> 9.0</td><td>111</td><td>5000</td><td>21</td><td>27</td><td>16500</td></tr>\n",
       "\t<tr><th scope=row>3</th><td>1</td><td>161</td><td>alfa-romero</td><td>gas</td><td>std</td><td>two </td><td>hatchback  </td><td>rwd</td><td>front</td><td>94.5</td><td>⋯</td><td>152</td><td>mpfi</td><td>2.68</td><td>3.47</td><td> 9.0</td><td>154</td><td>5000</td><td>19</td><td>26</td><td>16500</td></tr>\n",
       "\t<tr><th scope=row>4</th><td>2</td><td>164</td><td>audi       </td><td>gas</td><td>std</td><td>four</td><td>sedan      </td><td>fwd</td><td>front</td><td>99.8</td><td>⋯</td><td>109</td><td>mpfi</td><td>3.19</td><td>3.40</td><td>10.0</td><td>102</td><td>5500</td><td>24</td><td>30</td><td>13950</td></tr>\n",
       "\t<tr><th scope=row>5</th><td>2</td><td>164</td><td>audi       </td><td>gas</td><td>std</td><td>four</td><td>sedan      </td><td>4wd</td><td>front</td><td>99.4</td><td>⋯</td><td>136</td><td>mpfi</td><td>3.19</td><td>3.40</td><td> 8.0</td><td>115</td><td>5500</td><td>18</td><td>22</td><td>17450</td></tr>\n",
       "\t<tr><th scope=row>6</th><td>2</td><td>161</td><td>audi       </td><td>gas</td><td>std</td><td>two </td><td>sedan      </td><td>fwd</td><td>front</td><td>99.8</td><td>⋯</td><td>136</td><td>mpfi</td><td>3.19</td><td>3.40</td><td> 8.5</td><td>110</td><td>5500</td><td>19</td><td>25</td><td>15250</td></tr>\n",
       "</tbody>\n",
       "</table>\n"
      ],
      "text/latex": [
       "A tibble: 6 × 26\n",
       "\\begin{tabular}{r|lllllllllllllllllllll}\n",
       "  & symb & normLoss & make & fuelType & aspiration & nDoors & bodyStyle & driveWheels & engineLocation & wheelBase & ⋯ & engineSize & fuelSystem & bore & stroke & compressionRatio & horsePower & peakRpm & cityMpg & highwayMpg & price\\\\\n",
       "  & <int> & <int> & <fct> & <fct> & <fct> & <fct> & <fct> & <fct> & <fct> & <dbl> & ⋯ & <int> & <fct> & <dbl> & <dbl> & <dbl> & <int> & <int> & <int> & <int> & <int>\\\\\n",
       "\\hline\n",
       "\t1 & 3 & 161 & alfa-romero & gas & std & two  & convertible & rwd & front & 88.6 & ⋯ & 130 & mpfi & 3.47 & 2.68 &  9.0 & 111 & 5000 & 21 & 27 & 13495\\\\\n",
       "\t2 & 3 & 161 & alfa-romero & gas & std & two  & convertible & rwd & front & 88.6 & ⋯ & 130 & mpfi & 3.47 & 2.68 &  9.0 & 111 & 5000 & 21 & 27 & 16500\\\\\n",
       "\t3 & 1 & 161 & alfa-romero & gas & std & two  & hatchback   & rwd & front & 94.5 & ⋯ & 152 & mpfi & 2.68 & 3.47 &  9.0 & 154 & 5000 & 19 & 26 & 16500\\\\\n",
       "\t4 & 2 & 164 & audi        & gas & std & four & sedan       & fwd & front & 99.8 & ⋯ & 109 & mpfi & 3.19 & 3.40 & 10.0 & 102 & 5500 & 24 & 30 & 13950\\\\\n",
       "\t5 & 2 & 164 & audi        & gas & std & four & sedan       & 4wd & front & 99.4 & ⋯ & 136 & mpfi & 3.19 & 3.40 &  8.0 & 115 & 5500 & 18 & 22 & 17450\\\\\n",
       "\t6 & 2 & 161 & audi        & gas & std & two  & sedan       & fwd & front & 99.8 & ⋯ & 136 & mpfi & 3.19 & 3.40 &  8.5 & 110 & 5500 & 19 & 25 & 15250\\\\\n",
       "\\end{tabular}\n"
      ],
      "text/markdown": [
       "\n",
       "A tibble: 6 × 26\n",
       "\n",
       "| <!--/--> | symb &lt;int&gt; | normLoss &lt;int&gt; | make &lt;fct&gt; | fuelType &lt;fct&gt; | aspiration &lt;fct&gt; | nDoors &lt;fct&gt; | bodyStyle &lt;fct&gt; | driveWheels &lt;fct&gt; | engineLocation &lt;fct&gt; | wheelBase &lt;dbl&gt; | ⋯ ⋯ | engineSize &lt;int&gt; | fuelSystem &lt;fct&gt; | bore &lt;dbl&gt; | stroke &lt;dbl&gt; | compressionRatio &lt;dbl&gt; | horsePower &lt;int&gt; | peakRpm &lt;int&gt; | cityMpg &lt;int&gt; | highwayMpg &lt;int&gt; | price &lt;int&gt; |\n",
       "|---|---|---|---|---|---|---|---|---|---|---|---|---|---|---|---|---|---|---|---|---|---|\n",
       "| 1 | 3 | 161 | alfa-romero | gas | std | two  | convertible | rwd | front | 88.6 | ⋯ | 130 | mpfi | 3.47 | 2.68 |  9.0 | 111 | 5000 | 21 | 27 | 13495 |\n",
       "| 2 | 3 | 161 | alfa-romero | gas | std | two  | convertible | rwd | front | 88.6 | ⋯ | 130 | mpfi | 3.47 | 2.68 |  9.0 | 111 | 5000 | 21 | 27 | 16500 |\n",
       "| 3 | 1 | 161 | alfa-romero | gas | std | two  | hatchback   | rwd | front | 94.5 | ⋯ | 152 | mpfi | 2.68 | 3.47 |  9.0 | 154 | 5000 | 19 | 26 | 16500 |\n",
       "| 4 | 2 | 164 | audi        | gas | std | four | sedan       | fwd | front | 99.8 | ⋯ | 109 | mpfi | 3.19 | 3.40 | 10.0 | 102 | 5500 | 24 | 30 | 13950 |\n",
       "| 5 | 2 | 164 | audi        | gas | std | four | sedan       | 4wd | front | 99.4 | ⋯ | 136 | mpfi | 3.19 | 3.40 |  8.0 | 115 | 5500 | 18 | 22 | 17450 |\n",
       "| 6 | 2 | 161 | audi        | gas | std | two  | sedan       | fwd | front | 99.8 | ⋯ | 136 | mpfi | 3.19 | 3.40 |  8.5 | 110 | 5500 | 19 | 25 | 15250 |\n",
       "\n"
      ],
      "text/plain": [
       "  symb normLoss make        fuelType aspiration nDoors bodyStyle   driveWheels\n",
       "1 3    161      alfa-romero gas      std        two    convertible rwd        \n",
       "2 3    161      alfa-romero gas      std        two    convertible rwd        \n",
       "3 1    161      alfa-romero gas      std        two    hatchback   rwd        \n",
       "4 2    164      audi        gas      std        four   sedan       fwd        \n",
       "5 2    164      audi        gas      std        four   sedan       4wd        \n",
       "6 2    161      audi        gas      std        two    sedan       fwd        \n",
       "  engineLocation wheelBase ⋯ engineSize fuelSystem bore stroke compressionRatio\n",
       "1 front          88.6      ⋯ 130        mpfi       3.47 2.68    9.0            \n",
       "2 front          88.6      ⋯ 130        mpfi       3.47 2.68    9.0            \n",
       "3 front          94.5      ⋯ 152        mpfi       2.68 3.47    9.0            \n",
       "4 front          99.8      ⋯ 109        mpfi       3.19 3.40   10.0            \n",
       "5 front          99.4      ⋯ 136        mpfi       3.19 3.40    8.0            \n",
       "6 front          99.8      ⋯ 136        mpfi       3.19 3.40    8.5            \n",
       "  horsePower peakRpm cityMpg highwayMpg price\n",
       "1 111        5000    21      27         13495\n",
       "2 111        5000    21      27         16500\n",
       "3 154        5000    19      26         16500\n",
       "4 102        5500    24      30         13950\n",
       "5 115        5500    18      22         17450\n",
       "6 110        5500    19      25         15250"
      ]
     },
     "metadata": {},
     "output_type": "display_data"
    }
   ],
   "source": [
    "data<-load(\"/Users/pc/Desktop/Universidad/6 semestre/Machine Learning & Data Mining/Deberes/3 Hands On Data Exploration/data/carIns_final.RData\")\n",
    "head(data)\n",
    "head(carIns_final)"
   ]
  },
  {
   "attachments": {},
   "cell_type": "markdown",
   "metadata": {},
   "source": [
    "1. Using the package dplyr, answer the following questions:\n",
    "\n",
    "(a) Obtain the number of cars by bodyStyle."
   ]
  },
  {
   "cell_type": "code",
   "execution_count": 3,
   "metadata": {
    "vscode": {
     "languageId": "r"
    }
   },
   "outputs": [
    {
     "name": "stderr",
     "output_type": "stream",
     "text": [
      "\n",
      "Attaching package: 'dplyr'\n",
      "\n",
      "\n",
      "The following objects are masked from 'package:stats':\n",
      "\n",
      "    filter, lag\n",
      "\n",
      "\n",
      "The following objects are masked from 'package:base':\n",
      "\n",
      "    intersect, setdiff, setequal, union\n",
      "\n",
      "\n"
     ]
    }
   ],
   "source": [
    "library(dplyr)"
   ]
  },
  {
   "cell_type": "code",
   "execution_count": 4,
   "metadata": {
    "vscode": {
     "languageId": "r"
    }
   },
   "outputs": [
    {
     "data": {
      "text/html": [
       "<table class=\"dataframe\">\n",
       "<caption>A grouped_df: 205 × 26</caption>\n",
       "<thead>\n",
       "\t<tr><th scope=col>symb</th><th scope=col>normLoss</th><th scope=col>make</th><th scope=col>fuelType</th><th scope=col>aspiration</th><th scope=col>nDoors</th><th scope=col>bodyStyle</th><th scope=col>driveWheels</th><th scope=col>engineLocation</th><th scope=col>wheelBase</th><th scope=col>⋯</th><th scope=col>engineSize</th><th scope=col>fuelSystem</th><th scope=col>bore</th><th scope=col>stroke</th><th scope=col>compressionRatio</th><th scope=col>horsePower</th><th scope=col>peakRpm</th><th scope=col>cityMpg</th><th scope=col>highwayMpg</th><th scope=col>price</th></tr>\n",
       "\t<tr><th scope=col>&lt;int&gt;</th><th scope=col>&lt;int&gt;</th><th scope=col>&lt;fct&gt;</th><th scope=col>&lt;fct&gt;</th><th scope=col>&lt;fct&gt;</th><th scope=col>&lt;fct&gt;</th><th scope=col>&lt;fct&gt;</th><th scope=col>&lt;fct&gt;</th><th scope=col>&lt;fct&gt;</th><th scope=col>&lt;dbl&gt;</th><th scope=col>⋯</th><th scope=col>&lt;int&gt;</th><th scope=col>&lt;fct&gt;</th><th scope=col>&lt;dbl&gt;</th><th scope=col>&lt;dbl&gt;</th><th scope=col>&lt;dbl&gt;</th><th scope=col>&lt;int&gt;</th><th scope=col>&lt;int&gt;</th><th scope=col>&lt;int&gt;</th><th scope=col>&lt;int&gt;</th><th scope=col>&lt;int&gt;</th></tr>\n",
       "</thead>\n",
       "<tbody>\n",
       "\t<tr><td> 3</td><td>161</td><td>alfa-romero</td><td>gas</td><td>std  </td><td>two </td><td>convertible</td><td>rwd</td><td>front</td><td> 88.6</td><td>⋯</td><td>130</td><td>mpfi</td><td>3.47</td><td>2.68</td><td> 9.00</td><td>111</td><td>5000</td><td>21</td><td>27</td><td>13495</td></tr>\n",
       "\t<tr><td> 3</td><td>161</td><td>alfa-romero</td><td>gas</td><td>std  </td><td>two </td><td>convertible</td><td>rwd</td><td>front</td><td> 88.6</td><td>⋯</td><td>130</td><td>mpfi</td><td>3.47</td><td>2.68</td><td> 9.00</td><td>111</td><td>5000</td><td>21</td><td>27</td><td>16500</td></tr>\n",
       "\t<tr><td> 1</td><td>161</td><td>alfa-romero</td><td>gas</td><td>std  </td><td>two </td><td>hatchback  </td><td>rwd</td><td>front</td><td> 94.5</td><td>⋯</td><td>152</td><td>mpfi</td><td>2.68</td><td>3.47</td><td> 9.00</td><td>154</td><td>5000</td><td>19</td><td>26</td><td>16500</td></tr>\n",
       "\t<tr><td> 2</td><td>164</td><td>audi       </td><td>gas</td><td>std  </td><td>four</td><td>sedan      </td><td>fwd</td><td>front</td><td> 99.8</td><td>⋯</td><td>109</td><td>mpfi</td><td>3.19</td><td>3.40</td><td>10.00</td><td>102</td><td>5500</td><td>24</td><td>30</td><td>13950</td></tr>\n",
       "\t<tr><td> 2</td><td>164</td><td>audi       </td><td>gas</td><td>std  </td><td>four</td><td>sedan      </td><td>4wd</td><td>front</td><td> 99.4</td><td>⋯</td><td>136</td><td>mpfi</td><td>3.19</td><td>3.40</td><td> 8.00</td><td>115</td><td>5500</td><td>18</td><td>22</td><td>17450</td></tr>\n",
       "\t<tr><td> 2</td><td>161</td><td>audi       </td><td>gas</td><td>std  </td><td>two </td><td>sedan      </td><td>fwd</td><td>front</td><td> 99.8</td><td>⋯</td><td>136</td><td>mpfi</td><td>3.19</td><td>3.40</td><td> 8.50</td><td>110</td><td>5500</td><td>19</td><td>25</td><td>15250</td></tr>\n",
       "\t<tr><td> 1</td><td>158</td><td>audi       </td><td>gas</td><td>std  </td><td>four</td><td>sedan      </td><td>fwd</td><td>front</td><td>105.8</td><td>⋯</td><td>136</td><td>mpfi</td><td>3.19</td><td>3.40</td><td> 8.50</td><td>110</td><td>5500</td><td>19</td><td>25</td><td>17710</td></tr>\n",
       "\t<tr><td> 1</td><td>161</td><td>audi       </td><td>gas</td><td>std  </td><td>four</td><td>wagon      </td><td>fwd</td><td>front</td><td>105.8</td><td>⋯</td><td>136</td><td>mpfi</td><td>3.19</td><td>3.40</td><td> 8.50</td><td>110</td><td>5500</td><td>19</td><td>25</td><td>18920</td></tr>\n",
       "\t<tr><td> 1</td><td>158</td><td>audi       </td><td>gas</td><td>turbo</td><td>four</td><td>sedan      </td><td>fwd</td><td>front</td><td>105.8</td><td>⋯</td><td>131</td><td>mpfi</td><td>3.13</td><td>3.40</td><td> 8.30</td><td>140</td><td>5500</td><td>17</td><td>20</td><td>23875</td></tr>\n",
       "\t<tr><td> 0</td><td>161</td><td>audi       </td><td>gas</td><td>turbo</td><td>two </td><td>hatchback  </td><td>4wd</td><td>front</td><td> 99.5</td><td>⋯</td><td>131</td><td>mpfi</td><td>3.13</td><td>3.40</td><td> 7.00</td><td>160</td><td>5500</td><td>16</td><td>22</td><td> 5572</td></tr>\n",
       "\t<tr><td> 2</td><td>192</td><td>bmw        </td><td>gas</td><td>std  </td><td>two </td><td>sedan      </td><td>rwd</td><td>front</td><td>101.2</td><td>⋯</td><td>108</td><td>mpfi</td><td>3.50</td><td>2.80</td><td> 8.80</td><td>101</td><td>5800</td><td>23</td><td>29</td><td>16430</td></tr>\n",
       "\t<tr><td> 0</td><td>192</td><td>bmw        </td><td>gas</td><td>std  </td><td>four</td><td>sedan      </td><td>rwd</td><td>front</td><td>101.2</td><td>⋯</td><td>108</td><td>mpfi</td><td>3.50</td><td>2.80</td><td> 8.80</td><td>101</td><td>5800</td><td>23</td><td>29</td><td>16925</td></tr>\n",
       "\t<tr><td> 0</td><td>188</td><td>bmw        </td><td>gas</td><td>std  </td><td>two </td><td>sedan      </td><td>rwd</td><td>front</td><td>101.2</td><td>⋯</td><td>164</td><td>mpfi</td><td>3.31</td><td>3.19</td><td> 9.00</td><td>121</td><td>4250</td><td>21</td><td>28</td><td>20970</td></tr>\n",
       "\t<tr><td> 0</td><td>188</td><td>bmw        </td><td>gas</td><td>std  </td><td>four</td><td>sedan      </td><td>rwd</td><td>front</td><td>101.2</td><td>⋯</td><td>164</td><td>mpfi</td><td>3.31</td><td>3.19</td><td> 9.00</td><td>121</td><td>4250</td><td>21</td><td>28</td><td>21105</td></tr>\n",
       "\t<tr><td> 1</td><td>161</td><td>bmw        </td><td>gas</td><td>std  </td><td>four</td><td>sedan      </td><td>rwd</td><td>front</td><td>103.5</td><td>⋯</td><td>164</td><td>mpfi</td><td>3.31</td><td>3.19</td><td> 9.00</td><td>121</td><td>4250</td><td>20</td><td>25</td><td>24565</td></tr>\n",
       "\t<tr><td> 0</td><td>161</td><td>bmw        </td><td>gas</td><td>std  </td><td>four</td><td>sedan      </td><td>rwd</td><td>front</td><td>103.5</td><td>⋯</td><td>209</td><td>mpfi</td><td>3.62</td><td>3.39</td><td> 8.00</td><td>182</td><td>5400</td><td>16</td><td>22</td><td>30760</td></tr>\n",
       "\t<tr><td> 0</td><td>161</td><td>bmw        </td><td>gas</td><td>std  </td><td>two </td><td>sedan      </td><td>rwd</td><td>front</td><td>103.5</td><td>⋯</td><td>209</td><td>mpfi</td><td>3.62</td><td>3.39</td><td> 8.00</td><td>182</td><td>5400</td><td>16</td><td>22</td><td>41315</td></tr>\n",
       "\t<tr><td> 0</td><td>161</td><td>bmw        </td><td>gas</td><td>std  </td><td>four</td><td>sedan      </td><td>rwd</td><td>front</td><td>110.0</td><td>⋯</td><td>209</td><td>mpfi</td><td>3.62</td><td>3.39</td><td> 8.00</td><td>182</td><td>5400</td><td>15</td><td>20</td><td>36880</td></tr>\n",
       "\t<tr><td> 2</td><td>121</td><td>chevrolet  </td><td>gas</td><td>std  </td><td>two </td><td>hatchback  </td><td>fwd</td><td>front</td><td> 88.4</td><td>⋯</td><td> 61</td><td>2bbl</td><td>2.91</td><td>3.03</td><td> 9.50</td><td> 48</td><td>5100</td><td>47</td><td>53</td><td> 5151</td></tr>\n",
       "\t<tr><td> 1</td><td> 98</td><td>chevrolet  </td><td>gas</td><td>std  </td><td>two </td><td>hatchback  </td><td>fwd</td><td>front</td><td> 94.5</td><td>⋯</td><td> 90</td><td>2bbl</td><td>3.03</td><td>3.11</td><td> 9.60</td><td> 70</td><td>5400</td><td>38</td><td>43</td><td> 6295</td></tr>\n",
       "\t<tr><td> 0</td><td> 81</td><td>chevrolet  </td><td>gas</td><td>std  </td><td>four</td><td>sedan      </td><td>fwd</td><td>front</td><td> 94.5</td><td>⋯</td><td> 90</td><td>2bbl</td><td>3.03</td><td>3.11</td><td> 9.60</td><td> 70</td><td>5400</td><td>38</td><td>43</td><td> 6575</td></tr>\n",
       "\t<tr><td> 1</td><td>118</td><td>dodge      </td><td>gas</td><td>std  </td><td>two </td><td>hatchback  </td><td>fwd</td><td>front</td><td> 93.7</td><td>⋯</td><td> 90</td><td>2bbl</td><td>2.97</td><td>3.23</td><td> 9.41</td><td> 68</td><td>5500</td><td>37</td><td>41</td><td> 5572</td></tr>\n",
       "\t<tr><td> 1</td><td>118</td><td>dodge      </td><td>gas</td><td>std  </td><td>two </td><td>hatchback  </td><td>fwd</td><td>front</td><td> 93.7</td><td>⋯</td><td> 90</td><td>2bbl</td><td>2.97</td><td>3.23</td><td> 9.40</td><td> 68</td><td>5500</td><td>31</td><td>38</td><td> 6377</td></tr>\n",
       "\t<tr><td> 1</td><td>118</td><td>dodge      </td><td>gas</td><td>turbo</td><td>two </td><td>hatchback  </td><td>fwd</td><td>front</td><td> 93.7</td><td>⋯</td><td> 98</td><td>mpfi</td><td>3.03</td><td>3.39</td><td> 7.60</td><td>102</td><td>5500</td><td>24</td><td>30</td><td> 7957</td></tr>\n",
       "\t<tr><td> 1</td><td>148</td><td>dodge      </td><td>gas</td><td>std  </td><td>four</td><td>hatchback  </td><td>fwd</td><td>front</td><td> 93.7</td><td>⋯</td><td> 90</td><td>2bbl</td><td>2.97</td><td>3.23</td><td> 9.40</td><td> 68</td><td>5500</td><td>31</td><td>38</td><td> 6229</td></tr>\n",
       "\t<tr><td> 1</td><td>148</td><td>dodge      </td><td>gas</td><td>std  </td><td>four</td><td>sedan      </td><td>fwd</td><td>front</td><td> 93.7</td><td>⋯</td><td> 90</td><td>2bbl</td><td>2.97</td><td>3.23</td><td> 9.40</td><td> 68</td><td>5500</td><td>31</td><td>38</td><td> 6692</td></tr>\n",
       "\t<tr><td> 1</td><td>148</td><td>dodge      </td><td>gas</td><td>std  </td><td>four</td><td>sedan      </td><td>fwd</td><td>front</td><td> 93.7</td><td>⋯</td><td> 90</td><td>2bbl</td><td>2.97</td><td>3.23</td><td> 9.40</td><td> 68</td><td>5500</td><td>31</td><td>38</td><td> 7609</td></tr>\n",
       "\t<tr><td> 1</td><td>148</td><td>dodge      </td><td>gas</td><td>turbo</td><td>four</td><td>sedan      </td><td>fwd</td><td>front</td><td> 93.7</td><td>⋯</td><td> 98</td><td>mpfi</td><td>3.03</td><td>3.39</td><td> 7.60</td><td>102</td><td>5500</td><td>24</td><td>30</td><td> 8558</td></tr>\n",
       "\t<tr><td>-1</td><td>110</td><td>dodge      </td><td>gas</td><td>std  </td><td>four</td><td>wagon      </td><td>fwd</td><td>front</td><td>103.3</td><td>⋯</td><td>122</td><td>2bbl</td><td>3.34</td><td>3.46</td><td> 8.50</td><td> 88</td><td>5000</td><td>24</td><td>30</td><td> 8921</td></tr>\n",
       "\t<tr><td> 3</td><td>145</td><td>dodge      </td><td>gas</td><td>turbo</td><td>two </td><td>hatchback  </td><td>fwd</td><td>front</td><td> 95.9</td><td>⋯</td><td>156</td><td>mfi </td><td>3.60</td><td>3.90</td><td> 7.00</td><td>145</td><td>5000</td><td>19</td><td>24</td><td>12964</td></tr>\n",
       "\t<tr><td>⋮</td><td>⋮</td><td>⋮</td><td>⋮</td><td>⋮</td><td>⋮</td><td>⋮</td><td>⋮</td><td>⋮</td><td>⋮</td><td>⋱</td><td>⋮</td><td>⋮</td><td>⋮</td><td>⋮</td><td>⋮</td><td>⋮</td><td>⋮</td><td>⋮</td><td>⋮</td><td>⋮</td></tr>\n",
       "\t<tr><td>-1</td><td> 65</td><td>toyota    </td><td>gas   </td><td>std  </td><td>four</td><td>hatchback  </td><td>fwd</td><td>front</td><td>102.4</td><td>⋯</td><td>122</td><td>mpfi</td><td>3.31</td><td>3.54</td><td> 8.7</td><td> 92</td><td>4200</td><td>27</td><td>32</td><td> 9988</td></tr>\n",
       "\t<tr><td>-1</td><td> 65</td><td>toyota    </td><td>gas   </td><td>std  </td><td>four</td><td>sedan      </td><td>fwd</td><td>front</td><td>102.4</td><td>⋯</td><td>122</td><td>mpfi</td><td>3.31</td><td>3.54</td><td> 8.7</td><td> 92</td><td>4200</td><td>27</td><td>32</td><td>10898</td></tr>\n",
       "\t<tr><td>-1</td><td> 65</td><td>toyota    </td><td>gas   </td><td>std  </td><td>four</td><td>hatchback  </td><td>fwd</td><td>front</td><td>102.4</td><td>⋯</td><td>122</td><td>mpfi</td><td>3.31</td><td>3.54</td><td> 8.7</td><td> 92</td><td>4200</td><td>27</td><td>32</td><td>11248</td></tr>\n",
       "\t<tr><td> 3</td><td>197</td><td>toyota    </td><td>gas   </td><td>std  </td><td>two </td><td>hatchback  </td><td>rwd</td><td>front</td><td>102.9</td><td>⋯</td><td>171</td><td>mpfi</td><td>3.27</td><td>3.35</td><td> 9.3</td><td>161</td><td>5200</td><td>20</td><td>24</td><td>16558</td></tr>\n",
       "\t<tr><td> 3</td><td>197</td><td>toyota    </td><td>gas   </td><td>std  </td><td>two </td><td>hatchback  </td><td>rwd</td><td>front</td><td>102.9</td><td>⋯</td><td>171</td><td>mpfi</td><td>3.27</td><td>3.35</td><td> 9.3</td><td>161</td><td>5200</td><td>19</td><td>24</td><td>15998</td></tr>\n",
       "\t<tr><td>-1</td><td> 90</td><td>toyota    </td><td>gas   </td><td>std  </td><td>four</td><td>sedan      </td><td>rwd</td><td>front</td><td>104.5</td><td>⋯</td><td>171</td><td>mpfi</td><td>3.27</td><td>3.35</td><td> 9.2</td><td>156</td><td>5200</td><td>20</td><td>24</td><td>15690</td></tr>\n",
       "\t<tr><td>-1</td><td>161</td><td>toyota    </td><td>gas   </td><td>std  </td><td>four</td><td>wagon      </td><td>rwd</td><td>front</td><td>104.5</td><td>⋯</td><td>161</td><td>mpfi</td><td>3.27</td><td>3.35</td><td> 9.2</td><td>156</td><td>5200</td><td>19</td><td>24</td><td>15750</td></tr>\n",
       "\t<tr><td> 2</td><td>122</td><td>volkswagen</td><td>diesel</td><td>std  </td><td>two </td><td>sedan      </td><td>fwd</td><td>front</td><td> 97.3</td><td>⋯</td><td> 97</td><td>idi </td><td>3.01</td><td>3.40</td><td>23.0</td><td> 52</td><td>4800</td><td>37</td><td>46</td><td> 7775</td></tr>\n",
       "\t<tr><td> 2</td><td>122</td><td>volkswagen</td><td>gas   </td><td>std  </td><td>two </td><td>sedan      </td><td>fwd</td><td>front</td><td> 97.3</td><td>⋯</td><td>109</td><td>mpfi</td><td>3.19</td><td>3.40</td><td> 9.0</td><td> 85</td><td>5250</td><td>27</td><td>34</td><td> 7975</td></tr>\n",
       "\t<tr><td> 2</td><td> 94</td><td>volkswagen</td><td>diesel</td><td>std  </td><td>four</td><td>sedan      </td><td>fwd</td><td>front</td><td> 97.3</td><td>⋯</td><td> 97</td><td>idi </td><td>3.01</td><td>3.40</td><td>23.0</td><td> 52</td><td>4800</td><td>37</td><td>46</td><td> 7995</td></tr>\n",
       "\t<tr><td> 2</td><td> 94</td><td>volkswagen</td><td>gas   </td><td>std  </td><td>four</td><td>sedan      </td><td>fwd</td><td>front</td><td> 97.3</td><td>⋯</td><td>109</td><td>mpfi</td><td>3.19</td><td>3.40</td><td> 9.0</td><td> 85</td><td>5250</td><td>27</td><td>34</td><td> 8195</td></tr>\n",
       "\t<tr><td> 2</td><td> 94</td><td>volkswagen</td><td>gas   </td><td>std  </td><td>four</td><td>sedan      </td><td>fwd</td><td>front</td><td> 97.3</td><td>⋯</td><td>109</td><td>mpfi</td><td>3.19</td><td>3.40</td><td> 9.0</td><td> 85</td><td>5250</td><td>27</td><td>34</td><td> 8495</td></tr>\n",
       "\t<tr><td> 2</td><td> 94</td><td>volkswagen</td><td>diesel</td><td>turbo</td><td>four</td><td>sedan      </td><td>fwd</td><td>front</td><td> 97.3</td><td>⋯</td><td> 97</td><td>idi </td><td>3.01</td><td>3.40</td><td>23.0</td><td> 68</td><td>4500</td><td>37</td><td>42</td><td> 9495</td></tr>\n",
       "\t<tr><td> 2</td><td> 94</td><td>volkswagen</td><td>gas   </td><td>std  </td><td>four</td><td>sedan      </td><td>fwd</td><td>front</td><td> 97.3</td><td>⋯</td><td>109</td><td>mpfi</td><td>3.19</td><td>3.40</td><td>10.0</td><td>100</td><td>5500</td><td>26</td><td>32</td><td> 9995</td></tr>\n",
       "\t<tr><td> 3</td><td>161</td><td>volkswagen</td><td>gas   </td><td>std  </td><td>two </td><td>convertible</td><td>fwd</td><td>front</td><td> 94.5</td><td>⋯</td><td>109</td><td>mpfi</td><td>3.19</td><td>3.40</td><td> 8.5</td><td> 90</td><td>5500</td><td>24</td><td>29</td><td>11595</td></tr>\n",
       "\t<tr><td> 3</td><td>256</td><td>volkswagen</td><td>gas   </td><td>std  </td><td>two </td><td>hatchback  </td><td>fwd</td><td>front</td><td> 94.5</td><td>⋯</td><td>109</td><td>mpfi</td><td>3.19</td><td>3.40</td><td> 8.5</td><td> 90</td><td>5500</td><td>24</td><td>29</td><td> 9980</td></tr>\n",
       "\t<tr><td> 0</td><td>161</td><td>volkswagen</td><td>gas   </td><td>std  </td><td>four</td><td>sedan      </td><td>fwd</td><td>front</td><td>100.4</td><td>⋯</td><td>136</td><td>mpfi</td><td>3.19</td><td>3.40</td><td> 8.5</td><td>110</td><td>5500</td><td>19</td><td>24</td><td>13295</td></tr>\n",
       "\t<tr><td> 0</td><td>161</td><td>volkswagen</td><td>diesel</td><td>turbo</td><td>four</td><td>sedan      </td><td>fwd</td><td>front</td><td>100.4</td><td>⋯</td><td> 97</td><td>idi </td><td>3.01</td><td>3.40</td><td>23.0</td><td> 68</td><td>4500</td><td>33</td><td>38</td><td>13845</td></tr>\n",
       "\t<tr><td> 0</td><td>161</td><td>volkswagen</td><td>gas   </td><td>std  </td><td>four</td><td>wagon      </td><td>fwd</td><td>front</td><td>100.4</td><td>⋯</td><td>109</td><td>mpfi</td><td>3.19</td><td>3.40</td><td> 9.0</td><td> 88</td><td>5500</td><td>25</td><td>31</td><td>12290</td></tr>\n",
       "\t<tr><td>-2</td><td>103</td><td>volvo     </td><td>gas   </td><td>std  </td><td>four</td><td>sedan      </td><td>rwd</td><td>front</td><td>104.3</td><td>⋯</td><td>141</td><td>mpfi</td><td>3.78</td><td>3.15</td><td> 9.5</td><td>114</td><td>5400</td><td>23</td><td>28</td><td>12940</td></tr>\n",
       "\t<tr><td>-1</td><td> 74</td><td>volvo     </td><td>gas   </td><td>std  </td><td>four</td><td>wagon      </td><td>rwd</td><td>front</td><td>104.3</td><td>⋯</td><td>141</td><td>mpfi</td><td>3.78</td><td>3.15</td><td> 9.5</td><td>114</td><td>5400</td><td>23</td><td>28</td><td>13415</td></tr>\n",
       "\t<tr><td>-2</td><td>103</td><td>volvo     </td><td>gas   </td><td>std  </td><td>four</td><td>sedan      </td><td>rwd</td><td>front</td><td>104.3</td><td>⋯</td><td>141</td><td>mpfi</td><td>3.78</td><td>3.15</td><td> 9.5</td><td>114</td><td>5400</td><td>24</td><td>28</td><td>15985</td></tr>\n",
       "\t<tr><td>-1</td><td> 74</td><td>volvo     </td><td>gas   </td><td>std  </td><td>four</td><td>wagon      </td><td>rwd</td><td>front</td><td>104.3</td><td>⋯</td><td>141</td><td>mpfi</td><td>3.78</td><td>3.15</td><td> 9.5</td><td>114</td><td>5400</td><td>24</td><td>28</td><td>16515</td></tr>\n",
       "\t<tr><td>-2</td><td>103</td><td>volvo     </td><td>gas   </td><td>turbo</td><td>four</td><td>sedan      </td><td>rwd</td><td>front</td><td>104.3</td><td>⋯</td><td>130</td><td>mpfi</td><td>3.62</td><td>3.15</td><td> 7.5</td><td>162</td><td>5100</td><td>17</td><td>22</td><td>18420</td></tr>\n",
       "\t<tr><td>-1</td><td> 74</td><td>volvo     </td><td>gas   </td><td>turbo</td><td>four</td><td>wagon      </td><td>rwd</td><td>front</td><td>104.3</td><td>⋯</td><td>130</td><td>mpfi</td><td>3.62</td><td>3.15</td><td> 7.5</td><td>162</td><td>5100</td><td>17</td><td>22</td><td>18950</td></tr>\n",
       "\t<tr><td>-1</td><td> 95</td><td>volvo     </td><td>gas   </td><td>std  </td><td>four</td><td>sedan      </td><td>rwd</td><td>front</td><td>109.1</td><td>⋯</td><td>141</td><td>mpfi</td><td>3.78</td><td>3.15</td><td> 9.5</td><td>114</td><td>5400</td><td>23</td><td>28</td><td>16845</td></tr>\n",
       "\t<tr><td>-1</td><td> 95</td><td>volvo     </td><td>gas   </td><td>turbo</td><td>four</td><td>sedan      </td><td>rwd</td><td>front</td><td>109.1</td><td>⋯</td><td>141</td><td>mpfi</td><td>3.78</td><td>3.15</td><td> 8.7</td><td>160</td><td>5300</td><td>19</td><td>25</td><td>19045</td></tr>\n",
       "\t<tr><td>-1</td><td> 95</td><td>volvo     </td><td>gas   </td><td>std  </td><td>four</td><td>sedan      </td><td>rwd</td><td>front</td><td>109.1</td><td>⋯</td><td>173</td><td>mpfi</td><td>3.58</td><td>2.87</td><td> 8.8</td><td>134</td><td>5500</td><td>18</td><td>23</td><td>21485</td></tr>\n",
       "\t<tr><td>-1</td><td> 95</td><td>volvo     </td><td>diesel</td><td>turbo</td><td>four</td><td>sedan      </td><td>rwd</td><td>front</td><td>109.1</td><td>⋯</td><td>145</td><td>idi </td><td>3.01</td><td>3.40</td><td>23.0</td><td>106</td><td>4800</td><td>26</td><td>27</td><td>22470</td></tr>\n",
       "\t<tr><td>-1</td><td> 95</td><td>volvo     </td><td>gas   </td><td>turbo</td><td>four</td><td>sedan      </td><td>rwd</td><td>front</td><td>109.1</td><td>⋯</td><td>141</td><td>mpfi</td><td>3.78</td><td>3.15</td><td> 9.5</td><td>114</td><td>5400</td><td>19</td><td>25</td><td>22625</td></tr>\n",
       "</tbody>\n",
       "</table>\n"
      ],
      "text/latex": [
       "A grouped\\_df: 205 × 26\n",
       "\\begin{tabular}{lllllllllllllllllllll}\n",
       " symb & normLoss & make & fuelType & aspiration & nDoors & bodyStyle & driveWheels & engineLocation & wheelBase & ⋯ & engineSize & fuelSystem & bore & stroke & compressionRatio & horsePower & peakRpm & cityMpg & highwayMpg & price\\\\\n",
       " <int> & <int> & <fct> & <fct> & <fct> & <fct> & <fct> & <fct> & <fct> & <dbl> & ⋯ & <int> & <fct> & <dbl> & <dbl> & <dbl> & <int> & <int> & <int> & <int> & <int>\\\\\n",
       "\\hline\n",
       "\t  3 & 161 & alfa-romero & gas & std   & two  & convertible & rwd & front &  88.6 & ⋯ & 130 & mpfi & 3.47 & 2.68 &  9.00 & 111 & 5000 & 21 & 27 & 13495\\\\\n",
       "\t  3 & 161 & alfa-romero & gas & std   & two  & convertible & rwd & front &  88.6 & ⋯ & 130 & mpfi & 3.47 & 2.68 &  9.00 & 111 & 5000 & 21 & 27 & 16500\\\\\n",
       "\t  1 & 161 & alfa-romero & gas & std   & two  & hatchback   & rwd & front &  94.5 & ⋯ & 152 & mpfi & 2.68 & 3.47 &  9.00 & 154 & 5000 & 19 & 26 & 16500\\\\\n",
       "\t  2 & 164 & audi        & gas & std   & four & sedan       & fwd & front &  99.8 & ⋯ & 109 & mpfi & 3.19 & 3.40 & 10.00 & 102 & 5500 & 24 & 30 & 13950\\\\\n",
       "\t  2 & 164 & audi        & gas & std   & four & sedan       & 4wd & front &  99.4 & ⋯ & 136 & mpfi & 3.19 & 3.40 &  8.00 & 115 & 5500 & 18 & 22 & 17450\\\\\n",
       "\t  2 & 161 & audi        & gas & std   & two  & sedan       & fwd & front &  99.8 & ⋯ & 136 & mpfi & 3.19 & 3.40 &  8.50 & 110 & 5500 & 19 & 25 & 15250\\\\\n",
       "\t  1 & 158 & audi        & gas & std   & four & sedan       & fwd & front & 105.8 & ⋯ & 136 & mpfi & 3.19 & 3.40 &  8.50 & 110 & 5500 & 19 & 25 & 17710\\\\\n",
       "\t  1 & 161 & audi        & gas & std   & four & wagon       & fwd & front & 105.8 & ⋯ & 136 & mpfi & 3.19 & 3.40 &  8.50 & 110 & 5500 & 19 & 25 & 18920\\\\\n",
       "\t  1 & 158 & audi        & gas & turbo & four & sedan       & fwd & front & 105.8 & ⋯ & 131 & mpfi & 3.13 & 3.40 &  8.30 & 140 & 5500 & 17 & 20 & 23875\\\\\n",
       "\t  0 & 161 & audi        & gas & turbo & two  & hatchback   & 4wd & front &  99.5 & ⋯ & 131 & mpfi & 3.13 & 3.40 &  7.00 & 160 & 5500 & 16 & 22 &  5572\\\\\n",
       "\t  2 & 192 & bmw         & gas & std   & two  & sedan       & rwd & front & 101.2 & ⋯ & 108 & mpfi & 3.50 & 2.80 &  8.80 & 101 & 5800 & 23 & 29 & 16430\\\\\n",
       "\t  0 & 192 & bmw         & gas & std   & four & sedan       & rwd & front & 101.2 & ⋯ & 108 & mpfi & 3.50 & 2.80 &  8.80 & 101 & 5800 & 23 & 29 & 16925\\\\\n",
       "\t  0 & 188 & bmw         & gas & std   & two  & sedan       & rwd & front & 101.2 & ⋯ & 164 & mpfi & 3.31 & 3.19 &  9.00 & 121 & 4250 & 21 & 28 & 20970\\\\\n",
       "\t  0 & 188 & bmw         & gas & std   & four & sedan       & rwd & front & 101.2 & ⋯ & 164 & mpfi & 3.31 & 3.19 &  9.00 & 121 & 4250 & 21 & 28 & 21105\\\\\n",
       "\t  1 & 161 & bmw         & gas & std   & four & sedan       & rwd & front & 103.5 & ⋯ & 164 & mpfi & 3.31 & 3.19 &  9.00 & 121 & 4250 & 20 & 25 & 24565\\\\\n",
       "\t  0 & 161 & bmw         & gas & std   & four & sedan       & rwd & front & 103.5 & ⋯ & 209 & mpfi & 3.62 & 3.39 &  8.00 & 182 & 5400 & 16 & 22 & 30760\\\\\n",
       "\t  0 & 161 & bmw         & gas & std   & two  & sedan       & rwd & front & 103.5 & ⋯ & 209 & mpfi & 3.62 & 3.39 &  8.00 & 182 & 5400 & 16 & 22 & 41315\\\\\n",
       "\t  0 & 161 & bmw         & gas & std   & four & sedan       & rwd & front & 110.0 & ⋯ & 209 & mpfi & 3.62 & 3.39 &  8.00 & 182 & 5400 & 15 & 20 & 36880\\\\\n",
       "\t  2 & 121 & chevrolet   & gas & std   & two  & hatchback   & fwd & front &  88.4 & ⋯ &  61 & 2bbl & 2.91 & 3.03 &  9.50 &  48 & 5100 & 47 & 53 &  5151\\\\\n",
       "\t  1 &  98 & chevrolet   & gas & std   & two  & hatchback   & fwd & front &  94.5 & ⋯ &  90 & 2bbl & 3.03 & 3.11 &  9.60 &  70 & 5400 & 38 & 43 &  6295\\\\\n",
       "\t  0 &  81 & chevrolet   & gas & std   & four & sedan       & fwd & front &  94.5 & ⋯ &  90 & 2bbl & 3.03 & 3.11 &  9.60 &  70 & 5400 & 38 & 43 &  6575\\\\\n",
       "\t  1 & 118 & dodge       & gas & std   & two  & hatchback   & fwd & front &  93.7 & ⋯ &  90 & 2bbl & 2.97 & 3.23 &  9.41 &  68 & 5500 & 37 & 41 &  5572\\\\\n",
       "\t  1 & 118 & dodge       & gas & std   & two  & hatchback   & fwd & front &  93.7 & ⋯ &  90 & 2bbl & 2.97 & 3.23 &  9.40 &  68 & 5500 & 31 & 38 &  6377\\\\\n",
       "\t  1 & 118 & dodge       & gas & turbo & two  & hatchback   & fwd & front &  93.7 & ⋯ &  98 & mpfi & 3.03 & 3.39 &  7.60 & 102 & 5500 & 24 & 30 &  7957\\\\\n",
       "\t  1 & 148 & dodge       & gas & std   & four & hatchback   & fwd & front &  93.7 & ⋯ &  90 & 2bbl & 2.97 & 3.23 &  9.40 &  68 & 5500 & 31 & 38 &  6229\\\\\n",
       "\t  1 & 148 & dodge       & gas & std   & four & sedan       & fwd & front &  93.7 & ⋯ &  90 & 2bbl & 2.97 & 3.23 &  9.40 &  68 & 5500 & 31 & 38 &  6692\\\\\n",
       "\t  1 & 148 & dodge       & gas & std   & four & sedan       & fwd & front &  93.7 & ⋯ &  90 & 2bbl & 2.97 & 3.23 &  9.40 &  68 & 5500 & 31 & 38 &  7609\\\\\n",
       "\t  1 & 148 & dodge       & gas & turbo & four & sedan       & fwd & front &  93.7 & ⋯ &  98 & mpfi & 3.03 & 3.39 &  7.60 & 102 & 5500 & 24 & 30 &  8558\\\\\n",
       "\t -1 & 110 & dodge       & gas & std   & four & wagon       & fwd & front & 103.3 & ⋯ & 122 & 2bbl & 3.34 & 3.46 &  8.50 &  88 & 5000 & 24 & 30 &  8921\\\\\n",
       "\t  3 & 145 & dodge       & gas & turbo & two  & hatchback   & fwd & front &  95.9 & ⋯ & 156 & mfi  & 3.60 & 3.90 &  7.00 & 145 & 5000 & 19 & 24 & 12964\\\\\n",
       "\t ⋮ & ⋮ & ⋮ & ⋮ & ⋮ & ⋮ & ⋮ & ⋮ & ⋮ & ⋮ & ⋱ & ⋮ & ⋮ & ⋮ & ⋮ & ⋮ & ⋮ & ⋮ & ⋮ & ⋮ & ⋮\\\\\n",
       "\t -1 &  65 & toyota     & gas    & std   & four & hatchback   & fwd & front & 102.4 & ⋯ & 122 & mpfi & 3.31 & 3.54 &  8.7 &  92 & 4200 & 27 & 32 &  9988\\\\\n",
       "\t -1 &  65 & toyota     & gas    & std   & four & sedan       & fwd & front & 102.4 & ⋯ & 122 & mpfi & 3.31 & 3.54 &  8.7 &  92 & 4200 & 27 & 32 & 10898\\\\\n",
       "\t -1 &  65 & toyota     & gas    & std   & four & hatchback   & fwd & front & 102.4 & ⋯ & 122 & mpfi & 3.31 & 3.54 &  8.7 &  92 & 4200 & 27 & 32 & 11248\\\\\n",
       "\t  3 & 197 & toyota     & gas    & std   & two  & hatchback   & rwd & front & 102.9 & ⋯ & 171 & mpfi & 3.27 & 3.35 &  9.3 & 161 & 5200 & 20 & 24 & 16558\\\\\n",
       "\t  3 & 197 & toyota     & gas    & std   & two  & hatchback   & rwd & front & 102.9 & ⋯ & 171 & mpfi & 3.27 & 3.35 &  9.3 & 161 & 5200 & 19 & 24 & 15998\\\\\n",
       "\t -1 &  90 & toyota     & gas    & std   & four & sedan       & rwd & front & 104.5 & ⋯ & 171 & mpfi & 3.27 & 3.35 &  9.2 & 156 & 5200 & 20 & 24 & 15690\\\\\n",
       "\t -1 & 161 & toyota     & gas    & std   & four & wagon       & rwd & front & 104.5 & ⋯ & 161 & mpfi & 3.27 & 3.35 &  9.2 & 156 & 5200 & 19 & 24 & 15750\\\\\n",
       "\t  2 & 122 & volkswagen & diesel & std   & two  & sedan       & fwd & front &  97.3 & ⋯ &  97 & idi  & 3.01 & 3.40 & 23.0 &  52 & 4800 & 37 & 46 &  7775\\\\\n",
       "\t  2 & 122 & volkswagen & gas    & std   & two  & sedan       & fwd & front &  97.3 & ⋯ & 109 & mpfi & 3.19 & 3.40 &  9.0 &  85 & 5250 & 27 & 34 &  7975\\\\\n",
       "\t  2 &  94 & volkswagen & diesel & std   & four & sedan       & fwd & front &  97.3 & ⋯ &  97 & idi  & 3.01 & 3.40 & 23.0 &  52 & 4800 & 37 & 46 &  7995\\\\\n",
       "\t  2 &  94 & volkswagen & gas    & std   & four & sedan       & fwd & front &  97.3 & ⋯ & 109 & mpfi & 3.19 & 3.40 &  9.0 &  85 & 5250 & 27 & 34 &  8195\\\\\n",
       "\t  2 &  94 & volkswagen & gas    & std   & four & sedan       & fwd & front &  97.3 & ⋯ & 109 & mpfi & 3.19 & 3.40 &  9.0 &  85 & 5250 & 27 & 34 &  8495\\\\\n",
       "\t  2 &  94 & volkswagen & diesel & turbo & four & sedan       & fwd & front &  97.3 & ⋯ &  97 & idi  & 3.01 & 3.40 & 23.0 &  68 & 4500 & 37 & 42 &  9495\\\\\n",
       "\t  2 &  94 & volkswagen & gas    & std   & four & sedan       & fwd & front &  97.3 & ⋯ & 109 & mpfi & 3.19 & 3.40 & 10.0 & 100 & 5500 & 26 & 32 &  9995\\\\\n",
       "\t  3 & 161 & volkswagen & gas    & std   & two  & convertible & fwd & front &  94.5 & ⋯ & 109 & mpfi & 3.19 & 3.40 &  8.5 &  90 & 5500 & 24 & 29 & 11595\\\\\n",
       "\t  3 & 256 & volkswagen & gas    & std   & two  & hatchback   & fwd & front &  94.5 & ⋯ & 109 & mpfi & 3.19 & 3.40 &  8.5 &  90 & 5500 & 24 & 29 &  9980\\\\\n",
       "\t  0 & 161 & volkswagen & gas    & std   & four & sedan       & fwd & front & 100.4 & ⋯ & 136 & mpfi & 3.19 & 3.40 &  8.5 & 110 & 5500 & 19 & 24 & 13295\\\\\n",
       "\t  0 & 161 & volkswagen & diesel & turbo & four & sedan       & fwd & front & 100.4 & ⋯ &  97 & idi  & 3.01 & 3.40 & 23.0 &  68 & 4500 & 33 & 38 & 13845\\\\\n",
       "\t  0 & 161 & volkswagen & gas    & std   & four & wagon       & fwd & front & 100.4 & ⋯ & 109 & mpfi & 3.19 & 3.40 &  9.0 &  88 & 5500 & 25 & 31 & 12290\\\\\n",
       "\t -2 & 103 & volvo      & gas    & std   & four & sedan       & rwd & front & 104.3 & ⋯ & 141 & mpfi & 3.78 & 3.15 &  9.5 & 114 & 5400 & 23 & 28 & 12940\\\\\n",
       "\t -1 &  74 & volvo      & gas    & std   & four & wagon       & rwd & front & 104.3 & ⋯ & 141 & mpfi & 3.78 & 3.15 &  9.5 & 114 & 5400 & 23 & 28 & 13415\\\\\n",
       "\t -2 & 103 & volvo      & gas    & std   & four & sedan       & rwd & front & 104.3 & ⋯ & 141 & mpfi & 3.78 & 3.15 &  9.5 & 114 & 5400 & 24 & 28 & 15985\\\\\n",
       "\t -1 &  74 & volvo      & gas    & std   & four & wagon       & rwd & front & 104.3 & ⋯ & 141 & mpfi & 3.78 & 3.15 &  9.5 & 114 & 5400 & 24 & 28 & 16515\\\\\n",
       "\t -2 & 103 & volvo      & gas    & turbo & four & sedan       & rwd & front & 104.3 & ⋯ & 130 & mpfi & 3.62 & 3.15 &  7.5 & 162 & 5100 & 17 & 22 & 18420\\\\\n",
       "\t -1 &  74 & volvo      & gas    & turbo & four & wagon       & rwd & front & 104.3 & ⋯ & 130 & mpfi & 3.62 & 3.15 &  7.5 & 162 & 5100 & 17 & 22 & 18950\\\\\n",
       "\t -1 &  95 & volvo      & gas    & std   & four & sedan       & rwd & front & 109.1 & ⋯ & 141 & mpfi & 3.78 & 3.15 &  9.5 & 114 & 5400 & 23 & 28 & 16845\\\\\n",
       "\t -1 &  95 & volvo      & gas    & turbo & four & sedan       & rwd & front & 109.1 & ⋯ & 141 & mpfi & 3.78 & 3.15 &  8.7 & 160 & 5300 & 19 & 25 & 19045\\\\\n",
       "\t -1 &  95 & volvo      & gas    & std   & four & sedan       & rwd & front & 109.1 & ⋯ & 173 & mpfi & 3.58 & 2.87 &  8.8 & 134 & 5500 & 18 & 23 & 21485\\\\\n",
       "\t -1 &  95 & volvo      & diesel & turbo & four & sedan       & rwd & front & 109.1 & ⋯ & 145 & idi  & 3.01 & 3.40 & 23.0 & 106 & 4800 & 26 & 27 & 22470\\\\\n",
       "\t -1 &  95 & volvo      & gas    & turbo & four & sedan       & rwd & front & 109.1 & ⋯ & 141 & mpfi & 3.78 & 3.15 &  9.5 & 114 & 5400 & 19 & 25 & 22625\\\\\n",
       "\\end{tabular}\n"
      ],
      "text/markdown": [
       "\n",
       "A grouped_df: 205 × 26\n",
       "\n",
       "| symb &lt;int&gt; | normLoss &lt;int&gt; | make &lt;fct&gt; | fuelType &lt;fct&gt; | aspiration &lt;fct&gt; | nDoors &lt;fct&gt; | bodyStyle &lt;fct&gt; | driveWheels &lt;fct&gt; | engineLocation &lt;fct&gt; | wheelBase &lt;dbl&gt; | ⋯ ⋯ | engineSize &lt;int&gt; | fuelSystem &lt;fct&gt; | bore &lt;dbl&gt; | stroke &lt;dbl&gt; | compressionRatio &lt;dbl&gt; | horsePower &lt;int&gt; | peakRpm &lt;int&gt; | cityMpg &lt;int&gt; | highwayMpg &lt;int&gt; | price &lt;int&gt; |\n",
       "|---|---|---|---|---|---|---|---|---|---|---|---|---|---|---|---|---|---|---|---|---|\n",
       "|  3 | 161 | alfa-romero | gas | std   | two  | convertible | rwd | front |  88.6 | ⋯ | 130 | mpfi | 3.47 | 2.68 |  9.00 | 111 | 5000 | 21 | 27 | 13495 |\n",
       "|  3 | 161 | alfa-romero | gas | std   | two  | convertible | rwd | front |  88.6 | ⋯ | 130 | mpfi | 3.47 | 2.68 |  9.00 | 111 | 5000 | 21 | 27 | 16500 |\n",
       "|  1 | 161 | alfa-romero | gas | std   | two  | hatchback   | rwd | front |  94.5 | ⋯ | 152 | mpfi | 2.68 | 3.47 |  9.00 | 154 | 5000 | 19 | 26 | 16500 |\n",
       "|  2 | 164 | audi        | gas | std   | four | sedan       | fwd | front |  99.8 | ⋯ | 109 | mpfi | 3.19 | 3.40 | 10.00 | 102 | 5500 | 24 | 30 | 13950 |\n",
       "|  2 | 164 | audi        | gas | std   | four | sedan       | 4wd | front |  99.4 | ⋯ | 136 | mpfi | 3.19 | 3.40 |  8.00 | 115 | 5500 | 18 | 22 | 17450 |\n",
       "|  2 | 161 | audi        | gas | std   | two  | sedan       | fwd | front |  99.8 | ⋯ | 136 | mpfi | 3.19 | 3.40 |  8.50 | 110 | 5500 | 19 | 25 | 15250 |\n",
       "|  1 | 158 | audi        | gas | std   | four | sedan       | fwd | front | 105.8 | ⋯ | 136 | mpfi | 3.19 | 3.40 |  8.50 | 110 | 5500 | 19 | 25 | 17710 |\n",
       "|  1 | 161 | audi        | gas | std   | four | wagon       | fwd | front | 105.8 | ⋯ | 136 | mpfi | 3.19 | 3.40 |  8.50 | 110 | 5500 | 19 | 25 | 18920 |\n",
       "|  1 | 158 | audi        | gas | turbo | four | sedan       | fwd | front | 105.8 | ⋯ | 131 | mpfi | 3.13 | 3.40 |  8.30 | 140 | 5500 | 17 | 20 | 23875 |\n",
       "|  0 | 161 | audi        | gas | turbo | two  | hatchback   | 4wd | front |  99.5 | ⋯ | 131 | mpfi | 3.13 | 3.40 |  7.00 | 160 | 5500 | 16 | 22 |  5572 |\n",
       "|  2 | 192 | bmw         | gas | std   | two  | sedan       | rwd | front | 101.2 | ⋯ | 108 | mpfi | 3.50 | 2.80 |  8.80 | 101 | 5800 | 23 | 29 | 16430 |\n",
       "|  0 | 192 | bmw         | gas | std   | four | sedan       | rwd | front | 101.2 | ⋯ | 108 | mpfi | 3.50 | 2.80 |  8.80 | 101 | 5800 | 23 | 29 | 16925 |\n",
       "|  0 | 188 | bmw         | gas | std   | two  | sedan       | rwd | front | 101.2 | ⋯ | 164 | mpfi | 3.31 | 3.19 |  9.00 | 121 | 4250 | 21 | 28 | 20970 |\n",
       "|  0 | 188 | bmw         | gas | std   | four | sedan       | rwd | front | 101.2 | ⋯ | 164 | mpfi | 3.31 | 3.19 |  9.00 | 121 | 4250 | 21 | 28 | 21105 |\n",
       "|  1 | 161 | bmw         | gas | std   | four | sedan       | rwd | front | 103.5 | ⋯ | 164 | mpfi | 3.31 | 3.19 |  9.00 | 121 | 4250 | 20 | 25 | 24565 |\n",
       "|  0 | 161 | bmw         | gas | std   | four | sedan       | rwd | front | 103.5 | ⋯ | 209 | mpfi | 3.62 | 3.39 |  8.00 | 182 | 5400 | 16 | 22 | 30760 |\n",
       "|  0 | 161 | bmw         | gas | std   | two  | sedan       | rwd | front | 103.5 | ⋯ | 209 | mpfi | 3.62 | 3.39 |  8.00 | 182 | 5400 | 16 | 22 | 41315 |\n",
       "|  0 | 161 | bmw         | gas | std   | four | sedan       | rwd | front | 110.0 | ⋯ | 209 | mpfi | 3.62 | 3.39 |  8.00 | 182 | 5400 | 15 | 20 | 36880 |\n",
       "|  2 | 121 | chevrolet   | gas | std   | two  | hatchback   | fwd | front |  88.4 | ⋯ |  61 | 2bbl | 2.91 | 3.03 |  9.50 |  48 | 5100 | 47 | 53 |  5151 |\n",
       "|  1 |  98 | chevrolet   | gas | std   | two  | hatchback   | fwd | front |  94.5 | ⋯ |  90 | 2bbl | 3.03 | 3.11 |  9.60 |  70 | 5400 | 38 | 43 |  6295 |\n",
       "|  0 |  81 | chevrolet   | gas | std   | four | sedan       | fwd | front |  94.5 | ⋯ |  90 | 2bbl | 3.03 | 3.11 |  9.60 |  70 | 5400 | 38 | 43 |  6575 |\n",
       "|  1 | 118 | dodge       | gas | std   | two  | hatchback   | fwd | front |  93.7 | ⋯ |  90 | 2bbl | 2.97 | 3.23 |  9.41 |  68 | 5500 | 37 | 41 |  5572 |\n",
       "|  1 | 118 | dodge       | gas | std   | two  | hatchback   | fwd | front |  93.7 | ⋯ |  90 | 2bbl | 2.97 | 3.23 |  9.40 |  68 | 5500 | 31 | 38 |  6377 |\n",
       "|  1 | 118 | dodge       | gas | turbo | two  | hatchback   | fwd | front |  93.7 | ⋯ |  98 | mpfi | 3.03 | 3.39 |  7.60 | 102 | 5500 | 24 | 30 |  7957 |\n",
       "|  1 | 148 | dodge       | gas | std   | four | hatchback   | fwd | front |  93.7 | ⋯ |  90 | 2bbl | 2.97 | 3.23 |  9.40 |  68 | 5500 | 31 | 38 |  6229 |\n",
       "|  1 | 148 | dodge       | gas | std   | four | sedan       | fwd | front |  93.7 | ⋯ |  90 | 2bbl | 2.97 | 3.23 |  9.40 |  68 | 5500 | 31 | 38 |  6692 |\n",
       "|  1 | 148 | dodge       | gas | std   | four | sedan       | fwd | front |  93.7 | ⋯ |  90 | 2bbl | 2.97 | 3.23 |  9.40 |  68 | 5500 | 31 | 38 |  7609 |\n",
       "|  1 | 148 | dodge       | gas | turbo | four | sedan       | fwd | front |  93.7 | ⋯ |  98 | mpfi | 3.03 | 3.39 |  7.60 | 102 | 5500 | 24 | 30 |  8558 |\n",
       "| -1 | 110 | dodge       | gas | std   | four | wagon       | fwd | front | 103.3 | ⋯ | 122 | 2bbl | 3.34 | 3.46 |  8.50 |  88 | 5000 | 24 | 30 |  8921 |\n",
       "|  3 | 145 | dodge       | gas | turbo | two  | hatchback   | fwd | front |  95.9 | ⋯ | 156 | mfi  | 3.60 | 3.90 |  7.00 | 145 | 5000 | 19 | 24 | 12964 |\n",
       "| ⋮ | ⋮ | ⋮ | ⋮ | ⋮ | ⋮ | ⋮ | ⋮ | ⋮ | ⋮ | ⋱ | ⋮ | ⋮ | ⋮ | ⋮ | ⋮ | ⋮ | ⋮ | ⋮ | ⋮ | ⋮ |\n",
       "| -1 |  65 | toyota     | gas    | std   | four | hatchback   | fwd | front | 102.4 | ⋯ | 122 | mpfi | 3.31 | 3.54 |  8.7 |  92 | 4200 | 27 | 32 |  9988 |\n",
       "| -1 |  65 | toyota     | gas    | std   | four | sedan       | fwd | front | 102.4 | ⋯ | 122 | mpfi | 3.31 | 3.54 |  8.7 |  92 | 4200 | 27 | 32 | 10898 |\n",
       "| -1 |  65 | toyota     | gas    | std   | four | hatchback   | fwd | front | 102.4 | ⋯ | 122 | mpfi | 3.31 | 3.54 |  8.7 |  92 | 4200 | 27 | 32 | 11248 |\n",
       "|  3 | 197 | toyota     | gas    | std   | two  | hatchback   | rwd | front | 102.9 | ⋯ | 171 | mpfi | 3.27 | 3.35 |  9.3 | 161 | 5200 | 20 | 24 | 16558 |\n",
       "|  3 | 197 | toyota     | gas    | std   | two  | hatchback   | rwd | front | 102.9 | ⋯ | 171 | mpfi | 3.27 | 3.35 |  9.3 | 161 | 5200 | 19 | 24 | 15998 |\n",
       "| -1 |  90 | toyota     | gas    | std   | four | sedan       | rwd | front | 104.5 | ⋯ | 171 | mpfi | 3.27 | 3.35 |  9.2 | 156 | 5200 | 20 | 24 | 15690 |\n",
       "| -1 | 161 | toyota     | gas    | std   | four | wagon       | rwd | front | 104.5 | ⋯ | 161 | mpfi | 3.27 | 3.35 |  9.2 | 156 | 5200 | 19 | 24 | 15750 |\n",
       "|  2 | 122 | volkswagen | diesel | std   | two  | sedan       | fwd | front |  97.3 | ⋯ |  97 | idi  | 3.01 | 3.40 | 23.0 |  52 | 4800 | 37 | 46 |  7775 |\n",
       "|  2 | 122 | volkswagen | gas    | std   | two  | sedan       | fwd | front |  97.3 | ⋯ | 109 | mpfi | 3.19 | 3.40 |  9.0 |  85 | 5250 | 27 | 34 |  7975 |\n",
       "|  2 |  94 | volkswagen | diesel | std   | four | sedan       | fwd | front |  97.3 | ⋯ |  97 | idi  | 3.01 | 3.40 | 23.0 |  52 | 4800 | 37 | 46 |  7995 |\n",
       "|  2 |  94 | volkswagen | gas    | std   | four | sedan       | fwd | front |  97.3 | ⋯ | 109 | mpfi | 3.19 | 3.40 |  9.0 |  85 | 5250 | 27 | 34 |  8195 |\n",
       "|  2 |  94 | volkswagen | gas    | std   | four | sedan       | fwd | front |  97.3 | ⋯ | 109 | mpfi | 3.19 | 3.40 |  9.0 |  85 | 5250 | 27 | 34 |  8495 |\n",
       "|  2 |  94 | volkswagen | diesel | turbo | four | sedan       | fwd | front |  97.3 | ⋯ |  97 | idi  | 3.01 | 3.40 | 23.0 |  68 | 4500 | 37 | 42 |  9495 |\n",
       "|  2 |  94 | volkswagen | gas    | std   | four | sedan       | fwd | front |  97.3 | ⋯ | 109 | mpfi | 3.19 | 3.40 | 10.0 | 100 | 5500 | 26 | 32 |  9995 |\n",
       "|  3 | 161 | volkswagen | gas    | std   | two  | convertible | fwd | front |  94.5 | ⋯ | 109 | mpfi | 3.19 | 3.40 |  8.5 |  90 | 5500 | 24 | 29 | 11595 |\n",
       "|  3 | 256 | volkswagen | gas    | std   | two  | hatchback   | fwd | front |  94.5 | ⋯ | 109 | mpfi | 3.19 | 3.40 |  8.5 |  90 | 5500 | 24 | 29 |  9980 |\n",
       "|  0 | 161 | volkswagen | gas    | std   | four | sedan       | fwd | front | 100.4 | ⋯ | 136 | mpfi | 3.19 | 3.40 |  8.5 | 110 | 5500 | 19 | 24 | 13295 |\n",
       "|  0 | 161 | volkswagen | diesel | turbo | four | sedan       | fwd | front | 100.4 | ⋯ |  97 | idi  | 3.01 | 3.40 | 23.0 |  68 | 4500 | 33 | 38 | 13845 |\n",
       "|  0 | 161 | volkswagen | gas    | std   | four | wagon       | fwd | front | 100.4 | ⋯ | 109 | mpfi | 3.19 | 3.40 |  9.0 |  88 | 5500 | 25 | 31 | 12290 |\n",
       "| -2 | 103 | volvo      | gas    | std   | four | sedan       | rwd | front | 104.3 | ⋯ | 141 | mpfi | 3.78 | 3.15 |  9.5 | 114 | 5400 | 23 | 28 | 12940 |\n",
       "| -1 |  74 | volvo      | gas    | std   | four | wagon       | rwd | front | 104.3 | ⋯ | 141 | mpfi | 3.78 | 3.15 |  9.5 | 114 | 5400 | 23 | 28 | 13415 |\n",
       "| -2 | 103 | volvo      | gas    | std   | four | sedan       | rwd | front | 104.3 | ⋯ | 141 | mpfi | 3.78 | 3.15 |  9.5 | 114 | 5400 | 24 | 28 | 15985 |\n",
       "| -1 |  74 | volvo      | gas    | std   | four | wagon       | rwd | front | 104.3 | ⋯ | 141 | mpfi | 3.78 | 3.15 |  9.5 | 114 | 5400 | 24 | 28 | 16515 |\n",
       "| -2 | 103 | volvo      | gas    | turbo | four | sedan       | rwd | front | 104.3 | ⋯ | 130 | mpfi | 3.62 | 3.15 |  7.5 | 162 | 5100 | 17 | 22 | 18420 |\n",
       "| -1 |  74 | volvo      | gas    | turbo | four | wagon       | rwd | front | 104.3 | ⋯ | 130 | mpfi | 3.62 | 3.15 |  7.5 | 162 | 5100 | 17 | 22 | 18950 |\n",
       "| -1 |  95 | volvo      | gas    | std   | four | sedan       | rwd | front | 109.1 | ⋯ | 141 | mpfi | 3.78 | 3.15 |  9.5 | 114 | 5400 | 23 | 28 | 16845 |\n",
       "| -1 |  95 | volvo      | gas    | turbo | four | sedan       | rwd | front | 109.1 | ⋯ | 141 | mpfi | 3.78 | 3.15 |  8.7 | 160 | 5300 | 19 | 25 | 19045 |\n",
       "| -1 |  95 | volvo      | gas    | std   | four | sedan       | rwd | front | 109.1 | ⋯ | 173 | mpfi | 3.58 | 2.87 |  8.8 | 134 | 5500 | 18 | 23 | 21485 |\n",
       "| -1 |  95 | volvo      | diesel | turbo | four | sedan       | rwd | front | 109.1 | ⋯ | 145 | idi  | 3.01 | 3.40 | 23.0 | 106 | 4800 | 26 | 27 | 22470 |\n",
       "| -1 |  95 | volvo      | gas    | turbo | four | sedan       | rwd | front | 109.1 | ⋯ | 141 | mpfi | 3.78 | 3.15 |  9.5 | 114 | 5400 | 19 | 25 | 22625 |\n",
       "\n"
      ],
      "text/plain": [
       "    symb normLoss make        fuelType aspiration nDoors bodyStyle  \n",
       "1    3   161      alfa-romero gas      std        two    convertible\n",
       "2    3   161      alfa-romero gas      std        two    convertible\n",
       "3    1   161      alfa-romero gas      std        two    hatchback  \n",
       "4    2   164      audi        gas      std        four   sedan      \n",
       "5    2   164      audi        gas      std        four   sedan      \n",
       "6    2   161      audi        gas      std        two    sedan      \n",
       "7    1   158      audi        gas      std        four   sedan      \n",
       "8    1   161      audi        gas      std        four   wagon      \n",
       "9    1   158      audi        gas      turbo      four   sedan      \n",
       "10   0   161      audi        gas      turbo      two    hatchback  \n",
       "11   2   192      bmw         gas      std        two    sedan      \n",
       "12   0   192      bmw         gas      std        four   sedan      \n",
       "13   0   188      bmw         gas      std        two    sedan      \n",
       "14   0   188      bmw         gas      std        four   sedan      \n",
       "15   1   161      bmw         gas      std        four   sedan      \n",
       "16   0   161      bmw         gas      std        four   sedan      \n",
       "17   0   161      bmw         gas      std        two    sedan      \n",
       "18   0   161      bmw         gas      std        four   sedan      \n",
       "19   2   121      chevrolet   gas      std        two    hatchback  \n",
       "20   1    98      chevrolet   gas      std        two    hatchback  \n",
       "21   0    81      chevrolet   gas      std        four   sedan      \n",
       "22   1   118      dodge       gas      std        two    hatchback  \n",
       "23   1   118      dodge       gas      std        two    hatchback  \n",
       "24   1   118      dodge       gas      turbo      two    hatchback  \n",
       "25   1   148      dodge       gas      std        four   hatchback  \n",
       "26   1   148      dodge       gas      std        four   sedan      \n",
       "27   1   148      dodge       gas      std        four   sedan      \n",
       "28   1   148      dodge       gas      turbo      four   sedan      \n",
       "29  -1   110      dodge       gas      std        four   wagon      \n",
       "30   3   145      dodge       gas      turbo      two    hatchback  \n",
       "⋮   ⋮    ⋮        ⋮           ⋮        ⋮          ⋮      ⋮          \n",
       "176 -1    65      toyota      gas      std        four   hatchback  \n",
       "177 -1    65      toyota      gas      std        four   sedan      \n",
       "178 -1    65      toyota      gas      std        four   hatchback  \n",
       "179  3   197      toyota      gas      std        two    hatchback  \n",
       "180  3   197      toyota      gas      std        two    hatchback  \n",
       "181 -1    90      toyota      gas      std        four   sedan      \n",
       "182 -1   161      toyota      gas      std        four   wagon      \n",
       "183  2   122      volkswagen  diesel   std        two    sedan      \n",
       "184  2   122      volkswagen  gas      std        two    sedan      \n",
       "185  2    94      volkswagen  diesel   std        four   sedan      \n",
       "186  2    94      volkswagen  gas      std        four   sedan      \n",
       "187  2    94      volkswagen  gas      std        four   sedan      \n",
       "188  2    94      volkswagen  diesel   turbo      four   sedan      \n",
       "189  2    94      volkswagen  gas      std        four   sedan      \n",
       "190  3   161      volkswagen  gas      std        two    convertible\n",
       "191  3   256      volkswagen  gas      std        two    hatchback  \n",
       "192  0   161      volkswagen  gas      std        four   sedan      \n",
       "193  0   161      volkswagen  diesel   turbo      four   sedan      \n",
       "194  0   161      volkswagen  gas      std        four   wagon      \n",
       "195 -2   103      volvo       gas      std        four   sedan      \n",
       "196 -1    74      volvo       gas      std        four   wagon      \n",
       "197 -2   103      volvo       gas      std        four   sedan      \n",
       "198 -1    74      volvo       gas      std        four   wagon      \n",
       "199 -2   103      volvo       gas      turbo      four   sedan      \n",
       "200 -1    74      volvo       gas      turbo      four   wagon      \n",
       "201 -1    95      volvo       gas      std        four   sedan      \n",
       "202 -1    95      volvo       gas      turbo      four   sedan      \n",
       "203 -1    95      volvo       gas      std        four   sedan      \n",
       "204 -1    95      volvo       diesel   turbo      four   sedan      \n",
       "205 -1    95      volvo       gas      turbo      four   sedan      \n",
       "    driveWheels engineLocation wheelBase ⋯ engineSize fuelSystem bore stroke\n",
       "1   rwd         front           88.6     ⋯ 130        mpfi       3.47 2.68  \n",
       "2   rwd         front           88.6     ⋯ 130        mpfi       3.47 2.68  \n",
       "3   rwd         front           94.5     ⋯ 152        mpfi       2.68 3.47  \n",
       "4   fwd         front           99.8     ⋯ 109        mpfi       3.19 3.40  \n",
       "5   4wd         front           99.4     ⋯ 136        mpfi       3.19 3.40  \n",
       "6   fwd         front           99.8     ⋯ 136        mpfi       3.19 3.40  \n",
       "7   fwd         front          105.8     ⋯ 136        mpfi       3.19 3.40  \n",
       "8   fwd         front          105.8     ⋯ 136        mpfi       3.19 3.40  \n",
       "9   fwd         front          105.8     ⋯ 131        mpfi       3.13 3.40  \n",
       "10  4wd         front           99.5     ⋯ 131        mpfi       3.13 3.40  \n",
       "11  rwd         front          101.2     ⋯ 108        mpfi       3.50 2.80  \n",
       "12  rwd         front          101.2     ⋯ 108        mpfi       3.50 2.80  \n",
       "13  rwd         front          101.2     ⋯ 164        mpfi       3.31 3.19  \n",
       "14  rwd         front          101.2     ⋯ 164        mpfi       3.31 3.19  \n",
       "15  rwd         front          103.5     ⋯ 164        mpfi       3.31 3.19  \n",
       "16  rwd         front          103.5     ⋯ 209        mpfi       3.62 3.39  \n",
       "17  rwd         front          103.5     ⋯ 209        mpfi       3.62 3.39  \n",
       "18  rwd         front          110.0     ⋯ 209        mpfi       3.62 3.39  \n",
       "19  fwd         front           88.4     ⋯  61        2bbl       2.91 3.03  \n",
       "20  fwd         front           94.5     ⋯  90        2bbl       3.03 3.11  \n",
       "21  fwd         front           94.5     ⋯  90        2bbl       3.03 3.11  \n",
       "22  fwd         front           93.7     ⋯  90        2bbl       2.97 3.23  \n",
       "23  fwd         front           93.7     ⋯  90        2bbl       2.97 3.23  \n",
       "24  fwd         front           93.7     ⋯  98        mpfi       3.03 3.39  \n",
       "25  fwd         front           93.7     ⋯  90        2bbl       2.97 3.23  \n",
       "26  fwd         front           93.7     ⋯  90        2bbl       2.97 3.23  \n",
       "27  fwd         front           93.7     ⋯  90        2bbl       2.97 3.23  \n",
       "28  fwd         front           93.7     ⋯  98        mpfi       3.03 3.39  \n",
       "29  fwd         front          103.3     ⋯ 122        2bbl       3.34 3.46  \n",
       "30  fwd         front           95.9     ⋯ 156        mfi        3.60 3.90  \n",
       "⋮   ⋮           ⋮              ⋮         ⋱ ⋮          ⋮          ⋮    ⋮     \n",
       "176 fwd         front          102.4     ⋯ 122        mpfi       3.31 3.54  \n",
       "177 fwd         front          102.4     ⋯ 122        mpfi       3.31 3.54  \n",
       "178 fwd         front          102.4     ⋯ 122        mpfi       3.31 3.54  \n",
       "179 rwd         front          102.9     ⋯ 171        mpfi       3.27 3.35  \n",
       "180 rwd         front          102.9     ⋯ 171        mpfi       3.27 3.35  \n",
       "181 rwd         front          104.5     ⋯ 171        mpfi       3.27 3.35  \n",
       "182 rwd         front          104.5     ⋯ 161        mpfi       3.27 3.35  \n",
       "183 fwd         front           97.3     ⋯  97        idi        3.01 3.40  \n",
       "184 fwd         front           97.3     ⋯ 109        mpfi       3.19 3.40  \n",
       "185 fwd         front           97.3     ⋯  97        idi        3.01 3.40  \n",
       "186 fwd         front           97.3     ⋯ 109        mpfi       3.19 3.40  \n",
       "187 fwd         front           97.3     ⋯ 109        mpfi       3.19 3.40  \n",
       "188 fwd         front           97.3     ⋯  97        idi        3.01 3.40  \n",
       "189 fwd         front           97.3     ⋯ 109        mpfi       3.19 3.40  \n",
       "190 fwd         front           94.5     ⋯ 109        mpfi       3.19 3.40  \n",
       "191 fwd         front           94.5     ⋯ 109        mpfi       3.19 3.40  \n",
       "192 fwd         front          100.4     ⋯ 136        mpfi       3.19 3.40  \n",
       "193 fwd         front          100.4     ⋯  97        idi        3.01 3.40  \n",
       "194 fwd         front          100.4     ⋯ 109        mpfi       3.19 3.40  \n",
       "195 rwd         front          104.3     ⋯ 141        mpfi       3.78 3.15  \n",
       "196 rwd         front          104.3     ⋯ 141        mpfi       3.78 3.15  \n",
       "197 rwd         front          104.3     ⋯ 141        mpfi       3.78 3.15  \n",
       "198 rwd         front          104.3     ⋯ 141        mpfi       3.78 3.15  \n",
       "199 rwd         front          104.3     ⋯ 130        mpfi       3.62 3.15  \n",
       "200 rwd         front          104.3     ⋯ 130        mpfi       3.62 3.15  \n",
       "201 rwd         front          109.1     ⋯ 141        mpfi       3.78 3.15  \n",
       "202 rwd         front          109.1     ⋯ 141        mpfi       3.78 3.15  \n",
       "203 rwd         front          109.1     ⋯ 173        mpfi       3.58 2.87  \n",
       "204 rwd         front          109.1     ⋯ 145        idi        3.01 3.40  \n",
       "205 rwd         front          109.1     ⋯ 141        mpfi       3.78 3.15  \n",
       "    compressionRatio horsePower peakRpm cityMpg highwayMpg price\n",
       "1    9.00            111        5000    21      27         13495\n",
       "2    9.00            111        5000    21      27         16500\n",
       "3    9.00            154        5000    19      26         16500\n",
       "4   10.00            102        5500    24      30         13950\n",
       "5    8.00            115        5500    18      22         17450\n",
       "6    8.50            110        5500    19      25         15250\n",
       "7    8.50            110        5500    19      25         17710\n",
       "8    8.50            110        5500    19      25         18920\n",
       "9    8.30            140        5500    17      20         23875\n",
       "10   7.00            160        5500    16      22          5572\n",
       "11   8.80            101        5800    23      29         16430\n",
       "12   8.80            101        5800    23      29         16925\n",
       "13   9.00            121        4250    21      28         20970\n",
       "14   9.00            121        4250    21      28         21105\n",
       "15   9.00            121        4250    20      25         24565\n",
       "16   8.00            182        5400    16      22         30760\n",
       "17   8.00            182        5400    16      22         41315\n",
       "18   8.00            182        5400    15      20         36880\n",
       "19   9.50             48        5100    47      53          5151\n",
       "20   9.60             70        5400    38      43          6295\n",
       "21   9.60             70        5400    38      43          6575\n",
       "22   9.41             68        5500    37      41          5572\n",
       "23   9.40             68        5500    31      38          6377\n",
       "24   7.60            102        5500    24      30          7957\n",
       "25   9.40             68        5500    31      38          6229\n",
       "26   9.40             68        5500    31      38          6692\n",
       "27   9.40             68        5500    31      38          7609\n",
       "28   7.60            102        5500    24      30          8558\n",
       "29   8.50             88        5000    24      30          8921\n",
       "30   7.00            145        5000    19      24         12964\n",
       "⋮   ⋮                ⋮          ⋮       ⋮       ⋮          ⋮    \n",
       "176  8.7              92        4200    27      32          9988\n",
       "177  8.7              92        4200    27      32         10898\n",
       "178  8.7              92        4200    27      32         11248\n",
       "179  9.3             161        5200    20      24         16558\n",
       "180  9.3             161        5200    19      24         15998\n",
       "181  9.2             156        5200    20      24         15690\n",
       "182  9.2             156        5200    19      24         15750\n",
       "183 23.0              52        4800    37      46          7775\n",
       "184  9.0              85        5250    27      34          7975\n",
       "185 23.0              52        4800    37      46          7995\n",
       "186  9.0              85        5250    27      34          8195\n",
       "187  9.0              85        5250    27      34          8495\n",
       "188 23.0              68        4500    37      42          9495\n",
       "189 10.0             100        5500    26      32          9995\n",
       "190  8.5              90        5500    24      29         11595\n",
       "191  8.5              90        5500    24      29          9980\n",
       "192  8.5             110        5500    19      24         13295\n",
       "193 23.0              68        4500    33      38         13845\n",
       "194  9.0              88        5500    25      31         12290\n",
       "195  9.5             114        5400    23      28         12940\n",
       "196  9.5             114        5400    23      28         13415\n",
       "197  9.5             114        5400    24      28         15985\n",
       "198  9.5             114        5400    24      28         16515\n",
       "199  7.5             162        5100    17      22         18420\n",
       "200  7.5             162        5100    17      22         18950\n",
       "201  9.5             114        5400    23      28         16845\n",
       "202  8.7             160        5300    19      25         19045\n",
       "203  8.8             134        5500    18      23         21485\n",
       "204 23.0             106        4800    26      27         22470\n",
       "205  9.5             114        5400    19      25         22625"
      ]
     },
     "metadata": {},
     "output_type": "display_data"
    }
   ],
   "source": [
    "carIns_final %>% group_by(bodyStyle)"
   ]
  },
  {
   "cell_type": "code",
   "execution_count": 5,
   "metadata": {
    "vscode": {
     "languageId": "r"
    }
   },
   "outputs": [
    {
     "data": {
      "text/html": [
       "<table class=\"dataframe\">\n",
       "<caption>A grouped_df: 5 × 2</caption>\n",
       "<thead>\n",
       "\t<tr><th scope=col>bodyStyle</th><th scope=col>n</th></tr>\n",
       "\t<tr><th scope=col>&lt;fct&gt;</th><th scope=col>&lt;int&gt;</th></tr>\n",
       "</thead>\n",
       "<tbody>\n",
       "\t<tr><td>convertible</td><td> 6</td></tr>\n",
       "\t<tr><td>hardtop    </td><td> 8</td></tr>\n",
       "\t<tr><td>hatchback  </td><td>70</td></tr>\n",
       "\t<tr><td>sedan      </td><td>96</td></tr>\n",
       "\t<tr><td>wagon      </td><td>25</td></tr>\n",
       "</tbody>\n",
       "</table>\n"
      ],
      "text/latex": [
       "A grouped\\_df: 5 × 2\n",
       "\\begin{tabular}{ll}\n",
       " bodyStyle & n\\\\\n",
       " <fct> & <int>\\\\\n",
       "\\hline\n",
       "\t convertible &  6\\\\\n",
       "\t hardtop     &  8\\\\\n",
       "\t hatchback   & 70\\\\\n",
       "\t sedan       & 96\\\\\n",
       "\t wagon       & 25\\\\\n",
       "\\end{tabular}\n"
      ],
      "text/markdown": [
       "\n",
       "A grouped_df: 5 × 2\n",
       "\n",
       "| bodyStyle &lt;fct&gt; | n &lt;int&gt; |\n",
       "|---|---|\n",
       "| convertible |  6 |\n",
       "| hardtop     |  8 |\n",
       "| hatchback   | 70 |\n",
       "| sedan       | 96 |\n",
       "| wagon       | 25 |\n",
       "\n"
      ],
      "text/plain": [
       "  bodyStyle   n \n",
       "1 convertible  6\n",
       "2 hardtop      8\n",
       "3 hatchback   70\n",
       "4 sedan       96\n",
       "5 wagon       25"
      ]
     },
     "metadata": {},
     "output_type": "display_data"
    }
   ],
   "source": [
    "carIns_final %>% group_by(bodyStyle) %>% count()"
   ]
  },
  {
   "attachments": {},
   "cell_type": "markdown",
   "metadata": {},
   "source": [
    "(b) Obtain the number of cars by bodyStyle and fuelType.\n"
   ]
  },
  {
   "cell_type": "code",
   "execution_count": 6,
   "metadata": {
    "vscode": {
     "languageId": "r"
    }
   },
   "outputs": [
    {
     "data": {
      "text/html": [
       "<table class=\"dataframe\">\n",
       "<caption>A grouped_df: 9 × 3</caption>\n",
       "<thead>\n",
       "\t<tr><th scope=col>bodyStyle</th><th scope=col>fuelType</th><th scope=col>n</th></tr>\n",
       "\t<tr><th scope=col>&lt;fct&gt;</th><th scope=col>&lt;fct&gt;</th><th scope=col>&lt;int&gt;</th></tr>\n",
       "</thead>\n",
       "<tbody>\n",
       "\t<tr><td>convertible</td><td>gas   </td><td> 6</td></tr>\n",
       "\t<tr><td>hardtop    </td><td>diesel</td><td> 1</td></tr>\n",
       "\t<tr><td>hardtop    </td><td>gas   </td><td> 7</td></tr>\n",
       "\t<tr><td>hatchback  </td><td>diesel</td><td> 1</td></tr>\n",
       "\t<tr><td>hatchback  </td><td>gas   </td><td>69</td></tr>\n",
       "\t<tr><td>sedan      </td><td>diesel</td><td>15</td></tr>\n",
       "\t<tr><td>sedan      </td><td>gas   </td><td>81</td></tr>\n",
       "\t<tr><td>wagon      </td><td>diesel</td><td> 3</td></tr>\n",
       "\t<tr><td>wagon      </td><td>gas   </td><td>22</td></tr>\n",
       "</tbody>\n",
       "</table>\n"
      ],
      "text/latex": [
       "A grouped\\_df: 9 × 3\n",
       "\\begin{tabular}{lll}\n",
       " bodyStyle & fuelType & n\\\\\n",
       " <fct> & <fct> & <int>\\\\\n",
       "\\hline\n",
       "\t convertible & gas    &  6\\\\\n",
       "\t hardtop     & diesel &  1\\\\\n",
       "\t hardtop     & gas    &  7\\\\\n",
       "\t hatchback   & diesel &  1\\\\\n",
       "\t hatchback   & gas    & 69\\\\\n",
       "\t sedan       & diesel & 15\\\\\n",
       "\t sedan       & gas    & 81\\\\\n",
       "\t wagon       & diesel &  3\\\\\n",
       "\t wagon       & gas    & 22\\\\\n",
       "\\end{tabular}\n"
      ],
      "text/markdown": [
       "\n",
       "A grouped_df: 9 × 3\n",
       "\n",
       "| bodyStyle &lt;fct&gt; | fuelType &lt;fct&gt; | n &lt;int&gt; |\n",
       "|---|---|---|\n",
       "| convertible | gas    |  6 |\n",
       "| hardtop     | diesel |  1 |\n",
       "| hardtop     | gas    |  7 |\n",
       "| hatchback   | diesel |  1 |\n",
       "| hatchback   | gas    | 69 |\n",
       "| sedan       | diesel | 15 |\n",
       "| sedan       | gas    | 81 |\n",
       "| wagon       | diesel |  3 |\n",
       "| wagon       | gas    | 22 |\n",
       "\n"
      ],
      "text/plain": [
       "  bodyStyle   fuelType n \n",
       "1 convertible gas       6\n",
       "2 hardtop     diesel    1\n",
       "3 hardtop     gas       7\n",
       "4 hatchback   diesel    1\n",
       "5 hatchback   gas      69\n",
       "6 sedan       diesel   15\n",
       "7 sedan       gas      81\n",
       "8 wagon       diesel    3\n",
       "9 wagon       gas      22"
      ]
     },
     "metadata": {},
     "output_type": "display_data"
    }
   ],
   "source": [
    "carIns_final %>% group_by(bodyStyle, fuelType) %>% count()"
   ]
  },
  {
   "attachments": {},
   "cell_type": "markdown",
   "metadata": {},
   "source": [
    "(c) Obtain the mean and the standard deviation of the attribute cityMpg by bodyStyle in ascending order."
   ]
  },
  {
   "cell_type": "code",
   "execution_count": 7,
   "metadata": {
    "vscode": {
     "languageId": "r"
    }
   },
   "outputs": [
    {
     "data": {
      "text/html": [
       "<table class=\"dataframe\">\n",
       "<caption>A grouped_df: 64 × 3</caption>\n",
       "<thead>\n",
       "\t<tr><th scope=col>bodyStyle</th><th scope=col>cityMpg</th><th scope=col>n</th></tr>\n",
       "\t<tr><th scope=col>&lt;fct&gt;</th><th scope=col>&lt;int&gt;</th><th scope=col>&lt;int&gt;</th></tr>\n",
       "</thead>\n",
       "<tbody>\n",
       "\t<tr><td>convertible</td><td>16</td><td> 1</td></tr>\n",
       "\t<tr><td>convertible</td><td>17</td><td> 1</td></tr>\n",
       "\t<tr><td>convertible</td><td>21</td><td> 2</td></tr>\n",
       "\t<tr><td>convertible</td><td>24</td><td> 2</td></tr>\n",
       "\t<tr><td>hardtop    </td><td>14</td><td> 1</td></tr>\n",
       "\t<tr><td>hardtop    </td><td>17</td><td> 2</td></tr>\n",
       "\t<tr><td>hardtop    </td><td>22</td><td> 1</td></tr>\n",
       "\t<tr><td>hardtop    </td><td>24</td><td> 3</td></tr>\n",
       "\t<tr><td>hardtop    </td><td>31</td><td> 1</td></tr>\n",
       "\t<tr><td>hatchback  </td><td>16</td><td> 2</td></tr>\n",
       "\t<tr><td>hatchback  </td><td>17</td><td> 5</td></tr>\n",
       "\t<tr><td>hatchback  </td><td>19</td><td>12</td></tr>\n",
       "\t<tr><td>hatchback  </td><td>20</td><td> 1</td></tr>\n",
       "\t<tr><td>hatchback  </td><td>21</td><td> 2</td></tr>\n",
       "\t<tr><td>hatchback  </td><td>23</td><td> 2</td></tr>\n",
       "\t<tr><td>hatchback  </td><td>24</td><td> 7</td></tr>\n",
       "\t<tr><td>hatchback  </td><td>25</td><td> 1</td></tr>\n",
       "\t<tr><td>hatchback  </td><td>26</td><td> 6</td></tr>\n",
       "\t<tr><td>hatchback  </td><td>27</td><td> 5</td></tr>\n",
       "\t<tr><td>hatchback  </td><td>28</td><td> 1</td></tr>\n",
       "\t<tr><td>hatchback  </td><td>29</td><td> 1</td></tr>\n",
       "\t<tr><td>hatchback  </td><td>30</td><td> 4</td></tr>\n",
       "\t<tr><td>hatchback  </td><td>31</td><td>12</td></tr>\n",
       "\t<tr><td>hatchback  </td><td>35</td><td> 1</td></tr>\n",
       "\t<tr><td>hatchback  </td><td>37</td><td> 3</td></tr>\n",
       "\t<tr><td>hatchback  </td><td>38</td><td> 3</td></tr>\n",
       "\t<tr><td>hatchback  </td><td>47</td><td> 1</td></tr>\n",
       "\t<tr><td>hatchback  </td><td>49</td><td> 1</td></tr>\n",
       "\t<tr><td>sedan      </td><td>13</td><td> 1</td></tr>\n",
       "\t<tr><td>sedan      </td><td>14</td><td> 1</td></tr>\n",
       "\t<tr><td>⋮</td><td>⋮</td><td>⋮</td></tr>\n",
       "\t<tr><td>sedan</td><td>19</td><td>11</td></tr>\n",
       "\t<tr><td>sedan</td><td>20</td><td> 2</td></tr>\n",
       "\t<tr><td>sedan</td><td>21</td><td> 4</td></tr>\n",
       "\t<tr><td>sedan</td><td>22</td><td> 2</td></tr>\n",
       "\t<tr><td>sedan</td><td>23</td><td> 6</td></tr>\n",
       "\t<tr><td>sedan</td><td>24</td><td> 7</td></tr>\n",
       "\t<tr><td>sedan</td><td>25</td><td> 3</td></tr>\n",
       "\t<tr><td>sedan</td><td>26</td><td> 6</td></tr>\n",
       "\t<tr><td>sedan</td><td>27</td><td> 7</td></tr>\n",
       "\t<tr><td>sedan</td><td>28</td><td> 5</td></tr>\n",
       "\t<tr><td>sedan</td><td>29</td><td> 2</td></tr>\n",
       "\t<tr><td>sedan</td><td>30</td><td> 3</td></tr>\n",
       "\t<tr><td>sedan</td><td>31</td><td>12</td></tr>\n",
       "\t<tr><td>sedan</td><td>32</td><td> 1</td></tr>\n",
       "\t<tr><td>sedan</td><td>33</td><td> 1</td></tr>\n",
       "\t<tr><td>sedan</td><td>34</td><td> 1</td></tr>\n",
       "\t<tr><td>sedan</td><td>36</td><td> 1</td></tr>\n",
       "\t<tr><td>sedan</td><td>37</td><td> 3</td></tr>\n",
       "\t<tr><td>sedan</td><td>38</td><td> 4</td></tr>\n",
       "\t<tr><td>sedan</td><td>45</td><td> 1</td></tr>\n",
       "\t<tr><td>wagon</td><td>17</td><td> 2</td></tr>\n",
       "\t<tr><td>wagon</td><td>19</td><td> 4</td></tr>\n",
       "\t<tr><td>wagon</td><td>22</td><td> 1</td></tr>\n",
       "\t<tr><td>wagon</td><td>23</td><td> 4</td></tr>\n",
       "\t<tr><td>wagon</td><td>24</td><td> 3</td></tr>\n",
       "\t<tr><td>wagon</td><td>25</td><td> 4</td></tr>\n",
       "\t<tr><td>wagon</td><td>27</td><td> 2</td></tr>\n",
       "\t<tr><td>wagon</td><td>28</td><td> 1</td></tr>\n",
       "\t<tr><td>wagon</td><td>30</td><td> 1</td></tr>\n",
       "\t<tr><td>wagon</td><td>31</td><td> 3</td></tr>\n",
       "</tbody>\n",
       "</table>\n"
      ],
      "text/latex": [
       "A grouped\\_df: 64 × 3\n",
       "\\begin{tabular}{lll}\n",
       " bodyStyle & cityMpg & n\\\\\n",
       " <fct> & <int> & <int>\\\\\n",
       "\\hline\n",
       "\t convertible & 16 &  1\\\\\n",
       "\t convertible & 17 &  1\\\\\n",
       "\t convertible & 21 &  2\\\\\n",
       "\t convertible & 24 &  2\\\\\n",
       "\t hardtop     & 14 &  1\\\\\n",
       "\t hardtop     & 17 &  2\\\\\n",
       "\t hardtop     & 22 &  1\\\\\n",
       "\t hardtop     & 24 &  3\\\\\n",
       "\t hardtop     & 31 &  1\\\\\n",
       "\t hatchback   & 16 &  2\\\\\n",
       "\t hatchback   & 17 &  5\\\\\n",
       "\t hatchback   & 19 & 12\\\\\n",
       "\t hatchback   & 20 &  1\\\\\n",
       "\t hatchback   & 21 &  2\\\\\n",
       "\t hatchback   & 23 &  2\\\\\n",
       "\t hatchback   & 24 &  7\\\\\n",
       "\t hatchback   & 25 &  1\\\\\n",
       "\t hatchback   & 26 &  6\\\\\n",
       "\t hatchback   & 27 &  5\\\\\n",
       "\t hatchback   & 28 &  1\\\\\n",
       "\t hatchback   & 29 &  1\\\\\n",
       "\t hatchback   & 30 &  4\\\\\n",
       "\t hatchback   & 31 & 12\\\\\n",
       "\t hatchback   & 35 &  1\\\\\n",
       "\t hatchback   & 37 &  3\\\\\n",
       "\t hatchback   & 38 &  3\\\\\n",
       "\t hatchback   & 47 &  1\\\\\n",
       "\t hatchback   & 49 &  1\\\\\n",
       "\t sedan       & 13 &  1\\\\\n",
       "\t sedan       & 14 &  1\\\\\n",
       "\t ⋮ & ⋮ & ⋮\\\\\n",
       "\t sedan & 19 & 11\\\\\n",
       "\t sedan & 20 &  2\\\\\n",
       "\t sedan & 21 &  4\\\\\n",
       "\t sedan & 22 &  2\\\\\n",
       "\t sedan & 23 &  6\\\\\n",
       "\t sedan & 24 &  7\\\\\n",
       "\t sedan & 25 &  3\\\\\n",
       "\t sedan & 26 &  6\\\\\n",
       "\t sedan & 27 &  7\\\\\n",
       "\t sedan & 28 &  5\\\\\n",
       "\t sedan & 29 &  2\\\\\n",
       "\t sedan & 30 &  3\\\\\n",
       "\t sedan & 31 & 12\\\\\n",
       "\t sedan & 32 &  1\\\\\n",
       "\t sedan & 33 &  1\\\\\n",
       "\t sedan & 34 &  1\\\\\n",
       "\t sedan & 36 &  1\\\\\n",
       "\t sedan & 37 &  3\\\\\n",
       "\t sedan & 38 &  4\\\\\n",
       "\t sedan & 45 &  1\\\\\n",
       "\t wagon & 17 &  2\\\\\n",
       "\t wagon & 19 &  4\\\\\n",
       "\t wagon & 22 &  1\\\\\n",
       "\t wagon & 23 &  4\\\\\n",
       "\t wagon & 24 &  3\\\\\n",
       "\t wagon & 25 &  4\\\\\n",
       "\t wagon & 27 &  2\\\\\n",
       "\t wagon & 28 &  1\\\\\n",
       "\t wagon & 30 &  1\\\\\n",
       "\t wagon & 31 &  3\\\\\n",
       "\\end{tabular}\n"
      ],
      "text/markdown": [
       "\n",
       "A grouped_df: 64 × 3\n",
       "\n",
       "| bodyStyle &lt;fct&gt; | cityMpg &lt;int&gt; | n &lt;int&gt; |\n",
       "|---|---|---|\n",
       "| convertible | 16 |  1 |\n",
       "| convertible | 17 |  1 |\n",
       "| convertible | 21 |  2 |\n",
       "| convertible | 24 |  2 |\n",
       "| hardtop     | 14 |  1 |\n",
       "| hardtop     | 17 |  2 |\n",
       "| hardtop     | 22 |  1 |\n",
       "| hardtop     | 24 |  3 |\n",
       "| hardtop     | 31 |  1 |\n",
       "| hatchback   | 16 |  2 |\n",
       "| hatchback   | 17 |  5 |\n",
       "| hatchback   | 19 | 12 |\n",
       "| hatchback   | 20 |  1 |\n",
       "| hatchback   | 21 |  2 |\n",
       "| hatchback   | 23 |  2 |\n",
       "| hatchback   | 24 |  7 |\n",
       "| hatchback   | 25 |  1 |\n",
       "| hatchback   | 26 |  6 |\n",
       "| hatchback   | 27 |  5 |\n",
       "| hatchback   | 28 |  1 |\n",
       "| hatchback   | 29 |  1 |\n",
       "| hatchback   | 30 |  4 |\n",
       "| hatchback   | 31 | 12 |\n",
       "| hatchback   | 35 |  1 |\n",
       "| hatchback   | 37 |  3 |\n",
       "| hatchback   | 38 |  3 |\n",
       "| hatchback   | 47 |  1 |\n",
       "| hatchback   | 49 |  1 |\n",
       "| sedan       | 13 |  1 |\n",
       "| sedan       | 14 |  1 |\n",
       "| ⋮ | ⋮ | ⋮ |\n",
       "| sedan | 19 | 11 |\n",
       "| sedan | 20 |  2 |\n",
       "| sedan | 21 |  4 |\n",
       "| sedan | 22 |  2 |\n",
       "| sedan | 23 |  6 |\n",
       "| sedan | 24 |  7 |\n",
       "| sedan | 25 |  3 |\n",
       "| sedan | 26 |  6 |\n",
       "| sedan | 27 |  7 |\n",
       "| sedan | 28 |  5 |\n",
       "| sedan | 29 |  2 |\n",
       "| sedan | 30 |  3 |\n",
       "| sedan | 31 | 12 |\n",
       "| sedan | 32 |  1 |\n",
       "| sedan | 33 |  1 |\n",
       "| sedan | 34 |  1 |\n",
       "| sedan | 36 |  1 |\n",
       "| sedan | 37 |  3 |\n",
       "| sedan | 38 |  4 |\n",
       "| sedan | 45 |  1 |\n",
       "| wagon | 17 |  2 |\n",
       "| wagon | 19 |  4 |\n",
       "| wagon | 22 |  1 |\n",
       "| wagon | 23 |  4 |\n",
       "| wagon | 24 |  3 |\n",
       "| wagon | 25 |  4 |\n",
       "| wagon | 27 |  2 |\n",
       "| wagon | 28 |  1 |\n",
       "| wagon | 30 |  1 |\n",
       "| wagon | 31 |  3 |\n",
       "\n"
      ],
      "text/plain": [
       "   bodyStyle   cityMpg n \n",
       "1  convertible 16       1\n",
       "2  convertible 17       1\n",
       "3  convertible 21       2\n",
       "4  convertible 24       2\n",
       "5  hardtop     14       1\n",
       "6  hardtop     17       2\n",
       "7  hardtop     22       1\n",
       "8  hardtop     24       3\n",
       "9  hardtop     31       1\n",
       "10 hatchback   16       2\n",
       "11 hatchback   17       5\n",
       "12 hatchback   19      12\n",
       "13 hatchback   20       1\n",
       "14 hatchback   21       2\n",
       "15 hatchback   23       2\n",
       "16 hatchback   24       7\n",
       "17 hatchback   25       1\n",
       "18 hatchback   26       6\n",
       "19 hatchback   27       5\n",
       "20 hatchback   28       1\n",
       "21 hatchback   29       1\n",
       "22 hatchback   30       4\n",
       "23 hatchback   31      12\n",
       "24 hatchback   35       1\n",
       "25 hatchback   37       3\n",
       "26 hatchback   38       3\n",
       "27 hatchback   47       1\n",
       "28 hatchback   49       1\n",
       "29 sedan       13       1\n",
       "30 sedan       14       1\n",
       "⋮  ⋮           ⋮       ⋮ \n",
       "35 sedan       19      11\n",
       "36 sedan       20       2\n",
       "37 sedan       21       4\n",
       "38 sedan       22       2\n",
       "39 sedan       23       6\n",
       "40 sedan       24       7\n",
       "41 sedan       25       3\n",
       "42 sedan       26       6\n",
       "43 sedan       27       7\n",
       "44 sedan       28       5\n",
       "45 sedan       29       2\n",
       "46 sedan       30       3\n",
       "47 sedan       31      12\n",
       "48 sedan       32       1\n",
       "49 sedan       33       1\n",
       "50 sedan       34       1\n",
       "51 sedan       36       1\n",
       "52 sedan       37       3\n",
       "53 sedan       38       4\n",
       "54 sedan       45       1\n",
       "55 wagon       17       2\n",
       "56 wagon       19       4\n",
       "57 wagon       22       1\n",
       "58 wagon       23       4\n",
       "59 wagon       24       3\n",
       "60 wagon       25       4\n",
       "61 wagon       27       2\n",
       "62 wagon       28       1\n",
       "63 wagon       30       1\n",
       "64 wagon       31       3"
      ]
     },
     "metadata": {},
     "output_type": "display_data"
    }
   ],
   "source": [
    "carIns_final %>% group_by(bodyStyle, cityMpg) %>% count()"
   ]
  },
  {
   "cell_type": "code",
   "execution_count": 8,
   "metadata": {
    "vscode": {
     "languageId": "r"
    }
   },
   "outputs": [
    {
     "data": {
      "text/html": [
       "<table class=\"dataframe\">\n",
       "<caption>A tibble: 5 × 2</caption>\n",
       "<thead>\n",
       "\t<tr><th scope=col>bodyStyle</th><th scope=col>cityMpg.mean</th></tr>\n",
       "\t<tr><th scope=col>&lt;fct&gt;</th><th scope=col>&lt;dbl&gt;</th></tr>\n",
       "</thead>\n",
       "<tbody>\n",
       "\t<tr><td>convertible</td><td>20.50000</td></tr>\n",
       "\t<tr><td>hardtop    </td><td>21.62500</td></tr>\n",
       "\t<tr><td>hatchback  </td><td>26.31429</td></tr>\n",
       "\t<tr><td>sedan      </td><td>25.32292</td></tr>\n",
       "\t<tr><td>wagon      </td><td>24.04000</td></tr>\n",
       "</tbody>\n",
       "</table>\n"
      ],
      "text/latex": [
       "A tibble: 5 × 2\n",
       "\\begin{tabular}{ll}\n",
       " bodyStyle & cityMpg.mean\\\\\n",
       " <fct> & <dbl>\\\\\n",
       "\\hline\n",
       "\t convertible & 20.50000\\\\\n",
       "\t hardtop     & 21.62500\\\\\n",
       "\t hatchback   & 26.31429\\\\\n",
       "\t sedan       & 25.32292\\\\\n",
       "\t wagon       & 24.04000\\\\\n",
       "\\end{tabular}\n"
      ],
      "text/markdown": [
       "\n",
       "A tibble: 5 × 2\n",
       "\n",
       "| bodyStyle &lt;fct&gt; | cityMpg.mean &lt;dbl&gt; |\n",
       "|---|---|\n",
       "| convertible | 20.50000 |\n",
       "| hardtop     | 21.62500 |\n",
       "| hatchback   | 26.31429 |\n",
       "| sedan       | 25.32292 |\n",
       "| wagon       | 24.04000 |\n",
       "\n"
      ],
      "text/plain": [
       "  bodyStyle   cityMpg.mean\n",
       "1 convertible 20.50000    \n",
       "2 hardtop     21.62500    \n",
       "3 hatchback   26.31429    \n",
       "4 sedan       25.32292    \n",
       "5 wagon       24.04000    "
      ]
     },
     "metadata": {},
     "output_type": "display_data"
    }
   ],
   "source": [
    "carIns_final %>% group_by(bodyStyle) %>% summarise(cityMpg.mean=mean(cityMpg))"
   ]
  },
  {
   "cell_type": "code",
   "execution_count": 9,
   "metadata": {
    "vscode": {
     "languageId": "r"
    }
   },
   "outputs": [
    {
     "data": {
      "text/html": [
       "<table class=\"dataframe\">\n",
       "<caption>A tibble: 5 × 3</caption>\n",
       "<thead>\n",
       "\t<tr><th scope=col>bodyStyle</th><th scope=col>cityMpg.mean</th><th scope=col>cityMpg.sd</th></tr>\n",
       "\t<tr><th scope=col>&lt;fct&gt;</th><th scope=col>&lt;dbl&gt;</th><th scope=col>&lt;dbl&gt;</th></tr>\n",
       "</thead>\n",
       "<tbody>\n",
       "\t<tr><td>convertible</td><td>20.50000</td><td>3.391165</td></tr>\n",
       "\t<tr><td>hardtop    </td><td>21.62500</td><td>5.423165</td></tr>\n",
       "\t<tr><td>hatchback  </td><td>26.31429</td><td>7.169870</td></tr>\n",
       "\t<tr><td>sedan      </td><td>25.32292</td><td>6.599035</td></tr>\n",
       "\t<tr><td>wagon      </td><td>24.04000</td><td>4.217819</td></tr>\n",
       "</tbody>\n",
       "</table>\n"
      ],
      "text/latex": [
       "A tibble: 5 × 3\n",
       "\\begin{tabular}{lll}\n",
       " bodyStyle & cityMpg.mean & cityMpg.sd\\\\\n",
       " <fct> & <dbl> & <dbl>\\\\\n",
       "\\hline\n",
       "\t convertible & 20.50000 & 3.391165\\\\\n",
       "\t hardtop     & 21.62500 & 5.423165\\\\\n",
       "\t hatchback   & 26.31429 & 7.169870\\\\\n",
       "\t sedan       & 25.32292 & 6.599035\\\\\n",
       "\t wagon       & 24.04000 & 4.217819\\\\\n",
       "\\end{tabular}\n"
      ],
      "text/markdown": [
       "\n",
       "A tibble: 5 × 3\n",
       "\n",
       "| bodyStyle &lt;fct&gt; | cityMpg.mean &lt;dbl&gt; | cityMpg.sd &lt;dbl&gt; |\n",
       "|---|---|---|\n",
       "| convertible | 20.50000 | 3.391165 |\n",
       "| hardtop     | 21.62500 | 5.423165 |\n",
       "| hatchback   | 26.31429 | 7.169870 |\n",
       "| sedan       | 25.32292 | 6.599035 |\n",
       "| wagon       | 24.04000 | 4.217819 |\n",
       "\n"
      ],
      "text/plain": [
       "  bodyStyle   cityMpg.mean cityMpg.sd\n",
       "1 convertible 20.50000     3.391165  \n",
       "2 hardtop     21.62500     5.423165  \n",
       "3 hatchback   26.31429     7.169870  \n",
       "4 sedan       25.32292     6.599035  \n",
       "5 wagon       24.04000     4.217819  "
      ]
     },
     "metadata": {},
     "output_type": "display_data"
    }
   ],
   "source": [
    "carIns_final %>% group_by(bodyStyle) %>% summarise(cityMpg.mean=mean(cityMpg), cityMpg.sd=sd(cityMpg))"
   ]
  },
  {
   "attachments": {},
   "cell_type": "markdown",
   "metadata": {},
   "source": [
    "(d) Also by bodyStyle, and for the attributes cityMpg and highwayMpg, obtain the mean, the standard deviation, the median and the inter-quartile range."
   ]
  },
  {
   "cell_type": "code",
   "execution_count": 10,
   "metadata": {
    "vscode": {
     "languageId": "r"
    }
   },
   "outputs": [
    {
     "data": {
      "text/html": [
       "<table class=\"dataframe\">\n",
       "<caption>A tibble: 5 × 7</caption>\n",
       "<thead>\n",
       "\t<tr><th scope=col>bodyStyle</th><th scope=col>cityMpg.mean</th><th scope=col>cityMpg.sd</th><th scope=col>highwayMpg.mean</th><th scope=col>highwayMpg.sd</th><th scope=col>highway.median</th><th scope=col>carretera</th></tr>\n",
       "\t<tr><th scope=col>&lt;fct&gt;</th><th scope=col>&lt;dbl&gt;</th><th scope=col>&lt;dbl&gt;</th><th scope=col>&lt;dbl&gt;</th><th scope=col>&lt;dbl&gt;</th><th scope=col>&lt;dbl&gt;</th><th scope=col>&lt;dbl&gt;</th></tr>\n",
       "</thead>\n",
       "<tbody>\n",
       "\t<tr><td>convertible</td><td>20.50000</td><td>3.391165</td><td>26.00000</td><td>4.289522</td><td>27.0</td><td> 3.00</td></tr>\n",
       "\t<tr><td>hardtop    </td><td>21.62500</td><td>5.423165</td><td>27.25000</td><td>6.088631</td><td>27.5</td><td> 5.00</td></tr>\n",
       "\t<tr><td>hatchback  </td><td>26.31429</td><td>7.169870</td><td>32.17143</td><td>7.044314</td><td>31.5</td><td>11.75</td></tr>\n",
       "\t<tr><td>sedan      </td><td>25.32292</td><td>6.599035</td><td>30.83333</td><td>7.174027</td><td>30.5</td><td>11.25</td></tr>\n",
       "\t<tr><td>wagon      </td><td>24.04000</td><td>4.217819</td><td>28.72000</td><td>4.703899</td><td>29.0</td><td> 7.00</td></tr>\n",
       "</tbody>\n",
       "</table>\n"
      ],
      "text/latex": [
       "A tibble: 5 × 7\n",
       "\\begin{tabular}{lllllll}\n",
       " bodyStyle & cityMpg.mean & cityMpg.sd & highwayMpg.mean & highwayMpg.sd & highway.median & carretera\\\\\n",
       " <fct> & <dbl> & <dbl> & <dbl> & <dbl> & <dbl> & <dbl>\\\\\n",
       "\\hline\n",
       "\t convertible & 20.50000 & 3.391165 & 26.00000 & 4.289522 & 27.0 &  3.00\\\\\n",
       "\t hardtop     & 21.62500 & 5.423165 & 27.25000 & 6.088631 & 27.5 &  5.00\\\\\n",
       "\t hatchback   & 26.31429 & 7.169870 & 32.17143 & 7.044314 & 31.5 & 11.75\\\\\n",
       "\t sedan       & 25.32292 & 6.599035 & 30.83333 & 7.174027 & 30.5 & 11.25\\\\\n",
       "\t wagon       & 24.04000 & 4.217819 & 28.72000 & 4.703899 & 29.0 &  7.00\\\\\n",
       "\\end{tabular}\n"
      ],
      "text/markdown": [
       "\n",
       "A tibble: 5 × 7\n",
       "\n",
       "| bodyStyle &lt;fct&gt; | cityMpg.mean &lt;dbl&gt; | cityMpg.sd &lt;dbl&gt; | highwayMpg.mean &lt;dbl&gt; | highwayMpg.sd &lt;dbl&gt; | highway.median &lt;dbl&gt; | carretera &lt;dbl&gt; |\n",
       "|---|---|---|---|---|---|---|\n",
       "| convertible | 20.50000 | 3.391165 | 26.00000 | 4.289522 | 27.0 |  3.00 |\n",
       "| hardtop     | 21.62500 | 5.423165 | 27.25000 | 6.088631 | 27.5 |  5.00 |\n",
       "| hatchback   | 26.31429 | 7.169870 | 32.17143 | 7.044314 | 31.5 | 11.75 |\n",
       "| sedan       | 25.32292 | 6.599035 | 30.83333 | 7.174027 | 30.5 | 11.25 |\n",
       "| wagon       | 24.04000 | 4.217819 | 28.72000 | 4.703899 | 29.0 |  7.00 |\n",
       "\n"
      ],
      "text/plain": [
       "  bodyStyle   cityMpg.mean cityMpg.sd highwayMpg.mean highwayMpg.sd\n",
       "1 convertible 20.50000     3.391165   26.00000        4.289522     \n",
       "2 hardtop     21.62500     5.423165   27.25000        6.088631     \n",
       "3 hatchback   26.31429     7.169870   32.17143        7.044314     \n",
       "4 sedan       25.32292     6.599035   30.83333        7.174027     \n",
       "5 wagon       24.04000     4.217819   28.72000        4.703899     \n",
       "  highway.median carretera\n",
       "1 27.0            3.00    \n",
       "2 27.5            5.00    \n",
       "3 31.5           11.75    \n",
       "4 30.5           11.25    \n",
       "5 29.0            7.00    "
      ]
     },
     "metadata": {},
     "output_type": "display_data"
    }
   ],
   "source": [
    "carIns_final %>% group_by(bodyStyle) %>% summarise(cityMpg.mean=mean(cityMpg), cityMpg.sd=sd(cityMpg), highwayMpg.mean=mean(highwayMpg), highwayMpg.sd=sd(highwayMpg), highway.median=median(highwayMpg), carretera=IQR(highwayMpg))"
   ]
  },
  {
   "attachments": {},
   "cell_type": "markdown",
   "metadata": {},
   "source": [
    "***2 Visualization***\n",
    "\n",
    "2. Using the package ggplot2, create graphs that you find adequate to answer the following questions."
   ]
  },
  {
   "cell_type": "code",
   "execution_count": 11,
   "metadata": {
    "vscode": {
     "languageId": "r"
    }
   },
   "outputs": [
    {
     "name": "stderr",
     "output_type": "stream",
     "text": [
      "Installing package into 'C:/Users/pc/AppData/Local/R/win-library/4.3'\n",
      "(as 'lib' is unspecified)\n",
      "\n"
     ]
    },
    {
     "name": "stdout",
     "output_type": "stream",
     "text": [
      "package 'ggplot2' successfully unpacked and MD5 sums checked\n",
      "\n",
      "The downloaded binary packages are in\n",
      "\tC:\\Users\\pc\\AppData\\Local\\Temp\\RtmpCgOKOI\\downloaded_packages\n"
     ]
    }
   ],
   "source": [
    "install.packages(\"ggplot2\")\n",
    "library(ggplot2)"
   ]
  },
  {
   "attachments": {},
   "cell_type": "markdown",
   "metadata": {},
   "source": [
    "(e) Show the relationship between the attributes cityMpg and highwayMpg"
   ]
  },
  {
   "cell_type": "code",
   "execution_count": 12,
   "metadata": {
    "vscode": {
     "languageId": "r"
    }
   },
   "outputs": [
    {
     "data": {
      "image/png": "[encoded data removed]",
      "text/plain": [
       "plot without title"
      ]
     },
     "metadata": {
      "image/png": {
       "height": 420,
       "width": 420
      }
     },
     "output_type": "display_data"
    }
   ],
   "source": [
    "ggplot(carIns_final, aes(x=cityMpg, y=highwayMpg))"
   ]
  },
  {
   "cell_type": "code",
   "execution_count": 13,
   "metadata": {
    "vscode": {
     "languageId": "r"
    }
   },
   "outputs": [
    {
     "data": {
      "image/png": "[encoded data removed]",
      "text/plain": [
       "plot without title"
      ]
     },
     "metadata": {
      "image/png": {
       "height": 420,
       "width": 420
      }
     },
     "output_type": "display_data"
    }
   ],
   "source": [
    "ggplot(carIns_final, aes(x=cityMpg, y=highwayMpg))+geom_point()+ ggtitle(\"Relacion entre city y highway\")"
   ]
  },
  {
   "attachments": {},
   "cell_type": "markdown",
   "metadata": {},
   "source": [
    "(f) Show the distribution of cars by bodyStyle."
   ]
  },
  {
   "cell_type": "code",
   "execution_count": 14,
   "metadata": {
    "vscode": {
     "languageId": "r"
    }
   },
   "outputs": [
    {
     "data": {
      "image/png": "[encoded data removed]",
      "text/plain": [
       "plot without title"
      ]
     },
     "metadata": {
      "image/png": {
       "height": 420,
       "width": 420
      }
     },
     "output_type": "display_data"
    }
   ],
   "source": [
    "ggplot(carIns_final, aes(x=bodyStyle))+geom_bar()"
   ]
  },
  {
   "attachments": {},
   "cell_type": "markdown",
   "metadata": {},
   "source": [
    "(g) Show the distribution of cars by price. Suggestion: create bins of width equal to 5000."
   ]
  },
  {
   "cell_type": "code",
   "execution_count": 15,
   "metadata": {
    "vscode": {
     "languageId": "r"
    }
   },
   "outputs": [
    {
     "data": {
      "image/png": "[encoded data removed]",
      "text/plain": [
       "plot without title"
      ]
     },
     "metadata": {
      "image/png": {
       "height": 420,
       "width": 420
      }
     },
     "output_type": "display_data"
    }
   ],
   "source": [
    "# Crea los bins de ancho 5000\n",
    "bins <- seq(min(carIns_final$price), max(carIns_final$price), by = 5000)\n",
    "\n",
    "# Crea un gráfico de barras para mostrar la distribución de los autos por precio\n",
    "ggplot(carIns_final, aes(x = cut(price, bins))) +\n",
    "  geom_bar() +\n",
    "  xlab(\"Precio\") +\n",
    "  ylab(\"Frecuencia\") +\n",
    "  ggtitle(\"Distribución de autos por precio\")\n"
   ]
  },
  {
   "attachments": {},
   "cell_type": "markdown",
   "metadata": {},
   "source": [
    "(h) Add the information of the density estimation to the previous graph."
   ]
  },
  {
   "cell_type": "code",
   "execution_count": 16,
   "metadata": {
    "vscode": {
     "languageId": "r"
    }
   },
   "outputs": [
    {
     "name": "stderr",
     "output_type": "stream",
     "text": [
      "Warning message:\n",
      "\"\u001b[1m\u001b[22mThe dot-dot notation (`..count..`) was deprecated in ggplot2 3.4.0.\n",
      "\u001b[36mℹ\u001b[39m Please use `after_stat(count)` instead.\"\n"
     ]
    },
    {
     "data": {
      "image/png": "[encoded data removed]",
      "text/plain": [
       "plot without title"
      ]
     },
     "metadata": {
      "image/png": {
       "height": 420,
       "width": 420
      }
     },
     "output_type": "display_data"
    }
   ],
   "source": [
    "# Crea los bins de ancho 5000\n",
    "bins <- seq(min(carIns_final$price), max(carIns_final$price), by = 5000)\n",
    "\n",
    "# Crea un gráfico de barras y densidad para mostrar la distribución de los autos por precio\n",
    "ggplot(carIns_final, aes(x = cut(price, bins))) +\n",
    "  geom_bar() +\n",
    "  geom_density(aes(y = ..count..), fill = \"blue\", alpha = 0.3) +\n",
    "  xlab(\"Precio\") +\n",
    "  ylab(\"Frecuencia / Densidad\") +\n",
    "  ggtitle(\"Distribución de autos por precio con estimación de densidad\")\n"
   ]
  },
  {
   "attachments": {},
   "cell_type": "markdown",
   "metadata": {},
   "source": [
    "(i) Check (visually) if it is plausible to consider that price follows a normal distribution."
   ]
  },
  {
   "cell_type": "code",
   "execution_count": 17,
   "metadata": {
    "vscode": {
     "languageId": "r"
    }
   },
   "outputs": [
    {
     "data": {
      "image/png": "[encoded data removed]",
      "text/plain": [
       "plot without title"
      ]
     },
     "metadata": {
      "image/png": {
       "height": 420,
       "width": 420
      }
     },
     "output_type": "display_data"
    },
    {
     "data": {
      "image/png": "[encoded data removed]",
      "text/plain": [
       "plot without title"
      ]
     },
     "metadata": {
      "image/png": {
       "height": 420,
       "width": 420
      }
     },
     "output_type": "display_data"
    }
   ],
   "source": [
    "# Gráfico de densidad del precio\n",
    "ggplot(carIns_final, aes(x = price)) +\n",
    "  geom_density() +\n",
    "  xlab(\"Precio\") +\n",
    "  ylab(\"Densidad\") +\n",
    "  ggtitle(\"Distribución de precio\")\n",
    "\n",
    "# Gráfico Q-Q plot del precio\n",
    "ggplot(carIns_final, aes(sample = price)) +\n",
    "  stat_qq() +\n",
    "  stat_qq_line() +\n",
    "  xlab(\"Cuantiles teóricos\") +\n",
    "  ylab(\"Cuantiles observados\") +\n",
    "  ggtitle(\"Q-Q plot del precio\")\n"
   ]
  },
  {
   "attachments": {},
   "cell_type": "markdown",
   "metadata": {},
   "source": [
    "(j) Show the distribution of price by make attribute. Suggestion: use boxplots and the function coord_flip()."
   ]
  },
  {
   "cell_type": "code",
   "execution_count": 18,
   "metadata": {
    "vscode": {
     "languageId": "r"
    }
   },
   "outputs": [
    {
     "data": {
      "image/png": "[encoded data removed]",
      "text/plain": [
       "plot without title"
      ]
     },
     "metadata": {
      "image/png": {
       "height": 420,
       "width": 420
      }
     },
     "output_type": "display_data"
    }
   ],
   "source": [
    "# Crear un boxplot del precio por make\n",
    "ggplot(carIns_final, aes(x = make, y = price)) +\n",
    "  geom_boxplot() +\n",
    "  coord_flip() +\n",
    "  xlab(\"Marca\") +\n",
    "  ylab(\"Precio\") +\n",
    "  ggtitle(\"Distribución de precio por marca\")\n"
   ]
  },
  {
   "attachments": {},
   "cell_type": "markdown",
   "metadata": {},
   "source": [
    "(k) Show the distribution of price by nDoors attribute. Suggestion: use histograms."
   ]
  },
  {
   "cell_type": "code",
   "execution_count": 19,
   "metadata": {
    "vscode": {
     "languageId": "r"
    }
   },
   "outputs": [
    {
     "data": {
      "image/png": "[encoded data removed]",
      "text/plain": [
       "plot without title"
      ]
     },
     "metadata": {
      "image/png": {
       "height": 420,
       "width": 420
      }
     },
     "output_type": "display_data"
    }
   ],
   "source": [
    "# Crear histogramas del precio por nDoors\n",
    "ggplot(carIns_final, aes(x = price, fill = nDoors)) +\n",
    "  geom_histogram(binwidth = 5000, position = \"identity\", alpha = 0.7) +\n",
    "  scale_fill_manual(values = c(\"two\" = \"blue\", \"four\" = \"green\"),\n",
    "                    labels = c(\"two\" = \"2 puertas\", \"four\" = \"4 puertas\")) +\n",
    "  xlab(\"Precio\") +\n",
    "  ylab(\"Frecuencia\") +\n",
    "  ggtitle(\"Distribución de precio por número de puertas\")\n"
   ]
  },
  {
   "attachments": {},
   "cell_type": "markdown",
   "metadata": {},
   "source": [
    "(l) Show the distribution of price by bodyStyle and nDoors attributes. Suggestion: use histograms."
   ]
  },
  {
   "cell_type": "code",
   "execution_count": 20,
   "metadata": {
    "vscode": {
     "languageId": "r"
    }
   },
   "outputs": [
    {
     "data": {
      "image/png": "[encoded data removed]",
      "text/plain": [
       "plot without title"
      ]
     },
     "metadata": {
      "image/png": {
       "height": 420,
       "width": 420
      }
     },
     "output_type": "display_data"
    }
   ],
   "source": [
    "# Crear histogramas del precio por bodyStyle y nDoors\n",
    "ggplot(carIns_final, aes(x = price, fill = nDoors)) +\n",
    "  geom_histogram(binwidth = 5000, position = \"identity\", alpha = 0.7) +\n",
    "  facet_wrap(~ bodyStyle) +\n",
    "  scale_fill_manual(values = c(\"two\" = \"blue\", \"four\" = \"green\"),\n",
    "                    labels = c(\"two\" = \"2 puertas\", \"four\" = \"4 puertas\")) +\n",
    "  xlab(\"Precio\") +\n",
    "  ylab(\"Frecuencia\") +\n",
    "  ggtitle(\"Distribución de precio por estilo de carrocería y número de puertas\")\n"
   ]
  },
  {
   "attachments": {},
   "cell_type": "markdown",
   "metadata": {},
   "source": [
    "(m) Add the parameter scales=\"free_y\" to the facet function in the previous graph."
   ]
  },
  {
   "cell_type": "code",
   "execution_count": 21,
   "metadata": {
    "vscode": {
     "languageId": "r"
    }
   },
   "outputs": [
    {
     "data": {
      "image/png": "[encoded data removed]",
      "text/plain": [
       "plot without title"
      ]
     },
     "metadata": {
      "image/png": {
       "height": 420,
       "width": 420
      }
     },
     "output_type": "display_data"
    }
   ],
   "source": [
    "# Crear histogramas del precio por bodyStyle y nDoors con escalas libres en el eje y\n",
    "ggplot(carIns_final, aes(x = price, fill = nDoors)) +\n",
    "  geom_histogram(binwidth = 5000, position = \"identity\", alpha = 0.7) +\n",
    "  facet_wrap(~ bodyStyle, scales = \"free_y\") +\n",
    "  scale_fill_manual(values = c(\"two\" = \"blue\", \"four\" = \"green\"),\n",
    "                    labels = c(\"two\" = \"2 puertas\", \"four\" = \"4 puertas\")) +\n",
    "  xlab(\"Precio\") +\n",
    "  ylab(\"Frecuencia\") +\n",
    "  ggtitle(\"Distribución de precio por estilo de carrocería y número de puertas\")\n"
   ]
  }
 ],
 "metadata": {
  "kernelspec": {
   "display_name": "R",
   "language": "R",
   "name": "ir"
  },
  "language_info": {
   "codemirror_mode": "r",
   "file_extension": ".r",
   "mimetype": "text/x-r-source",
   "name": "R",
   "pygments_lexer": "r",
   "version": "4.3.0"
  },
  "orig_nbformat": 4
 },
 "nbformat": 4,
 "nbformat_minor": 2
}
