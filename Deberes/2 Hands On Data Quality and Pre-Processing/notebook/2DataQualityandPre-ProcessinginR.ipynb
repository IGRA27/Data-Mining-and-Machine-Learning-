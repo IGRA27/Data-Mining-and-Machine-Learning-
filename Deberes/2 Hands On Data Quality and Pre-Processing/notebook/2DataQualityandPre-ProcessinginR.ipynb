{
 "cells": [
  {
   "attachments": {},
   "cell_type": "markdown",
   "metadata": {},
   "source": [
    "Isaac Reyes\n",
    "\n",
    "***2 Hands On: Data Quality and Pre-Processing***\n",
    "\n",
    "***1. Assessing Data Quality***\n",
    "\n",
    "**Load the following packages: dplyr, na.tools, tidyimpute (version from github decisionpatterns/tidyimpute”)**\n",
    "\n",
    "*Load the car Insurance data set about the insurance risk rating of cars based on several characteristics of each car*"
   ]
  },
  {
   "cell_type": "code",
   "execution_count": 1,
   "metadata": {
    "vscode": {
     "languageId": "r"
    }
   },
   "outputs": [
    {
     "name": "stderr",
     "output_type": "stream",
     "text": [
      "Installing package into 'C:/Users/pc/AppData/Local/R/win-library/4.3'\n",
      "(as 'lib' is unspecified)\n",
      "\n"
     ]
    },
    {
     "name": "stdout",
     "output_type": "stream",
     "text": [
      "package 'dplyr' successfully unpacked and MD5 sums checked\n"
     ]
    },
    {
     "name": "stderr",
     "output_type": "stream",
     "text": [
      "Warning message:\n",
      "\"cannot remove prior installation of package 'dplyr'\"\n",
      "Warning message in file.copy(savedcopy, lib, recursive = TRUE):\n",
      "\"problema al copiar C:\\Users\\pc\\AppData\\Local\\R\\win-library\\4.3\\00LOCK\\dplyr\\libs\\x64\\dplyr.dll  a C:\\Users\\pc\\AppData\\Local\\R\\win-library\\4.3\\dplyr\\libs\\x64\\dplyr.dll: Permission denied\"\n",
      "Warning message:\n",
      "\"restored 'dplyr'\"\n"
     ]
    },
    {
     "name": "stdout",
     "output_type": "stream",
     "text": [
      "\n",
      "The downloaded binary packages are in\n",
      "\tC:\\Users\\pc\\AppData\\Local\\Temp\\RtmpSsQegv\\downloaded_packages\n"
     ]
    },
    {
     "name": "stderr",
     "output_type": "stream",
     "text": [
      "Installing package into 'C:/Users/pc/AppData/Local/R/win-library/4.3'\n",
      "(as 'lib' is unspecified)\n",
      "\n"
     ]
    },
    {
     "name": "stdout",
     "output_type": "stream",
     "text": [
      "package 'na.tools' successfully unpacked and MD5 sums checked\n",
      "\n",
      "The downloaded binary packages are in\n",
      "\tC:\\Users\\pc\\AppData\\Local\\Temp\\RtmpSsQegv\\downloaded_packages\n"
     ]
    },
    {
     "name": "stderr",
     "output_type": "stream",
     "text": [
      "Installing package into 'C:/Users/pc/AppData/Local/R/win-library/4.3'\n",
      "(as 'lib' is unspecified)\n",
      "\n"
     ]
    },
    {
     "name": "stdout",
     "output_type": "stream",
     "text": [
      "package 'remotes' successfully unpacked and MD5 sums checked\n",
      "\n",
      "The downloaded binary packages are in\n",
      "\tC:\\Users\\pc\\AppData\\Local\\Temp\\RtmpSsQegv\\downloaded_packages\n"
     ]
    },
    {
     "name": "stderr",
     "output_type": "stream",
     "text": [
      "Downloading GitHub repo decisionpatterns/tidyimpute@HEAD\n",
      "\n"
     ]
    },
    {
     "name": "stdout",
     "output_type": "stream",
     "text": [
      "\n"
     ]
    },
    {
     "name": "stderr",
     "output_type": "stream",
     "text": [
      "Running `R CMD build`...\n",
      "\n"
     ]
    },
    {
     "name": "stdout",
     "output_type": "stream",
     "text": [
      "* checking for file 'C:\\Users\\pc\\AppData\\Local\\Temp\\RtmpSsQegv\\remotes629025e13420\\decisionpatterns-tidyimpute-9e07748/DESCRIPTION' ... OK\n",
      "* preparing 'tidyimpute':\n",
      "* checking DESCRIPTION meta-information ... OK\n",
      "* checking for LF line-endings in source and make files and shell scripts\n",
      "* checking for empty or unneeded directories\n",
      "* building 'tidyimpute_0.2.0.tar.gz'\n"
     ]
    },
    {
     "name": "stderr",
     "output_type": "stream",
     "text": [
      "Installing package into 'C:/Users/pc/AppData/Local/R/win-library/4.3'\n",
      "(as 'lib' is unspecified)\n",
      "\n"
     ]
    }
   ],
   "source": [
    "install.packages(\"dplyr\")\n",
    "install.packages(\"na.tools\")\n",
    "install.packages(\"remotes\")  # Required for installing packages from GitHub\n",
    "remotes::install_github(\"decisionpatterns/tidyimpute\", force=TRUE)"
   ]
  },
  {
   "cell_type": "code",
   "execution_count": 2,
   "metadata": {
    "vscode": {
     "languageId": "r"
    }
   },
   "outputs": [
    {
     "name": "stderr",
     "output_type": "stream",
     "text": [
      "\n",
      "Attaching package: 'dplyr'\n",
      "\n",
      "\n",
      "The following objects are masked from 'package:stats':\n",
      "\n",
      "    filter, lag\n",
      "\n",
      "\n",
      "The following objects are masked from 'package:base':\n",
      "\n",
      "    intersect, setdiff, setequal, union\n",
      "\n",
      "\n"
     ]
    }
   ],
   "source": [
    "library(dplyr)\n",
    "library(na.tools)\n",
    "library(tidyimpute)\n",
    "#cargamos librerias"
   ]
  },
  {
   "cell_type": "code",
   "execution_count": 13,
   "metadata": {
    "vscode": {
     "languageId": "r"
    }
   },
   "outputs": [
    {
     "name": "stderr",
     "output_type": "stream",
     "text": [
      "\u001b[1mRows: \u001b[22m\u001b[34m204\u001b[39m \u001b[1mColumns: \u001b[22m\u001b[34m26\u001b[39m\n",
      "\u001b[36m──\u001b[39m \u001b[1mColumn specification\u001b[22m \u001b[36m────────────────────────────────────────────────────────\u001b[39m\n",
      "\u001b[1mDelimiter:\u001b[22m \",\"\n",
      "\u001b[31mchr\u001b[39m (16): ?, alfa-romero, gas, std, two, convertible, rwd, front, dohc, four...\n",
      "\u001b[32mdbl\u001b[39m (10): 3, 88.60, 168.80, 64.10, 48.80, 2548, 130, 9.00, 21, 27\n",
      "\n",
      "\u001b[36mℹ\u001b[39m Use `spec()` to retrieve the full column specification for this data.\n",
      "\u001b[36mℹ\u001b[39m Specify the column types or set `show_col_types = FALSE` to quiet this message.\n"
     ]
    }
   ],
   "source": [
    "#install.packages(\"readr\") cargamos las librerias aunque ya exista\n",
    "#library(readr)\n",
    "# Cargar el archivo imports-85.data\n",
    "data <- read_delim(\"/Users/pc/Desktop/Universidad/6 semestre/Machine Learning & Data Mining/Deberes/2 Hands On Data Quality and Pre-Processing/data/imports-85.data\")\n",
    "\n"
   ]
  },
  {
   "cell_type": "code",
   "execution_count": 14,
   "metadata": {
    "vscode": {
     "languageId": "r"
    }
   },
   "outputs": [
    {
     "data": {
      "text/html": [
       "<table class=\"dataframe\">\n",
       "<caption>A tibble: 6 × 26</caption>\n",
       "<thead>\n",
       "\t<tr><th scope=col>3</th><th scope=col>?</th><th scope=col>alfa-romero</th><th scope=col>gas</th><th scope=col>std</th><th scope=col>two</th><th scope=col>convertible</th><th scope=col>rwd</th><th scope=col>front</th><th scope=col>88.60</th><th scope=col>⋯</th><th scope=col>130</th><th scope=col>mpfi</th><th scope=col>3.47</th><th scope=col>2.68</th><th scope=col>9.00</th><th scope=col>111</th><th scope=col>5000</th><th scope=col>21</th><th scope=col>27</th><th scope=col>13495</th></tr>\n",
       "\t<tr><th scope=col>&lt;dbl&gt;</th><th scope=col>&lt;chr&gt;</th><th scope=col>&lt;chr&gt;</th><th scope=col>&lt;chr&gt;</th><th scope=col>&lt;chr&gt;</th><th scope=col>&lt;chr&gt;</th><th scope=col>&lt;chr&gt;</th><th scope=col>&lt;chr&gt;</th><th scope=col>&lt;chr&gt;</th><th scope=col>&lt;dbl&gt;</th><th scope=col>⋯</th><th scope=col>&lt;dbl&gt;</th><th scope=col>&lt;chr&gt;</th><th scope=col>&lt;chr&gt;</th><th scope=col>&lt;chr&gt;</th><th scope=col>&lt;dbl&gt;</th><th scope=col>&lt;chr&gt;</th><th scope=col>&lt;chr&gt;</th><th scope=col>&lt;dbl&gt;</th><th scope=col>&lt;dbl&gt;</th><th scope=col>&lt;chr&gt;</th></tr>\n",
       "</thead>\n",
       "<tbody>\n",
       "\t<tr><td>3</td><td>?  </td><td>alfa-romero</td><td>gas</td><td>std</td><td>two </td><td>convertible</td><td>rwd</td><td>front</td><td> 88.6</td><td>⋯</td><td>130</td><td>mpfi</td><td>3.47</td><td>2.68</td><td> 9.0</td><td>111</td><td>5000</td><td>21</td><td>27</td><td>16500</td></tr>\n",
       "\t<tr><td>1</td><td>?  </td><td>alfa-romero</td><td>gas</td><td>std</td><td>two </td><td>hatchback  </td><td>rwd</td><td>front</td><td> 94.5</td><td>⋯</td><td>152</td><td>mpfi</td><td>2.68</td><td>3.47</td><td> 9.0</td><td>154</td><td>5000</td><td>19</td><td>26</td><td>16500</td></tr>\n",
       "\t<tr><td>2</td><td>164</td><td>audi       </td><td>gas</td><td>std</td><td>four</td><td>sedan      </td><td>fwd</td><td>front</td><td> 99.8</td><td>⋯</td><td>109</td><td>mpfi</td><td>3.19</td><td>3.40</td><td>10.0</td><td>102</td><td>5500</td><td>24</td><td>30</td><td>13950</td></tr>\n",
       "\t<tr><td>2</td><td>164</td><td>audi       </td><td>gas</td><td>std</td><td>four</td><td>sedan      </td><td>4wd</td><td>front</td><td> 99.4</td><td>⋯</td><td>136</td><td>mpfi</td><td>3.19</td><td>3.40</td><td> 8.0</td><td>115</td><td>5500</td><td>18</td><td>22</td><td>17450</td></tr>\n",
       "\t<tr><td>2</td><td>?  </td><td>audi       </td><td>gas</td><td>std</td><td>two </td><td>sedan      </td><td>fwd</td><td>front</td><td> 99.8</td><td>⋯</td><td>136</td><td>mpfi</td><td>3.19</td><td>3.40</td><td> 8.5</td><td>110</td><td>5500</td><td>19</td><td>25</td><td>15250</td></tr>\n",
       "\t<tr><td>1</td><td>158</td><td>audi       </td><td>gas</td><td>std</td><td>four</td><td>sedan      </td><td>fwd</td><td>front</td><td>105.8</td><td>⋯</td><td>136</td><td>mpfi</td><td>3.19</td><td>3.40</td><td> 8.5</td><td>110</td><td>5500</td><td>19</td><td>25</td><td>17710</td></tr>\n",
       "</tbody>\n",
       "</table>\n"
      ],
      "text/latex": [
       "A tibble: 6 × 26\n",
       "\\begin{tabular}{lllllllllllllllllllll}\n",
       " 3 & ? & alfa-romero & gas & std & two & convertible & rwd & front & 88.60 & ⋯ & 130 & mpfi & 3.47 & 2.68 & 9.00 & 111 & 5000 & 21 & 27 & 13495\\\\\n",
       " <dbl> & <chr> & <chr> & <chr> & <chr> & <chr> & <chr> & <chr> & <chr> & <dbl> & ⋯ & <dbl> & <chr> & <chr> & <chr> & <dbl> & <chr> & <chr> & <dbl> & <dbl> & <chr>\\\\\n",
       "\\hline\n",
       "\t 3 & ?   & alfa-romero & gas & std & two  & convertible & rwd & front &  88.6 & ⋯ & 130 & mpfi & 3.47 & 2.68 &  9.0 & 111 & 5000 & 21 & 27 & 16500\\\\\n",
       "\t 1 & ?   & alfa-romero & gas & std & two  & hatchback   & rwd & front &  94.5 & ⋯ & 152 & mpfi & 2.68 & 3.47 &  9.0 & 154 & 5000 & 19 & 26 & 16500\\\\\n",
       "\t 2 & 164 & audi        & gas & std & four & sedan       & fwd & front &  99.8 & ⋯ & 109 & mpfi & 3.19 & 3.40 & 10.0 & 102 & 5500 & 24 & 30 & 13950\\\\\n",
       "\t 2 & 164 & audi        & gas & std & four & sedan       & 4wd & front &  99.4 & ⋯ & 136 & mpfi & 3.19 & 3.40 &  8.0 & 115 & 5500 & 18 & 22 & 17450\\\\\n",
       "\t 2 & ?   & audi        & gas & std & two  & sedan       & fwd & front &  99.8 & ⋯ & 136 & mpfi & 3.19 & 3.40 &  8.5 & 110 & 5500 & 19 & 25 & 15250\\\\\n",
       "\t 1 & 158 & audi        & gas & std & four & sedan       & fwd & front & 105.8 & ⋯ & 136 & mpfi & 3.19 & 3.40 &  8.5 & 110 & 5500 & 19 & 25 & 17710\\\\\n",
       "\\end{tabular}\n"
      ],
      "text/markdown": [
       "\n",
       "A tibble: 6 × 26\n",
       "\n",
       "| 3 &lt;dbl&gt; | ? &lt;chr&gt; | alfa-romero &lt;chr&gt; | gas &lt;chr&gt; | std &lt;chr&gt; | two &lt;chr&gt; | convertible &lt;chr&gt; | rwd &lt;chr&gt; | front &lt;chr&gt; | 88.60 &lt;dbl&gt; | ⋯ ⋯ | 130 &lt;dbl&gt; | mpfi &lt;chr&gt; | 3.47 &lt;chr&gt; | 2.68 &lt;chr&gt; | 9.00 &lt;dbl&gt; | 111 &lt;chr&gt; | 5000 &lt;chr&gt; | 21 &lt;dbl&gt; | 27 &lt;dbl&gt; | 13495 &lt;chr&gt; |\n",
       "|---|---|---|---|---|---|---|---|---|---|---|---|---|---|---|---|---|---|---|---|---|\n",
       "| 3 | ?   | alfa-romero | gas | std | two  | convertible | rwd | front |  88.6 | ⋯ | 130 | mpfi | 3.47 | 2.68 |  9.0 | 111 | 5000 | 21 | 27 | 16500 |\n",
       "| 1 | ?   | alfa-romero | gas | std | two  | hatchback   | rwd | front |  94.5 | ⋯ | 152 | mpfi | 2.68 | 3.47 |  9.0 | 154 | 5000 | 19 | 26 | 16500 |\n",
       "| 2 | 164 | audi        | gas | std | four | sedan       | fwd | front |  99.8 | ⋯ | 109 | mpfi | 3.19 | 3.40 | 10.0 | 102 | 5500 | 24 | 30 | 13950 |\n",
       "| 2 | 164 | audi        | gas | std | four | sedan       | 4wd | front |  99.4 | ⋯ | 136 | mpfi | 3.19 | 3.40 |  8.0 | 115 | 5500 | 18 | 22 | 17450 |\n",
       "| 2 | ?   | audi        | gas | std | two  | sedan       | fwd | front |  99.8 | ⋯ | 136 | mpfi | 3.19 | 3.40 |  8.5 | 110 | 5500 | 19 | 25 | 15250 |\n",
       "| 1 | 158 | audi        | gas | std | four | sedan       | fwd | front | 105.8 | ⋯ | 136 | mpfi | 3.19 | 3.40 |  8.5 | 110 | 5500 | 19 | 25 | 17710 |\n",
       "\n"
      ],
      "text/plain": [
       "  3 ?   alfa-romero gas std two  convertible rwd front 88.60 ⋯ 130 mpfi 3.47\n",
       "1 3 ?   alfa-romero gas std two  convertible rwd front  88.6 ⋯ 130 mpfi 3.47\n",
       "2 1 ?   alfa-romero gas std two  hatchback   rwd front  94.5 ⋯ 152 mpfi 2.68\n",
       "3 2 164 audi        gas std four sedan       fwd front  99.8 ⋯ 109 mpfi 3.19\n",
       "4 2 164 audi        gas std four sedan       4wd front  99.4 ⋯ 136 mpfi 3.19\n",
       "5 2 ?   audi        gas std two  sedan       fwd front  99.8 ⋯ 136 mpfi 3.19\n",
       "6 1 158 audi        gas std four sedan       fwd front 105.8 ⋯ 136 mpfi 3.19\n",
       "  2.68 9.00 111 5000 21 27 13495\n",
       "1 2.68  9.0 111 5000 21 27 16500\n",
       "2 3.47  9.0 154 5000 19 26 16500\n",
       "3 3.40 10.0 102 5500 24 30 13950\n",
       "4 3.40  8.0 115 5500 18 22 17450\n",
       "5 3.40  8.5 110 5500 19 25 15250\n",
       "6 3.40  8.5 110 5500 19 25 17710"
      ]
     },
     "metadata": {},
     "output_type": "display_data"
    }
   ],
   "source": [
    "# Visualizar las primeras filas del conjunto de datos\n",
    "head(data)\n"
   ]
  },
  {
   "attachments": {},
   "cell_type": "markdown",
   "metadata": {},
   "source": [
    "(a) Check if there are any missing values."
   ]
  },
  {
   "cell_type": "code",
   "execution_count": 24,
   "metadata": {
    "vscode": {
     "languageId": "r"
    }
   },
   "outputs": [
    {
     "name": "stdout",
     "output_type": "stream",
     "text": [
      "\u001b[90m# A tibble: 1 × 1\u001b[39m\n",
      "  any_missing\n",
      "  \u001b[3m\u001b[90m<lgl>\u001b[39m\u001b[23m      \n",
      "\u001b[90m1\u001b[39m FALSE      \n"
     ]
    }
   ],
   "source": [
    "# Check for missing values\n",
    "missing_values <- data %>% \n",
    "  summarise(any_missing = any_na(.))\n",
    "#USAMOS EL TIP DE ANY_NA DEL PDF\n",
    "# Print the result\n",
    "print(missing_values)\n"
   ]
  },
  {
   "cell_type": "code",
   "execution_count": 18,
   "metadata": {
    "vscode": {
     "languageId": "r"
    }
   },
   "outputs": [
    {
     "name": "stdout",
     "output_type": "stream",
     "text": [
      "[1] FALSE\n"
     ]
    }
   ],
   "source": [
    "missing_values <- any_na(data) #usamos el tip, y cargamos de ahi para imprimir\n",
    "print(missing_values)"
   ]
  },
  {
   "attachments": {},
   "cell_type": "markdown",
   "metadata": {},
   "source": [
    "(b) Count the number of cases that have, at least, one missing value."
   ]
  },
  {
   "cell_type": "code",
   "execution_count": 25,
   "metadata": {
    "vscode": {
     "languageId": "r"
    }
   },
   "outputs": [
    {
     "name": "stdout",
     "output_type": "stream",
     "text": [
      "\u001b[90m# A tibble: 1 × 1\u001b[39m\n",
      "      n\n",
      "  \u001b[3m\u001b[90m<int>\u001b[39m\u001b[23m\n",
      "\u001b[90m1\u001b[39m   204\n"
     ]
    }
   ],
   "source": [
    "# Count the number of cases with missing values\n",
    "count_missing_cases <- data %>% \n",
    "  filter_any_na() %>%\n",
    "  count()\n",
    "\n",
    "# Print the count\n",
    "print(count_missing_cases)\n",
    "\n"
   ]
  },
  {
   "attachments": {},
   "cell_type": "markdown",
   "metadata": {},
   "source": [
    "(c) Create a new data set by removing all the cases that have missing values."
   ]
  },
  {
   "cell_type": "code",
   "execution_count": 27,
   "metadata": {
    "vscode": {
     "languageId": "r"
    }
   },
   "outputs": [
    {
     "name": "stdout",
     "output_type": "stream",
     "text": [
      "\u001b[90m# A tibble: 204 × 26\u001b[39m\n",
      "     `3` `?`   `alfa-romero` gas   std   two   convertible rwd   front `88.60`\n",
      "   \u001b[3m\u001b[90m<dbl>\u001b[39m\u001b[23m \u001b[3m\u001b[90m<chr>\u001b[39m\u001b[23m \u001b[3m\u001b[90m<chr>\u001b[39m\u001b[23m         \u001b[3m\u001b[90m<chr>\u001b[39m\u001b[23m \u001b[3m\u001b[90m<chr>\u001b[39m\u001b[23m \u001b[3m\u001b[90m<chr>\u001b[39m\u001b[23m \u001b[3m\u001b[90m<chr>\u001b[39m\u001b[23m       \u001b[3m\u001b[90m<chr>\u001b[39m\u001b[23m \u001b[3m\u001b[90m<chr>\u001b[39m\u001b[23m   \u001b[3m\u001b[90m<dbl>\u001b[39m\u001b[23m\n",
      "\u001b[90m 1\u001b[39m     3 ?     alfa-romero   gas   std   two   convertible rwd   front    88.6\n",
      "\u001b[90m 2\u001b[39m     1 ?     alfa-romero   gas   std   two   hatchback   rwd   front    94.5\n",
      "\u001b[90m 3\u001b[39m     2 164   audi          gas   std   four  sedan       fwd   front    99.8\n",
      "\u001b[90m 4\u001b[39m     2 164   audi          gas   std   four  sedan       4wd   front    99.4\n",
      "\u001b[90m 5\u001b[39m     2 ?     audi          gas   std   two   sedan       fwd   front    99.8\n",
      "\u001b[90m 6\u001b[39m     1 158   audi          gas   std   four  sedan       fwd   front   106. \n",
      "\u001b[90m 7\u001b[39m     1 ?     audi          gas   std   four  wagon       fwd   front   106. \n",
      "\u001b[90m 8\u001b[39m     1 158   audi          gas   turbo four  sedan       fwd   front   106. \n",
      "\u001b[90m 9\u001b[39m     0 ?     audi          gas   turbo two   hatchback   4wd   front    99.5\n",
      "\u001b[90m10\u001b[39m     2 192   bmw           gas   std   two   sedan       rwd   front   101. \n",
      "\u001b[90m# ℹ 194 more rows\u001b[39m\n",
      "\u001b[90m# ℹ 16 more variables: `168.80` <dbl>, `64.10` <dbl>, `48.80` <dbl>,\u001b[39m\n",
      "\u001b[90m#   `2548` <dbl>, dohc <chr>, four <chr>, `130` <dbl>, mpfi <chr>,\u001b[39m\n",
      "\u001b[90m#   `3.47` <chr>, `2.68` <chr>, `9.00` <dbl>, `111` <chr>, `5000` <chr>,\u001b[39m\n",
      "\u001b[90m#   `21` <dbl>, `27` <dbl>, `13495` <chr>\u001b[39m\n"
     ]
    }
   ],
   "source": [
    "# Create a new dataset without missing values\n",
    "new_data <- data %>% \n",
    "  drop_rows_any_na()\n",
    "\n",
    "# Print the new dataset\n",
    "print(new_data)\n"
   ]
  },
  {
   "attachments": {},
   "cell_type": "markdown",
   "metadata": {},
   "source": [
    "(d) Create a new data set by imputing all the missing values with 0."
   ]
  },
  {
   "cell_type": "code",
   "execution_count": 29,
   "metadata": {
    "vscode": {
     "languageId": "r"
    }
   },
   "outputs": [
    {
     "name": "stderr",
     "output_type": "stream",
     "text": [
      "Registered S3 method overwritten by 'quantmod':\n",
      "  method            from\n",
      "  as.zoo.data.frame zoo \n",
      "\n",
      "\n",
      "Attaching package: 'imputeTS'\n",
      "\n",
      "\n",
      "The following objects are masked from 'package:na.tools':\n",
      "\n",
      "    na.mean, na.replace\n",
      "\n",
      "\n"
     ]
    }
   ],
   "source": [
    "library(imputeTS)\n"
   ]
  },
  {
   "cell_type": "code",
   "execution_count": 32,
   "metadata": {
    "vscode": {
     "languageId": "r"
    }
   },
   "outputs": [
    {
     "name": "stdout",
     "output_type": "stream",
     "text": [
      "\u001b[90m# A tibble: 204 × 26\u001b[39m\n",
      "     `3` `?`   `alfa-romero` gas   std   two   convertible rwd   front `88.60`\n",
      "   \u001b[3m\u001b[90m<dbl>\u001b[39m\u001b[23m \u001b[3m\u001b[90m<chr>\u001b[39m\u001b[23m \u001b[3m\u001b[90m<chr>\u001b[39m\u001b[23m         \u001b[3m\u001b[90m<chr>\u001b[39m\u001b[23m \u001b[3m\u001b[90m<chr>\u001b[39m\u001b[23m \u001b[3m\u001b[90m<chr>\u001b[39m\u001b[23m \u001b[3m\u001b[90m<chr>\u001b[39m\u001b[23m       \u001b[3m\u001b[90m<chr>\u001b[39m\u001b[23m \u001b[3m\u001b[90m<chr>\u001b[39m\u001b[23m   \u001b[3m\u001b[90m<dbl>\u001b[39m\u001b[23m\n",
      "\u001b[90m 1\u001b[39m     3 ?     alfa-romero   gas   std   two   convertible rwd   front    88.6\n",
      "\u001b[90m 2\u001b[39m     1 ?     alfa-romero   gas   std   two   hatchback   rwd   front    94.5\n",
      "\u001b[90m 3\u001b[39m     2 164   audi          gas   std   four  sedan       fwd   front    99.8\n",
      "\u001b[90m 4\u001b[39m     2 164   audi          gas   std   four  sedan       4wd   front    99.4\n",
      "\u001b[90m 5\u001b[39m     2 ?     audi          gas   std   two   sedan       fwd   front    99.8\n",
      "\u001b[90m 6\u001b[39m     1 158   audi          gas   std   four  sedan       fwd   front   106. \n",
      "\u001b[90m 7\u001b[39m     1 ?     audi          gas   std   four  wagon       fwd   front   106. \n",
      "\u001b[90m 8\u001b[39m     1 158   audi          gas   turbo four  sedan       fwd   front   106. \n",
      "\u001b[90m 9\u001b[39m     0 ?     audi          gas   turbo two   hatchback   4wd   front    99.5\n",
      "\u001b[90m10\u001b[39m     2 192   bmw           gas   std   two   sedan       rwd   front   101. \n",
      "\u001b[90m# ℹ 194 more rows\u001b[39m\n",
      "\u001b[90m# ℹ 16 more variables: `168.80` <dbl>, `64.10` <dbl>, `48.80` <dbl>,\u001b[39m\n",
      "\u001b[90m#   `2548` <dbl>, dohc <chr>, four <chr>, `130` <dbl>, mpfi <chr>,\u001b[39m\n",
      "\u001b[90m#   `3.47` <chr>, `2.68` <chr>, `9.00` <dbl>, `111` <chr>, `5000` <chr>,\u001b[39m\n",
      "\u001b[90m#   `21` <dbl>, `27` <dbl>, `13495` <chr>\u001b[39m\n"
     ]
    }
   ],
   "source": [
    "new_data <- impute(data, method = \"interpolation\", values = c(\"0\"))\n",
    "print(new_data)"
   ]
  },
  {
   "attachments": {},
   "cell_type": "markdown",
   "metadata": {},
   "source": [
    "(e) Create a new data set by imputing the mean in all the columns which have double type values.\n"
   ]
  },
  {
   "cell_type": "code",
   "execution_count": 38,
   "metadata": {
    "vscode": {
     "languageId": "r"
    }
   },
   "outputs": [
    {
     "name": "stdout",
     "output_type": "stream",
     "text": [
      "NULL\n"
     ]
    }
   ],
   "source": [
    "# Create a new dataset with mean imputation for double type columns\n",
    "new_data_e <- impute_mean(data, type = \"double\")\n",
    "\n",
    "# Print the new dataset\n",
    "print(new_data_e)\n"
   ]
  },
  {
   "attachments": {},
   "cell_type": "markdown",
   "metadata": {},
   "source": [
    "(f) Create a new data set by imputing the mode in all the columns which have integer type values."
   ]
  },
  {
   "cell_type": "code",
   "execution_count": 43,
   "metadata": {
    "vscode": {
     "languageId": "r"
    }
   },
   "outputs": [
    {
     "name": "stdout",
     "output_type": "stream",
     "text": [
      "\u001b[90m# A tibble: 204 × 26\u001b[39m\n",
      "     `3` `?`   `alfa-romero` gas   std   two   convertible rwd   front `88.60`\n",
      "   \u001b[3m\u001b[90m<dbl>\u001b[39m\u001b[23m \u001b[3m\u001b[90m<chr>\u001b[39m\u001b[23m \u001b[3m\u001b[90m<chr>\u001b[39m\u001b[23m         \u001b[3m\u001b[90m<chr>\u001b[39m\u001b[23m \u001b[3m\u001b[90m<chr>\u001b[39m\u001b[23m \u001b[3m\u001b[90m<chr>\u001b[39m\u001b[23m \u001b[3m\u001b[90m<chr>\u001b[39m\u001b[23m       \u001b[3m\u001b[90m<chr>\u001b[39m\u001b[23m \u001b[3m\u001b[90m<chr>\u001b[39m\u001b[23m   \u001b[3m\u001b[90m<dbl>\u001b[39m\u001b[23m\n",
      "\u001b[90m 1\u001b[39m     3 ?     alfa-romero   gas   std   two   convertible rwd   front    88.6\n",
      "\u001b[90m 2\u001b[39m     1 ?     alfa-romero   gas   std   two   hatchback   rwd   front    94.5\n",
      "\u001b[90m 3\u001b[39m     2 164   audi          gas   std   four  sedan       fwd   front    99.8\n",
      "\u001b[90m 4\u001b[39m     2 164   audi          gas   std   four  sedan       4wd   front    99.4\n",
      "\u001b[90m 5\u001b[39m     2 ?     audi          gas   std   two   sedan       fwd   front    99.8\n",
      "\u001b[90m 6\u001b[39m     1 158   audi          gas   std   four  sedan       fwd   front   106. \n",
      "\u001b[90m 7\u001b[39m     1 ?     audi          gas   std   four  wagon       fwd   front   106. \n",
      "\u001b[90m 8\u001b[39m     1 158   audi          gas   turbo four  sedan       fwd   front   106. \n",
      "\u001b[90m 9\u001b[39m     0 ?     audi          gas   turbo two   hatchback   4wd   front    99.5\n",
      "\u001b[90m10\u001b[39m     2 192   bmw           gas   std   two   sedan       rwd   front   101. \n",
      "\u001b[90m# ℹ 194 more rows\u001b[39m\n",
      "\u001b[90m# ℹ 16 more variables: `168.80` <dbl>, `64.10` <dbl>, `48.80` <dbl>,\u001b[39m\n",
      "\u001b[90m#   `2548` <dbl>, dohc <chr>, four <chr>, `130` <dbl>, mpfi <chr>,\u001b[39m\n",
      "\u001b[90m#   `3.47` <chr>, `2.68` <chr>, `9.00` <dbl>, `111` <chr>, `5000` <chr>,\u001b[39m\n",
      "\u001b[90m#   `21` <dbl>, `27` <dbl>, `13495` <chr>\u001b[39m\n"
     ]
    }
   ],
   "source": [
    "new_dataf <- data\n",
    "\n",
    "# Identify columns with integer type values\n",
    "integer_columns <- sapply(new_dataf, is.integer)\n",
    "\n",
    "# Impute missing values with mode for integer columns\n",
    "new_dataf[, integer_columns] <- lapply(new_dataf[, integer_columns], function(x) {\n",
    "  mode_value <- names(sort(-table(x)))[1]\n",
    "  x[is.na(x)] <- as.integer(mode_value)\n",
    "  x\n",
    "})\n",
    "print(new_dataf)\n"
   ]
  },
  {
   "attachments": {},
   "cell_type": "markdown",
   "metadata": {},
   "source": [
    "(g) Create a new data set by imputing the most frequent value to the column ”nDoors”."
   ]
  },
  {
   "cell_type": "code",
   "execution_count": 47,
   "metadata": {
    "vscode": {
     "languageId": "r"
    }
   },
   "outputs": [
    {
     "name": "stdout",
     "output_type": "stream",
     "text": [
      "NULL\n"
     ]
    }
   ],
   "source": [
    "# Create a new dataset by imputing the most frequent value to \"nDoors\"\n",
    "new_data_g <- impute_replace(data, target = \"nDoors\", method = \"mode\")\n",
    "\n",
    "# Print the new dataset\n",
    "print(new_data_g)\n",
    "\n"
   ]
  },
  {
   "attachments": {},
   "cell_type": "markdown",
   "metadata": {},
   "source": [
    "(h) Combine the three last imputations to obtain a final dataset. Are there any duplicated cases?"
   ]
  },
  {
   "cell_type": "code",
   "execution_count": 49,
   "metadata": {
    "vscode": {
     "languageId": "r"
    }
   },
   "outputs": [
    {
     "name": "stdout",
     "output_type": "stream",
     "text": [
      "\u001b[90m# A tibble: 1 × 1\u001b[39m\n",
      "      n\n",
      "  \u001b[3m\u001b[90m<int>\u001b[39m\u001b[23m\n",
      "\u001b[90m1\u001b[39m   204\n"
     ]
    }
   ],
   "source": [
    "# Combine the three imputed datasets into a final dataset\n",
    "final_data <- bind_cols(new_data_e, new_dataf, new_data_g)\n",
    "\n",
    "# Check for duplicated cases\n",
    "duplicated_cases <- final_data %>% distinct() %>% count()\n",
    "\n",
    "# Print the count of duplicated cases\n",
    "print(duplicated_cases)\n",
    "\n"
   ]
  },
  {
   "attachments": {},
   "cell_type": "markdown",
   "metadata": {},
   "source": [
    "**2. Data Pre-Processing**\n",
    "\n",
    "2. Load the package dlookr. Use the same car insurance data set above and apply the following transformations to the price attribute. Be critical regarding the obtained results."
   ]
  },
  {
   "cell_type": "code",
   "execution_count": 57,
   "metadata": {
    "vscode": {
     "languageId": "r"
    }
   },
   "outputs": [
    {
     "name": "stderr",
     "output_type": "stream",
     "text": [
      "Installing package into 'C:/Users/pc/AppData/Local/R/win-library/4.3'\n",
      "(as 'lib' is unspecified)\n",
      "\n"
     ]
    },
    {
     "name": "stdout",
     "output_type": "stream",
     "text": [
      "package 'dlookr' successfully unpacked and MD5 sums checked\n",
      "\n",
      "The downloaded binary packages are in\n",
      "\tC:\\Users\\pc\\AppData\\Local\\Temp\\RtmpSsQegv\\downloaded_packages\n"
     ]
    }
   ],
   "source": [
    "install.packages(\"dlookr\")"
   ]
  },
  {
   "cell_type": "code",
   "execution_count": 71,
   "metadata": {
    "vscode": {
     "languageId": "r"
    }
   },
   "outputs": [],
   "source": [
    "library(dlookr)\n"
   ]
  },
  {
   "cell_type": "code",
   "execution_count": 79,
   "metadata": {
    "vscode": {
     "languageId": "r"
    }
   },
   "outputs": [
    {
     "name": "stdout",
     "output_type": "stream",
     "text": [
      " [1] \"3\"           \"?\"           \"alfa-romero\" \"gas\"         \"std\"        \n",
      " [6] \"two\"         \"convertible\" \"rwd\"         \"front\"       \"88.60\"      \n",
      "[11] \"168.80\"      \"64.10\"       \"48.80\"       \"2548\"        \"dohc\"       \n",
      "[16] \"four\"        \"130\"         \"mpfi\"        \"3.47\"        \"2.68\"       \n",
      "[21] \"9.00\"        \"111\"         \"5000\"        \"21\"          \"27\"         \n",
      "[26] \"13495\"      \n"
     ]
    }
   ],
   "source": [
    "# Imprimir los nombres de las columnas\n",
    "print(names(data))\n",
    "#[26] es el precio, entonces seria 13495"
   ]
  },
  {
   "cell_type": "code",
   "execution_count": 81,
   "metadata": {
    "vscode": {
     "languageId": "r"
    }
   },
   "outputs": [],
   "source": [
    "# Paso 1: Cargar el conjunto de datos y asignarlo a una variable (por ejemplo, 'data')\n",
    "#DEBEMOS CAMBIAR EL NOMBRE PARA USARLO\n",
    "# Paso 2: Obtener los nombres de las columnas actuales\n",
    "column_names <- colnames(data)\n",
    "\n",
    "# Paso 3: Cambiar el nombre de la columna deseada\n",
    "column_names[26] <- \"price\"\n",
    "\n",
    "# Paso 4: Actualizar los nombres de las columnas en el conjunto de datos\n",
    "colnames(data) <- column_names\n"
   ]
  },
  {
   "cell_type": "code",
   "execution_count": 86,
   "metadata": {
    "vscode": {
     "languageId": "r"
    }
   },
   "outputs": [
    {
     "data": {
      "text/html": [
       "'character'"
      ],
      "text/latex": [
       "'character'"
      ],
      "text/markdown": [
       "'character'"
      ],
      "text/plain": [
       "[1] \"character\""
      ]
     },
     "metadata": {},
     "output_type": "display_data"
    },
    {
     "data": {
      "text/html": [
       "0"
      ],
      "text/latex": [
       "0"
      ],
      "text/markdown": [
       "0"
      ],
      "text/plain": [
       "[1] 0"
      ]
     },
     "metadata": {},
     "output_type": "display_data"
    }
   ],
   "source": [
    "# Verificar el tipo de datos de la columna \"price\"\n",
    "class(data$price)\n",
    "\n",
    "# Contar los valores faltantes en la columna \"price\"\n",
    "sum(is.na(data$price))\n"
   ]
  },
  {
   "cell_type": "code",
   "execution_count": 85,
   "metadata": {
    "vscode": {
     "languageId": "r"
    }
   },
   "outputs": [
    {
     "ename": "ERROR",
     "evalue": "Error in data$price - min(data$price): argumento no-numérico para operador binario\n",
     "output_type": "error",
     "traceback": [
      "Error in data$price - min(data$price): argumento no-numérico para operador binario\nTraceback:\n"
     ]
    }
   ],
   "source": [
    "# Range-based normalization\n",
    "range_normalized <- (data$price - min(data$price)) / (max(data$price) - min(data$price))\n",
    "\n",
    "# Z-score normalization\n",
    "zscore_normalized <- (data$price - mean(data$price)) / sd(data$price)\n",
    "\n",
    "# Print the results\n",
    "print(range_normalized)\n",
    "print(zscore_normalized)\n",
    "\n",
    "\n"
   ]
  }
 ],
 "metadata": {
  "kernelspec": {
   "display_name": "R",
   "language": "R",
   "name": "ir"
  },
  "language_info": {
   "codemirror_mode": "r",
   "file_extension": ".r",
   "mimetype": "text/x-r-source",
   "name": "R",
   "pygments_lexer": "r",
   "version": "4.3.0"
  },
  "orig_nbformat": 4
 },
 "nbformat": 4,
 "nbformat_minor": 2
}
