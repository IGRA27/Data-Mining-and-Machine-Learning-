{
 "cells": [
  {
   "attachments": {},
   "cell_type": "markdown",
   "metadata": {},
   "source": [
    "Isaac Reyes\n",
    "\n",
    "***2 Hands On: Data Quality and Pre-Processing***\n",
    "\n",
    "***1. Assessing Data Quality***\n",
    "\n",
    "**Load the following packages: dplyr, na.tools, tidyimpute (version from github decisionpatterns/tidyimpute”)**\n",
    "\n",
    "*Load the car Insurance data set about the insurance risk rating of cars based on several characteristics of each car*"
   ]
  },
  {
   "cell_type": "code",
   "execution_count": 3,
   "metadata": {
    "vscode": {
     "languageId": "r"
    }
   },
   "outputs": [
    {
     "name": "stderr",
     "output_type": "stream",
     "text": [
      "Installing package into 'C:/Users/pc/AppData/Local/R/win-library/4.3'\n",
      "(as 'lib' is unspecified)\n",
      "\n"
     ]
    },
    {
     "name": "stdout",
     "output_type": "stream",
     "text": [
      "package 'dplyr' successfully unpacked and MD5 sums checked\n"
     ]
    },
    {
     "name": "stderr",
     "output_type": "stream",
     "text": [
      "Warning message:\n",
      "\"cannot remove prior installation of package 'dplyr'\"\n",
      "Warning message in file.copy(savedcopy, lib, recursive = TRUE):\n",
      "\"problema al copiar C:\\Users\\pc\\AppData\\Local\\R\\win-library\\4.3\\00LOCK\\dplyr\\libs\\x64\\dplyr.dll  a C:\\Users\\pc\\AppData\\Local\\R\\win-library\\4.3\\dplyr\\libs\\x64\\dplyr.dll: Permission denied\"\n",
      "Warning message:\n",
      "\"restored 'dplyr'\"\n"
     ]
    },
    {
     "name": "stdout",
     "output_type": "stream",
     "text": [
      "\n",
      "The downloaded binary packages are in\n",
      "\tC:\\Users\\pc\\AppData\\Local\\Temp\\Rtmp4K00Q1\\downloaded_packages\n"
     ]
    },
    {
     "name": "stderr",
     "output_type": "stream",
     "text": [
      "Installing package into 'C:/Users/pc/AppData/Local/R/win-library/4.3'\n",
      "(as 'lib' is unspecified)\n",
      "\n"
     ]
    },
    {
     "name": "stdout",
     "output_type": "stream",
     "text": [
      "package 'na.tools' successfully unpacked and MD5 sums checked\n",
      "\n",
      "The downloaded binary packages are in\n",
      "\tC:\\Users\\pc\\AppData\\Local\\Temp\\Rtmp4K00Q1\\downloaded_packages\n"
     ]
    },
    {
     "name": "stderr",
     "output_type": "stream",
     "text": [
      "Installing package into 'C:/Users/pc/AppData/Local/R/win-library/4.3'\n",
      "(as 'lib' is unspecified)\n",
      "\n"
     ]
    },
    {
     "name": "stdout",
     "output_type": "stream",
     "text": [
      "package 'remotes' successfully unpacked and MD5 sums checked\n",
      "\n",
      "The downloaded binary packages are in\n",
      "\tC:\\Users\\pc\\AppData\\Local\\Temp\\Rtmp4K00Q1\\downloaded_packages\n"
     ]
    },
    {
     "name": "stderr",
     "output_type": "stream",
     "text": [
      "Downloading GitHub repo decisionpatterns/tidyimpute@HEAD\n",
      "\n"
     ]
    },
    {
     "name": "stdout",
     "output_type": "stream",
     "text": [
      "\n",
      "\u001b[36m──\u001b[39m \u001b[36mR CMD build\u001b[39m \u001b[36m─────────────────────────────────────────────────────────────────\u001b[39m\n",
      "* checking for file 'C:\\Users\\pc\\AppData\\Local\\Temp\\Rtmp4K00Q1\\remotes4de05df517f1\\decisionpatterns-tidyimpute-9e07748/DESCRIPTION' ... OK\n",
      "* preparing 'tidyimpute':\n",
      "* checking DESCRIPTION meta-information ... OK\n",
      "* checking for LF line-endings in source and make files and shell scripts\n",
      "* checking for empty or unneeded directories\n",
      "* building 'tidyimpute_0.2.0.tar.gz'\n",
      "\n"
     ]
    },
    {
     "name": "stderr",
     "output_type": "stream",
     "text": [
      "Installing package into 'C:/Users/pc/AppData/Local/R/win-library/4.3'\n",
      "(as 'lib' is unspecified)\n",
      "\n"
     ]
    }
   ],
   "source": [
    "install.packages(\"dplyr\")\n",
    "install.packages(\"na.tools\")\n",
    "install.packages(\"remotes\")  # Required for installing packages from GitHub\n",
    "remotes::install_github(\"decisionpatterns/tidyimpute\", force=TRUE)"
   ]
  },
  {
   "cell_type": "code",
   "execution_count": 4,
   "metadata": {
    "vscode": {
     "languageId": "r"
    }
   },
   "outputs": [
    {
     "name": "stderr",
     "output_type": "stream",
     "text": [
      "\n",
      "Attaching package: 'dplyr'\n",
      "\n",
      "\n",
      "The following objects are masked from 'package:stats':\n",
      "\n",
      "    filter, lag\n",
      "\n",
      "\n",
      "The following objects are masked from 'package:base':\n",
      "\n",
      "    intersect, setdiff, setequal, union\n",
      "\n",
      "\n"
     ]
    }
   ],
   "source": [
    "library(dplyr)\n",
    "library(na.tools)\n",
    "library(tidyimpute)\n",
    "#cargamos librerias"
   ]
  },
  {
   "cell_type": "code",
   "execution_count": 1,
   "metadata": {
    "vscode": {
     "languageId": "r"
    }
   },
   "outputs": [
    {
     "name": "stderr",
     "output_type": "stream",
     "text": [
      "Installing package into 'C:/Users/pc/AppData/Local/R/win-library/4.3'\n",
      "(as 'lib' is unspecified)\n",
      "\n"
     ]
    },
    {
     "name": "stdout",
     "output_type": "stream",
     "text": [
      "package 'devtools' successfully unpacked and MD5 sums checked\n",
      "\n",
      "The downloaded binary packages are in\n",
      "\tC:\\Users\\pc\\AppData\\Local\\Temp\\Rtmp4K00Q1\\downloaded_packages\n"
     ]
    },
    {
     "name": "stderr",
     "output_type": "stream",
     "text": [
      "Installing package into 'C:/Users/pc/AppData/Local/R/win-library/4.3'\n",
      "(as 'lib' is unspecified)\n",
      "\n"
     ]
    },
    {
     "name": "stdout",
     "output_type": "stream",
     "text": [
      "package 'lifecycle' successfully unpacked and MD5 sums checked\n",
      "\n",
      "The downloaded binary packages are in\n",
      "\tC:\\Users\\pc\\AppData\\Local\\Temp\\Rtmp4K00Q1\\downloaded_packages\n"
     ]
    },
    {
     "name": "stderr",
     "output_type": "stream",
     "text": [
      "Loading required package: usethis\n",
      "\n"
     ]
    }
   ],
   "source": [
    "# Instalar paquete devtools\n",
    "install.packages(\"devtools\")\n",
    "\n",
    "#Instalar paquete necesario para dplyr\n",
    "install.packages('lifecycle')\n",
    "\n",
    "library(devtools)"
   ]
  },
  {
   "cell_type": "code",
   "execution_count": 9,
   "metadata": {
    "vscode": {
     "languageId": "r"
    }
   },
   "outputs": [
    {
     "name": "stderr",
     "output_type": "stream",
     "text": [
      "Warning message:\n",
      "\"package 'readr' is in use and will not be installed\"\n"
     ]
    }
   ],
   "source": [
    "install.packages(\"readr\") #en caso de necesitar instalar\n",
    "library(readr)\n",
    "# Cargar el archivo imports-85.data\n",
    "data <- read.csv(\"/Users/pc/Desktop/Universidad/6 semestre/Machine Learning & Data Mining/Deberes/2 Hands On Data Quality and Pre-Processing/data/imports-85.data\")\n",
    "\n"
   ]
  },
  {
   "cell_type": "code",
   "execution_count": 13,
   "metadata": {
    "vscode": {
     "languageId": "r"
    }
   },
   "outputs": [
    {
     "data": {
      "text/plain": [
       "                                              \n",
       "1 function (x, df1, df2, ncp, log = FALSE)    \n",
       "2 {                                           \n",
       "3     if (missing(ncp))                       \n",
       "4         .Call(C_df, x, df1, df2, log)       \n",
       "5     else .Call(C_dnf, x, df1, df2, ncp, log)\n",
       "6 }                                           "
      ]
     },
     "metadata": {},
     "output_type": "display_data"
    }
   ],
   "source": [
    "head(df) #imprimimos los valores columnas para cambiar nombres"
   ]
  },
  {
   "attachments": {},
   "cell_type": "markdown",
   "metadata": {},
   "source": [
    "(a) Check if there are any missing values."
   ]
  },
  {
   "cell_type": "code",
   "execution_count": 14,
   "metadata": {
    "vscode": {
     "languageId": "r"
    }
   },
   "outputs": [
    {
     "data": {
      "text/html": [
       "<table class=\"dataframe\">\n",
       "<caption>A data.frame: 6 × 26</caption>\n",
       "<thead>\n",
       "\t<tr><th></th><th scope=col>symboling</th><th scope=col>normalized-losses</th><th scope=col>make</th><th scope=col>fuel-type</th><th scope=col>aspiration</th><th scope=col>num-of-doors</th><th scope=col>body-style</th><th scope=col>drive-wheels</th><th scope=col>engine-location</th><th scope=col>wheel-base</th><th scope=col>⋯</th><th scope=col>engine-size</th><th scope=col>fuel-system</th><th scope=col>bore</th><th scope=col>stroke</th><th scope=col>compression-ratio</th><th scope=col>horsepower</th><th scope=col>peak-rpm</th><th scope=col>city-mpg</th><th scope=col>highway-mpg</th><th scope=col>price</th></tr>\n",
       "\t<tr><th></th><th scope=col>&lt;int&gt;</th><th scope=col>&lt;chr&gt;</th><th scope=col>&lt;chr&gt;</th><th scope=col>&lt;chr&gt;</th><th scope=col>&lt;chr&gt;</th><th scope=col>&lt;chr&gt;</th><th scope=col>&lt;chr&gt;</th><th scope=col>&lt;chr&gt;</th><th scope=col>&lt;chr&gt;</th><th scope=col>&lt;dbl&gt;</th><th scope=col>⋯</th><th scope=col>&lt;int&gt;</th><th scope=col>&lt;chr&gt;</th><th scope=col>&lt;chr&gt;</th><th scope=col>&lt;chr&gt;</th><th scope=col>&lt;dbl&gt;</th><th scope=col>&lt;chr&gt;</th><th scope=col>&lt;chr&gt;</th><th scope=col>&lt;int&gt;</th><th scope=col>&lt;int&gt;</th><th scope=col>&lt;chr&gt;</th></tr>\n",
       "</thead>\n",
       "<tbody>\n",
       "\t<tr><th scope=row>1</th><td>3</td><td>?  </td><td>alfa-romero</td><td>gas</td><td>std</td><td>two </td><td>convertible</td><td>rwd</td><td>front</td><td> 88.6</td><td>⋯</td><td>130</td><td>mpfi</td><td>3.47</td><td>2.68</td><td> 9.0</td><td>111</td><td>5000</td><td>21</td><td>27</td><td>16500</td></tr>\n",
       "\t<tr><th scope=row>2</th><td>1</td><td>?  </td><td>alfa-romero</td><td>gas</td><td>std</td><td>two </td><td>hatchback  </td><td>rwd</td><td>front</td><td> 94.5</td><td>⋯</td><td>152</td><td>mpfi</td><td>2.68</td><td>3.47</td><td> 9.0</td><td>154</td><td>5000</td><td>19</td><td>26</td><td>16500</td></tr>\n",
       "\t<tr><th scope=row>3</th><td>2</td><td>164</td><td>audi       </td><td>gas</td><td>std</td><td>four</td><td>sedan      </td><td>fwd</td><td>front</td><td> 99.8</td><td>⋯</td><td>109</td><td>mpfi</td><td>3.19</td><td>3.40</td><td>10.0</td><td>102</td><td>5500</td><td>24</td><td>30</td><td>13950</td></tr>\n",
       "\t<tr><th scope=row>4</th><td>2</td><td>164</td><td>audi       </td><td>gas</td><td>std</td><td>four</td><td>sedan      </td><td>4wd</td><td>front</td><td> 99.4</td><td>⋯</td><td>136</td><td>mpfi</td><td>3.19</td><td>3.40</td><td> 8.0</td><td>115</td><td>5500</td><td>18</td><td>22</td><td>17450</td></tr>\n",
       "\t<tr><th scope=row>5</th><td>2</td><td>?  </td><td>audi       </td><td>gas</td><td>std</td><td>two </td><td>sedan      </td><td>fwd</td><td>front</td><td> 99.8</td><td>⋯</td><td>136</td><td>mpfi</td><td>3.19</td><td>3.40</td><td> 8.5</td><td>110</td><td>5500</td><td>19</td><td>25</td><td>15250</td></tr>\n",
       "\t<tr><th scope=row>6</th><td>1</td><td>158</td><td>audi       </td><td>gas</td><td>std</td><td>four</td><td>sedan      </td><td>fwd</td><td>front</td><td>105.8</td><td>⋯</td><td>136</td><td>mpfi</td><td>3.19</td><td>3.40</td><td> 8.5</td><td>110</td><td>5500</td><td>19</td><td>25</td><td>17710</td></tr>\n",
       "</tbody>\n",
       "</table>\n"
      ],
      "text/latex": [
       "A data.frame: 6 × 26\n",
       "\\begin{tabular}{r|lllllllllllllllllllll}\n",
       "  & symboling & normalized-losses & make & fuel-type & aspiration & num-of-doors & body-style & drive-wheels & engine-location & wheel-base & ⋯ & engine-size & fuel-system & bore & stroke & compression-ratio & horsepower & peak-rpm & city-mpg & highway-mpg & price\\\\\n",
       "  & <int> & <chr> & <chr> & <chr> & <chr> & <chr> & <chr> & <chr> & <chr> & <dbl> & ⋯ & <int> & <chr> & <chr> & <chr> & <dbl> & <chr> & <chr> & <int> & <int> & <chr>\\\\\n",
       "\\hline\n",
       "\t1 & 3 & ?   & alfa-romero & gas & std & two  & convertible & rwd & front &  88.6 & ⋯ & 130 & mpfi & 3.47 & 2.68 &  9.0 & 111 & 5000 & 21 & 27 & 16500\\\\\n",
       "\t2 & 1 & ?   & alfa-romero & gas & std & two  & hatchback   & rwd & front &  94.5 & ⋯ & 152 & mpfi & 2.68 & 3.47 &  9.0 & 154 & 5000 & 19 & 26 & 16500\\\\\n",
       "\t3 & 2 & 164 & audi        & gas & std & four & sedan       & fwd & front &  99.8 & ⋯ & 109 & mpfi & 3.19 & 3.40 & 10.0 & 102 & 5500 & 24 & 30 & 13950\\\\\n",
       "\t4 & 2 & 164 & audi        & gas & std & four & sedan       & 4wd & front &  99.4 & ⋯ & 136 & mpfi & 3.19 & 3.40 &  8.0 & 115 & 5500 & 18 & 22 & 17450\\\\\n",
       "\t5 & 2 & ?   & audi        & gas & std & two  & sedan       & fwd & front &  99.8 & ⋯ & 136 & mpfi & 3.19 & 3.40 &  8.5 & 110 & 5500 & 19 & 25 & 15250\\\\\n",
       "\t6 & 1 & 158 & audi        & gas & std & four & sedan       & fwd & front & 105.8 & ⋯ & 136 & mpfi & 3.19 & 3.40 &  8.5 & 110 & 5500 & 19 & 25 & 17710\\\\\n",
       "\\end{tabular}\n"
      ],
      "text/markdown": [
       "\n",
       "A data.frame: 6 × 26\n",
       "\n",
       "| <!--/--> | symboling &lt;int&gt; | normalized-losses &lt;chr&gt; | make &lt;chr&gt; | fuel-type &lt;chr&gt; | aspiration &lt;chr&gt; | num-of-doors &lt;chr&gt; | body-style &lt;chr&gt; | drive-wheels &lt;chr&gt; | engine-location &lt;chr&gt; | wheel-base &lt;dbl&gt; | ⋯ ⋯ | engine-size &lt;int&gt; | fuel-system &lt;chr&gt; | bore &lt;chr&gt; | stroke &lt;chr&gt; | compression-ratio &lt;dbl&gt; | horsepower &lt;chr&gt; | peak-rpm &lt;chr&gt; | city-mpg &lt;int&gt; | highway-mpg &lt;int&gt; | price &lt;chr&gt; |\n",
       "|---|---|---|---|---|---|---|---|---|---|---|---|---|---|---|---|---|---|---|---|---|---|\n",
       "| 1 | 3 | ?   | alfa-romero | gas | std | two  | convertible | rwd | front |  88.6 | ⋯ | 130 | mpfi | 3.47 | 2.68 |  9.0 | 111 | 5000 | 21 | 27 | 16500 |\n",
       "| 2 | 1 | ?   | alfa-romero | gas | std | two  | hatchback   | rwd | front |  94.5 | ⋯ | 152 | mpfi | 2.68 | 3.47 |  9.0 | 154 | 5000 | 19 | 26 | 16500 |\n",
       "| 3 | 2 | 164 | audi        | gas | std | four | sedan       | fwd | front |  99.8 | ⋯ | 109 | mpfi | 3.19 | 3.40 | 10.0 | 102 | 5500 | 24 | 30 | 13950 |\n",
       "| 4 | 2 | 164 | audi        | gas | std | four | sedan       | 4wd | front |  99.4 | ⋯ | 136 | mpfi | 3.19 | 3.40 |  8.0 | 115 | 5500 | 18 | 22 | 17450 |\n",
       "| 5 | 2 | ?   | audi        | gas | std | two  | sedan       | fwd | front |  99.8 | ⋯ | 136 | mpfi | 3.19 | 3.40 |  8.5 | 110 | 5500 | 19 | 25 | 15250 |\n",
       "| 6 | 1 | 158 | audi        | gas | std | four | sedan       | fwd | front | 105.8 | ⋯ | 136 | mpfi | 3.19 | 3.40 |  8.5 | 110 | 5500 | 19 | 25 | 17710 |\n",
       "\n"
      ],
      "text/plain": [
       "  symboling normalized-losses make        fuel-type aspiration num-of-doors\n",
       "1 3         ?                 alfa-romero gas       std        two         \n",
       "2 1         ?                 alfa-romero gas       std        two         \n",
       "3 2         164               audi        gas       std        four        \n",
       "4 2         164               audi        gas       std        four        \n",
       "5 2         ?                 audi        gas       std        two         \n",
       "6 1         158               audi        gas       std        four        \n",
       "  body-style  drive-wheels engine-location wheel-base ⋯ engine-size fuel-system\n",
       "1 convertible rwd          front            88.6      ⋯ 130         mpfi       \n",
       "2 hatchback   rwd          front            94.5      ⋯ 152         mpfi       \n",
       "3 sedan       fwd          front            99.8      ⋯ 109         mpfi       \n",
       "4 sedan       4wd          front            99.4      ⋯ 136         mpfi       \n",
       "5 sedan       fwd          front            99.8      ⋯ 136         mpfi       \n",
       "6 sedan       fwd          front           105.8      ⋯ 136         mpfi       \n",
       "  bore stroke compression-ratio horsepower peak-rpm city-mpg highway-mpg price\n",
       "1 3.47 2.68    9.0              111        5000     21       27          16500\n",
       "2 2.68 3.47    9.0              154        5000     19       26          16500\n",
       "3 3.19 3.40   10.0              102        5500     24       30          13950\n",
       "4 3.19 3.40    8.0              115        5500     18       22          17450\n",
       "5 3.19 3.40    8.5              110        5500     19       25          15250\n",
       "6 3.19 3.40    8.5              110        5500     19       25          17710"
      ]
     },
     "metadata": {},
     "output_type": "display_data"
    }
   ],
   "source": [
    "# Vector de nombres de las columnas\n",
    "names <- c(\"symboling\", \"normalized-losses\", \"make\", \n",
    "             \"fuel-type\", \"aspiration\", \"num-of-doors\", \n",
    "             \"body-style\", \"drive-wheels\", \"engine-location\",\n",
    "            \"wheel-base\", \"length\", \"width\", \"height\", \"curb-weight\",\n",
    "            \"engine-type\", \"num-of-cylinders\", \"engine-size\", \"fuel-system\",\n",
    "            \"bore\", \"stroke\", \"compression-ratio\", \"horsepower\",\n",
    "            \"peak-rpm\", \"city-mpg\", \"highway-mpg\", \"price\")  # Agrega los nombres deseados para cada columna\n",
    "\n",
    "# Asignar los nombres a las columnas del dataframe\n",
    "colnames(data) <- names\n",
    "\n",
    "head(data)"
   ]
  },
  {
   "cell_type": "code",
   "execution_count": 15,
   "metadata": {
    "vscode": {
     "languageId": "r"
    }
   },
   "outputs": [
    {
     "data": {
      "text/html": [
       "FALSE"
      ],
      "text/latex": [
       "FALSE"
      ],
      "text/markdown": [
       "FALSE"
      ],
      "text/plain": [
       "[1] FALSE"
      ]
     },
     "metadata": {},
     "output_type": "display_data"
    }
   ],
   "source": [
    "anyNA(data)"
   ]
  },
  {
   "attachments": {},
   "cell_type": "markdown",
   "metadata": {},
   "source": [
    "(b) Count the number of cases that have, at least, one missing value."
   ]
  },
  {
   "cell_type": "code",
   "execution_count": 24,
   "metadata": {
    "vscode": {
     "languageId": "r"
    }
   },
   "outputs": [],
   "source": [
    "library(magrittr) #pipe R"
   ]
  },
  {
   "cell_type": "code",
   "execution_count": 17,
   "metadata": {
    "vscode": {
     "languageId": "r"
    }
   },
   "outputs": [
    {
     "name": "stdout",
     "output_type": "stream",
     "text": [
      "  any_missing\n",
      "1       FALSE\n"
     ]
    }
   ],
   "source": [
    "# Check for missing values\n",
    "missing_values <- data %>% \n",
    "  summarise(any_missing = any_na(.))\n",
    "#USAMOS EL TIP DE ANY_NA DEL PDF\n",
    "# Print the result\n",
    "print(missing_values)\n"
   ]
  },
  {
   "cell_type": "code",
   "execution_count": 18,
   "metadata": {
    "vscode": {
     "languageId": "r"
    }
   },
   "outputs": [
    {
     "name": "stdout",
     "output_type": "stream",
     "text": [
      "[1] FALSE\n"
     ]
    }
   ],
   "source": [
    "missing_values <- any_na(data) #usamos el tip, y cargamos de ahi para imprimir\n",
    "print(missing_values)"
   ]
  },
  {
   "cell_type": "code",
   "execution_count": 25,
   "metadata": {
    "vscode": {
     "languageId": "r"
    }
   },
   "outputs": [
    {
     "name": "stdout",
     "output_type": "stream",
     "text": [
      "        symboling normalized-losses              make         fuel-type \n",
      "                0                 0                 0                 0 \n",
      "       aspiration      num-of-doors        body-style      drive-wheels \n",
      "                0                 0                 0                 0 \n",
      "  engine-location        wheel-base            length             width \n",
      "                0                 0                 0                 0 \n",
      "           height       curb-weight       engine-type  num-of-cylinders \n",
      "                0                 0                 0                 0 \n",
      "      engine-size       fuel-system              bore            stroke \n",
      "                0                 0                 0                 0 \n",
      "compression-ratio        horsepower          peak-rpm          city-mpg \n",
      "                0                 0                 0                 0 \n",
      "      highway-mpg             price \n",
      "                0                 0 \n"
     ]
    }
   ],
   "source": [
    "missing_values <-colSums(is.na(data)) #contar valores nulos por columna\n",
    "#imprimir nulos por columna\n",
    "print(missing_values)"
   ]
  },
  {
   "attachments": {},
   "cell_type": "markdown",
   "metadata": {},
   "source": [
    "***NO HAY VALORES NULOS, SOLO ?, CONTAR ESOS VALORES***"
   ]
  },
  {
   "cell_type": "code",
   "execution_count": 28,
   "metadata": {
    "vscode": {
     "languageId": "r"
    }
   },
   "outputs": [
    {
     "name": "stdout",
     "output_type": "stream",
     "text": [
      "        symboling normalized-losses              make         fuel-type \n",
      "                0                40                 0                 0 \n",
      "       aspiration      num-of-doors        body-style      drive-wheels \n",
      "                0                 2                 0                 0 \n",
      "  engine-location        wheel-base            length             width \n",
      "                0                 0                 0                 0 \n",
      "           height       curb-weight       engine-type  num-of-cylinders \n",
      "                0                 0                 0                 0 \n",
      "      engine-size       fuel-system              bore            stroke \n",
      "                0                 0                 4                 4 \n",
      "compression-ratio        horsepower          peak-rpm          city-mpg \n",
      "                0                 2                 2                 0 \n",
      "      highway-mpg             price \n",
      "                0                 4 \n"
     ]
    }
   ],
   "source": [
    "# Contar valores iguales a \"?\" por columna\n",
    "nulos <- colSums(data == \"?\", na.rm = FALSE)\n",
    "\n",
    "# Imprimir los valores iguales a \"?\" por columna\n",
    "print(nulos)\n"
   ]
  },
  {
   "attachments": {},
   "cell_type": "markdown",
   "metadata": {},
   "source": [
    "(c) Create a new data set by removing all the cases that have missing values."
   ]
  },
  {
   "attachments": {},
   "cell_type": "markdown",
   "metadata": {},
   "source": [
    "use drop_rows_any_na()"
   ]
  },
  {
   "cell_type": "code",
   "execution_count": 31,
   "metadata": {
    "vscode": {
     "languageId": "r"
    }
   },
   "outputs": [
    {
     "data": {
      "text/html": [
       "<table class=\"dataframe\">\n",
       "<caption>A data.frame: 6 × 26</caption>\n",
       "<thead>\n",
       "\t<tr><th></th><th scope=col>symboling</th><th scope=col>normalized-losses</th><th scope=col>make</th><th scope=col>fuel-type</th><th scope=col>aspiration</th><th scope=col>num-of-doors</th><th scope=col>body-style</th><th scope=col>drive-wheels</th><th scope=col>engine-location</th><th scope=col>wheel-base</th><th scope=col>⋯</th><th scope=col>engine-size</th><th scope=col>fuel-system</th><th scope=col>bore</th><th scope=col>stroke</th><th scope=col>compression-ratio</th><th scope=col>horsepower</th><th scope=col>peak-rpm</th><th scope=col>city-mpg</th><th scope=col>highway-mpg</th><th scope=col>price</th></tr>\n",
       "\t<tr><th></th><th scope=col>&lt;int&gt;</th><th scope=col>&lt;chr&gt;</th><th scope=col>&lt;chr&gt;</th><th scope=col>&lt;chr&gt;</th><th scope=col>&lt;chr&gt;</th><th scope=col>&lt;chr&gt;</th><th scope=col>&lt;chr&gt;</th><th scope=col>&lt;chr&gt;</th><th scope=col>&lt;chr&gt;</th><th scope=col>&lt;dbl&gt;</th><th scope=col>⋯</th><th scope=col>&lt;int&gt;</th><th scope=col>&lt;chr&gt;</th><th scope=col>&lt;chr&gt;</th><th scope=col>&lt;chr&gt;</th><th scope=col>&lt;dbl&gt;</th><th scope=col>&lt;chr&gt;</th><th scope=col>&lt;chr&gt;</th><th scope=col>&lt;int&gt;</th><th scope=col>&lt;int&gt;</th><th scope=col>&lt;chr&gt;</th></tr>\n",
       "</thead>\n",
       "<tbody>\n",
       "\t<tr><th scope=row>3</th><td>2</td><td>164</td><td>audi</td><td>gas</td><td>std  </td><td>four</td><td>sedan</td><td>fwd</td><td>front</td><td> 99.8</td><td>⋯</td><td>109</td><td>mpfi</td><td>3.19</td><td>3.40</td><td>10.0</td><td>102</td><td>5500</td><td>24</td><td>30</td><td>13950</td></tr>\n",
       "\t<tr><th scope=row>4</th><td>2</td><td>164</td><td>audi</td><td>gas</td><td>std  </td><td>four</td><td>sedan</td><td>4wd</td><td>front</td><td> 99.4</td><td>⋯</td><td>136</td><td>mpfi</td><td>3.19</td><td>3.40</td><td> 8.0</td><td>115</td><td>5500</td><td>18</td><td>22</td><td>17450</td></tr>\n",
       "\t<tr><th scope=row>6</th><td>1</td><td>158</td><td>audi</td><td>gas</td><td>std  </td><td>four</td><td>sedan</td><td>fwd</td><td>front</td><td>105.8</td><td>⋯</td><td>136</td><td>mpfi</td><td>3.19</td><td>3.40</td><td> 8.5</td><td>110</td><td>5500</td><td>19</td><td>25</td><td>17710</td></tr>\n",
       "\t<tr><th scope=row>8</th><td>1</td><td>158</td><td>audi</td><td>gas</td><td>turbo</td><td>four</td><td>sedan</td><td>fwd</td><td>front</td><td>105.8</td><td>⋯</td><td>131</td><td>mpfi</td><td>3.13</td><td>3.40</td><td> 8.3</td><td>140</td><td>5500</td><td>17</td><td>20</td><td>23875</td></tr>\n",
       "\t<tr><th scope=row>10</th><td>2</td><td>192</td><td>bmw </td><td>gas</td><td>std  </td><td>two </td><td>sedan</td><td>rwd</td><td>front</td><td>101.2</td><td>⋯</td><td>108</td><td>mpfi</td><td>3.50</td><td>2.80</td><td> 8.8</td><td>101</td><td>5800</td><td>23</td><td>29</td><td>16430</td></tr>\n",
       "\t<tr><th scope=row>11</th><td>0</td><td>192</td><td>bmw </td><td>gas</td><td>std  </td><td>four</td><td>sedan</td><td>rwd</td><td>front</td><td>101.2</td><td>⋯</td><td>108</td><td>mpfi</td><td>3.50</td><td>2.80</td><td> 8.8</td><td>101</td><td>5800</td><td>23</td><td>29</td><td>16925</td></tr>\n",
       "</tbody>\n",
       "</table>\n"
      ],
      "text/latex": [
       "A data.frame: 6 × 26\n",
       "\\begin{tabular}{r|lllllllllllllllllllll}\n",
       "  & symboling & normalized-losses & make & fuel-type & aspiration & num-of-doors & body-style & drive-wheels & engine-location & wheel-base & ⋯ & engine-size & fuel-system & bore & stroke & compression-ratio & horsepower & peak-rpm & city-mpg & highway-mpg & price\\\\\n",
       "  & <int> & <chr> & <chr> & <chr> & <chr> & <chr> & <chr> & <chr> & <chr> & <dbl> & ⋯ & <int> & <chr> & <chr> & <chr> & <dbl> & <chr> & <chr> & <int> & <int> & <chr>\\\\\n",
       "\\hline\n",
       "\t3 & 2 & 164 & audi & gas & std   & four & sedan & fwd & front &  99.8 & ⋯ & 109 & mpfi & 3.19 & 3.40 & 10.0 & 102 & 5500 & 24 & 30 & 13950\\\\\n",
       "\t4 & 2 & 164 & audi & gas & std   & four & sedan & 4wd & front &  99.4 & ⋯ & 136 & mpfi & 3.19 & 3.40 &  8.0 & 115 & 5500 & 18 & 22 & 17450\\\\\n",
       "\t6 & 1 & 158 & audi & gas & std   & four & sedan & fwd & front & 105.8 & ⋯ & 136 & mpfi & 3.19 & 3.40 &  8.5 & 110 & 5500 & 19 & 25 & 17710\\\\\n",
       "\t8 & 1 & 158 & audi & gas & turbo & four & sedan & fwd & front & 105.8 & ⋯ & 131 & mpfi & 3.13 & 3.40 &  8.3 & 140 & 5500 & 17 & 20 & 23875\\\\\n",
       "\t10 & 2 & 192 & bmw  & gas & std   & two  & sedan & rwd & front & 101.2 & ⋯ & 108 & mpfi & 3.50 & 2.80 &  8.8 & 101 & 5800 & 23 & 29 & 16430\\\\\n",
       "\t11 & 0 & 192 & bmw  & gas & std   & four & sedan & rwd & front & 101.2 & ⋯ & 108 & mpfi & 3.50 & 2.80 &  8.8 & 101 & 5800 & 23 & 29 & 16925\\\\\n",
       "\\end{tabular}\n"
      ],
      "text/markdown": [
       "\n",
       "A data.frame: 6 × 26\n",
       "\n",
       "| <!--/--> | symboling &lt;int&gt; | normalized-losses &lt;chr&gt; | make &lt;chr&gt; | fuel-type &lt;chr&gt; | aspiration &lt;chr&gt; | num-of-doors &lt;chr&gt; | body-style &lt;chr&gt; | drive-wheels &lt;chr&gt; | engine-location &lt;chr&gt; | wheel-base &lt;dbl&gt; | ⋯ ⋯ | engine-size &lt;int&gt; | fuel-system &lt;chr&gt; | bore &lt;chr&gt; | stroke &lt;chr&gt; | compression-ratio &lt;dbl&gt; | horsepower &lt;chr&gt; | peak-rpm &lt;chr&gt; | city-mpg &lt;int&gt; | highway-mpg &lt;int&gt; | price &lt;chr&gt; |\n",
       "|---|---|---|---|---|---|---|---|---|---|---|---|---|---|---|---|---|---|---|---|---|---|\n",
       "| 3 | 2 | 164 | audi | gas | std   | four | sedan | fwd | front |  99.8 | ⋯ | 109 | mpfi | 3.19 | 3.40 | 10.0 | 102 | 5500 | 24 | 30 | 13950 |\n",
       "| 4 | 2 | 164 | audi | gas | std   | four | sedan | 4wd | front |  99.4 | ⋯ | 136 | mpfi | 3.19 | 3.40 |  8.0 | 115 | 5500 | 18 | 22 | 17450 |\n",
       "| 6 | 1 | 158 | audi | gas | std   | four | sedan | fwd | front | 105.8 | ⋯ | 136 | mpfi | 3.19 | 3.40 |  8.5 | 110 | 5500 | 19 | 25 | 17710 |\n",
       "| 8 | 1 | 158 | audi | gas | turbo | four | sedan | fwd | front | 105.8 | ⋯ | 131 | mpfi | 3.13 | 3.40 |  8.3 | 140 | 5500 | 17 | 20 | 23875 |\n",
       "| 10 | 2 | 192 | bmw  | gas | std   | two  | sedan | rwd | front | 101.2 | ⋯ | 108 | mpfi | 3.50 | 2.80 |  8.8 | 101 | 5800 | 23 | 29 | 16430 |\n",
       "| 11 | 0 | 192 | bmw  | gas | std   | four | sedan | rwd | front | 101.2 | ⋯ | 108 | mpfi | 3.50 | 2.80 |  8.8 | 101 | 5800 | 23 | 29 | 16925 |\n",
       "\n"
      ],
      "text/plain": [
       "   symboling normalized-losses make fuel-type aspiration num-of-doors\n",
       "3  2         164               audi gas       std        four        \n",
       "4  2         164               audi gas       std        four        \n",
       "6  1         158               audi gas       std        four        \n",
       "8  1         158               audi gas       turbo      four        \n",
       "10 2         192               bmw  gas       std        two         \n",
       "11 0         192               bmw  gas       std        four        \n",
       "   body-style drive-wheels engine-location wheel-base ⋯ engine-size fuel-system\n",
       "3  sedan      fwd          front            99.8      ⋯ 109         mpfi       \n",
       "4  sedan      4wd          front            99.4      ⋯ 136         mpfi       \n",
       "6  sedan      fwd          front           105.8      ⋯ 136         mpfi       \n",
       "8  sedan      fwd          front           105.8      ⋯ 131         mpfi       \n",
       "10 sedan      rwd          front           101.2      ⋯ 108         mpfi       \n",
       "11 sedan      rwd          front           101.2      ⋯ 108         mpfi       \n",
       "   bore stroke compression-ratio horsepower peak-rpm city-mpg highway-mpg price\n",
       "3  3.19 3.40   10.0              102        5500     24       30          13950\n",
       "4  3.19 3.40    8.0              115        5500     18       22          17450\n",
       "6  3.19 3.40    8.5              110        5500     19       25          17710\n",
       "8  3.13 3.40    8.3              140        5500     17       20          23875\n",
       "10 3.50 2.80    8.8              101        5800     23       29          16430\n",
       "11 3.50 2.80    8.8              101        5800     23       29          16925"
      ]
     },
     "metadata": {},
     "output_type": "display_data"
    }
   ],
   "source": [
    "# Create a new dataset without missing values\n",
    "\n",
    "#ES DECIR SIN FILAS QUE TENGAN ?\n",
    "new_data <- data[!(apply(data, 1, function(x) any(x == \"?\"))), ]\n",
    "\n",
    "# Print the new dataset\n",
    "head(new_data)\n"
   ]
  },
  {
   "attachments": {},
   "cell_type": "markdown",
   "metadata": {},
   "source": [
    "(d) Create a new data set by imputing all the missing values with 0."
   ]
  },
  {
   "cell_type": "code",
   "execution_count": 29,
   "metadata": {
    "vscode": {
     "languageId": "r"
    }
   },
   "outputs": [
    {
     "name": "stderr",
     "output_type": "stream",
     "text": [
      "Registered S3 method overwritten by 'quantmod':\n",
      "  method            from\n",
      "  as.zoo.data.frame zoo \n",
      "\n",
      "\n",
      "Attaching package: 'imputeTS'\n",
      "\n",
      "\n",
      "The following objects are masked from 'package:na.tools':\n",
      "\n",
      "    na.mean, na.replace\n",
      "\n",
      "\n"
     ]
    }
   ],
   "source": [
    "library(imputeTS)\n",
    "#Use function impute()"
   ]
  },
  {
   "cell_type": "code",
   "execution_count": 35,
   "metadata": {
    "vscode": {
     "languageId": "r"
    }
   },
   "outputs": [
    {
     "name": "stdout",
     "output_type": "stream",
     "text": [
      "    symboling normalized-losses          make fuel-type aspiration num-of-doors\n",
      "1           3                 ?   alfa-romero       gas        std          two\n",
      "2           1                 ?   alfa-romero       gas        std          two\n",
      "3           2               164          audi       gas        std         four\n",
      "4           2               164          audi       gas        std         four\n",
      "5           2                 ?          audi       gas        std          two\n",
      "6           1               158          audi       gas        std         four\n",
      "7           1                 ?          audi       gas        std         four\n",
      "8           1               158          audi       gas      turbo         four\n",
      "9           0                 ?          audi       gas      turbo          two\n",
      "10          2               192           bmw       gas        std          two\n",
      "11          0               192           bmw       gas        std         four\n",
      "12          0               188           bmw       gas        std          two\n",
      "13          0               188           bmw       gas        std         four\n",
      "14          1                 ?           bmw       gas        std         four\n",
      "15          0                 ?           bmw       gas        std         four\n",
      "16          0                 ?           bmw       gas        std          two\n",
      "17          0                 ?           bmw       gas        std         four\n",
      "18          2               121     chevrolet       gas        std          two\n",
      "19          1                98     chevrolet       gas        std          two\n",
      "20          0                81     chevrolet       gas        std         four\n",
      "21          1               118         dodge       gas        std          two\n",
      "22          1               118         dodge       gas        std          two\n",
      "23          1               118         dodge       gas      turbo          two\n",
      "24          1               148         dodge       gas        std         four\n",
      "25          1               148         dodge       gas        std         four\n",
      "26          1               148         dodge       gas        std         four\n",
      "27          1               148         dodge       gas      turbo            ?\n",
      "28         -1               110         dodge       gas        std         four\n",
      "29          3               145         dodge       gas      turbo          two\n",
      "30          2               137         honda       gas        std          two\n",
      "31          2               137         honda       gas        std          two\n",
      "32          1               101         honda       gas        std          two\n",
      "33          1               101         honda       gas        std          two\n",
      "34          1               101         honda       gas        std          two\n",
      "35          0               110         honda       gas        std         four\n",
      "36          0                78         honda       gas        std         four\n",
      "37          0               106         honda       gas        std          two\n",
      "38          0               106         honda       gas        std          two\n",
      "39          0                85         honda       gas        std         four\n",
      "40          0                85         honda       gas        std         four\n",
      "41          0                85         honda       gas        std         four\n",
      "42          1               107         honda       gas        std          two\n",
      "43          0                 ?         isuzu       gas        std         four\n",
      "44          1                 ?         isuzu       gas        std          two\n",
      "45          0                 ?         isuzu       gas        std         four\n",
      "46          2                 ?         isuzu       gas        std          two\n",
      "47          0               145        jaguar       gas        std         four\n",
      "48          0                 ?        jaguar       gas        std         four\n",
      "49          0                 ?        jaguar       gas        std          two\n",
      "50          1               104         mazda       gas        std          two\n",
      "51          1               104         mazda       gas        std          two\n",
      "52          1               104         mazda       gas        std          two\n",
      "53          1               113         mazda       gas        std         four\n",
      "54          1               113         mazda       gas        std         four\n",
      "55          3               150         mazda       gas        std          two\n",
      "56          3               150         mazda       gas        std          two\n",
      "57          3               150         mazda       gas        std          two\n",
      "58          3               150         mazda       gas        std          two\n",
      "59          1               129         mazda       gas        std          two\n",
      "60          0               115         mazda       gas        std         four\n",
      "61          1               129         mazda       gas        std          two\n",
      "62          0               115         mazda       gas        std         four\n",
      "63          0                 ?         mazda    diesel        std            ?\n",
      "64          0               115         mazda       gas        std         four\n",
      "65          0               118         mazda       gas        std         four\n",
      "66          0                 ?         mazda    diesel        std         four\n",
      "67         -1                93 mercedes-benz    diesel      turbo         four\n",
      "68         -1                93 mercedes-benz    diesel      turbo         four\n",
      "69          0                93 mercedes-benz    diesel      turbo          two\n",
      "70         -1                93 mercedes-benz    diesel      turbo         four\n",
      "71         -1                 ? mercedes-benz       gas        std         four\n",
      "72          3               142 mercedes-benz       gas        std          two\n",
      "73          0                 ? mercedes-benz       gas        std         four\n",
      "74          1                 ? mercedes-benz       gas        std          two\n",
      "75          1                 ?       mercury       gas      turbo          two\n",
      "76          2               161    mitsubishi       gas        std          two\n",
      "77          2               161    mitsubishi       gas        std          two\n",
      "78          2               161    mitsubishi       gas        std          two\n",
      "79          1               161    mitsubishi       gas      turbo          two\n",
      "80          3               153    mitsubishi       gas      turbo          two\n",
      "81          3               153    mitsubishi       gas        std          two\n",
      "82          3                 ?    mitsubishi       gas      turbo          two\n",
      "83          3                 ?    mitsubishi       gas      turbo          two\n",
      "84          3                 ?    mitsubishi       gas      turbo          two\n",
      "85          1               125    mitsubishi       gas        std         four\n",
      "86          1               125    mitsubishi       gas        std         four\n",
      "87          1               125    mitsubishi       gas      turbo         four\n",
      "88         -1               137    mitsubishi       gas        std         four\n",
      "89          1               128        nissan       gas        std          two\n",
      "90          1               128        nissan    diesel        std          two\n",
      "91          1               128        nissan       gas        std          two\n",
      "92          1               122        nissan       gas        std         four\n",
      "93          1               103        nissan       gas        std         four\n",
      "94          1               128        nissan       gas        std          two\n",
      "95          1               128        nissan       gas        std          two\n",
      "96          1               122        nissan       gas        std         four\n",
      "97          1               103        nissan       gas        std         four\n",
      "98          2               168        nissan       gas        std          two\n",
      "99          0               106        nissan       gas        std         four\n",
      "100         0               106        nissan       gas        std         four\n",
      "101         0               128        nissan       gas        std         four\n",
      "102         0               108        nissan       gas        std         four\n",
      "103         0               108        nissan       gas        std         four\n",
      "104         3               194        nissan       gas        std          two\n",
      "105         3               194        nissan       gas      turbo          two\n",
      "106         1               231        nissan       gas        std          two\n",
      "107         0               161        peugot       gas        std         four\n",
      "108         0               161        peugot    diesel      turbo         four\n",
      "109         0                 ?        peugot       gas        std         four\n",
      "110         0                 ?        peugot    diesel      turbo         four\n",
      "111         0               161        peugot       gas        std         four\n",
      "112         0               161        peugot    diesel      turbo         four\n",
      "113         0                 ?        peugot       gas        std         four\n",
      "114         0                 ?        peugot    diesel      turbo         four\n",
      "115         0               161        peugot       gas        std         four\n",
      "116         0               161        peugot    diesel      turbo         four\n",
      "117         0               161        peugot       gas      turbo         four\n",
      "118         1               119      plymouth       gas        std          two\n",
      "119         1               119      plymouth       gas      turbo          two\n",
      "120         1               154      plymouth       gas        std         four\n",
      "121         1               154      plymouth       gas        std         four\n",
      "122         1               154      plymouth       gas        std         four\n",
      "123        -1                74      plymouth       gas        std         four\n",
      "124         3                 ?      plymouth       gas      turbo          two\n",
      "125         3               186       porsche       gas        std          two\n",
      "126         3                 ?       porsche       gas        std          two\n",
      "127         3                 ?       porsche       gas        std          two\n",
      "128         3                 ?       porsche       gas        std          two\n",
      "129         1                 ?       porsche       gas        std          two\n",
      "130         0                 ?       renault       gas        std         four\n",
      "131         2                 ?       renault       gas        std          two\n",
      "132         3               150          saab       gas        std          two\n",
      "133         2               104          saab       gas        std         four\n",
      "134         3               150          saab       gas        std          two\n",
      "135         2               104          saab       gas        std         four\n",
      "136         3               150          saab       gas      turbo          two\n",
      "137         2               104          saab       gas      turbo         four\n",
      "138         2                83        subaru       gas        std          two\n",
      "139         2                83        subaru       gas        std          two\n",
      "140         2                83        subaru       gas        std          two\n",
      "141         0               102        subaru       gas        std         four\n",
      "142         0               102        subaru       gas        std         four\n",
      "143         0               102        subaru       gas        std         four\n",
      "144         0               102        subaru       gas        std         four\n",
      "145         0               102        subaru       gas      turbo         four\n",
      "146         0                89        subaru       gas        std         four\n",
      "147         0                89        subaru       gas        std         four\n",
      "148         0                85        subaru       gas        std         four\n",
      "149         0                85        subaru       gas      turbo         four\n",
      "150         1                87        toyota       gas        std          two\n",
      "151         1                87        toyota       gas        std          two\n",
      "152         1                74        toyota       gas        std         four\n",
      "153         0                77        toyota       gas        std         four\n",
      "154         0                81        toyota       gas        std         four\n",
      "155         0                91        toyota       gas        std         four\n",
      "156         0                91        toyota       gas        std         four\n",
      "157         0                91        toyota       gas        std         four\n",
      "158         0                91        toyota    diesel        std         four\n",
      "159         0                91        toyota    diesel        std         four\n",
      "160         0                91        toyota       gas        std         four\n",
      "161         0                91        toyota       gas        std         four\n",
      "162         0                91        toyota       gas        std         four\n",
      "163         1               168        toyota       gas        std          two\n",
      "164         1               168        toyota       gas        std          two\n",
      "165         1               168        toyota       gas        std          two\n",
      "166         1               168        toyota       gas        std          two\n",
      "167         2               134        toyota       gas        std          two\n",
      "168         2               134        toyota       gas        std          two\n",
      "169         2               134        toyota       gas        std          two\n",
      "170         2               134        toyota       gas        std          two\n",
      "171         2               134        toyota       gas        std          two\n",
      "172         2               134        toyota       gas        std          two\n",
      "173        -1                65        toyota       gas        std         four\n",
      "174        -1                65        toyota    diesel      turbo         four\n",
      "175        -1                65        toyota       gas        std         four\n",
      "176        -1                65        toyota       gas        std         four\n",
      "177        -1                65        toyota       gas        std         four\n",
      "178         3               197        toyota       gas        std          two\n",
      "179         3               197        toyota       gas        std          two\n",
      "180        -1                90        toyota       gas        std         four\n",
      "181        -1                 ?        toyota       gas        std         four\n",
      "182         2               122    volkswagen    diesel        std          two\n",
      "183         2               122    volkswagen       gas        std          two\n",
      "184         2                94    volkswagen    diesel        std         four\n",
      "185         2                94    volkswagen       gas        std         four\n",
      "186         2                94    volkswagen       gas        std         four\n",
      "187         2                94    volkswagen    diesel      turbo         four\n",
      "188         2                94    volkswagen       gas        std         four\n",
      "189         3                 ?    volkswagen       gas        std          two\n",
      "190         3               256    volkswagen       gas        std          two\n",
      "191         0                 ?    volkswagen       gas        std         four\n",
      "192         0                 ?    volkswagen    diesel      turbo         four\n",
      "193         0                 ?    volkswagen       gas        std         four\n",
      "194        -2               103         volvo       gas        std         four\n",
      "195        -1                74         volvo       gas        std         four\n",
      "196        -2               103         volvo       gas        std         four\n",
      "197        -1                74         volvo       gas        std         four\n",
      "198        -2               103         volvo       gas      turbo         four\n",
      "199        -1                74         volvo       gas      turbo         four\n",
      "200        -1                95         volvo       gas        std         four\n",
      "201        -1                95         volvo       gas      turbo         four\n",
      "202        -1                95         volvo       gas        std         four\n",
      "203        -1                95         volvo    diesel      turbo         four\n",
      "204        -1                95         volvo       gas      turbo         four\n",
      "     body-style drive-wheels engine-location wheel-base length width height\n",
      "1   convertible          rwd           front       88.6  168.8  64.1   48.8\n",
      "2     hatchback          rwd           front       94.5  171.2  65.5   52.4\n",
      "3         sedan          fwd           front       99.8  176.6  66.2   54.3\n",
      "4         sedan          4wd           front       99.4  176.6  66.4   54.3\n",
      "5         sedan          fwd           front       99.8  177.3  66.3   53.1\n",
      "6         sedan          fwd           front      105.8  192.7  71.4   55.7\n",
      "7         wagon          fwd           front      105.8  192.7  71.4   55.7\n",
      "8         sedan          fwd           front      105.8  192.7  71.4   55.9\n",
      "9     hatchback          4wd           front       99.5  178.2  67.9   52.0\n",
      "10        sedan          rwd           front      101.2  176.8  64.8   54.3\n",
      "11        sedan          rwd           front      101.2  176.8  64.8   54.3\n",
      "12        sedan          rwd           front      101.2  176.8  64.8   54.3\n",
      "13        sedan          rwd           front      101.2  176.8  64.8   54.3\n",
      "14        sedan          rwd           front      103.5  189.0  66.9   55.7\n",
      "15        sedan          rwd           front      103.5  189.0  66.9   55.7\n",
      "16        sedan          rwd           front      103.5  193.8  67.9   53.7\n",
      "17        sedan          rwd           front      110.0  197.0  70.9   56.3\n",
      "18    hatchback          fwd           front       88.4  141.1  60.3   53.2\n",
      "19    hatchback          fwd           front       94.5  155.9  63.6   52.0\n",
      "20        sedan          fwd           front       94.5  158.8  63.6   52.0\n",
      "21    hatchback          fwd           front       93.7  157.3  63.8   50.8\n",
      "22    hatchback          fwd           front       93.7  157.3  63.8   50.8\n",
      "23    hatchback          fwd           front       93.7  157.3  63.8   50.8\n",
      "24    hatchback          fwd           front       93.7  157.3  63.8   50.6\n",
      "25        sedan          fwd           front       93.7  157.3  63.8   50.6\n",
      "26        sedan          fwd           front       93.7  157.3  63.8   50.6\n",
      "27        sedan          fwd           front       93.7  157.3  63.8   50.6\n",
      "28        wagon          fwd           front      103.3  174.6  64.6   59.8\n",
      "29    hatchback          fwd           front       95.9  173.2  66.3   50.2\n",
      "30    hatchback          fwd           front       86.6  144.6  63.9   50.8\n",
      "31    hatchback          fwd           front       86.6  144.6  63.9   50.8\n",
      "32    hatchback          fwd           front       93.7  150.0  64.0   52.6\n",
      "33    hatchback          fwd           front       93.7  150.0  64.0   52.6\n",
      "34    hatchback          fwd           front       93.7  150.0  64.0   52.6\n",
      "35        sedan          fwd           front       96.5  163.4  64.0   54.5\n",
      "36        wagon          fwd           front       96.5  157.1  63.9   58.3\n",
      "37    hatchback          fwd           front       96.5  167.5  65.2   53.3\n",
      "38    hatchback          fwd           front       96.5  167.5  65.2   53.3\n",
      "39        sedan          fwd           front       96.5  175.4  65.2   54.1\n",
      "40        sedan          fwd           front       96.5  175.4  62.5   54.1\n",
      "41        sedan          fwd           front       96.5  175.4  65.2   54.1\n",
      "42        sedan          fwd           front       96.5  169.1  66.0   51.0\n",
      "43        sedan          rwd           front       94.3  170.7  61.8   53.5\n",
      "44        sedan          fwd           front       94.5  155.9  63.6   52.0\n",
      "45        sedan          fwd           front       94.5  155.9  63.6   52.0\n",
      "46    hatchback          rwd           front       96.0  172.6  65.2   51.4\n",
      "47        sedan          rwd           front      113.0  199.6  69.6   52.8\n",
      "48        sedan          rwd           front      113.0  199.6  69.6   52.8\n",
      "49        sedan          rwd           front      102.0  191.7  70.6   47.8\n",
      "50    hatchback          fwd           front       93.1  159.1  64.2   54.1\n",
      "51    hatchback          fwd           front       93.1  159.1  64.2   54.1\n",
      "52    hatchback          fwd           front       93.1  159.1  64.2   54.1\n",
      "53        sedan          fwd           front       93.1  166.8  64.2   54.1\n",
      "54        sedan          fwd           front       93.1  166.8  64.2   54.1\n",
      "55    hatchback          rwd           front       95.3  169.0  65.7   49.6\n",
      "56    hatchback          rwd           front       95.3  169.0  65.7   49.6\n",
      "57    hatchback          rwd           front       95.3  169.0  65.7   49.6\n",
      "58    hatchback          rwd           front       95.3  169.0  65.7   49.6\n",
      "59    hatchback          fwd           front       98.8  177.8  66.5   53.7\n",
      "60        sedan          fwd           front       98.8  177.8  66.5   55.5\n",
      "61    hatchback          fwd           front       98.8  177.8  66.5   53.7\n",
      "62        sedan          fwd           front       98.8  177.8  66.5   55.5\n",
      "63        sedan          fwd           front       98.8  177.8  66.5   55.5\n",
      "64    hatchback          fwd           front       98.8  177.8  66.5   55.5\n",
      "65        sedan          rwd           front      104.9  175.0  66.1   54.4\n",
      "66        sedan          rwd           front      104.9  175.0  66.1   54.4\n",
      "67        sedan          rwd           front      110.0  190.9  70.3   56.5\n",
      "68        wagon          rwd           front      110.0  190.9  70.3   58.7\n",
      "69      hardtop          rwd           front      106.7  187.5  70.3   54.9\n",
      "70        sedan          rwd           front      115.6  202.6  71.7   56.3\n",
      "71        sedan          rwd           front      115.6  202.6  71.7   56.5\n",
      "72  convertible          rwd           front       96.6  180.3  70.5   50.8\n",
      "73        sedan          rwd           front      120.9  208.1  71.7   56.7\n",
      "74      hardtop          rwd           front      112.0  199.2  72.0   55.4\n",
      "75    hatchback          rwd           front      102.7  178.4  68.0   54.8\n",
      "76    hatchback          fwd           front       93.7  157.3  64.4   50.8\n",
      "77    hatchback          fwd           front       93.7  157.3  64.4   50.8\n",
      "78    hatchback          fwd           front       93.7  157.3  64.4   50.8\n",
      "79    hatchback          fwd           front       93.0  157.3  63.8   50.8\n",
      "80    hatchback          fwd           front       96.3  173.0  65.4   49.4\n",
      "81    hatchback          fwd           front       96.3  173.0  65.4   49.4\n",
      "82    hatchback          fwd           front       95.9  173.2  66.3   50.2\n",
      "83    hatchback          fwd           front       95.9  173.2  66.3   50.2\n",
      "84    hatchback          fwd           front       95.9  173.2  66.3   50.2\n",
      "85        sedan          fwd           front       96.3  172.4  65.4   51.6\n",
      "86        sedan          fwd           front       96.3  172.4  65.4   51.6\n",
      "87        sedan          fwd           front       96.3  172.4  65.4   51.6\n",
      "88        sedan          fwd           front       96.3  172.4  65.4   51.6\n",
      "89        sedan          fwd           front       94.5  165.3  63.8   54.5\n",
      "90        sedan          fwd           front       94.5  165.3  63.8   54.5\n",
      "91        sedan          fwd           front       94.5  165.3  63.8   54.5\n",
      "92        sedan          fwd           front       94.5  165.3  63.8   54.5\n",
      "93        wagon          fwd           front       94.5  170.2  63.8   53.5\n",
      "94        sedan          fwd           front       94.5  165.3  63.8   54.5\n",
      "95    hatchback          fwd           front       94.5  165.6  63.8   53.3\n",
      "96        sedan          fwd           front       94.5  165.3  63.8   54.5\n",
      "97        wagon          fwd           front       94.5  170.2  63.8   53.5\n",
      "98      hardtop          fwd           front       95.1  162.4  63.8   53.3\n",
      "99    hatchback          fwd           front       97.2  173.4  65.2   54.7\n",
      "100       sedan          fwd           front       97.2  173.4  65.2   54.7\n",
      "101       sedan          fwd           front      100.4  181.7  66.5   55.1\n",
      "102       wagon          fwd           front      100.4  184.6  66.5   56.1\n",
      "103       sedan          fwd           front      100.4  184.6  66.5   55.1\n",
      "104   hatchback          rwd           front       91.3  170.7  67.9   49.7\n",
      "105   hatchback          rwd           front       91.3  170.7  67.9   49.7\n",
      "106   hatchback          rwd           front       99.2  178.5  67.9   49.7\n",
      "107       sedan          rwd           front      107.9  186.7  68.4   56.7\n",
      "108       sedan          rwd           front      107.9  186.7  68.4   56.7\n",
      "109       wagon          rwd           front      114.2  198.9  68.4   58.7\n",
      "110       wagon          rwd           front      114.2  198.9  68.4   58.7\n",
      "111       sedan          rwd           front      107.9  186.7  68.4   56.7\n",
      "112       sedan          rwd           front      107.9  186.7  68.4   56.7\n",
      "113       wagon          rwd           front      114.2  198.9  68.4   56.7\n",
      "114       wagon          rwd           front      114.2  198.9  68.4   58.7\n",
      "115       sedan          rwd           front      107.9  186.7  68.4   56.7\n",
      "116       sedan          rwd           front      107.9  186.7  68.4   56.7\n",
      "117       sedan          rwd           front      108.0  186.7  68.3   56.0\n",
      "118   hatchback          fwd           front       93.7  157.3  63.8   50.8\n",
      "119   hatchback          fwd           front       93.7  157.3  63.8   50.8\n",
      "120   hatchback          fwd           front       93.7  157.3  63.8   50.6\n",
      "121       sedan          fwd           front       93.7  167.3  63.8   50.8\n",
      "122       sedan          fwd           front       93.7  167.3  63.8   50.8\n",
      "123       wagon          fwd           front      103.3  174.6  64.6   59.8\n",
      "124   hatchback          rwd           front       95.9  173.2  66.3   50.2\n",
      "125   hatchback          rwd           front       94.5  168.9  68.3   50.2\n",
      "126     hardtop          rwd            rear       89.5  168.9  65.0   51.6\n",
      "127     hardtop          rwd            rear       89.5  168.9  65.0   51.6\n",
      "128 convertible          rwd            rear       89.5  168.9  65.0   51.6\n",
      "129   hatchback          rwd           front       98.4  175.7  72.3   50.5\n",
      "130       wagon          fwd           front       96.1  181.5  66.5   55.2\n",
      "131   hatchback          fwd           front       96.1  176.8  66.6   50.5\n",
      "132   hatchback          fwd           front       99.1  186.6  66.5   56.1\n",
      "133       sedan          fwd           front       99.1  186.6  66.5   56.1\n",
      "134   hatchback          fwd           front       99.1  186.6  66.5   56.1\n",
      "135       sedan          fwd           front       99.1  186.6  66.5   56.1\n",
      "136   hatchback          fwd           front       99.1  186.6  66.5   56.1\n",
      "137       sedan          fwd           front       99.1  186.6  66.5   56.1\n",
      "138   hatchback          fwd           front       93.7  156.9  63.4   53.7\n",
      "139   hatchback          fwd           front       93.7  157.9  63.6   53.7\n",
      "140   hatchback          4wd           front       93.3  157.3  63.8   55.7\n",
      "141       sedan          fwd           front       97.2  172.0  65.4   52.5\n",
      "142       sedan          fwd           front       97.2  172.0  65.4   52.5\n",
      "143       sedan          fwd           front       97.2  172.0  65.4   52.5\n",
      "144       sedan          4wd           front       97.0  172.0  65.4   54.3\n",
      "145       sedan          4wd           front       97.0  172.0  65.4   54.3\n",
      "146       wagon          fwd           front       97.0  173.5  65.4   53.0\n",
      "147       wagon          fwd           front       97.0  173.5  65.4   53.0\n",
      "148       wagon          4wd           front       96.9  173.6  65.4   54.9\n",
      "149       wagon          4wd           front       96.9  173.6  65.4   54.9\n",
      "150   hatchback          fwd           front       95.7  158.7  63.6   54.5\n",
      "151   hatchback          fwd           front       95.7  158.7  63.6   54.5\n",
      "152   hatchback          fwd           front       95.7  158.7  63.6   54.5\n",
      "153       wagon          fwd           front       95.7  169.7  63.6   59.1\n",
      "154       wagon          4wd           front       95.7  169.7  63.6   59.1\n",
      "155       wagon          4wd           front       95.7  169.7  63.6   59.1\n",
      "156       sedan          fwd           front       95.7  166.3  64.4   53.0\n",
      "157   hatchback          fwd           front       95.7  166.3  64.4   52.8\n",
      "158       sedan          fwd           front       95.7  166.3  64.4   53.0\n",
      "159   hatchback          fwd           front       95.7  166.3  64.4   52.8\n",
      "160       sedan          fwd           front       95.7  166.3  64.4   53.0\n",
      "161   hatchback          fwd           front       95.7  166.3  64.4   52.8\n",
      "162       sedan          fwd           front       95.7  166.3  64.4   52.8\n",
      "163       sedan          rwd           front       94.5  168.7  64.0   52.6\n",
      "164   hatchback          rwd           front       94.5  168.7  64.0   52.6\n",
      "165       sedan          rwd           front       94.5  168.7  64.0   52.6\n",
      "166   hatchback          rwd           front       94.5  168.7  64.0   52.6\n",
      "167     hardtop          rwd           front       98.4  176.2  65.6   52.0\n",
      "168     hardtop          rwd           front       98.4  176.2  65.6   52.0\n",
      "169   hatchback          rwd           front       98.4  176.2  65.6   52.0\n",
      "170     hardtop          rwd           front       98.4  176.2  65.6   52.0\n",
      "171   hatchback          rwd           front       98.4  176.2  65.6   52.0\n",
      "172 convertible          rwd           front       98.4  176.2  65.6   53.0\n",
      "173       sedan          fwd           front      102.4  175.6  66.5   54.9\n",
      "174       sedan          fwd           front      102.4  175.6  66.5   54.9\n",
      "175   hatchback          fwd           front      102.4  175.6  66.5   53.9\n",
      "176       sedan          fwd           front      102.4  175.6  66.5   54.9\n",
      "177   hatchback          fwd           front      102.4  175.6  66.5   53.9\n",
      "178   hatchback          rwd           front      102.9  183.5  67.7   52.0\n",
      "179   hatchback          rwd           front      102.9  183.5  67.7   52.0\n",
      "180       sedan          rwd           front      104.5  187.8  66.5   54.1\n",
      "181       wagon          rwd           front      104.5  187.8  66.5   54.1\n",
      "182       sedan          fwd           front       97.3  171.7  65.5   55.7\n",
      "183       sedan          fwd           front       97.3  171.7  65.5   55.7\n",
      "184       sedan          fwd           front       97.3  171.7  65.5   55.7\n",
      "185       sedan          fwd           front       97.3  171.7  65.5   55.7\n",
      "186       sedan          fwd           front       97.3  171.7  65.5   55.7\n",
      "187       sedan          fwd           front       97.3  171.7  65.5   55.7\n",
      "188       sedan          fwd           front       97.3  171.7  65.5   55.7\n",
      "189 convertible          fwd           front       94.5  159.3  64.2   55.6\n",
      "190   hatchback          fwd           front       94.5  165.7  64.0   51.4\n",
      "191       sedan          fwd           front      100.4  180.2  66.9   55.1\n",
      "192       sedan          fwd           front      100.4  180.2  66.9   55.1\n",
      "193       wagon          fwd           front      100.4  183.1  66.9   55.1\n",
      "194       sedan          rwd           front      104.3  188.8  67.2   56.2\n",
      "195       wagon          rwd           front      104.3  188.8  67.2   57.5\n",
      "196       sedan          rwd           front      104.3  188.8  67.2   56.2\n",
      "197       wagon          rwd           front      104.3  188.8  67.2   57.5\n",
      "198       sedan          rwd           front      104.3  188.8  67.2   56.2\n",
      "199       wagon          rwd           front      104.3  188.8  67.2   57.5\n",
      "200       sedan          rwd           front      109.1  188.8  68.9   55.5\n",
      "201       sedan          rwd           front      109.1  188.8  68.8   55.5\n",
      "202       sedan          rwd           front      109.1  188.8  68.9   55.5\n",
      "203       sedan          rwd           front      109.1  188.8  68.9   55.5\n",
      "204       sedan          rwd           front      109.1  188.8  68.9   55.5\n",
      "    curb-weight engine-type num-of-cylinders engine-size fuel-system bore\n",
      "1          2548        dohc             four         130        mpfi 3.47\n",
      "2          2823        ohcv              six         152        mpfi 2.68\n",
      "3          2337         ohc             four         109        mpfi 3.19\n",
      "4          2824         ohc             five         136        mpfi 3.19\n",
      "5          2507         ohc             five         136        mpfi 3.19\n",
      "6          2844         ohc             five         136        mpfi 3.19\n",
      "7          2954         ohc             five         136        mpfi 3.19\n",
      "8          3086         ohc             five         131        mpfi 3.13\n",
      "9          3053         ohc             five         131        mpfi 3.13\n",
      "10         2395         ohc             four         108        mpfi 3.50\n",
      "11         2395         ohc             four         108        mpfi 3.50\n",
      "12         2710         ohc              six         164        mpfi 3.31\n",
      "13         2765         ohc              six         164        mpfi 3.31\n",
      "14         3055         ohc              six         164        mpfi 3.31\n",
      "15         3230         ohc              six         209        mpfi 3.62\n",
      "16         3380         ohc              six         209        mpfi 3.62\n",
      "17         3505         ohc              six         209        mpfi 3.62\n",
      "18         1488           l            three          61        2bbl 2.91\n",
      "19         1874         ohc             four          90        2bbl 3.03\n",
      "20         1909         ohc             four          90        2bbl 3.03\n",
      "21         1876         ohc             four          90        2bbl 2.97\n",
      "22         1876         ohc             four          90        2bbl 2.97\n",
      "23         2128         ohc             four          98        mpfi 3.03\n",
      "24         1967         ohc             four          90        2bbl 2.97\n",
      "25         1989         ohc             four          90        2bbl 2.97\n",
      "26         1989         ohc             four          90        2bbl 2.97\n",
      "27         2191         ohc             four          98        mpfi 3.03\n",
      "28         2535         ohc             four         122        2bbl 3.34\n",
      "29         2811         ohc             four         156         mfi 3.60\n",
      "30         1713         ohc             four          92        1bbl 2.91\n",
      "31         1819         ohc             four          92        1bbl 2.91\n",
      "32         1837         ohc             four          79        1bbl 2.91\n",
      "33         1940         ohc             four          92        1bbl 2.91\n",
      "34         1956         ohc             four          92        1bbl 2.91\n",
      "35         2010         ohc             four          92        1bbl 2.91\n",
      "36         2024         ohc             four          92        1bbl 2.92\n",
      "37         2236         ohc             four         110        1bbl 3.15\n",
      "38         2289         ohc             four         110        1bbl 3.15\n",
      "39         2304         ohc             four         110        1bbl 3.15\n",
      "40         2372         ohc             four         110        1bbl 3.15\n",
      "41         2465         ohc             four         110        mpfi 3.15\n",
      "42         2293         ohc             four         110        2bbl 3.15\n",
      "43         2337         ohc             four         111        2bbl 3.31\n",
      "44         1874         ohc             four          90        2bbl 3.03\n",
      "45         1909         ohc             four          90        2bbl 3.03\n",
      "46         2734         ohc             four         119        spfi 3.43\n",
      "47         4066        dohc              six         258        mpfi 3.63\n",
      "48         4066        dohc              six         258        mpfi 3.63\n",
      "49         3950        ohcv           twelve         326        mpfi 3.54\n",
      "50         1890         ohc             four          91        2bbl 3.03\n",
      "51         1900         ohc             four          91        2bbl 3.03\n",
      "52         1905         ohc             four          91        2bbl 3.03\n",
      "53         1945         ohc             four          91        2bbl 3.03\n",
      "54         1950         ohc             four          91        2bbl 3.08\n",
      "55         2380       rotor              two          70        4bbl    ?\n",
      "56         2380       rotor              two          70        4bbl    ?\n",
      "57         2385       rotor              two          70        4bbl    ?\n",
      "58         2500       rotor              two          80        mpfi    ?\n",
      "59         2385         ohc             four         122        2bbl 3.39\n",
      "60         2410         ohc             four         122        2bbl 3.39\n",
      "61         2385         ohc             four         122        2bbl 3.39\n",
      "62         2410         ohc             four         122        2bbl 3.39\n",
      "63         2443         ohc             four         122         idi 3.39\n",
      "64         2425         ohc             four         122        2bbl 3.39\n",
      "65         2670         ohc             four         140        mpfi 3.76\n",
      "66         2700         ohc             four         134         idi 3.43\n",
      "67         3515         ohc             five         183         idi 3.58\n",
      "68         3750         ohc             five         183         idi 3.58\n",
      "69         3495         ohc             five         183         idi 3.58\n",
      "70         3770         ohc             five         183         idi 3.58\n",
      "71         3740        ohcv            eight         234        mpfi 3.46\n",
      "72         3685        ohcv            eight         234        mpfi 3.46\n",
      "73         3900        ohcv            eight         308        mpfi 3.80\n",
      "74         3715        ohcv            eight         304        mpfi 3.80\n",
      "75         2910         ohc             four         140        mpfi 3.78\n",
      "76         1918         ohc             four          92        2bbl 2.97\n",
      "77         1944         ohc             four          92        2bbl 2.97\n",
      "78         2004         ohc             four          92        2bbl 2.97\n",
      "79         2145         ohc             four          98        spdi 3.03\n",
      "80         2370         ohc             four         110        spdi 3.17\n",
      "81         2328         ohc             four         122        2bbl 3.35\n",
      "82         2833         ohc             four         156        spdi 3.58\n",
      "83         2921         ohc             four         156        spdi 3.59\n",
      "84         2926         ohc             four         156        spdi 3.59\n",
      "85         2365         ohc             four         122        2bbl 3.35\n",
      "86         2405         ohc             four         122        2bbl 3.35\n",
      "87         2403         ohc             four         110        spdi 3.17\n",
      "88         2403         ohc             four         110        spdi 3.17\n",
      "89         1889         ohc             four          97        2bbl 3.15\n",
      "90         2017         ohc             four         103         idi 2.99\n",
      "91         1918         ohc             four          97        2bbl 3.15\n",
      "92         1938         ohc             four          97        2bbl 3.15\n",
      "93         2024         ohc             four          97        2bbl 3.15\n",
      "94         1951         ohc             four          97        2bbl 3.15\n",
      "95         2028         ohc             four          97        2bbl 3.15\n",
      "96         1971         ohc             four          97        2bbl 3.15\n",
      "97         2037         ohc             four          97        2bbl 3.15\n",
      "98         2008         ohc             four          97        2bbl 3.15\n",
      "99         2324         ohc             four         120        2bbl 3.33\n",
      "100        2302         ohc             four         120        2bbl 3.33\n",
      "101        3095        ohcv              six         181        mpfi 3.43\n",
      "102        3296        ohcv              six         181        mpfi 3.43\n",
      "103        3060        ohcv              six         181        mpfi 3.43\n",
      "104        3071        ohcv              six         181        mpfi 3.43\n",
      "105        3139        ohcv              six         181        mpfi 3.43\n",
      "106        3139        ohcv              six         181        mpfi 3.43\n",
      "107        3020           l             four         120        mpfi 3.46\n",
      "108        3197           l             four         152         idi 3.70\n",
      "109        3230           l             four         120        mpfi 3.46\n",
      "110        3430           l             four         152         idi 3.70\n",
      "111        3075           l             four         120        mpfi 3.46\n",
      "112        3252           l             four         152         idi 3.70\n",
      "113        3285           l             four         120        mpfi 3.46\n",
      "114        3485           l             four         152         idi 3.70\n",
      "115        3075           l             four         120        mpfi 3.46\n",
      "116        3252           l             four         152         idi 3.70\n",
      "117        3130           l             four         134        mpfi 3.61\n",
      "118        1918         ohc             four          90        2bbl 2.97\n",
      "119        2128         ohc             four          98        spdi 3.03\n",
      "120        1967         ohc             four          90        2bbl 2.97\n",
      "121        1989         ohc             four          90        2bbl 2.97\n",
      "122        2191         ohc             four          98        2bbl 2.97\n",
      "123        2535         ohc             four         122        2bbl 3.35\n",
      "124        2818         ohc             four         156        spdi 3.59\n",
      "125        2778         ohc             four         151        mpfi 3.94\n",
      "126        2756        ohcf              six         194        mpfi 3.74\n",
      "127        2756        ohcf              six         194        mpfi 3.74\n",
      "128        2800        ohcf              six         194        mpfi 3.74\n",
      "129        3366       dohcv            eight         203        mpfi 3.94\n",
      "130        2579         ohc             four         132        mpfi 3.46\n",
      "131        2460         ohc             four         132        mpfi 3.46\n",
      "132        2658         ohc             four         121        mpfi 3.54\n",
      "133        2695         ohc             four         121        mpfi 3.54\n",
      "134        2707         ohc             four         121        mpfi 2.54\n",
      "135        2758         ohc             four         121        mpfi 3.54\n",
      "136        2808        dohc             four         121        mpfi 3.54\n",
      "137        2847        dohc             four         121        mpfi 3.54\n",
      "138        2050        ohcf             four          97        2bbl 3.62\n",
      "139        2120        ohcf             four         108        2bbl 3.62\n",
      "140        2240        ohcf             four         108        2bbl 3.62\n",
      "141        2145        ohcf             four         108        2bbl 3.62\n",
      "142        2190        ohcf             four         108        2bbl 3.62\n",
      "143        2340        ohcf             four         108        mpfi 3.62\n",
      "144        2385        ohcf             four         108        2bbl 3.62\n",
      "145        2510        ohcf             four         108        mpfi 3.62\n",
      "146        2290        ohcf             four         108        2bbl 3.62\n",
      "147        2455        ohcf             four         108        mpfi 3.62\n",
      "148        2420        ohcf             four         108        2bbl 3.62\n",
      "149        2650        ohcf             four         108        mpfi 3.62\n",
      "150        1985         ohc             four          92        2bbl 3.05\n",
      "151        2040         ohc             four          92        2bbl 3.05\n",
      "152        2015         ohc             four          92        2bbl 3.05\n",
      "153        2280         ohc             four          92        2bbl 3.05\n",
      "154        2290         ohc             four          92        2bbl 3.05\n",
      "155        3110         ohc             four          92        2bbl 3.05\n",
      "156        2081         ohc             four          98        2bbl 3.19\n",
      "157        2109         ohc             four          98        2bbl 3.19\n",
      "158        2275         ohc             four         110         idi 3.27\n",
      "159        2275         ohc             four         110         idi 3.27\n",
      "160        2094         ohc             four          98        2bbl 3.19\n",
      "161        2122         ohc             four          98        2bbl 3.19\n",
      "162        2140         ohc             four          98        2bbl 3.19\n",
      "163        2169         ohc             four          98        2bbl 3.19\n",
      "164        2204         ohc             four          98        2bbl 3.19\n",
      "165        2265        dohc             four          98        mpfi 3.24\n",
      "166        2300        dohc             four          98        mpfi 3.24\n",
      "167        2540         ohc             four         146        mpfi 3.62\n",
      "168        2536         ohc             four         146        mpfi 3.62\n",
      "169        2551         ohc             four         146        mpfi 3.62\n",
      "170        2679         ohc             four         146        mpfi 3.62\n",
      "171        2714         ohc             four         146        mpfi 3.62\n",
      "172        2975         ohc             four         146        mpfi 3.62\n",
      "173        2326         ohc             four         122        mpfi 3.31\n",
      "174        2480         ohc             four         110         idi 3.27\n",
      "175        2414         ohc             four         122        mpfi 3.31\n",
      "176        2414         ohc             four         122        mpfi 3.31\n",
      "177        2458         ohc             four         122        mpfi 3.31\n",
      "178        2976        dohc              six         171        mpfi 3.27\n",
      "179        3016        dohc              six         171        mpfi 3.27\n",
      "180        3131        dohc              six         171        mpfi 3.27\n",
      "181        3151        dohc              six         161        mpfi 3.27\n",
      "182        2261         ohc             four          97         idi 3.01\n",
      "183        2209         ohc             four         109        mpfi 3.19\n",
      "184        2264         ohc             four          97         idi 3.01\n",
      "185        2212         ohc             four         109        mpfi 3.19\n",
      "186        2275         ohc             four         109        mpfi 3.19\n",
      "187        2319         ohc             four          97         idi 3.01\n",
      "188        2300         ohc             four         109        mpfi 3.19\n",
      "189        2254         ohc             four         109        mpfi 3.19\n",
      "190        2221         ohc             four         109        mpfi 3.19\n",
      "191        2661         ohc             five         136        mpfi 3.19\n",
      "192        2579         ohc             four          97         idi 3.01\n",
      "193        2563         ohc             four         109        mpfi 3.19\n",
      "194        2912         ohc             four         141        mpfi 3.78\n",
      "195        3034         ohc             four         141        mpfi 3.78\n",
      "196        2935         ohc             four         141        mpfi 3.78\n",
      "197        3042         ohc             four         141        mpfi 3.78\n",
      "198        3045         ohc             four         130        mpfi 3.62\n",
      "199        3157         ohc             four         130        mpfi 3.62\n",
      "200        2952         ohc             four         141        mpfi 3.78\n",
      "201        3049         ohc             four         141        mpfi 3.78\n",
      "202        3012        ohcv              six         173        mpfi 3.58\n",
      "203        3217         ohc              six         145         idi 3.01\n",
      "204        3062         ohc             four         141        mpfi 3.78\n",
      "    stroke compression-ratio horsepower peak-rpm city-mpg highway-mpg price\n",
      "1     2.68              9.00        111     5000       21          27 16500\n",
      "2     3.47              9.00        154     5000       19          26 16500\n",
      "3     3.40             10.00        102     5500       24          30 13950\n",
      "4     3.40              8.00        115     5500       18          22 17450\n",
      "5     3.40              8.50        110     5500       19          25 15250\n",
      "6     3.40              8.50        110     5500       19          25 17710\n",
      "7     3.40              8.50        110     5500       19          25 18920\n",
      "8     3.40              8.30        140     5500       17          20 23875\n",
      "9     3.40              7.00        160     5500       16          22     ?\n",
      "10    2.80              8.80        101     5800       23          29 16430\n",
      "11    2.80              8.80        101     5800       23          29 16925\n",
      "12    3.19              9.00        121     4250       21          28 20970\n",
      "13    3.19              9.00        121     4250       21          28 21105\n",
      "14    3.19              9.00        121     4250       20          25 24565\n",
      "15    3.39              8.00        182     5400       16          22 30760\n",
      "16    3.39              8.00        182     5400       16          22 41315\n",
      "17    3.39              8.00        182     5400       15          20 36880\n",
      "18    3.03              9.50         48     5100       47          53  5151\n",
      "19    3.11              9.60         70     5400       38          43  6295\n",
      "20    3.11              9.60         70     5400       38          43  6575\n",
      "21    3.23              9.41         68     5500       37          41  5572\n",
      "22    3.23              9.40         68     5500       31          38  6377\n",
      "23    3.39              7.60        102     5500       24          30  7957\n",
      "24    3.23              9.40         68     5500       31          38  6229\n",
      "25    3.23              9.40         68     5500       31          38  6692\n",
      "26    3.23              9.40         68     5500       31          38  7609\n",
      "27    3.39              7.60        102     5500       24          30  8558\n",
      "28    3.46              8.50         88     5000       24          30  8921\n",
      "29    3.90              7.00        145     5000       19          24 12964\n",
      "30    3.41              9.60         58     4800       49          54  6479\n",
      "31    3.41              9.20         76     6000       31          38  6855\n",
      "32    3.07             10.10         60     5500       38          42  5399\n",
      "33    3.41              9.20         76     6000       30          34  6529\n",
      "34    3.41              9.20         76     6000       30          34  7129\n",
      "35    3.41              9.20         76     6000       30          34  7295\n",
      "36    3.41              9.20         76     6000       30          34  7295\n",
      "37    3.58              9.00         86     5800       27          33  7895\n",
      "38    3.58              9.00         86     5800       27          33  9095\n",
      "39    3.58              9.00         86     5800       27          33  8845\n",
      "40    3.58              9.00         86     5800       27          33 10295\n",
      "41    3.58              9.00        101     5800       24          28 12945\n",
      "42    3.58              9.10        100     5500       25          31 10345\n",
      "43    3.23              8.50         78     4800       24          29  6785\n",
      "44    3.11              9.60         70     5400       38          43     ?\n",
      "45    3.11              9.60         70     5400       38          43     ?\n",
      "46    3.23              9.20         90     5000       24          29 11048\n",
      "47    4.17              8.10        176     4750       15          19 32250\n",
      "48    4.17              8.10        176     4750       15          19 35550\n",
      "49    2.76             11.50        262     5000       13          17 36000\n",
      "50    3.15              9.00         68     5000       30          31  5195\n",
      "51    3.15              9.00         68     5000       31          38  6095\n",
      "52    3.15              9.00         68     5000       31          38  6795\n",
      "53    3.15              9.00         68     5000       31          38  6695\n",
      "54    3.15              9.00         68     5000       31          38  7395\n",
      "55       ?              9.40        101     6000       17          23 10945\n",
      "56       ?              9.40        101     6000       17          23 11845\n",
      "57       ?              9.40        101     6000       17          23 13645\n",
      "58       ?              9.40        135     6000       16          23 15645\n",
      "59    3.39              8.60         84     4800       26          32  8845\n",
      "60    3.39              8.60         84     4800       26          32  8495\n",
      "61    3.39              8.60         84     4800       26          32 10595\n",
      "62    3.39              8.60         84     4800       26          32 10245\n",
      "63    3.39             22.70         64     4650       36          42 10795\n",
      "64    3.39              8.60         84     4800       26          32 11245\n",
      "65    3.16              8.00        120     5000       19          27 18280\n",
      "66    3.64             22.00         72     4200       31          39 18344\n",
      "67    3.64             21.50        123     4350       22          25 25552\n",
      "68    3.64             21.50        123     4350       22          25 28248\n",
      "69    3.64             21.50        123     4350       22          25 28176\n",
      "70    3.64             21.50        123     4350       22          25 31600\n",
      "71    3.10              8.30        155     4750       16          18 34184\n",
      "72    3.10              8.30        155     4750       16          18 35056\n",
      "73    3.35              8.00        184     4500       14          16 40960\n",
      "74    3.35              8.00        184     4500       14          16 45400\n",
      "75    3.12              8.00        175     5000       19          24 16503\n",
      "76    3.23              9.40         68     5500       37          41  5389\n",
      "77    3.23              9.40         68     5500       31          38  6189\n",
      "78    3.23              9.40         68     5500       31          38  6669\n",
      "79    3.39              7.60        102     5500       24          30  7689\n",
      "80    3.46              7.50        116     5500       23          30  9959\n",
      "81    3.46              8.50         88     5000       25          32  8499\n",
      "82    3.86              7.00        145     5000       19          24 12629\n",
      "83    3.86              7.00        145     5000       19          24 14869\n",
      "84    3.86              7.00        145     5000       19          24 14489\n",
      "85    3.46              8.50         88     5000       25          32  6989\n",
      "86    3.46              8.50         88     5000       25          32  8189\n",
      "87    3.46              7.50        116     5500       23          30  9279\n",
      "88    3.46              7.50        116     5500       23          30  9279\n",
      "89    3.29              9.40         69     5200       31          37  5499\n",
      "90    3.47             21.90         55     4800       45          50  7099\n",
      "91    3.29              9.40         69     5200       31          37  6649\n",
      "92    3.29              9.40         69     5200       31          37  6849\n",
      "93    3.29              9.40         69     5200       31          37  7349\n",
      "94    3.29              9.40         69     5200       31          37  7299\n",
      "95    3.29              9.40         69     5200       31          37  7799\n",
      "96    3.29              9.40         69     5200       31          37  7499\n",
      "97    3.29              9.40         69     5200       31          37  7999\n",
      "98    3.29              9.40         69     5200       31          37  8249\n",
      "99    3.47              8.50         97     5200       27          34  8949\n",
      "100   3.47              8.50         97     5200       27          34  9549\n",
      "101   3.27              9.00        152     5200       17          22 13499\n",
      "102   3.27              9.00        152     5200       17          22 14399\n",
      "103   3.27              9.00        152     5200       19          25 13499\n",
      "104   3.27              9.00        160     5200       19          25 17199\n",
      "105   3.27              7.80        200     5200       17          23 19699\n",
      "106   3.27              9.00        160     5200       19          25 18399\n",
      "107   3.19              8.40         97     5000       19          24 11900\n",
      "108   3.52             21.00         95     4150       28          33 13200\n",
      "109   3.19              8.40         97     5000       19          24 12440\n",
      "110   3.52             21.00         95     4150       25          25 13860\n",
      "111   2.19              8.40         95     5000       19          24 15580\n",
      "112   3.52             21.00         95     4150       28          33 16900\n",
      "113   2.19              8.40         95     5000       19          24 16695\n",
      "114   3.52             21.00         95     4150       25          25 17075\n",
      "115   3.19              8.40         97     5000       19          24 16630\n",
      "116   3.52             21.00         95     4150       28          33 17950\n",
      "117   3.21              7.00        142     5600       18          24 18150\n",
      "118   3.23              9.40         68     5500       37          41  5572\n",
      "119   3.39              7.60        102     5500       24          30  7957\n",
      "120   3.23              9.40         68     5500       31          38  6229\n",
      "121   3.23              9.40         68     5500       31          38  6692\n",
      "122   3.23              9.40         68     5500       31          38  7609\n",
      "123   3.46              8.50         88     5000       24          30  8921\n",
      "124   3.86              7.00        145     5000       19          24 12764\n",
      "125   3.11              9.50        143     5500       19          27 22018\n",
      "126   2.90              9.50        207     5900       17          25 32528\n",
      "127   2.90              9.50        207     5900       17          25 34028\n",
      "128   2.90              9.50        207     5900       17          25 37028\n",
      "129   3.11             10.00        288     5750       17          28     ?\n",
      "130   3.90              8.70          ?        ?       23          31  9295\n",
      "131   3.90              8.70          ?        ?       23          31  9895\n",
      "132   3.07              9.31        110     5250       21          28 11850\n",
      "133   3.07              9.30        110     5250       21          28 12170\n",
      "134   2.07              9.30        110     5250       21          28 15040\n",
      "135   3.07              9.30        110     5250       21          28 15510\n",
      "136   3.07              9.00        160     5500       19          26 18150\n",
      "137   3.07              9.00        160     5500       19          26 18620\n",
      "138   2.36              9.00         69     4900       31          36  5118\n",
      "139   2.64              8.70         73     4400       26          31  7053\n",
      "140   2.64              8.70         73     4400       26          31  7603\n",
      "141   2.64              9.50         82     4800       32          37  7126\n",
      "142   2.64              9.50         82     4400       28          33  7775\n",
      "143   2.64              9.00         94     5200       26          32  9960\n",
      "144   2.64              9.00         82     4800       24          25  9233\n",
      "145   2.64              7.70        111     4800       24          29 11259\n",
      "146   2.64              9.00         82     4800       28          32  7463\n",
      "147   2.64              9.00         94     5200       25          31 10198\n",
      "148   2.64              9.00         82     4800       23          29  8013\n",
      "149   2.64              7.70        111     4800       23          23 11694\n",
      "150   3.03              9.00         62     4800       35          39  5348\n",
      "151   3.03              9.00         62     4800       31          38  6338\n",
      "152   3.03              9.00         62     4800       31          38  6488\n",
      "153   3.03              9.00         62     4800       31          37  6918\n",
      "154   3.03              9.00         62     4800       27          32  7898\n",
      "155   3.03              9.00         62     4800       27          32  8778\n",
      "156   3.03              9.00         70     4800       30          37  6938\n",
      "157   3.03              9.00         70     4800       30          37  7198\n",
      "158   3.35             22.50         56     4500       34          36  7898\n",
      "159   3.35             22.50         56     4500       38          47  7788\n",
      "160   3.03              9.00         70     4800       38          47  7738\n",
      "161   3.03              9.00         70     4800       28          34  8358\n",
      "162   3.03              9.00         70     4800       28          34  9258\n",
      "163   3.03              9.00         70     4800       29          34  8058\n",
      "164   3.03              9.00         70     4800       29          34  8238\n",
      "165   3.08              9.40        112     6600       26          29  9298\n",
      "166   3.08              9.40        112     6600       26          29  9538\n",
      "167   3.50              9.30        116     4800       24          30  8449\n",
      "168   3.50              9.30        116     4800       24          30  9639\n",
      "169   3.50              9.30        116     4800       24          30  9989\n",
      "170   3.50              9.30        116     4800       24          30 11199\n",
      "171   3.50              9.30        116     4800       24          30 11549\n",
      "172   3.50              9.30        116     4800       24          30 17669\n",
      "173   3.54              8.70         92     4200       29          34  8948\n",
      "174   3.35             22.50         73     4500       30          33 10698\n",
      "175   3.54              8.70         92     4200       27          32  9988\n",
      "176   3.54              8.70         92     4200       27          32 10898\n",
      "177   3.54              8.70         92     4200       27          32 11248\n",
      "178   3.35              9.30        161     5200       20          24 16558\n",
      "179   3.35              9.30        161     5200       19          24 15998\n",
      "180   3.35              9.20        156     5200       20          24 15690\n",
      "181   3.35              9.20        156     5200       19          24 15750\n",
      "182   3.40             23.00         52     4800       37          46  7775\n",
      "183   3.40              9.00         85     5250       27          34  7975\n",
      "184   3.40             23.00         52     4800       37          46  7995\n",
      "185   3.40              9.00         85     5250       27          34  8195\n",
      "186   3.40              9.00         85     5250       27          34  8495\n",
      "187   3.40             23.00         68     4500       37          42  9495\n",
      "188   3.40             10.00        100     5500       26          32  9995\n",
      "189   3.40              8.50         90     5500       24          29 11595\n",
      "190   3.40              8.50         90     5500       24          29  9980\n",
      "191   3.40              8.50        110     5500       19          24 13295\n",
      "192   3.40             23.00         68     4500       33          38 13845\n",
      "193   3.40              9.00         88     5500       25          31 12290\n",
      "194   3.15              9.50        114     5400       23          28 12940\n",
      "195   3.15              9.50        114     5400       23          28 13415\n",
      "196   3.15              9.50        114     5400       24          28 15985\n",
      "197   3.15              9.50        114     5400       24          28 16515\n",
      "198   3.15              7.50        162     5100       17          22 18420\n",
      "199   3.15              7.50        162     5100       17          22 18950\n",
      "200   3.15              9.50        114     5400       23          28 16845\n",
      "201   3.15              8.70        160     5300       19          25 19045\n",
      "202   2.87              8.80        134     5500       18          23 21485\n",
      "203   3.40             23.00        106     4800       26          27 22470\n",
      "204   3.15              9.50        114     5400       19          25 22625\n"
     ]
    }
   ],
   "source": [
    "new_data_1 <- impute(data, method = \"interpolation\", values = c(\"0\"))\n",
    "print(new_data_1)"
   ]
  },
  {
   "cell_type": "code",
   "execution_count": 37,
   "metadata": {
    "vscode": {
     "languageId": "r"
    }
   },
   "outputs": [
    {
     "data": {
      "text/html": [
       "<table class=\"dataframe\">\n",
       "<caption>A data.frame: 6 × 26</caption>\n",
       "<thead>\n",
       "\t<tr><th></th><th scope=col>symboling</th><th scope=col>normalized-losses</th><th scope=col>make</th><th scope=col>fuel-type</th><th scope=col>aspiration</th><th scope=col>num-of-doors</th><th scope=col>body-style</th><th scope=col>drive-wheels</th><th scope=col>engine-location</th><th scope=col>wheel-base</th><th scope=col>⋯</th><th scope=col>engine-size</th><th scope=col>fuel-system</th><th scope=col>bore</th><th scope=col>stroke</th><th scope=col>compression-ratio</th><th scope=col>horsepower</th><th scope=col>peak-rpm</th><th scope=col>city-mpg</th><th scope=col>highway-mpg</th><th scope=col>price</th></tr>\n",
       "\t<tr><th></th><th scope=col>&lt;int&gt;</th><th scope=col>&lt;chr&gt;</th><th scope=col>&lt;chr&gt;</th><th scope=col>&lt;chr&gt;</th><th scope=col>&lt;chr&gt;</th><th scope=col>&lt;chr&gt;</th><th scope=col>&lt;chr&gt;</th><th scope=col>&lt;chr&gt;</th><th scope=col>&lt;chr&gt;</th><th scope=col>&lt;dbl&gt;</th><th scope=col>⋯</th><th scope=col>&lt;int&gt;</th><th scope=col>&lt;chr&gt;</th><th scope=col>&lt;chr&gt;</th><th scope=col>&lt;chr&gt;</th><th scope=col>&lt;dbl&gt;</th><th scope=col>&lt;chr&gt;</th><th scope=col>&lt;chr&gt;</th><th scope=col>&lt;int&gt;</th><th scope=col>&lt;int&gt;</th><th scope=col>&lt;chr&gt;</th></tr>\n",
       "</thead>\n",
       "<tbody>\n",
       "\t<tr><th scope=row>1</th><td>3</td><td>0  </td><td>alfa-romero</td><td>gas</td><td>std</td><td>two </td><td>convertible</td><td>rwd</td><td>front</td><td> 88.6</td><td>⋯</td><td>130</td><td>mpfi</td><td>3.47</td><td>2.68</td><td> 9.0</td><td>111</td><td>5000</td><td>21</td><td>27</td><td>16500</td></tr>\n",
       "\t<tr><th scope=row>2</th><td>1</td><td>0  </td><td>alfa-romero</td><td>gas</td><td>std</td><td>two </td><td>hatchback  </td><td>rwd</td><td>front</td><td> 94.5</td><td>⋯</td><td>152</td><td>mpfi</td><td>2.68</td><td>3.47</td><td> 9.0</td><td>154</td><td>5000</td><td>19</td><td>26</td><td>16500</td></tr>\n",
       "\t<tr><th scope=row>3</th><td>2</td><td>164</td><td>audi       </td><td>gas</td><td>std</td><td>four</td><td>sedan      </td><td>fwd</td><td>front</td><td> 99.8</td><td>⋯</td><td>109</td><td>mpfi</td><td>3.19</td><td>3.40</td><td>10.0</td><td>102</td><td>5500</td><td>24</td><td>30</td><td>13950</td></tr>\n",
       "\t<tr><th scope=row>4</th><td>2</td><td>164</td><td>audi       </td><td>gas</td><td>std</td><td>four</td><td>sedan      </td><td>4wd</td><td>front</td><td> 99.4</td><td>⋯</td><td>136</td><td>mpfi</td><td>3.19</td><td>3.40</td><td> 8.0</td><td>115</td><td>5500</td><td>18</td><td>22</td><td>17450</td></tr>\n",
       "\t<tr><th scope=row>5</th><td>2</td><td>0  </td><td>audi       </td><td>gas</td><td>std</td><td>two </td><td>sedan      </td><td>fwd</td><td>front</td><td> 99.8</td><td>⋯</td><td>136</td><td>mpfi</td><td>3.19</td><td>3.40</td><td> 8.5</td><td>110</td><td>5500</td><td>19</td><td>25</td><td>15250</td></tr>\n",
       "\t<tr><th scope=row>6</th><td>1</td><td>158</td><td>audi       </td><td>gas</td><td>std</td><td>four</td><td>sedan      </td><td>fwd</td><td>front</td><td>105.8</td><td>⋯</td><td>136</td><td>mpfi</td><td>3.19</td><td>3.40</td><td> 8.5</td><td>110</td><td>5500</td><td>19</td><td>25</td><td>17710</td></tr>\n",
       "</tbody>\n",
       "</table>\n"
      ],
      "text/latex": [
       "A data.frame: 6 × 26\n",
       "\\begin{tabular}{r|lllllllllllllllllllll}\n",
       "  & symboling & normalized-losses & make & fuel-type & aspiration & num-of-doors & body-style & drive-wheels & engine-location & wheel-base & ⋯ & engine-size & fuel-system & bore & stroke & compression-ratio & horsepower & peak-rpm & city-mpg & highway-mpg & price\\\\\n",
       "  & <int> & <chr> & <chr> & <chr> & <chr> & <chr> & <chr> & <chr> & <chr> & <dbl> & ⋯ & <int> & <chr> & <chr> & <chr> & <dbl> & <chr> & <chr> & <int> & <int> & <chr>\\\\\n",
       "\\hline\n",
       "\t1 & 3 & 0   & alfa-romero & gas & std & two  & convertible & rwd & front &  88.6 & ⋯ & 130 & mpfi & 3.47 & 2.68 &  9.0 & 111 & 5000 & 21 & 27 & 16500\\\\\n",
       "\t2 & 1 & 0   & alfa-romero & gas & std & two  & hatchback   & rwd & front &  94.5 & ⋯ & 152 & mpfi & 2.68 & 3.47 &  9.0 & 154 & 5000 & 19 & 26 & 16500\\\\\n",
       "\t3 & 2 & 164 & audi        & gas & std & four & sedan       & fwd & front &  99.8 & ⋯ & 109 & mpfi & 3.19 & 3.40 & 10.0 & 102 & 5500 & 24 & 30 & 13950\\\\\n",
       "\t4 & 2 & 164 & audi        & gas & std & four & sedan       & 4wd & front &  99.4 & ⋯ & 136 & mpfi & 3.19 & 3.40 &  8.0 & 115 & 5500 & 18 & 22 & 17450\\\\\n",
       "\t5 & 2 & 0   & audi        & gas & std & two  & sedan       & fwd & front &  99.8 & ⋯ & 136 & mpfi & 3.19 & 3.40 &  8.5 & 110 & 5500 & 19 & 25 & 15250\\\\\n",
       "\t6 & 1 & 158 & audi        & gas & std & four & sedan       & fwd & front & 105.8 & ⋯ & 136 & mpfi & 3.19 & 3.40 &  8.5 & 110 & 5500 & 19 & 25 & 17710\\\\\n",
       "\\end{tabular}\n"
      ],
      "text/markdown": [
       "\n",
       "A data.frame: 6 × 26\n",
       "\n",
       "| <!--/--> | symboling &lt;int&gt; | normalized-losses &lt;chr&gt; | make &lt;chr&gt; | fuel-type &lt;chr&gt; | aspiration &lt;chr&gt; | num-of-doors &lt;chr&gt; | body-style &lt;chr&gt; | drive-wheels &lt;chr&gt; | engine-location &lt;chr&gt; | wheel-base &lt;dbl&gt; | ⋯ ⋯ | engine-size &lt;int&gt; | fuel-system &lt;chr&gt; | bore &lt;chr&gt; | stroke &lt;chr&gt; | compression-ratio &lt;dbl&gt; | horsepower &lt;chr&gt; | peak-rpm &lt;chr&gt; | city-mpg &lt;int&gt; | highway-mpg &lt;int&gt; | price &lt;chr&gt; |\n",
       "|---|---|---|---|---|---|---|---|---|---|---|---|---|---|---|---|---|---|---|---|---|---|\n",
       "| 1 | 3 | 0   | alfa-romero | gas | std | two  | convertible | rwd | front |  88.6 | ⋯ | 130 | mpfi | 3.47 | 2.68 |  9.0 | 111 | 5000 | 21 | 27 | 16500 |\n",
       "| 2 | 1 | 0   | alfa-romero | gas | std | two  | hatchback   | rwd | front |  94.5 | ⋯ | 152 | mpfi | 2.68 | 3.47 |  9.0 | 154 | 5000 | 19 | 26 | 16500 |\n",
       "| 3 | 2 | 164 | audi        | gas | std | four | sedan       | fwd | front |  99.8 | ⋯ | 109 | mpfi | 3.19 | 3.40 | 10.0 | 102 | 5500 | 24 | 30 | 13950 |\n",
       "| 4 | 2 | 164 | audi        | gas | std | four | sedan       | 4wd | front |  99.4 | ⋯ | 136 | mpfi | 3.19 | 3.40 |  8.0 | 115 | 5500 | 18 | 22 | 17450 |\n",
       "| 5 | 2 | 0   | audi        | gas | std | two  | sedan       | fwd | front |  99.8 | ⋯ | 136 | mpfi | 3.19 | 3.40 |  8.5 | 110 | 5500 | 19 | 25 | 15250 |\n",
       "| 6 | 1 | 158 | audi        | gas | std | four | sedan       | fwd | front | 105.8 | ⋯ | 136 | mpfi | 3.19 | 3.40 |  8.5 | 110 | 5500 | 19 | 25 | 17710 |\n",
       "\n"
      ],
      "text/plain": [
       "  symboling normalized-losses make        fuel-type aspiration num-of-doors\n",
       "1 3         0                 alfa-romero gas       std        two         \n",
       "2 1         0                 alfa-romero gas       std        two         \n",
       "3 2         164               audi        gas       std        four        \n",
       "4 2         164               audi        gas       std        four        \n",
       "5 2         0                 audi        gas       std        two         \n",
       "6 1         158               audi        gas       std        four        \n",
       "  body-style  drive-wheels engine-location wheel-base ⋯ engine-size fuel-system\n",
       "1 convertible rwd          front            88.6      ⋯ 130         mpfi       \n",
       "2 hatchback   rwd          front            94.5      ⋯ 152         mpfi       \n",
       "3 sedan       fwd          front            99.8      ⋯ 109         mpfi       \n",
       "4 sedan       4wd          front            99.4      ⋯ 136         mpfi       \n",
       "5 sedan       fwd          front            99.8      ⋯ 136         mpfi       \n",
       "6 sedan       fwd          front           105.8      ⋯ 136         mpfi       \n",
       "  bore stroke compression-ratio horsepower peak-rpm city-mpg highway-mpg price\n",
       "1 3.47 2.68    9.0              111        5000     21       27          16500\n",
       "2 2.68 3.47    9.0              154        5000     19       26          16500\n",
       "3 3.19 3.40   10.0              102        5500     24       30          13950\n",
       "4 3.19 3.40    8.0              115        5500     18       22          17450\n",
       "5 3.19 3.40    8.5              110        5500     19       25          15250\n",
       "6 3.19 3.40    8.5              110        5500     19       25          17710"
      ]
     },
     "metadata": {},
     "output_type": "display_data"
    },
    {
     "data": {
      "text/html": [
       "<table class=\"dataframe\">\n",
       "<caption>A data.frame: 6 × 26</caption>\n",
       "<thead>\n",
       "\t<tr><th></th><th scope=col>symboling</th><th scope=col>normalized.losses</th><th scope=col>make</th><th scope=col>fuel.type</th><th scope=col>aspiration</th><th scope=col>num.of.doors</th><th scope=col>body.style</th><th scope=col>drive.wheels</th><th scope=col>engine.location</th><th scope=col>wheel.base</th><th scope=col>⋯</th><th scope=col>engine.size</th><th scope=col>fuel.system</th><th scope=col>bore</th><th scope=col>stroke</th><th scope=col>compression.ratio</th><th scope=col>horsepower</th><th scope=col>peak.rpm</th><th scope=col>city.mpg</th><th scope=col>highway.mpg</th><th scope=col>price</th></tr>\n",
       "\t<tr><th></th><th scope=col>&lt;chr&gt;</th><th scope=col>&lt;chr&gt;</th><th scope=col>&lt;chr&gt;</th><th scope=col>&lt;chr&gt;</th><th scope=col>&lt;chr&gt;</th><th scope=col>&lt;chr&gt;</th><th scope=col>&lt;chr&gt;</th><th scope=col>&lt;chr&gt;</th><th scope=col>&lt;chr&gt;</th><th scope=col>&lt;chr&gt;</th><th scope=col>⋯</th><th scope=col>&lt;chr&gt;</th><th scope=col>&lt;chr&gt;</th><th scope=col>&lt;chr&gt;</th><th scope=col>&lt;chr&gt;</th><th scope=col>&lt;chr&gt;</th><th scope=col>&lt;chr&gt;</th><th scope=col>&lt;chr&gt;</th><th scope=col>&lt;chr&gt;</th><th scope=col>&lt;chr&gt;</th><th scope=col>&lt;chr&gt;</th></tr>\n",
       "</thead>\n",
       "<tbody>\n",
       "\t<tr><th scope=row>1</th><td>3</td><td>0  </td><td>alfa-romero</td><td>gas</td><td>std</td><td>two </td><td>convertible</td><td>rwd</td><td>front</td><td>88.6 </td><td>⋯</td><td>130</td><td>mpfi</td><td>3.47</td><td>2.68</td><td>9  </td><td>111</td><td>5000</td><td>21</td><td>27</td><td>16500</td></tr>\n",
       "\t<tr><th scope=row>2</th><td>1</td><td>0  </td><td>alfa-romero</td><td>gas</td><td>std</td><td>two </td><td>hatchback  </td><td>rwd</td><td>front</td><td>94.5 </td><td>⋯</td><td>152</td><td>mpfi</td><td>2.68</td><td>3.47</td><td>9  </td><td>154</td><td>5000</td><td>19</td><td>26</td><td>16500</td></tr>\n",
       "\t<tr><th scope=row>3</th><td>2</td><td>164</td><td>audi       </td><td>gas</td><td>std</td><td>four</td><td>sedan      </td><td>fwd</td><td>front</td><td>99.8 </td><td>⋯</td><td>109</td><td>mpfi</td><td>3.19</td><td>3.40</td><td>10 </td><td>102</td><td>5500</td><td>24</td><td>30</td><td>13950</td></tr>\n",
       "\t<tr><th scope=row>4</th><td>2</td><td>164</td><td>audi       </td><td>gas</td><td>std</td><td>four</td><td>sedan      </td><td>4wd</td><td>front</td><td>99.4 </td><td>⋯</td><td>136</td><td>mpfi</td><td>3.19</td><td>3.40</td><td>8  </td><td>115</td><td>5500</td><td>18</td><td>22</td><td>17450</td></tr>\n",
       "\t<tr><th scope=row>5</th><td>2</td><td>0  </td><td>audi       </td><td>gas</td><td>std</td><td>two </td><td>sedan      </td><td>fwd</td><td>front</td><td>99.8 </td><td>⋯</td><td>136</td><td>mpfi</td><td>3.19</td><td>3.40</td><td>8.5</td><td>110</td><td>5500</td><td>19</td><td>25</td><td>15250</td></tr>\n",
       "\t<tr><th scope=row>6</th><td>1</td><td>158</td><td>audi       </td><td>gas</td><td>std</td><td>four</td><td>sedan      </td><td>fwd</td><td>front</td><td>105.8</td><td>⋯</td><td>136</td><td>mpfi</td><td>3.19</td><td>3.40</td><td>8.5</td><td>110</td><td>5500</td><td>19</td><td>25</td><td>17710</td></tr>\n",
       "</tbody>\n",
       "</table>\n"
      ],
      "text/latex": [
       "A data.frame: 6 × 26\n",
       "\\begin{tabular}{r|lllllllllllllllllllll}\n",
       "  & symboling & normalized.losses & make & fuel.type & aspiration & num.of.doors & body.style & drive.wheels & engine.location & wheel.base & ⋯ & engine.size & fuel.system & bore & stroke & compression.ratio & horsepower & peak.rpm & city.mpg & highway.mpg & price\\\\\n",
       "  & <chr> & <chr> & <chr> & <chr> & <chr> & <chr> & <chr> & <chr> & <chr> & <chr> & ⋯ & <chr> & <chr> & <chr> & <chr> & <chr> & <chr> & <chr> & <chr> & <chr> & <chr>\\\\\n",
       "\\hline\n",
       "\t1 & 3 & 0   & alfa-romero & gas & std & two  & convertible & rwd & front & 88.6  & ⋯ & 130 & mpfi & 3.47 & 2.68 & 9   & 111 & 5000 & 21 & 27 & 16500\\\\\n",
       "\t2 & 1 & 0   & alfa-romero & gas & std & two  & hatchback   & rwd & front & 94.5  & ⋯ & 152 & mpfi & 2.68 & 3.47 & 9   & 154 & 5000 & 19 & 26 & 16500\\\\\n",
       "\t3 & 2 & 164 & audi        & gas & std & four & sedan       & fwd & front & 99.8  & ⋯ & 109 & mpfi & 3.19 & 3.40 & 10  & 102 & 5500 & 24 & 30 & 13950\\\\\n",
       "\t4 & 2 & 164 & audi        & gas & std & four & sedan       & 4wd & front & 99.4  & ⋯ & 136 & mpfi & 3.19 & 3.40 & 8   & 115 & 5500 & 18 & 22 & 17450\\\\\n",
       "\t5 & 2 & 0   & audi        & gas & std & two  & sedan       & fwd & front & 99.8  & ⋯ & 136 & mpfi & 3.19 & 3.40 & 8.5 & 110 & 5500 & 19 & 25 & 15250\\\\\n",
       "\t6 & 1 & 158 & audi        & gas & std & four & sedan       & fwd & front & 105.8 & ⋯ & 136 & mpfi & 3.19 & 3.40 & 8.5 & 110 & 5500 & 19 & 25 & 17710\\\\\n",
       "\\end{tabular}\n"
      ],
      "text/markdown": [
       "\n",
       "A data.frame: 6 × 26\n",
       "\n",
       "| <!--/--> | symboling &lt;chr&gt; | normalized.losses &lt;chr&gt; | make &lt;chr&gt; | fuel.type &lt;chr&gt; | aspiration &lt;chr&gt; | num.of.doors &lt;chr&gt; | body.style &lt;chr&gt; | drive.wheels &lt;chr&gt; | engine.location &lt;chr&gt; | wheel.base &lt;chr&gt; | ⋯ ⋯ | engine.size &lt;chr&gt; | fuel.system &lt;chr&gt; | bore &lt;chr&gt; | stroke &lt;chr&gt; | compression.ratio &lt;chr&gt; | horsepower &lt;chr&gt; | peak.rpm &lt;chr&gt; | city.mpg &lt;chr&gt; | highway.mpg &lt;chr&gt; | price &lt;chr&gt; |\n",
       "|---|---|---|---|---|---|---|---|---|---|---|---|---|---|---|---|---|---|---|---|---|---|\n",
       "| 1 | 3 | 0   | alfa-romero | gas | std | two  | convertible | rwd | front | 88.6  | ⋯ | 130 | mpfi | 3.47 | 2.68 | 9   | 111 | 5000 | 21 | 27 | 16500 |\n",
       "| 2 | 1 | 0   | alfa-romero | gas | std | two  | hatchback   | rwd | front | 94.5  | ⋯ | 152 | mpfi | 2.68 | 3.47 | 9   | 154 | 5000 | 19 | 26 | 16500 |\n",
       "| 3 | 2 | 164 | audi        | gas | std | four | sedan       | fwd | front | 99.8  | ⋯ | 109 | mpfi | 3.19 | 3.40 | 10  | 102 | 5500 | 24 | 30 | 13950 |\n",
       "| 4 | 2 | 164 | audi        | gas | std | four | sedan       | 4wd | front | 99.4  | ⋯ | 136 | mpfi | 3.19 | 3.40 | 8   | 115 | 5500 | 18 | 22 | 17450 |\n",
       "| 5 | 2 | 0   | audi        | gas | std | two  | sedan       | fwd | front | 99.8  | ⋯ | 136 | mpfi | 3.19 | 3.40 | 8.5 | 110 | 5500 | 19 | 25 | 15250 |\n",
       "| 6 | 1 | 158 | audi        | gas | std | four | sedan       | fwd | front | 105.8 | ⋯ | 136 | mpfi | 3.19 | 3.40 | 8.5 | 110 | 5500 | 19 | 25 | 17710 |\n",
       "\n"
      ],
      "text/plain": [
       "  symboling normalized.losses make        fuel.type aspiration num.of.doors\n",
       "1 3         0                 alfa-romero gas       std        two         \n",
       "2 1         0                 alfa-romero gas       std        two         \n",
       "3 2         164               audi        gas       std        four        \n",
       "4 2         164               audi        gas       std        four        \n",
       "5 2         0                 audi        gas       std        two         \n",
       "6 1         158               audi        gas       std        four        \n",
       "  body.style  drive.wheels engine.location wheel.base ⋯ engine.size fuel.system\n",
       "1 convertible rwd          front           88.6       ⋯ 130         mpfi       \n",
       "2 hatchback   rwd          front           94.5       ⋯ 152         mpfi       \n",
       "3 sedan       fwd          front           99.8       ⋯ 109         mpfi       \n",
       "4 sedan       4wd          front           99.4       ⋯ 136         mpfi       \n",
       "5 sedan       fwd          front           99.8       ⋯ 136         mpfi       \n",
       "6 sedan       fwd          front           105.8      ⋯ 136         mpfi       \n",
       "  bore stroke compression.ratio horsepower peak.rpm city.mpg highway.mpg price\n",
       "1 3.47 2.68   9                 111        5000     21       27          16500\n",
       "2 2.68 3.47   9                 154        5000     19       26          16500\n",
       "3 3.19 3.40   10                102        5500     24       30          13950\n",
       "4 3.19 3.40   8                 115        5500     18       22          17450\n",
       "5 3.19 3.40   8.5               110        5500     19       25          15250\n",
       "6 3.19 3.40   8.5               110        5500     19       25          17710"
      ]
     },
     "metadata": {},
     "output_type": "display_data"
    }
   ],
   "source": [
    "#Usamos ? por 0\n",
    "newdata <- replace(data, data == \"?\", 0)\n",
    "head(newdata)\n",
    "#Hacer columnas factor a caracteres, hay columans factor\n",
    "data_caracteres <- as.data.frame(lapply(data, as.character), stringsAsFactors = FALSE)\n",
    "#? a 0\n",
    "newdatad <- replace(data_caracteres, data_caracteres == \"?\", 0)\n",
    "# imprimir \n",
    "head(newdatad)"
   ]
  },
  {
   "attachments": {},
   "cell_type": "markdown",
   "metadata": {},
   "source": [
    "(e) Create a new data set by imputing the mean in all the columns which have double type values.\n"
   ]
  },
  {
   "cell_type": "code",
   "execution_count": 38,
   "metadata": {
    "vscode": {
     "languageId": "r"
    }
   },
   "outputs": [
    {
     "data": {
      "text/html": [
       "<table class=\"dataframe\">\n",
       "<caption>A data.frame: 6 × 26</caption>\n",
       "<thead>\n",
       "\t<tr><th></th><th scope=col>symboling</th><th scope=col>normalized.losses</th><th scope=col>make</th><th scope=col>fuel.type</th><th scope=col>aspiration</th><th scope=col>num.of.doors</th><th scope=col>body.style</th><th scope=col>drive.wheels</th><th scope=col>engine.location</th><th scope=col>wheel.base</th><th scope=col>⋯</th><th scope=col>engine.size</th><th scope=col>fuel.system</th><th scope=col>bore</th><th scope=col>stroke</th><th scope=col>compression.ratio</th><th scope=col>horsepower</th><th scope=col>peak.rpm</th><th scope=col>city.mpg</th><th scope=col>highway.mpg</th><th scope=col>price</th></tr>\n",
       "\t<tr><th></th><th scope=col>&lt;chr&gt;</th><th scope=col>&lt;chr&gt;</th><th scope=col>&lt;chr&gt;</th><th scope=col>&lt;chr&gt;</th><th scope=col>&lt;chr&gt;</th><th scope=col>&lt;chr&gt;</th><th scope=col>&lt;chr&gt;</th><th scope=col>&lt;chr&gt;</th><th scope=col>&lt;chr&gt;</th><th scope=col>&lt;chr&gt;</th><th scope=col>⋯</th><th scope=col>&lt;chr&gt;</th><th scope=col>&lt;chr&gt;</th><th scope=col>&lt;chr&gt;</th><th scope=col>&lt;chr&gt;</th><th scope=col>&lt;chr&gt;</th><th scope=col>&lt;chr&gt;</th><th scope=col>&lt;chr&gt;</th><th scope=col>&lt;chr&gt;</th><th scope=col>&lt;chr&gt;</th><th scope=col>&lt;chr&gt;</th></tr>\n",
       "</thead>\n",
       "<tbody>\n",
       "\t<tr><th scope=row>1</th><td>3</td><td>   </td><td>alfa-romero</td><td>gas</td><td>std</td><td>two </td><td>convertible</td><td>rwd</td><td>front</td><td>88.6 </td><td>⋯</td><td>130</td><td>mpfi</td><td>3.47</td><td>2.68</td><td>9  </td><td>111</td><td>5000</td><td>21</td><td>27</td><td>16500</td></tr>\n",
       "\t<tr><th scope=row>2</th><td>1</td><td>   </td><td>alfa-romero</td><td>gas</td><td>std</td><td>two </td><td>hatchback  </td><td>rwd</td><td>front</td><td>94.5 </td><td>⋯</td><td>152</td><td>mpfi</td><td>2.68</td><td>3.47</td><td>9  </td><td>154</td><td>5000</td><td>19</td><td>26</td><td>16500</td></tr>\n",
       "\t<tr><th scope=row>3</th><td>2</td><td>164</td><td>audi       </td><td>gas</td><td>std</td><td>four</td><td>sedan      </td><td>fwd</td><td>front</td><td>99.8 </td><td>⋯</td><td>109</td><td>mpfi</td><td>3.19</td><td>3.40</td><td>10 </td><td>102</td><td>5500</td><td>24</td><td>30</td><td>13950</td></tr>\n",
       "\t<tr><th scope=row>4</th><td>2</td><td>164</td><td>audi       </td><td>gas</td><td>std</td><td>four</td><td>sedan      </td><td>4wd</td><td>front</td><td>99.4 </td><td>⋯</td><td>136</td><td>mpfi</td><td>3.19</td><td>3.40</td><td>8  </td><td>115</td><td>5500</td><td>18</td><td>22</td><td>17450</td></tr>\n",
       "\t<tr><th scope=row>5</th><td>2</td><td>   </td><td>audi       </td><td>gas</td><td>std</td><td>two </td><td>sedan      </td><td>fwd</td><td>front</td><td>99.8 </td><td>⋯</td><td>136</td><td>mpfi</td><td>3.19</td><td>3.40</td><td>8.5</td><td>110</td><td>5500</td><td>19</td><td>25</td><td>15250</td></tr>\n",
       "\t<tr><th scope=row>6</th><td>1</td><td>158</td><td>audi       </td><td>gas</td><td>std</td><td>four</td><td>sedan      </td><td>fwd</td><td>front</td><td>105.8</td><td>⋯</td><td>136</td><td>mpfi</td><td>3.19</td><td>3.40</td><td>8.5</td><td>110</td><td>5500</td><td>19</td><td>25</td><td>17710</td></tr>\n",
       "</tbody>\n",
       "</table>\n"
      ],
      "text/latex": [
       "A data.frame: 6 × 26\n",
       "\\begin{tabular}{r|lllllllllllllllllllll}\n",
       "  & symboling & normalized.losses & make & fuel.type & aspiration & num.of.doors & body.style & drive.wheels & engine.location & wheel.base & ⋯ & engine.size & fuel.system & bore & stroke & compression.ratio & horsepower & peak.rpm & city.mpg & highway.mpg & price\\\\\n",
       "  & <chr> & <chr> & <chr> & <chr> & <chr> & <chr> & <chr> & <chr> & <chr> & <chr> & ⋯ & <chr> & <chr> & <chr> & <chr> & <chr> & <chr> & <chr> & <chr> & <chr> & <chr>\\\\\n",
       "\\hline\n",
       "\t1 & 3 &     & alfa-romero & gas & std & two  & convertible & rwd & front & 88.6  & ⋯ & 130 & mpfi & 3.47 & 2.68 & 9   & 111 & 5000 & 21 & 27 & 16500\\\\\n",
       "\t2 & 1 &     & alfa-romero & gas & std & two  & hatchback   & rwd & front & 94.5  & ⋯ & 152 & mpfi & 2.68 & 3.47 & 9   & 154 & 5000 & 19 & 26 & 16500\\\\\n",
       "\t3 & 2 & 164 & audi        & gas & std & four & sedan       & fwd & front & 99.8  & ⋯ & 109 & mpfi & 3.19 & 3.40 & 10  & 102 & 5500 & 24 & 30 & 13950\\\\\n",
       "\t4 & 2 & 164 & audi        & gas & std & four & sedan       & 4wd & front & 99.4  & ⋯ & 136 & mpfi & 3.19 & 3.40 & 8   & 115 & 5500 & 18 & 22 & 17450\\\\\n",
       "\t5 & 2 &     & audi        & gas & std & two  & sedan       & fwd & front & 99.8  & ⋯ & 136 & mpfi & 3.19 & 3.40 & 8.5 & 110 & 5500 & 19 & 25 & 15250\\\\\n",
       "\t6 & 1 & 158 & audi        & gas & std & four & sedan       & fwd & front & 105.8 & ⋯ & 136 & mpfi & 3.19 & 3.40 & 8.5 & 110 & 5500 & 19 & 25 & 17710\\\\\n",
       "\\end{tabular}\n"
      ],
      "text/markdown": [
       "\n",
       "A data.frame: 6 × 26\n",
       "\n",
       "| <!--/--> | symboling &lt;chr&gt; | normalized.losses &lt;chr&gt; | make &lt;chr&gt; | fuel.type &lt;chr&gt; | aspiration &lt;chr&gt; | num.of.doors &lt;chr&gt; | body.style &lt;chr&gt; | drive.wheels &lt;chr&gt; | engine.location &lt;chr&gt; | wheel.base &lt;chr&gt; | ⋯ ⋯ | engine.size &lt;chr&gt; | fuel.system &lt;chr&gt; | bore &lt;chr&gt; | stroke &lt;chr&gt; | compression.ratio &lt;chr&gt; | horsepower &lt;chr&gt; | peak.rpm &lt;chr&gt; | city.mpg &lt;chr&gt; | highway.mpg &lt;chr&gt; | price &lt;chr&gt; |\n",
       "|---|---|---|---|---|---|---|---|---|---|---|---|---|---|---|---|---|---|---|---|---|---|\n",
       "| 1 | 3 | <!----> | alfa-romero | gas | std | two  | convertible | rwd | front | 88.6  | ⋯ | 130 | mpfi | 3.47 | 2.68 | 9   | 111 | 5000 | 21 | 27 | 16500 |\n",
       "| 2 | 1 | <!----> | alfa-romero | gas | std | two  | hatchback   | rwd | front | 94.5  | ⋯ | 152 | mpfi | 2.68 | 3.47 | 9   | 154 | 5000 | 19 | 26 | 16500 |\n",
       "| 3 | 2 | 164 | audi        | gas | std | four | sedan       | fwd | front | 99.8  | ⋯ | 109 | mpfi | 3.19 | 3.40 | 10  | 102 | 5500 | 24 | 30 | 13950 |\n",
       "| 4 | 2 | 164 | audi        | gas | std | four | sedan       | 4wd | front | 99.4  | ⋯ | 136 | mpfi | 3.19 | 3.40 | 8   | 115 | 5500 | 18 | 22 | 17450 |\n",
       "| 5 | 2 | <!----> | audi        | gas | std | two  | sedan       | fwd | front | 99.8  | ⋯ | 136 | mpfi | 3.19 | 3.40 | 8.5 | 110 | 5500 | 19 | 25 | 15250 |\n",
       "| 6 | 1 | 158 | audi        | gas | std | four | sedan       | fwd | front | 105.8 | ⋯ | 136 | mpfi | 3.19 | 3.40 | 8.5 | 110 | 5500 | 19 | 25 | 17710 |\n",
       "\n"
      ],
      "text/plain": [
       "  symboling normalized.losses make        fuel.type aspiration num.of.doors\n",
       "1 3                           alfa-romero gas       std        two         \n",
       "2 1                           alfa-romero gas       std        two         \n",
       "3 2         164               audi        gas       std        four        \n",
       "4 2         164               audi        gas       std        four        \n",
       "5 2                           audi        gas       std        two         \n",
       "6 1         158               audi        gas       std        four        \n",
       "  body.style  drive.wheels engine.location wheel.base ⋯ engine.size fuel.system\n",
       "1 convertible rwd          front           88.6       ⋯ 130         mpfi       \n",
       "2 hatchback   rwd          front           94.5       ⋯ 152         mpfi       \n",
       "3 sedan       fwd          front           99.8       ⋯ 109         mpfi       \n",
       "4 sedan       4wd          front           99.4       ⋯ 136         mpfi       \n",
       "5 sedan       fwd          front           99.8       ⋯ 136         mpfi       \n",
       "6 sedan       fwd          front           105.8      ⋯ 136         mpfi       \n",
       "  bore stroke compression.ratio horsepower peak.rpm city.mpg highway.mpg price\n",
       "1 3.47 2.68   9                 111        5000     21       27          16500\n",
       "2 2.68 3.47   9                 154        5000     19       26          16500\n",
       "3 3.19 3.40   10                102        5500     24       30          13950\n",
       "4 3.19 3.40   8                 115        5500     18       22          17450\n",
       "5 3.19 3.40   8.5               110        5500     19       25          15250\n",
       "6 3.19 3.40   8.5               110        5500     19       25          17710"
      ]
     },
     "metadata": {},
     "output_type": "display_data"
    }
   ],
   "source": [
    "#columnas factor a caracteres\n",
    "data_caracteres <- as.data.frame(lapply(data, as.character), stringsAsFactors = FALSE)\n",
    "#? por 0 en el data\n",
    "ndata <- replace(data_caracteres, data_caracteres == \"?\", '')\n",
    "# Imprimir\n",
    "head(ndata)\n"
   ]
  },
  {
   "cell_type": "code",
   "execution_count": 39,
   "metadata": {
    "vscode": {
     "languageId": "r"
    }
   },
   "outputs": [
    {
     "name": "stdout",
     "output_type": "stream",
     "text": [
      "'data.frame':\t204 obs. of  26 variables:\n",
      " $ symboling        : chr  \"3\" \"1\" \"2\" \"2\" ...\n",
      " $ normalized.losses: chr  \"\" \"\" \"164\" \"164\" ...\n",
      " $ make             : chr  \"alfa-romero\" \"alfa-romero\" \"audi\" \"audi\" ...\n",
      " $ fuel.type        : chr  \"gas\" \"gas\" \"gas\" \"gas\" ...\n",
      " $ aspiration       : chr  \"std\" \"std\" \"std\" \"std\" ...\n",
      " $ num.of.doors     : chr  \"two\" \"two\" \"four\" \"four\" ...\n",
      " $ body.style       : chr  \"convertible\" \"hatchback\" \"sedan\" \"sedan\" ...\n",
      " $ drive.wheels     : chr  \"rwd\" \"rwd\" \"fwd\" \"4wd\" ...\n",
      " $ engine.location  : chr  \"front\" \"front\" \"front\" \"front\" ...\n",
      " $ wheel.base       : chr  \"88.6\" \"94.5\" \"99.8\" \"99.4\" ...\n",
      " $ length           : chr  \"168.8\" \"171.2\" \"176.6\" \"176.6\" ...\n",
      " $ width            : chr  \"64.1\" \"65.5\" \"66.2\" \"66.4\" ...\n",
      " $ height           : chr  \"48.8\" \"52.4\" \"54.3\" \"54.3\" ...\n",
      " $ curb.weight      : chr  \"2548\" \"2823\" \"2337\" \"2824\" ...\n",
      " $ engine.type      : chr  \"dohc\" \"ohcv\" \"ohc\" \"ohc\" ...\n",
      " $ num.of.cylinders : chr  \"four\" \"six\" \"four\" \"five\" ...\n",
      " $ engine.size      : chr  \"130\" \"152\" \"109\" \"136\" ...\n",
      " $ fuel.system      : chr  \"mpfi\" \"mpfi\" \"mpfi\" \"mpfi\" ...\n",
      " $ bore             : chr  \"3.47\" \"2.68\" \"3.19\" \"3.19\" ...\n",
      " $ stroke           : chr  \"2.68\" \"3.47\" \"3.40\" \"3.40\" ...\n",
      " $ compression.ratio: chr  \"9\" \"9\" \"10\" \"8\" ...\n",
      " $ horsepower       : chr  \"111\" \"154\" \"102\" \"115\" ...\n",
      " $ peak.rpm         : chr  \"5000\" \"5000\" \"5500\" \"5500\" ...\n",
      " $ city.mpg         : chr  \"21\" \"19\" \"24\" \"18\" ...\n",
      " $ highway.mpg      : chr  \"27\" \"26\" \"30\" \"22\" ...\n",
      " $ price            : chr  \"16500\" \"16500\" \"13950\" \"17450\" ...\n"
     ]
    }
   ],
   "source": [
    "str(ndata)"
   ]
  },
  {
   "cell_type": "code",
   "execution_count": 44,
   "metadata": {
    "vscode": {
     "languageId": "r"
    }
   },
   "outputs": [
    {
     "name": "stdout",
     "output_type": "stream",
     "text": [
      "'data.frame':\t204 obs. of  26 variables:\n",
      " $ symboling        : num  3 1 2 2 2 1 1 1 0 2 ...\n",
      " $ normalized.losses: num  NA NA 164 164 NA 158 NA 158 NA 192 ...\n",
      " $ make             : chr  \"alfa-romero\" \"alfa-romero\" \"audi\" \"audi\" ...\n",
      " $ fuel.type        : chr  \"gas\" \"gas\" \"gas\" \"gas\" ...\n",
      " $ aspiration       : chr  \"std\" \"std\" \"std\" \"std\" ...\n",
      " $ num.of.doors     : chr  \"two\" \"two\" \"four\" \"four\" ...\n",
      " $ body.style       : chr  \"convertible\" \"hatchback\" \"sedan\" \"sedan\" ...\n",
      " $ drive.wheels     : chr  \"rwd\" \"rwd\" \"fwd\" \"4wd\" ...\n",
      " $ engine.location  : chr  \"front\" \"front\" \"front\" \"front\" ...\n",
      " $ wheel.base       : num  88.6 94.5 99.8 99.4 99.8 ...\n",
      " $ length           : chr  \"168.8\" \"171.2\" \"176.6\" \"176.6\" ...\n",
      " $ width            : chr  \"64.1\" \"65.5\" \"66.2\" \"66.4\" ...\n",
      " $ height           : chr  \"48.8\" \"52.4\" \"54.3\" \"54.3\" ...\n",
      " $ curb.weight      : chr  \"2548\" \"2823\" \"2337\" \"2824\" ...\n",
      " $ engine.type      : chr  \"dohc\" \"ohcv\" \"ohc\" \"ohc\" ...\n",
      " $ num.of.cylinders : chr  \"four\" \"six\" \"four\" \"five\" ...\n",
      " $ engine.size      : chr  \"130\" \"152\" \"109\" \"136\" ...\n",
      " $ fuel.system      : chr  \"mpfi\" \"mpfi\" \"mpfi\" \"mpfi\" ...\n",
      " $ bore             : chr  \"3.47\" \"2.68\" \"3.19\" \"3.19\" ...\n",
      " $ stroke           : chr  \"2.68\" \"3.47\" \"3.40\" \"3.40\" ...\n",
      " $ compression.ratio: chr  \"9\" \"9\" \"10\" \"8\" ...\n",
      " $ horsepower       : chr  \"111\" \"154\" \"102\" \"115\" ...\n",
      " $ peak.rpm         : chr  \"5000\" \"5000\" \"5500\" \"5500\" ...\n",
      " $ city.mpg         : chr  \"21\" \"19\" \"24\" \"18\" ...\n",
      " $ highway.mpg      : chr  \"27\" \"26\" \"30\" \"22\" ...\n",
      " $ price            : chr  \"16500\" \"16500\" \"13950\" \"17450\" ...\n"
     ]
    }
   ],
   "source": [
    "# Convertir una columna de tipo chr a flotante\n",
    "# Convertir columna 'symboling' de tipo chr a flotante\n",
    "ndata$symboling <- as.numeric(ndata$symboling)\n",
    "\n",
    "# Convertir columna 'normalized.losses' de tipo chr a flotante\n",
    "ndata$normalized.losses <- as.numeric(ndata$normalized.losses)\n",
    "\n",
    "# Convertir columna 'wheel.base' de tipo chr a flotante\n",
    "ndata$wheel.base <- as.numeric(ndata$wheel.base)\n",
    "str(ndata)"
   ]
  },
  {
   "cell_type": "code",
   "execution_count": 45,
   "metadata": {
    "vscode": {
     "languageId": "r"
    }
   },
   "outputs": [
    {
     "data": {
      "text/html": [
       "<table class=\"dataframe\">\n",
       "<caption>A data.frame: 6 × 26</caption>\n",
       "<thead>\n",
       "\t<tr><th></th><th scope=col>symboling</th><th scope=col>normalized.losses</th><th scope=col>make</th><th scope=col>fuel.type</th><th scope=col>aspiration</th><th scope=col>num.of.doors</th><th scope=col>body.style</th><th scope=col>drive.wheels</th><th scope=col>engine.location</th><th scope=col>wheel.base</th><th scope=col>⋯</th><th scope=col>engine.size</th><th scope=col>fuel.system</th><th scope=col>bore</th><th scope=col>stroke</th><th scope=col>compression.ratio</th><th scope=col>horsepower</th><th scope=col>peak.rpm</th><th scope=col>city.mpg</th><th scope=col>highway.mpg</th><th scope=col>price</th></tr>\n",
       "\t<tr><th></th><th scope=col>&lt;dbl&gt;</th><th scope=col>&lt;dbl&gt;</th><th scope=col>&lt;chr&gt;</th><th scope=col>&lt;chr&gt;</th><th scope=col>&lt;chr&gt;</th><th scope=col>&lt;chr&gt;</th><th scope=col>&lt;chr&gt;</th><th scope=col>&lt;chr&gt;</th><th scope=col>&lt;chr&gt;</th><th scope=col>&lt;dbl&gt;</th><th scope=col>⋯</th><th scope=col>&lt;chr&gt;</th><th scope=col>&lt;chr&gt;</th><th scope=col>&lt;chr&gt;</th><th scope=col>&lt;chr&gt;</th><th scope=col>&lt;chr&gt;</th><th scope=col>&lt;chr&gt;</th><th scope=col>&lt;chr&gt;</th><th scope=col>&lt;chr&gt;</th><th scope=col>&lt;chr&gt;</th><th scope=col>&lt;chr&gt;</th></tr>\n",
       "</thead>\n",
       "<tbody>\n",
       "\t<tr><th scope=row>1</th><td>3</td><td>  0.8235294</td><td>alfa-romero</td><td>gas</td><td>std</td><td>two </td><td>convertible</td><td>rwd</td><td>front</td><td> 88.6</td><td>⋯</td><td>130</td><td>mpfi</td><td>3.47</td><td>2.68</td><td>9  </td><td>111</td><td>5000</td><td>21</td><td>27</td><td>16500</td></tr>\n",
       "\t<tr><th scope=row>2</th><td>1</td><td>122.0000000</td><td>alfa-romero</td><td>gas</td><td>std</td><td>two </td><td>hatchback  </td><td>rwd</td><td>front</td><td> 94.5</td><td>⋯</td><td>152</td><td>mpfi</td><td>2.68</td><td>3.47</td><td>9  </td><td>154</td><td>5000</td><td>19</td><td>26</td><td>16500</td></tr>\n",
       "\t<tr><th scope=row>3</th><td>2</td><td>164.0000000</td><td>audi       </td><td>gas</td><td>std</td><td>four</td><td>sedan      </td><td>fwd</td><td>front</td><td> 99.8</td><td>⋯</td><td>109</td><td>mpfi</td><td>3.19</td><td>3.40</td><td>10 </td><td>102</td><td>5500</td><td>24</td><td>30</td><td>13950</td></tr>\n",
       "\t<tr><th scope=row>4</th><td>2</td><td>164.0000000</td><td>audi       </td><td>gas</td><td>std</td><td>four</td><td>sedan      </td><td>4wd</td><td>front</td><td> 99.4</td><td>⋯</td><td>136</td><td>mpfi</td><td>3.19</td><td>3.40</td><td>8  </td><td>115</td><td>5500</td><td>18</td><td>22</td><td>17450</td></tr>\n",
       "\t<tr><th scope=row>5</th><td>2</td><td>         NA</td><td>audi       </td><td>gas</td><td>std</td><td>two </td><td>sedan      </td><td>fwd</td><td>front</td><td> 99.8</td><td>⋯</td><td>136</td><td>mpfi</td><td>3.19</td><td>3.40</td><td>8.5</td><td>110</td><td>5500</td><td>19</td><td>25</td><td>15250</td></tr>\n",
       "\t<tr><th scope=row>6</th><td>1</td><td>158.0000000</td><td>audi       </td><td>gas</td><td>std</td><td>four</td><td>sedan      </td><td>fwd</td><td>front</td><td>105.8</td><td>⋯</td><td>136</td><td>mpfi</td><td>3.19</td><td>3.40</td><td>8.5</td><td>110</td><td>5500</td><td>19</td><td>25</td><td>17710</td></tr>\n",
       "</tbody>\n",
       "</table>\n"
      ],
      "text/latex": [
       "A data.frame: 6 × 26\n",
       "\\begin{tabular}{r|lllllllllllllllllllll}\n",
       "  & symboling & normalized.losses & make & fuel.type & aspiration & num.of.doors & body.style & drive.wheels & engine.location & wheel.base & ⋯ & engine.size & fuel.system & bore & stroke & compression.ratio & horsepower & peak.rpm & city.mpg & highway.mpg & price\\\\\n",
       "  & <dbl> & <dbl> & <chr> & <chr> & <chr> & <chr> & <chr> & <chr> & <chr> & <dbl> & ⋯ & <chr> & <chr> & <chr> & <chr> & <chr> & <chr> & <chr> & <chr> & <chr> & <chr>\\\\\n",
       "\\hline\n",
       "\t1 & 3 &   0.8235294 & alfa-romero & gas & std & two  & convertible & rwd & front &  88.6 & ⋯ & 130 & mpfi & 3.47 & 2.68 & 9   & 111 & 5000 & 21 & 27 & 16500\\\\\n",
       "\t2 & 1 & 122.0000000 & alfa-romero & gas & std & two  & hatchback   & rwd & front &  94.5 & ⋯ & 152 & mpfi & 2.68 & 3.47 & 9   & 154 & 5000 & 19 & 26 & 16500\\\\\n",
       "\t3 & 2 & 164.0000000 & audi        & gas & std & four & sedan       & fwd & front &  99.8 & ⋯ & 109 & mpfi & 3.19 & 3.40 & 10  & 102 & 5500 & 24 & 30 & 13950\\\\\n",
       "\t4 & 2 & 164.0000000 & audi        & gas & std & four & sedan       & 4wd & front &  99.4 & ⋯ & 136 & mpfi & 3.19 & 3.40 & 8   & 115 & 5500 & 18 & 22 & 17450\\\\\n",
       "\t5 & 2 &          NA & audi        & gas & std & two  & sedan       & fwd & front &  99.8 & ⋯ & 136 & mpfi & 3.19 & 3.40 & 8.5 & 110 & 5500 & 19 & 25 & 15250\\\\\n",
       "\t6 & 1 & 158.0000000 & audi        & gas & std & four & sedan       & fwd & front & 105.8 & ⋯ & 136 & mpfi & 3.19 & 3.40 & 8.5 & 110 & 5500 & 19 & 25 & 17710\\\\\n",
       "\\end{tabular}\n"
      ],
      "text/markdown": [
       "\n",
       "A data.frame: 6 × 26\n",
       "\n",
       "| <!--/--> | symboling &lt;dbl&gt; | normalized.losses &lt;dbl&gt; | make &lt;chr&gt; | fuel.type &lt;chr&gt; | aspiration &lt;chr&gt; | num.of.doors &lt;chr&gt; | body.style &lt;chr&gt; | drive.wheels &lt;chr&gt; | engine.location &lt;chr&gt; | wheel.base &lt;dbl&gt; | ⋯ ⋯ | engine.size &lt;chr&gt; | fuel.system &lt;chr&gt; | bore &lt;chr&gt; | stroke &lt;chr&gt; | compression.ratio &lt;chr&gt; | horsepower &lt;chr&gt; | peak.rpm &lt;chr&gt; | city.mpg &lt;chr&gt; | highway.mpg &lt;chr&gt; | price &lt;chr&gt; |\n",
       "|---|---|---|---|---|---|---|---|---|---|---|---|---|---|---|---|---|---|---|---|---|---|\n",
       "| 1 | 3 |   0.8235294 | alfa-romero | gas | std | two  | convertible | rwd | front |  88.6 | ⋯ | 130 | mpfi | 3.47 | 2.68 | 9   | 111 | 5000 | 21 | 27 | 16500 |\n",
       "| 2 | 1 | 122.0000000 | alfa-romero | gas | std | two  | hatchback   | rwd | front |  94.5 | ⋯ | 152 | mpfi | 2.68 | 3.47 | 9   | 154 | 5000 | 19 | 26 | 16500 |\n",
       "| 3 | 2 | 164.0000000 | audi        | gas | std | four | sedan       | fwd | front |  99.8 | ⋯ | 109 | mpfi | 3.19 | 3.40 | 10  | 102 | 5500 | 24 | 30 | 13950 |\n",
       "| 4 | 2 | 164.0000000 | audi        | gas | std | four | sedan       | 4wd | front |  99.4 | ⋯ | 136 | mpfi | 3.19 | 3.40 | 8   | 115 | 5500 | 18 | 22 | 17450 |\n",
       "| 5 | 2 |          NA | audi        | gas | std | two  | sedan       | fwd | front |  99.8 | ⋯ | 136 | mpfi | 3.19 | 3.40 | 8.5 | 110 | 5500 | 19 | 25 | 15250 |\n",
       "| 6 | 1 | 158.0000000 | audi        | gas | std | four | sedan       | fwd | front | 105.8 | ⋯ | 136 | mpfi | 3.19 | 3.40 | 8.5 | 110 | 5500 | 19 | 25 | 17710 |\n",
       "\n"
      ],
      "text/plain": [
       "  symboling normalized.losses make        fuel.type aspiration num.of.doors\n",
       "1 3           0.8235294       alfa-romero gas       std        two         \n",
       "2 1         122.0000000       alfa-romero gas       std        two         \n",
       "3 2         164.0000000       audi        gas       std        four        \n",
       "4 2         164.0000000       audi        gas       std        four        \n",
       "5 2                  NA       audi        gas       std        two         \n",
       "6 1         158.0000000       audi        gas       std        four        \n",
       "  body.style  drive.wheels engine.location wheel.base ⋯ engine.size fuel.system\n",
       "1 convertible rwd          front            88.6      ⋯ 130         mpfi       \n",
       "2 hatchback   rwd          front            94.5      ⋯ 152         mpfi       \n",
       "3 sedan       fwd          front            99.8      ⋯ 109         mpfi       \n",
       "4 sedan       4wd          front            99.4      ⋯ 136         mpfi       \n",
       "5 sedan       fwd          front            99.8      ⋯ 136         mpfi       \n",
       "6 sedan       fwd          front           105.8      ⋯ 136         mpfi       \n",
       "  bore stroke compression.ratio horsepower peak.rpm city.mpg highway.mpg price\n",
       "1 3.47 2.68   9                 111        5000     21       27          16500\n",
       "2 2.68 3.47   9                 154        5000     19       26          16500\n",
       "3 3.19 3.40   10                102        5500     24       30          13950\n",
       "4 3.19 3.40   8                 115        5500     18       22          17450\n",
       "5 3.19 3.40   8.5               110        5500     19       25          15250\n",
       "6 3.19 3.40   8.5               110        5500     19       25          17710"
      ]
     },
     "metadata": {},
     "output_type": "display_data"
    }
   ],
   "source": [
    "#columnas numéricas\n",
    "colnum <- sapply(ndata, is.numeric)\n",
    "\n",
    "#Calcular media de c/c numérica\n",
    "meds <- sapply(ndata[, colnum], mean, na.rm = TRUE)\n",
    "\n",
    "# NA ->media n\n",
    "data_imputada1 <- ndata\n",
    "data_imputada1[, colnum] <- lapply(data_imputada1[, colnum], function(x) {\n",
    "  is_na <- is.na(x)\n",
    "  x[is_na] <- meds[is_na]\n",
    "  return(x)\n",
    "})\n",
    "#1dataframeimputado\n",
    "head(data_imputada1)"
   ]
  },
  {
   "attachments": {},
   "cell_type": "markdown",
   "metadata": {},
   "source": [
    "(f) Create a new data set by imputing the mode in all the columns which have integer type values."
   ]
  },
  {
   "cell_type": "code",
   "execution_count": 47,
   "metadata": {
    "vscode": {
     "languageId": "r"
    }
   },
   "outputs": [],
   "source": [
    "#Moda\n",
    "mode <- function(x) {\n",
    "   return(as.numeric(names(which.max(table(x)))))\n",
    "}\n"
   ]
  },
  {
   "cell_type": "code",
   "execution_count": 50,
   "metadata": {
    "vscode": {
     "languageId": "r"
    }
   },
   "outputs": [
    {
     "data": {
      "text/html": [
       "<table class=\"dataframe\">\n",
       "<caption>A data.frame: 6 × 26</caption>\n",
       "<thead>\n",
       "\t<tr><th></th><th scope=col>symboling</th><th scope=col>normalized.losses</th><th scope=col>make</th><th scope=col>fuel.type</th><th scope=col>aspiration</th><th scope=col>num.of.doors</th><th scope=col>body.style</th><th scope=col>drive.wheels</th><th scope=col>engine.location</th><th scope=col>wheel.base</th><th scope=col>⋯</th><th scope=col>engine.size</th><th scope=col>fuel.system</th><th scope=col>bore</th><th scope=col>stroke</th><th scope=col>compression.ratio</th><th scope=col>horsepower</th><th scope=col>peak.rpm</th><th scope=col>city.mpg</th><th scope=col>highway.mpg</th><th scope=col>price</th></tr>\n",
       "\t<tr><th></th><th scope=col>&lt;dbl&gt;</th><th scope=col>&lt;dbl&gt;</th><th scope=col>&lt;chr&gt;</th><th scope=col>&lt;chr&gt;</th><th scope=col>&lt;chr&gt;</th><th scope=col>&lt;chr&gt;</th><th scope=col>&lt;chr&gt;</th><th scope=col>&lt;chr&gt;</th><th scope=col>&lt;chr&gt;</th><th scope=col>&lt;dbl&gt;</th><th scope=col>⋯</th><th scope=col>&lt;chr&gt;</th><th scope=col>&lt;chr&gt;</th><th scope=col>&lt;chr&gt;</th><th scope=col>&lt;chr&gt;</th><th scope=col>&lt;chr&gt;</th><th scope=col>&lt;chr&gt;</th><th scope=col>&lt;chr&gt;</th><th scope=col>&lt;chr&gt;</th><th scope=col>&lt;chr&gt;</th><th scope=col>&lt;chr&gt;</th></tr>\n",
       "</thead>\n",
       "<tbody>\n",
       "\t<tr><th scope=row>1</th><td>3</td><td>161</td><td>alfa-romero</td><td>gas</td><td>std</td><td>two </td><td>convertible</td><td>rwd</td><td>front</td><td> 88.6</td><td>⋯</td><td>130</td><td>mpfi</td><td>3.47</td><td>2.68</td><td>9  </td><td>111</td><td>5000</td><td>21</td><td>27</td><td>16500</td></tr>\n",
       "\t<tr><th scope=row>2</th><td>1</td><td>161</td><td>alfa-romero</td><td>gas</td><td>std</td><td>two </td><td>hatchback  </td><td>rwd</td><td>front</td><td> 94.5</td><td>⋯</td><td>152</td><td>mpfi</td><td>2.68</td><td>3.47</td><td>9  </td><td>154</td><td>5000</td><td>19</td><td>26</td><td>16500</td></tr>\n",
       "\t<tr><th scope=row>3</th><td>2</td><td>164</td><td>audi       </td><td>gas</td><td>std</td><td>four</td><td>sedan      </td><td>fwd</td><td>front</td><td> 99.8</td><td>⋯</td><td>109</td><td>mpfi</td><td>3.19</td><td>3.40</td><td>10 </td><td>102</td><td>5500</td><td>24</td><td>30</td><td>13950</td></tr>\n",
       "\t<tr><th scope=row>4</th><td>2</td><td>164</td><td>audi       </td><td>gas</td><td>std</td><td>four</td><td>sedan      </td><td>4wd</td><td>front</td><td> 99.4</td><td>⋯</td><td>136</td><td>mpfi</td><td>3.19</td><td>3.40</td><td>8  </td><td>115</td><td>5500</td><td>18</td><td>22</td><td>17450</td></tr>\n",
       "\t<tr><th scope=row>5</th><td>2</td><td>161</td><td>audi       </td><td>gas</td><td>std</td><td>two </td><td>sedan      </td><td>fwd</td><td>front</td><td> 99.8</td><td>⋯</td><td>136</td><td>mpfi</td><td>3.19</td><td>3.40</td><td>8.5</td><td>110</td><td>5500</td><td>19</td><td>25</td><td>15250</td></tr>\n",
       "\t<tr><th scope=row>6</th><td>1</td><td>158</td><td>audi       </td><td>gas</td><td>std</td><td>four</td><td>sedan      </td><td>fwd</td><td>front</td><td>105.8</td><td>⋯</td><td>136</td><td>mpfi</td><td>3.19</td><td>3.40</td><td>8.5</td><td>110</td><td>5500</td><td>19</td><td>25</td><td>17710</td></tr>\n",
       "</tbody>\n",
       "</table>\n"
      ],
      "text/latex": [
       "A data.frame: 6 × 26\n",
       "\\begin{tabular}{r|lllllllllllllllllllll}\n",
       "  & symboling & normalized.losses & make & fuel.type & aspiration & num.of.doors & body.style & drive.wheels & engine.location & wheel.base & ⋯ & engine.size & fuel.system & bore & stroke & compression.ratio & horsepower & peak.rpm & city.mpg & highway.mpg & price\\\\\n",
       "  & <dbl> & <dbl> & <chr> & <chr> & <chr> & <chr> & <chr> & <chr> & <chr> & <dbl> & ⋯ & <chr> & <chr> & <chr> & <chr> & <chr> & <chr> & <chr> & <chr> & <chr> & <chr>\\\\\n",
       "\\hline\n",
       "\t1 & 3 & 161 & alfa-romero & gas & std & two  & convertible & rwd & front &  88.6 & ⋯ & 130 & mpfi & 3.47 & 2.68 & 9   & 111 & 5000 & 21 & 27 & 16500\\\\\n",
       "\t2 & 1 & 161 & alfa-romero & gas & std & two  & hatchback   & rwd & front &  94.5 & ⋯ & 152 & mpfi & 2.68 & 3.47 & 9   & 154 & 5000 & 19 & 26 & 16500\\\\\n",
       "\t3 & 2 & 164 & audi        & gas & std & four & sedan       & fwd & front &  99.8 & ⋯ & 109 & mpfi & 3.19 & 3.40 & 10  & 102 & 5500 & 24 & 30 & 13950\\\\\n",
       "\t4 & 2 & 164 & audi        & gas & std & four & sedan       & 4wd & front &  99.4 & ⋯ & 136 & mpfi & 3.19 & 3.40 & 8   & 115 & 5500 & 18 & 22 & 17450\\\\\n",
       "\t5 & 2 & 161 & audi        & gas & std & two  & sedan       & fwd & front &  99.8 & ⋯ & 136 & mpfi & 3.19 & 3.40 & 8.5 & 110 & 5500 & 19 & 25 & 15250\\\\\n",
       "\t6 & 1 & 158 & audi        & gas & std & four & sedan       & fwd & front & 105.8 & ⋯ & 136 & mpfi & 3.19 & 3.40 & 8.5 & 110 & 5500 & 19 & 25 & 17710\\\\\n",
       "\\end{tabular}\n"
      ],
      "text/markdown": [
       "\n",
       "A data.frame: 6 × 26\n",
       "\n",
       "| <!--/--> | symboling &lt;dbl&gt; | normalized.losses &lt;dbl&gt; | make &lt;chr&gt; | fuel.type &lt;chr&gt; | aspiration &lt;chr&gt; | num.of.doors &lt;chr&gt; | body.style &lt;chr&gt; | drive.wheels &lt;chr&gt; | engine.location &lt;chr&gt; | wheel.base &lt;dbl&gt; | ⋯ ⋯ | engine.size &lt;chr&gt; | fuel.system &lt;chr&gt; | bore &lt;chr&gt; | stroke &lt;chr&gt; | compression.ratio &lt;chr&gt; | horsepower &lt;chr&gt; | peak.rpm &lt;chr&gt; | city.mpg &lt;chr&gt; | highway.mpg &lt;chr&gt; | price &lt;chr&gt; |\n",
       "|---|---|---|---|---|---|---|---|---|---|---|---|---|---|---|---|---|---|---|---|---|---|\n",
       "| 1 | 3 | 161 | alfa-romero | gas | std | two  | convertible | rwd | front |  88.6 | ⋯ | 130 | mpfi | 3.47 | 2.68 | 9   | 111 | 5000 | 21 | 27 | 16500 |\n",
       "| 2 | 1 | 161 | alfa-romero | gas | std | two  | hatchback   | rwd | front |  94.5 | ⋯ | 152 | mpfi | 2.68 | 3.47 | 9   | 154 | 5000 | 19 | 26 | 16500 |\n",
       "| 3 | 2 | 164 | audi        | gas | std | four | sedan       | fwd | front |  99.8 | ⋯ | 109 | mpfi | 3.19 | 3.40 | 10  | 102 | 5500 | 24 | 30 | 13950 |\n",
       "| 4 | 2 | 164 | audi        | gas | std | four | sedan       | 4wd | front |  99.4 | ⋯ | 136 | mpfi | 3.19 | 3.40 | 8   | 115 | 5500 | 18 | 22 | 17450 |\n",
       "| 5 | 2 | 161 | audi        | gas | std | two  | sedan       | fwd | front |  99.8 | ⋯ | 136 | mpfi | 3.19 | 3.40 | 8.5 | 110 | 5500 | 19 | 25 | 15250 |\n",
       "| 6 | 1 | 158 | audi        | gas | std | four | sedan       | fwd | front | 105.8 | ⋯ | 136 | mpfi | 3.19 | 3.40 | 8.5 | 110 | 5500 | 19 | 25 | 17710 |\n",
       "\n"
      ],
      "text/plain": [
       "  symboling normalized.losses make        fuel.type aspiration num.of.doors\n",
       "1 3         161               alfa-romero gas       std        two         \n",
       "2 1         161               alfa-romero gas       std        two         \n",
       "3 2         164               audi        gas       std        four        \n",
       "4 2         164               audi        gas       std        four        \n",
       "5 2         161               audi        gas       std        two         \n",
       "6 1         158               audi        gas       std        four        \n",
       "  body.style  drive.wheels engine.location wheel.base ⋯ engine.size fuel.system\n",
       "1 convertible rwd          front            88.6      ⋯ 130         mpfi       \n",
       "2 hatchback   rwd          front            94.5      ⋯ 152         mpfi       \n",
       "3 sedan       fwd          front            99.8      ⋯ 109         mpfi       \n",
       "4 sedan       4wd          front            99.4      ⋯ 136         mpfi       \n",
       "5 sedan       fwd          front            99.8      ⋯ 136         mpfi       \n",
       "6 sedan       fwd          front           105.8      ⋯ 136         mpfi       \n",
       "  bore stroke compression.ratio horsepower peak.rpm city.mpg highway.mpg price\n",
       "1 3.47 2.68   9                 111        5000     21       27          16500\n",
       "2 2.68 3.47   9                 154        5000     19       26          16500\n",
       "3 3.19 3.40   10                102        5500     24       30          13950\n",
       "4 3.19 3.40   8                 115        5500     18       22          17450\n",
       "5 3.19 3.40   8.5               110        5500     19       25          15250\n",
       "6 3.19 3.40   8.5               110        5500     19       25          17710"
      ]
     },
     "metadata": {},
     "output_type": "display_data"
    }
   ],
   "source": [
    "#repetimos lo mismo que en la anterior\n",
    "colnum<- sapply(ndata, is.numeric)\n",
    "# Na->col\n",
    "data_imputado<-ndata\n",
    "data_imputado[, colnum] <- lapply(data_imputado[, colnum], function(x) {\n",
    "  is_na <- is.na(x)\n",
    "  x[is_na] <- mode(x[!is_na])\n",
    "  return(x)\n",
    "})\n",
    "#imprimir\n",
    "head(data_imputado)"
   ]
  },
  {
   "attachments": {},
   "cell_type": "markdown",
   "metadata": {},
   "source": [
    "(g) Create a new data set by imputing the most frequent value to the column ”nDoors”."
   ]
  },
  {
   "cell_type": "code",
   "execution_count": 51,
   "metadata": {
    "vscode": {
     "languageId": "r"
    }
   },
   "outputs": [
    {
     "name": "stdout",
     "output_type": "stream",
     "text": [
      "NULL\n"
     ]
    }
   ],
   "source": [
    "#USAR IMPUTE_REPLACE()\n",
    "# Create a new dataset by imputing the most frequent value to \"nDoors\"\n",
    "new_data_g <- impute_replace(data, target = \"nDoors\", method = \"mode\")\n",
    "# Print the new dataset\n",
    "print(new_data_g)\n",
    "#NO SIRVE\n"
   ]
  },
  {
   "cell_type": "code",
   "execution_count": 54,
   "metadata": {
    "vscode": {
     "languageId": "r"
    }
   },
   "outputs": [
    {
     "name": "stdout",
     "output_type": "stream",
     "text": [
      "[1] \"four\"\n"
     ]
    }
   ],
   "source": [
    "df<-data_imputado\n",
    "#moda del ultimo\n",
    "moda<-as.character(names(which.max(table(df$num.of.doors))))\n",
    "# Imprimir la moda\n",
    "print(moda)"
   ]
  },
  {
   "cell_type": "code",
   "execution_count": 55,
   "metadata": {
    "vscode": {
     "languageId": "r"
    }
   },
   "outputs": [
    {
     "name": "stdout",
     "output_type": "stream",
     "text": [
      "[1] \"\"     \"four\" \"two\" \n"
     ]
    }
   ],
   "source": [
    "# Convertir la columna a tipo factor\n",
    "columna_factor <- as.factor(df$num.of.doors)\n",
    "# Obtener todos los niveles de la columna factor\n",
    "n <- levels(columna_factor)\n",
    "# Imprimir los niveles\n",
    "print(n)"
   ]
  },
  {
   "cell_type": "code",
   "execution_count": 57,
   "metadata": {
    "vscode": {
     "languageId": "r"
    }
   },
   "outputs": [
    {
     "name": "stdout",
     "output_type": "stream",
     "text": [
      "[1] \"four\" \"two\" \n"
     ]
    }
   ],
   "source": [
    "# Reemplazar \"?\" por 0 en la columna \"num.of.doors\"\n",
    "ndors<-replace(df$num.of.doors,df$num.of.doors == \"\", moda)\n",
    "# Reamplazamos los valores de ndors en la matriz\n",
    "df$num.of.doors <- ndors\n",
    "# Convertir la columna a tipo factor\n",
    "columna_factor <- as.factor(df$num.of.doors)\n",
    "\n",
    "# Obtener todos los niveles de la columna factor\n",
    "n <- levels(columna_factor)\n",
    "\n",
    "# Imprimir los niveles\n",
    "print(n)"
   ]
  },
  {
   "attachments": {},
   "cell_type": "markdown",
   "metadata": {},
   "source": [
    "(h) Combine the three last imputations to obtain a final dataset. Are there any duplicated cases?"
   ]
  },
  {
   "cell_type": "code",
   "execution_count": 60,
   "metadata": {
    "vscode": {
     "languageId": "r"
    }
   },
   "outputs": [
    {
     "data": {
      "text/html": [
       "<table class=\"dataframe\">\n",
       "<caption>A data.frame: 6 × 26</caption>\n",
       "<thead>\n",
       "\t<tr><th></th><th scope=col>symboling</th><th scope=col>normalized.losses</th><th scope=col>make</th><th scope=col>fuel.type</th><th scope=col>aspiration</th><th scope=col>num.of.doors</th><th scope=col>body.style</th><th scope=col>drive.wheels</th><th scope=col>engine.location</th><th scope=col>wheel.base</th><th scope=col>⋯</th><th scope=col>engine.size</th><th scope=col>fuel.system</th><th scope=col>bore</th><th scope=col>stroke</th><th scope=col>compression.ratio</th><th scope=col>horsepower</th><th scope=col>peak.rpm</th><th scope=col>city.mpg</th><th scope=col>highway.mpg</th><th scope=col>price</th></tr>\n",
       "\t<tr><th></th><th scope=col>&lt;dbl&gt;</th><th scope=col>&lt;dbl&gt;</th><th scope=col>&lt;chr&gt;</th><th scope=col>&lt;chr&gt;</th><th scope=col>&lt;chr&gt;</th><th scope=col>&lt;chr&gt;</th><th scope=col>&lt;chr&gt;</th><th scope=col>&lt;chr&gt;</th><th scope=col>&lt;chr&gt;</th><th scope=col>&lt;dbl&gt;</th><th scope=col>⋯</th><th scope=col>&lt;chr&gt;</th><th scope=col>&lt;chr&gt;</th><th scope=col>&lt;chr&gt;</th><th scope=col>&lt;chr&gt;</th><th scope=col>&lt;chr&gt;</th><th scope=col>&lt;chr&gt;</th><th scope=col>&lt;chr&gt;</th><th scope=col>&lt;chr&gt;</th><th scope=col>&lt;chr&gt;</th><th scope=col>&lt;chr&gt;</th></tr>\n",
       "</thead>\n",
       "<tbody>\n",
       "\t<tr><th scope=row>1</th><td>3</td><td>161</td><td>alfa-romero</td><td>gas</td><td>std</td><td>two </td><td>convertible</td><td>rwd</td><td>front</td><td> 88.6</td><td>⋯</td><td>130</td><td>mpfi</td><td>3.47</td><td>2.68</td><td>9  </td><td>111</td><td>5000</td><td>21</td><td>27</td><td>16500</td></tr>\n",
       "\t<tr><th scope=row>2</th><td>1</td><td>161</td><td>alfa-romero</td><td>gas</td><td>std</td><td>two </td><td>hatchback  </td><td>rwd</td><td>front</td><td> 94.5</td><td>⋯</td><td>152</td><td>mpfi</td><td>2.68</td><td>3.47</td><td>9  </td><td>154</td><td>5000</td><td>19</td><td>26</td><td>16500</td></tr>\n",
       "\t<tr><th scope=row>3</th><td>2</td><td>164</td><td>audi       </td><td>gas</td><td>std</td><td>four</td><td>sedan      </td><td>fwd</td><td>front</td><td> 99.8</td><td>⋯</td><td>109</td><td>mpfi</td><td>3.19</td><td>3.40</td><td>10 </td><td>102</td><td>5500</td><td>24</td><td>30</td><td>13950</td></tr>\n",
       "\t<tr><th scope=row>4</th><td>2</td><td>164</td><td>audi       </td><td>gas</td><td>std</td><td>four</td><td>sedan      </td><td>4wd</td><td>front</td><td> 99.4</td><td>⋯</td><td>136</td><td>mpfi</td><td>3.19</td><td>3.40</td><td>8  </td><td>115</td><td>5500</td><td>18</td><td>22</td><td>17450</td></tr>\n",
       "\t<tr><th scope=row>5</th><td>2</td><td>161</td><td>audi       </td><td>gas</td><td>std</td><td>two </td><td>sedan      </td><td>fwd</td><td>front</td><td> 99.8</td><td>⋯</td><td>136</td><td>mpfi</td><td>3.19</td><td>3.40</td><td>8.5</td><td>110</td><td>5500</td><td>19</td><td>25</td><td>15250</td></tr>\n",
       "\t<tr><th scope=row>6</th><td>1</td><td>158</td><td>audi       </td><td>gas</td><td>std</td><td>four</td><td>sedan      </td><td>fwd</td><td>front</td><td>105.8</td><td>⋯</td><td>136</td><td>mpfi</td><td>3.19</td><td>3.40</td><td>8.5</td><td>110</td><td>5500</td><td>19</td><td>25</td><td>17710</td></tr>\n",
       "</tbody>\n",
       "</table>\n"
      ],
      "text/latex": [
       "A data.frame: 6 × 26\n",
       "\\begin{tabular}{r|lllllllllllllllllllll}\n",
       "  & symboling & normalized.losses & make & fuel.type & aspiration & num.of.doors & body.style & drive.wheels & engine.location & wheel.base & ⋯ & engine.size & fuel.system & bore & stroke & compression.ratio & horsepower & peak.rpm & city.mpg & highway.mpg & price\\\\\n",
       "  & <dbl> & <dbl> & <chr> & <chr> & <chr> & <chr> & <chr> & <chr> & <chr> & <dbl> & ⋯ & <chr> & <chr> & <chr> & <chr> & <chr> & <chr> & <chr> & <chr> & <chr> & <chr>\\\\\n",
       "\\hline\n",
       "\t1 & 3 & 161 & alfa-romero & gas & std & two  & convertible & rwd & front &  88.6 & ⋯ & 130 & mpfi & 3.47 & 2.68 & 9   & 111 & 5000 & 21 & 27 & 16500\\\\\n",
       "\t2 & 1 & 161 & alfa-romero & gas & std & two  & hatchback   & rwd & front &  94.5 & ⋯ & 152 & mpfi & 2.68 & 3.47 & 9   & 154 & 5000 & 19 & 26 & 16500\\\\\n",
       "\t3 & 2 & 164 & audi        & gas & std & four & sedan       & fwd & front &  99.8 & ⋯ & 109 & mpfi & 3.19 & 3.40 & 10  & 102 & 5500 & 24 & 30 & 13950\\\\\n",
       "\t4 & 2 & 164 & audi        & gas & std & four & sedan       & 4wd & front &  99.4 & ⋯ & 136 & mpfi & 3.19 & 3.40 & 8   & 115 & 5500 & 18 & 22 & 17450\\\\\n",
       "\t5 & 2 & 161 & audi        & gas & std & two  & sedan       & fwd & front &  99.8 & ⋯ & 136 & mpfi & 3.19 & 3.40 & 8.5 & 110 & 5500 & 19 & 25 & 15250\\\\\n",
       "\t6 & 1 & 158 & audi        & gas & std & four & sedan       & fwd & front & 105.8 & ⋯ & 136 & mpfi & 3.19 & 3.40 & 8.5 & 110 & 5500 & 19 & 25 & 17710\\\\\n",
       "\\end{tabular}\n"
      ],
      "text/markdown": [
       "\n",
       "A data.frame: 6 × 26\n",
       "\n",
       "| <!--/--> | symboling &lt;dbl&gt; | normalized.losses &lt;dbl&gt; | make &lt;chr&gt; | fuel.type &lt;chr&gt; | aspiration &lt;chr&gt; | num.of.doors &lt;chr&gt; | body.style &lt;chr&gt; | drive.wheels &lt;chr&gt; | engine.location &lt;chr&gt; | wheel.base &lt;dbl&gt; | ⋯ ⋯ | engine.size &lt;chr&gt; | fuel.system &lt;chr&gt; | bore &lt;chr&gt; | stroke &lt;chr&gt; | compression.ratio &lt;chr&gt; | horsepower &lt;chr&gt; | peak.rpm &lt;chr&gt; | city.mpg &lt;chr&gt; | highway.mpg &lt;chr&gt; | price &lt;chr&gt; |\n",
       "|---|---|---|---|---|---|---|---|---|---|---|---|---|---|---|---|---|---|---|---|---|---|\n",
       "| 1 | 3 | 161 | alfa-romero | gas | std | two  | convertible | rwd | front |  88.6 | ⋯ | 130 | mpfi | 3.47 | 2.68 | 9   | 111 | 5000 | 21 | 27 | 16500 |\n",
       "| 2 | 1 | 161 | alfa-romero | gas | std | two  | hatchback   | rwd | front |  94.5 | ⋯ | 152 | mpfi | 2.68 | 3.47 | 9   | 154 | 5000 | 19 | 26 | 16500 |\n",
       "| 3 | 2 | 164 | audi        | gas | std | four | sedan       | fwd | front |  99.8 | ⋯ | 109 | mpfi | 3.19 | 3.40 | 10  | 102 | 5500 | 24 | 30 | 13950 |\n",
       "| 4 | 2 | 164 | audi        | gas | std | four | sedan       | 4wd | front |  99.4 | ⋯ | 136 | mpfi | 3.19 | 3.40 | 8   | 115 | 5500 | 18 | 22 | 17450 |\n",
       "| 5 | 2 | 161 | audi        | gas | std | two  | sedan       | fwd | front |  99.8 | ⋯ | 136 | mpfi | 3.19 | 3.40 | 8.5 | 110 | 5500 | 19 | 25 | 15250 |\n",
       "| 6 | 1 | 158 | audi        | gas | std | four | sedan       | fwd | front | 105.8 | ⋯ | 136 | mpfi | 3.19 | 3.40 | 8.5 | 110 | 5500 | 19 | 25 | 17710 |\n",
       "\n"
      ],
      "text/plain": [
       "  symboling normalized.losses make        fuel.type aspiration num.of.doors\n",
       "1 3         161               alfa-romero gas       std        two         \n",
       "2 1         161               alfa-romero gas       std        two         \n",
       "3 2         164               audi        gas       std        four        \n",
       "4 2         164               audi        gas       std        four        \n",
       "5 2         161               audi        gas       std        two         \n",
       "6 1         158               audi        gas       std        four        \n",
       "  body.style  drive.wheels engine.location wheel.base ⋯ engine.size fuel.system\n",
       "1 convertible rwd          front            88.6      ⋯ 130         mpfi       \n",
       "2 hatchback   rwd          front            94.5      ⋯ 152         mpfi       \n",
       "3 sedan       fwd          front            99.8      ⋯ 109         mpfi       \n",
       "4 sedan       4wd          front            99.4      ⋯ 136         mpfi       \n",
       "5 sedan       fwd          front            99.8      ⋯ 136         mpfi       \n",
       "6 sedan       fwd          front           105.8      ⋯ 136         mpfi       \n",
       "  bore stroke compression.ratio horsepower peak.rpm city.mpg highway.mpg price\n",
       "1 3.47 2.68   9                 111        5000     21       27          16500\n",
       "2 2.68 3.47   9                 154        5000     19       26          16500\n",
       "3 3.19 3.40   10                102        5500     24       30          13950\n",
       "4 3.19 3.40   8                 115        5500     18       22          17450\n",
       "5 3.19 3.40   8.5               110        5500     19       25          15250\n",
       "6 3.19 3.40   8.5               110        5500     19       25          17710"
      ]
     },
     "metadata": {},
     "output_type": "display_data"
    },
    {
     "name": "stdout",
     "output_type": "stream",
     "text": [
      "'data.frame':\t204 obs. of  26 variables:\n",
      " $ symboling        : num  3 1 2 2 2 1 1 1 0 2 ...\n",
      " $ normalized.losses: num  161 161 164 164 161 158 161 158 161 192 ...\n",
      " $ make             : chr  \"alfa-romero\" \"alfa-romero\" \"audi\" \"audi\" ...\n",
      " $ fuel.type        : chr  \"gas\" \"gas\" \"gas\" \"gas\" ...\n",
      " $ aspiration       : chr  \"std\" \"std\" \"std\" \"std\" ...\n",
      " $ num.of.doors     : chr  \"two\" \"two\" \"four\" \"four\" ...\n",
      " $ body.style       : chr  \"convertible\" \"hatchback\" \"sedan\" \"sedan\" ...\n",
      " $ drive.wheels     : chr  \"rwd\" \"rwd\" \"fwd\" \"4wd\" ...\n",
      " $ engine.location  : chr  \"front\" \"front\" \"front\" \"front\" ...\n",
      " $ wheel.base       : num  88.6 94.5 99.8 99.4 99.8 ...\n",
      " $ length           : chr  \"168.8\" \"171.2\" \"176.6\" \"176.6\" ...\n",
      " $ width            : chr  \"64.1\" \"65.5\" \"66.2\" \"66.4\" ...\n",
      " $ height           : chr  \"48.8\" \"52.4\" \"54.3\" \"54.3\" ...\n",
      " $ curb.weight      : chr  \"2548\" \"2823\" \"2337\" \"2824\" ...\n",
      " $ engine.type      : chr  \"dohc\" \"ohcv\" \"ohc\" \"ohc\" ...\n",
      " $ num.of.cylinders : chr  \"four\" \"six\" \"four\" \"five\" ...\n",
      " $ engine.size      : chr  \"130\" \"152\" \"109\" \"136\" ...\n",
      " $ fuel.system      : chr  \"mpfi\" \"mpfi\" \"mpfi\" \"mpfi\" ...\n",
      " $ bore             : chr  \"3.47\" \"2.68\" \"3.19\" \"3.19\" ...\n",
      " $ stroke           : chr  \"2.68\" \"3.47\" \"3.40\" \"3.40\" ...\n",
      " $ compression.ratio: chr  \"9\" \"9\" \"10\" \"8\" ...\n",
      " $ horsepower       : chr  \"111\" \"154\" \"102\" \"115\" ...\n",
      " $ peak.rpm         : chr  \"5000\" \"5000\" \"5500\" \"5500\" ...\n",
      " $ city.mpg         : chr  \"21\" \"19\" \"24\" \"18\" ...\n",
      " $ highway.mpg      : chr  \"27\" \"26\" \"30\" \"22\" ...\n",
      " $ price            : chr  \"16500\" \"16500\" \"13950\" \"17450\" ...\n"
     ]
    }
   ],
   "source": [
    "# TIP USE DISTINCT AND COUNT\n",
    "dfh<-df\n",
    "dfh$normalized.losses<-data_imputado$normalized.losses\n",
    "head(dfh)\n",
    "str(dfh)"
   ]
  },
  {
   "attachments": {},
   "cell_type": "markdown",
   "metadata": {},
   "source": [
    "**2. Data Pre-Processing**\n",
    "\n",
    "2. Load the package dlookr. Use the same car insurance data set above and apply the following transformations to the price attribute. Be critical regarding the obtained results."
   ]
  },
  {
   "cell_type": "code",
   "execution_count": 61,
   "metadata": {
    "vscode": {
     "languageId": "r"
    }
   },
   "outputs": [
    {
     "name": "stderr",
     "output_type": "stream",
     "text": [
      "Installing package into 'C:/Users/pc/AppData/Local/R/win-library/4.3'\n",
      "(as 'lib' is unspecified)\n",
      "\n"
     ]
    },
    {
     "name": "stdout",
     "output_type": "stream",
     "text": [
      "package 'dlookr' successfully unpacked and MD5 sums checked\n"
     ]
    },
    {
     "name": "stderr",
     "output_type": "stream",
     "text": [
      "Warning message:\n",
      "\"cannot remove prior installation of package 'dlookr'\"\n",
      "Warning message in file.copy(savedcopy, lib, recursive = TRUE):\n",
      "\"problema al copiar C:\\Users\\pc\\AppData\\Local\\R\\win-library\\4.3\\00LOCK\\dlookr\\fonts\\LiberationSansNarrow\\LiberationSansNarrow-Regular.ttf  a C:\\Users\\pc\\AppData\\Local\\R\\win-library\\4.3\\dlookr\\fonts\\LiberationSansNarrow\\LiberationSansNarrow-Regular.ttf: Invalid argument\"\n",
      "Warning message in file.copy(savedcopy, lib, recursive = TRUE):\n",
      "\"problema al copiar C:\\Users\\pc\\AppData\\Local\\R\\win-library\\4.3\\00LOCK\\dlookr\\fonts\\NanumSquare\\NanumSquareOTF_acR.otf  a C:\\Users\\pc\\AppData\\Local\\R\\win-library\\4.3\\dlookr\\fonts\\NanumSquare\\NanumSquareOTF_acR.otf: Invalid argument\"\n",
      "Warning message:\n",
      "\"restored 'dlookr'\"\n"
     ]
    },
    {
     "name": "stdout",
     "output_type": "stream",
     "text": [
      "\n",
      "The downloaded binary packages are in\n",
      "\tC:\\Users\\pc\\AppData\\Local\\Temp\\Rtmp4K00Q1\\downloaded_packages\n"
     ]
    },
    {
     "name": "stderr",
     "output_type": "stream",
     "text": [
      "Installing package into 'C:/Users/pc/AppData/Local/R/win-library/4.3'\n",
      "(as 'lib' is unspecified)\n",
      "\n"
     ]
    },
    {
     "name": "stdout",
     "output_type": "stream",
     "text": [
      "package 'gdtools' successfully unpacked and MD5 sums checked\n"
     ]
    },
    {
     "name": "stderr",
     "output_type": "stream",
     "text": [
      "Warning message:\n",
      "\"cannot remove prior installation of package 'gdtools'\"\n",
      "Warning message in file.copy(savedcopy, lib, recursive = TRUE):\n",
      "\"problema al copiar C:\\Users\\pc\\AppData\\Local\\R\\win-library\\4.3\\00LOCK\\gdtools\\libs\\x64\\gdtools.dll  a C:\\Users\\pc\\AppData\\Local\\R\\win-library\\4.3\\gdtools\\libs\\x64\\gdtools.dll: Permission denied\"\n",
      "Warning message:\n",
      "\"restored 'gdtools'\"\n"
     ]
    },
    {
     "name": "stdout",
     "output_type": "stream",
     "text": [
      "\n",
      "The downloaded binary packages are in\n",
      "\tC:\\Users\\pc\\AppData\\Local\\Temp\\Rtmp4K00Q1\\downloaded_packages\n"
     ]
    }
   ],
   "source": [
    "install.packages(\"dlookr\")\n",
    "install.packages(\"gdtools\")\n"
   ]
  },
  {
   "cell_type": "code",
   "execution_count": 62,
   "metadata": {
    "vscode": {
     "languageId": "r"
    }
   },
   "outputs": [
    {
     "name": "stderr",
     "output_type": "stream",
     "text": [
      "\n",
      "Attaching package: 'dlookr'\n",
      "\n",
      "\n",
      "The following object is masked from 'package:magrittr':\n",
      "\n",
      "    extract\n",
      "\n",
      "\n",
      "The following object is masked from 'package:base':\n",
      "\n",
      "    transform\n",
      "\n",
      "\n"
     ]
    }
   ],
   "source": [
    "library(dlookr)\n"
   ]
  },
  {
   "attachments": {},
   "cell_type": "markdown",
   "metadata": {},
   "source": [
    "(a) Apply range-based normalization and z-score normalization.\n",
    "\n",
    "\n",
    "Tip: use the function transform()."
   ]
  },
  {
   "cell_type": "code",
   "execution_count": 70,
   "metadata": {
    "vscode": {
     "languageId": "r"
    }
   },
   "outputs": [
    {
     "ename": "ERROR",
     "evalue": "Error in dfh$price - min(dfh$price): argumento no-numérico para operador binario\n",
     "output_type": "error",
     "traceback": [
      "Error in dfh$price - min(dfh$price): argumento no-numérico para operador binario\nTraceback:\n"
     ]
    }
   ],
   "source": [
    "data <- dfh\n",
    "# Normalización basada en rango\n",
    "dfh$price_range_normalized <- (dfh$price - min(dfh$price)) / (max(dfh$price) - min(dfh$price))\n",
    "\n",
    "# Normalización z-score\n",
    "dfh$price_zscore <- (dfh$price - mean(dfh$price)) / sd(dfh$price)"
   ]
  }
 ],
 "metadata": {
  "kernelspec": {
   "display_name": "R",
   "language": "R",
   "name": "ir"
  },
  "language_info": {
   "codemirror_mode": "r",
   "file_extension": ".r",
   "mimetype": "text/x-r-source",
   "name": "R",
   "pygments_lexer": "r",
   "version": "4.3.0"
  },
  "orig_nbformat": 4
 },
 "nbformat": 4,
 "nbformat_minor": 2
}
