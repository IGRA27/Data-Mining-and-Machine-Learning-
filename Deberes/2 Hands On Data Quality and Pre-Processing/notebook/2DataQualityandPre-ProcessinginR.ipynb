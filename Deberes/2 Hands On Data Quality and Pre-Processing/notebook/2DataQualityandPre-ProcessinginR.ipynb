{
 "cells": [
  {
   "attachments": {},
   "cell_type": "markdown",
   "metadata": {},
   "source": [
    "Isaac Reyes\n",
    "\n",
    "***2 Hands On: Data Quality and Pre-Processing***\n",
    "\n",
    "***1. Assessing Data Quality***\n",
    "\n",
    "**Load the following packages: dplyr, na.tools, tidyimpute (version from github decisionpatterns/tidyimpute”)**\n",
    "\n",
    "*Load the car Insurance data set about the insurance risk rating of cars based on several characteristics of each car*"
   ]
  },
  {
   "cell_type": "code",
   "execution_count": 3,
   "metadata": {
    "vscode": {
     "languageId": "r"
    }
   },
   "outputs": [
    {
     "name": "stderr",
     "output_type": "stream",
     "text": [
      "Installing package into 'C:/Users/pc/AppData/Local/R/win-library/4.3'\n",
      "(as 'lib' is unspecified)\n",
      "\n"
     ]
    },
    {
     "name": "stdout",
     "output_type": "stream",
     "text": [
      "package 'dplyr' successfully unpacked and MD5 sums checked\n"
     ]
    },
    {
     "name": "stderr",
     "output_type": "stream",
     "text": [
      "Warning message:\n",
      "\"cannot remove prior installation of package 'dplyr'\"\n",
      "Warning message in file.copy(savedcopy, lib, recursive = TRUE):\n",
      "\"problema al copiar C:\\Users\\pc\\AppData\\Local\\R\\win-library\\4.3\\00LOCK\\dplyr\\libs\\x64\\dplyr.dll  a C:\\Users\\pc\\AppData\\Local\\R\\win-library\\4.3\\dplyr\\libs\\x64\\dplyr.dll: Permission denied\"\n",
      "Warning message:\n",
      "\"restored 'dplyr'\"\n"
     ]
    },
    {
     "name": "stdout",
     "output_type": "stream",
     "text": [
      "\n",
      "The downloaded binary packages are in\n",
      "\tC:\\Users\\pc\\AppData\\Local\\Temp\\Rtmp0OfZ9t\\downloaded_packages\n"
     ]
    },
    {
     "name": "stderr",
     "output_type": "stream",
     "text": [
      "Installing package into 'C:/Users/pc/AppData/Local/R/win-library/4.3'\n",
      "(as 'lib' is unspecified)\n",
      "\n"
     ]
    },
    {
     "name": "stdout",
     "output_type": "stream",
     "text": [
      "package 'na.tools' successfully unpacked and MD5 sums checked\n",
      "\n",
      "The downloaded binary packages are in\n",
      "\tC:\\Users\\pc\\AppData\\Local\\Temp\\Rtmp0OfZ9t\\downloaded_packages\n"
     ]
    },
    {
     "name": "stderr",
     "output_type": "stream",
     "text": [
      "Installing package into 'C:/Users/pc/AppData/Local/R/win-library/4.3'\n",
      "(as 'lib' is unspecified)\n",
      "\n"
     ]
    },
    {
     "name": "stdout",
     "output_type": "stream",
     "text": [
      "package 'remotes' successfully unpacked and MD5 sums checked\n",
      "\n",
      "The downloaded binary packages are in\n",
      "\tC:\\Users\\pc\\AppData\\Local\\Temp\\Rtmp0OfZ9t\\downloaded_packages\n"
     ]
    },
    {
     "name": "stderr",
     "output_type": "stream",
     "text": [
      "Downloading GitHub repo decisionpatterns/tidyimpute@HEAD\n",
      "\n"
     ]
    },
    {
     "name": "stdout",
     "output_type": "stream",
     "text": [
      "\n",
      "\u001b[36m──\u001b[39m \u001b[36mR CMD build\u001b[39m \u001b[36m─────────────────────────────────────────────────────────────────\u001b[39m\n",
      "* checking for file 'C:\\Users\\pc\\AppData\\Local\\Temp\\Rtmp0OfZ9t\\remotes65029d979fe\\decisionpatterns-tidyimpute-9e07748/DESCRIPTION' ... OK\n",
      "* preparing 'tidyimpute':\n",
      "* checking DESCRIPTION meta-information ... OK\n",
      "* checking for LF line-endings in source and make files and shell scripts\n",
      "* checking for empty or unneeded directories\n",
      "* building 'tidyimpute_0.2.0.tar.gz'\n",
      "\n"
     ]
    },
    {
     "name": "stderr",
     "output_type": "stream",
     "text": [
      "Installing package into 'C:/Users/pc/AppData/Local/R/win-library/4.3'\n",
      "(as 'lib' is unspecified)\n",
      "\n"
     ]
    }
   ],
   "source": [
    "install.packages(\"dplyr\")\n",
    "install.packages(\"na.tools\")\n",
    "install.packages(\"remotes\")  # Required for installing packages from GitHub\n",
    "remotes::install_github(\"decisionpatterns/tidyimpute\", force=TRUE)"
   ]
  },
  {
   "cell_type": "code",
   "execution_count": 4,
   "metadata": {
    "vscode": {
     "languageId": "r"
    }
   },
   "outputs": [
    {
     "name": "stderr",
     "output_type": "stream",
     "text": [
      "\n",
      "Attaching package: 'dplyr'\n",
      "\n",
      "\n",
      "The following objects are masked from 'package:stats':\n",
      "\n",
      "    filter, lag\n",
      "\n",
      "\n",
      "The following objects are masked from 'package:base':\n",
      "\n",
      "    intersect, setdiff, setequal, union\n",
      "\n",
      "\n"
     ]
    }
   ],
   "source": [
    "library(dplyr)\n",
    "library(na.tools)\n",
    "library(tidyimpute)\n",
    "#cargamos librerias"
   ]
  },
  {
   "cell_type": "code",
   "execution_count": 5,
   "metadata": {
    "vscode": {
     "languageId": "r"
    }
   },
   "outputs": [
    {
     "name": "stderr",
     "output_type": "stream",
     "text": [
      "Installing package into 'C:/Users/pc/AppData/Local/R/win-library/4.3'\n",
      "(as 'lib' is unspecified)\n",
      "\n"
     ]
    },
    {
     "name": "stdout",
     "output_type": "stream",
     "text": [
      "package 'devtools' successfully unpacked and MD5 sums checked\n",
      "\n",
      "The downloaded binary packages are in\n",
      "\tC:\\Users\\pc\\AppData\\Local\\Temp\\Rtmp0OfZ9t\\downloaded_packages\n"
     ]
    },
    {
     "name": "stderr",
     "output_type": "stream",
     "text": [
      "Installing package into 'C:/Users/pc/AppData/Local/R/win-library/4.3'\n",
      "(as 'lib' is unspecified)\n",
      "\n"
     ]
    },
    {
     "name": "stdout",
     "output_type": "stream",
     "text": [
      "package 'lifecycle' successfully unpacked and MD5 sums checked\n",
      "\n",
      "The downloaded binary packages are in\n",
      "\tC:\\Users\\pc\\AppData\\Local\\Temp\\Rtmp0OfZ9t\\downloaded_packages\n"
     ]
    },
    {
     "name": "stderr",
     "output_type": "stream",
     "text": [
      "Loading required package: usethis\n",
      "\n"
     ]
    }
   ],
   "source": [
    "# Instalar paquete devtools\n",
    "install.packages(\"devtools\")\n",
    "\n",
    "#Instalar paquete necesario para dplyr\n",
    "install.packages('lifecycle')\n",
    "\n",
    "library(devtools)"
   ]
  },
  {
   "cell_type": "code",
   "execution_count": 6,
   "metadata": {
    "vscode": {
     "languageId": "r"
    }
   },
   "outputs": [
    {
     "name": "stderr",
     "output_type": "stream",
     "text": [
      "Installing package into 'C:/Users/pc/AppData/Local/R/win-library/4.3'\n",
      "(as 'lib' is unspecified)\n",
      "\n"
     ]
    },
    {
     "name": "stdout",
     "output_type": "stream",
     "text": [
      "package 'readr' successfully unpacked and MD5 sums checked\n"
     ]
    },
    {
     "name": "stderr",
     "output_type": "stream",
     "text": [
      "Warning message:\n",
      "\"cannot remove prior installation of package 'readr'\"\n",
      "Warning message in file.copy(savedcopy, lib, recursive = TRUE):\n",
      "\"problema al copiar C:\\Users\\pc\\AppData\\Local\\R\\win-library\\4.3\\00LOCK\\readr\\libs\\x64\\readr.dll  a C:\\Users\\pc\\AppData\\Local\\R\\win-library\\4.3\\readr\\libs\\x64\\readr.dll: Permission denied\"\n",
      "Warning message:\n",
      "\"restored 'readr'\"\n"
     ]
    },
    {
     "name": "stdout",
     "output_type": "stream",
     "text": [
      "\n",
      "The downloaded binary packages are in\n",
      "\tC:\\Users\\pc\\AppData\\Local\\Temp\\Rtmp0OfZ9t\\downloaded_packages\n"
     ]
    }
   ],
   "source": [
    "install.packages(\"readr\") #en caso de necesitar instalar\n",
    "library(readr)\n",
    "# Cargar el archivo imports-85.data\n",
    "data <- read.csv(\"/Users/pc/Desktop/Universidad/6 semestre/Machine Learning & Data Mining/Deberes/2 Hands On Data Quality and Pre-Processing/data/imports-85.data\")\n",
    "\n"
   ]
  },
  {
   "cell_type": "code",
   "execution_count": 7,
   "metadata": {
    "vscode": {
     "languageId": "r"
    }
   },
   "outputs": [
    {
     "data": {
      "text/plain": [
       "                                              \n",
       "1 function (x, df1, df2, ncp, log = FALSE)    \n",
       "2 {                                           \n",
       "3     if (missing(ncp))                       \n",
       "4         .Call(C_df, x, df1, df2, log)       \n",
       "5     else .Call(C_dnf, x, df1, df2, ncp, log)\n",
       "6 }                                           "
      ]
     },
     "metadata": {},
     "output_type": "display_data"
    }
   ],
   "source": [
    "head(df) #imprimimos los valores columnas para cambiar nombres"
   ]
  },
  {
   "attachments": {},
   "cell_type": "markdown",
   "metadata": {},
   "source": [
    "(a) Check if there are any missing values."
   ]
  },
  {
   "cell_type": "code",
   "execution_count": 8,
   "metadata": {
    "vscode": {
     "languageId": "r"
    }
   },
   "outputs": [
    {
     "data": {
      "text/html": [
       "<table class=\"dataframe\">\n",
       "<caption>A data.frame: 6 × 26</caption>\n",
       "<thead>\n",
       "\t<tr><th></th><th scope=col>symboling</th><th scope=col>normalized-losses</th><th scope=col>make</th><th scope=col>fuel-type</th><th scope=col>aspiration</th><th scope=col>num-of-doors</th><th scope=col>body-style</th><th scope=col>drive-wheels</th><th scope=col>engine-location</th><th scope=col>wheel-base</th><th scope=col>⋯</th><th scope=col>engine-size</th><th scope=col>fuel-system</th><th scope=col>bore</th><th scope=col>stroke</th><th scope=col>compression-ratio</th><th scope=col>horsepower</th><th scope=col>peak-rpm</th><th scope=col>city-mpg</th><th scope=col>highway-mpg</th><th scope=col>price</th></tr>\n",
       "\t<tr><th></th><th scope=col>&lt;int&gt;</th><th scope=col>&lt;chr&gt;</th><th scope=col>&lt;chr&gt;</th><th scope=col>&lt;chr&gt;</th><th scope=col>&lt;chr&gt;</th><th scope=col>&lt;chr&gt;</th><th scope=col>&lt;chr&gt;</th><th scope=col>&lt;chr&gt;</th><th scope=col>&lt;chr&gt;</th><th scope=col>&lt;dbl&gt;</th><th scope=col>⋯</th><th scope=col>&lt;int&gt;</th><th scope=col>&lt;chr&gt;</th><th scope=col>&lt;chr&gt;</th><th scope=col>&lt;chr&gt;</th><th scope=col>&lt;dbl&gt;</th><th scope=col>&lt;chr&gt;</th><th scope=col>&lt;chr&gt;</th><th scope=col>&lt;int&gt;</th><th scope=col>&lt;int&gt;</th><th scope=col>&lt;chr&gt;</th></tr>\n",
       "</thead>\n",
       "<tbody>\n",
       "\t<tr><th scope=row>1</th><td>3</td><td>?  </td><td>alfa-romero</td><td>gas</td><td>std</td><td>two </td><td>convertible</td><td>rwd</td><td>front</td><td> 88.6</td><td>⋯</td><td>130</td><td>mpfi</td><td>3.47</td><td>2.68</td><td> 9.0</td><td>111</td><td>5000</td><td>21</td><td>27</td><td>16500</td></tr>\n",
       "\t<tr><th scope=row>2</th><td>1</td><td>?  </td><td>alfa-romero</td><td>gas</td><td>std</td><td>two </td><td>hatchback  </td><td>rwd</td><td>front</td><td> 94.5</td><td>⋯</td><td>152</td><td>mpfi</td><td>2.68</td><td>3.47</td><td> 9.0</td><td>154</td><td>5000</td><td>19</td><td>26</td><td>16500</td></tr>\n",
       "\t<tr><th scope=row>3</th><td>2</td><td>164</td><td>audi       </td><td>gas</td><td>std</td><td>four</td><td>sedan      </td><td>fwd</td><td>front</td><td> 99.8</td><td>⋯</td><td>109</td><td>mpfi</td><td>3.19</td><td>3.40</td><td>10.0</td><td>102</td><td>5500</td><td>24</td><td>30</td><td>13950</td></tr>\n",
       "\t<tr><th scope=row>4</th><td>2</td><td>164</td><td>audi       </td><td>gas</td><td>std</td><td>four</td><td>sedan      </td><td>4wd</td><td>front</td><td> 99.4</td><td>⋯</td><td>136</td><td>mpfi</td><td>3.19</td><td>3.40</td><td> 8.0</td><td>115</td><td>5500</td><td>18</td><td>22</td><td>17450</td></tr>\n",
       "\t<tr><th scope=row>5</th><td>2</td><td>?  </td><td>audi       </td><td>gas</td><td>std</td><td>two </td><td>sedan      </td><td>fwd</td><td>front</td><td> 99.8</td><td>⋯</td><td>136</td><td>mpfi</td><td>3.19</td><td>3.40</td><td> 8.5</td><td>110</td><td>5500</td><td>19</td><td>25</td><td>15250</td></tr>\n",
       "\t<tr><th scope=row>6</th><td>1</td><td>158</td><td>audi       </td><td>gas</td><td>std</td><td>four</td><td>sedan      </td><td>fwd</td><td>front</td><td>105.8</td><td>⋯</td><td>136</td><td>mpfi</td><td>3.19</td><td>3.40</td><td> 8.5</td><td>110</td><td>5500</td><td>19</td><td>25</td><td>17710</td></tr>\n",
       "</tbody>\n",
       "</table>\n"
      ],
      "text/latex": [
       "A data.frame: 6 × 26\n",
       "\\begin{tabular}{r|lllllllllllllllllllll}\n",
       "  & symboling & normalized-losses & make & fuel-type & aspiration & num-of-doors & body-style & drive-wheels & engine-location & wheel-base & ⋯ & engine-size & fuel-system & bore & stroke & compression-ratio & horsepower & peak-rpm & city-mpg & highway-mpg & price\\\\\n",
       "  & <int> & <chr> & <chr> & <chr> & <chr> & <chr> & <chr> & <chr> & <chr> & <dbl> & ⋯ & <int> & <chr> & <chr> & <chr> & <dbl> & <chr> & <chr> & <int> & <int> & <chr>\\\\\n",
       "\\hline\n",
       "\t1 & 3 & ?   & alfa-romero & gas & std & two  & convertible & rwd & front &  88.6 & ⋯ & 130 & mpfi & 3.47 & 2.68 &  9.0 & 111 & 5000 & 21 & 27 & 16500\\\\\n",
       "\t2 & 1 & ?   & alfa-romero & gas & std & two  & hatchback   & rwd & front &  94.5 & ⋯ & 152 & mpfi & 2.68 & 3.47 &  9.0 & 154 & 5000 & 19 & 26 & 16500\\\\\n",
       "\t3 & 2 & 164 & audi        & gas & std & four & sedan       & fwd & front &  99.8 & ⋯ & 109 & mpfi & 3.19 & 3.40 & 10.0 & 102 & 5500 & 24 & 30 & 13950\\\\\n",
       "\t4 & 2 & 164 & audi        & gas & std & four & sedan       & 4wd & front &  99.4 & ⋯ & 136 & mpfi & 3.19 & 3.40 &  8.0 & 115 & 5500 & 18 & 22 & 17450\\\\\n",
       "\t5 & 2 & ?   & audi        & gas & std & two  & sedan       & fwd & front &  99.8 & ⋯ & 136 & mpfi & 3.19 & 3.40 &  8.5 & 110 & 5500 & 19 & 25 & 15250\\\\\n",
       "\t6 & 1 & 158 & audi        & gas & std & four & sedan       & fwd & front & 105.8 & ⋯ & 136 & mpfi & 3.19 & 3.40 &  8.5 & 110 & 5500 & 19 & 25 & 17710\\\\\n",
       "\\end{tabular}\n"
      ],
      "text/markdown": [
       "\n",
       "A data.frame: 6 × 26\n",
       "\n",
       "| <!--/--> | symboling &lt;int&gt; | normalized-losses &lt;chr&gt; | make &lt;chr&gt; | fuel-type &lt;chr&gt; | aspiration &lt;chr&gt; | num-of-doors &lt;chr&gt; | body-style &lt;chr&gt; | drive-wheels &lt;chr&gt; | engine-location &lt;chr&gt; | wheel-base &lt;dbl&gt; | ⋯ ⋯ | engine-size &lt;int&gt; | fuel-system &lt;chr&gt; | bore &lt;chr&gt; | stroke &lt;chr&gt; | compression-ratio &lt;dbl&gt; | horsepower &lt;chr&gt; | peak-rpm &lt;chr&gt; | city-mpg &lt;int&gt; | highway-mpg &lt;int&gt; | price &lt;chr&gt; |\n",
       "|---|---|---|---|---|---|---|---|---|---|---|---|---|---|---|---|---|---|---|---|---|---|\n",
       "| 1 | 3 | ?   | alfa-romero | gas | std | two  | convertible | rwd | front |  88.6 | ⋯ | 130 | mpfi | 3.47 | 2.68 |  9.0 | 111 | 5000 | 21 | 27 | 16500 |\n",
       "| 2 | 1 | ?   | alfa-romero | gas | std | two  | hatchback   | rwd | front |  94.5 | ⋯ | 152 | mpfi | 2.68 | 3.47 |  9.0 | 154 | 5000 | 19 | 26 | 16500 |\n",
       "| 3 | 2 | 164 | audi        | gas | std | four | sedan       | fwd | front |  99.8 | ⋯ | 109 | mpfi | 3.19 | 3.40 | 10.0 | 102 | 5500 | 24 | 30 | 13950 |\n",
       "| 4 | 2 | 164 | audi        | gas | std | four | sedan       | 4wd | front |  99.4 | ⋯ | 136 | mpfi | 3.19 | 3.40 |  8.0 | 115 | 5500 | 18 | 22 | 17450 |\n",
       "| 5 | 2 | ?   | audi        | gas | std | two  | sedan       | fwd | front |  99.8 | ⋯ | 136 | mpfi | 3.19 | 3.40 |  8.5 | 110 | 5500 | 19 | 25 | 15250 |\n",
       "| 6 | 1 | 158 | audi        | gas | std | four | sedan       | fwd | front | 105.8 | ⋯ | 136 | mpfi | 3.19 | 3.40 |  8.5 | 110 | 5500 | 19 | 25 | 17710 |\n",
       "\n"
      ],
      "text/plain": [
       "  symboling normalized-losses make        fuel-type aspiration num-of-doors\n",
       "1 3         ?                 alfa-romero gas       std        two         \n",
       "2 1         ?                 alfa-romero gas       std        two         \n",
       "3 2         164               audi        gas       std        four        \n",
       "4 2         164               audi        gas       std        four        \n",
       "5 2         ?                 audi        gas       std        two         \n",
       "6 1         158               audi        gas       std        four        \n",
       "  body-style  drive-wheels engine-location wheel-base ⋯ engine-size fuel-system\n",
       "1 convertible rwd          front            88.6      ⋯ 130         mpfi       \n",
       "2 hatchback   rwd          front            94.5      ⋯ 152         mpfi       \n",
       "3 sedan       fwd          front            99.8      ⋯ 109         mpfi       \n",
       "4 sedan       4wd          front            99.4      ⋯ 136         mpfi       \n",
       "5 sedan       fwd          front            99.8      ⋯ 136         mpfi       \n",
       "6 sedan       fwd          front           105.8      ⋯ 136         mpfi       \n",
       "  bore stroke compression-ratio horsepower peak-rpm city-mpg highway-mpg price\n",
       "1 3.47 2.68    9.0              111        5000     21       27          16500\n",
       "2 2.68 3.47    9.0              154        5000     19       26          16500\n",
       "3 3.19 3.40   10.0              102        5500     24       30          13950\n",
       "4 3.19 3.40    8.0              115        5500     18       22          17450\n",
       "5 3.19 3.40    8.5              110        5500     19       25          15250\n",
       "6 3.19 3.40    8.5              110        5500     19       25          17710"
      ]
     },
     "metadata": {},
     "output_type": "display_data"
    }
   ],
   "source": [
    "# Vector de nombres de las columnas\n",
    "names <- c(\"symboling\", \"normalized-losses\", \"make\", \n",
    "             \"fuel-type\", \"aspiration\", \"num-of-doors\", \n",
    "             \"body-style\", \"drive-wheels\", \"engine-location\",\n",
    "            \"wheel-base\", \"length\", \"width\", \"height\", \"curb-weight\",\n",
    "            \"engine-type\", \"num-of-cylinders\", \"engine-size\", \"fuel-system\",\n",
    "            \"bore\", \"stroke\", \"compression-ratio\", \"horsepower\",\n",
    "            \"peak-rpm\", \"city-mpg\", \"highway-mpg\", \"price\")  # Agrega los nombres deseados para cada columna\n",
    "\n",
    "# Asignar los nombres a las columnas del dataframe\n",
    "colnames(data) <- names\n",
    "\n",
    "head(data)"
   ]
  },
  {
   "cell_type": "code",
   "execution_count": 9,
   "metadata": {
    "vscode": {
     "languageId": "r"
    }
   },
   "outputs": [
    {
     "data": {
      "text/html": [
       "FALSE"
      ],
      "text/latex": [
       "FALSE"
      ],
      "text/markdown": [
       "FALSE"
      ],
      "text/plain": [
       "[1] FALSE"
      ]
     },
     "metadata": {},
     "output_type": "display_data"
    }
   ],
   "source": [
    "anyNA(data)"
   ]
  },
  {
   "attachments": {},
   "cell_type": "markdown",
   "metadata": {},
   "source": [
    "(b) Count the number of cases that have, at least, one missing value."
   ]
  },
  {
   "cell_type": "code",
   "execution_count": 10,
   "metadata": {
    "vscode": {
     "languageId": "r"
    }
   },
   "outputs": [],
   "source": [
    "library(magrittr) #pipe R"
   ]
  },
  {
   "cell_type": "code",
   "execution_count": 11,
   "metadata": {
    "vscode": {
     "languageId": "r"
    }
   },
   "outputs": [
    {
     "name": "stdout",
     "output_type": "stream",
     "text": [
      "  any_missing\n",
      "1       FALSE\n"
     ]
    }
   ],
   "source": [
    "# Check for missing values\n",
    "missing_values <- data %>% \n",
    "  summarise(any_missing = any_na(.))\n",
    "#USAMOS EL TIP DE ANY_NA DEL PDF\n",
    "# Print the result\n",
    "print(missing_values)\n"
   ]
  },
  {
   "cell_type": "code",
   "execution_count": 12,
   "metadata": {
    "vscode": {
     "languageId": "r"
    }
   },
   "outputs": [
    {
     "name": "stdout",
     "output_type": "stream",
     "text": [
      "[1] FALSE\n"
     ]
    }
   ],
   "source": [
    "missing_values <- any_na(data) #usamos el tip, y cargamos de ahi para imprimir\n",
    "print(missing_values)"
   ]
  },
  {
   "cell_type": "code",
   "execution_count": 13,
   "metadata": {
    "vscode": {
     "languageId": "r"
    }
   },
   "outputs": [
    {
     "name": "stdout",
     "output_type": "stream",
     "text": [
      "        symboling normalized-losses              make         fuel-type \n",
      "                0                 0                 0                 0 \n",
      "       aspiration      num-of-doors        body-style      drive-wheels \n",
      "                0                 0                 0                 0 \n",
      "  engine-location        wheel-base            length             width \n",
      "                0                 0                 0                 0 \n",
      "           height       curb-weight       engine-type  num-of-cylinders \n",
      "                0                 0                 0                 0 \n",
      "      engine-size       fuel-system              bore            stroke \n",
      "                0                 0                 0                 0 \n",
      "compression-ratio        horsepower          peak-rpm          city-mpg \n",
      "                0                 0                 0                 0 \n",
      "      highway-mpg             price \n",
      "                0                 0 \n"
     ]
    }
   ],
   "source": [
    "missing_values <-colSums(is.na(data)) #contar valores nulos por columna\n",
    "#imprimir nulos por columna\n",
    "print(missing_values)"
   ]
  },
  {
   "attachments": {},
   "cell_type": "markdown",
   "metadata": {},
   "source": [
    "***NO HAY VALORES NULOS, SOLO ?, CONTAR ESOS VALORES***"
   ]
  },
  {
   "cell_type": "code",
   "execution_count": 14,
   "metadata": {
    "vscode": {
     "languageId": "r"
    }
   },
   "outputs": [
    {
     "name": "stdout",
     "output_type": "stream",
     "text": [
      "        symboling normalized-losses              make         fuel-type \n",
      "                0                40                 0                 0 \n",
      "       aspiration      num-of-doors        body-style      drive-wheels \n",
      "                0                 2                 0                 0 \n",
      "  engine-location        wheel-base            length             width \n",
      "                0                 0                 0                 0 \n",
      "           height       curb-weight       engine-type  num-of-cylinders \n",
      "                0                 0                 0                 0 \n",
      "      engine-size       fuel-system              bore            stroke \n",
      "                0                 0                 4                 4 \n",
      "compression-ratio        horsepower          peak-rpm          city-mpg \n",
      "                0                 2                 2                 0 \n",
      "      highway-mpg             price \n",
      "                0                 4 \n"
     ]
    }
   ],
   "source": [
    "# Contar valores iguales a \"?\" por columna\n",
    "nulos <- colSums(data == \"?\", na.rm = FALSE)\n",
    "\n",
    "# Imprimir los valores iguales a \"?\" por columna\n",
    "print(nulos)\n"
   ]
  },
  {
   "attachments": {},
   "cell_type": "markdown",
   "metadata": {},
   "source": [
    "(c) Create a new data set by removing all the cases that have missing values."
   ]
  },
  {
   "attachments": {},
   "cell_type": "markdown",
   "metadata": {},
   "source": [
    "use drop_rows_any_na()"
   ]
  },
  {
   "cell_type": "code",
   "execution_count": 15,
   "metadata": {
    "vscode": {
     "languageId": "r"
    }
   },
   "outputs": [
    {
     "data": {
      "text/html": [
       "<table class=\"dataframe\">\n",
       "<caption>A data.frame: 6 × 26</caption>\n",
       "<thead>\n",
       "\t<tr><th></th><th scope=col>symboling</th><th scope=col>normalized-losses</th><th scope=col>make</th><th scope=col>fuel-type</th><th scope=col>aspiration</th><th scope=col>num-of-doors</th><th scope=col>body-style</th><th scope=col>drive-wheels</th><th scope=col>engine-location</th><th scope=col>wheel-base</th><th scope=col>⋯</th><th scope=col>engine-size</th><th scope=col>fuel-system</th><th scope=col>bore</th><th scope=col>stroke</th><th scope=col>compression-ratio</th><th scope=col>horsepower</th><th scope=col>peak-rpm</th><th scope=col>city-mpg</th><th scope=col>highway-mpg</th><th scope=col>price</th></tr>\n",
       "\t<tr><th></th><th scope=col>&lt;int&gt;</th><th scope=col>&lt;chr&gt;</th><th scope=col>&lt;chr&gt;</th><th scope=col>&lt;chr&gt;</th><th scope=col>&lt;chr&gt;</th><th scope=col>&lt;chr&gt;</th><th scope=col>&lt;chr&gt;</th><th scope=col>&lt;chr&gt;</th><th scope=col>&lt;chr&gt;</th><th scope=col>&lt;dbl&gt;</th><th scope=col>⋯</th><th scope=col>&lt;int&gt;</th><th scope=col>&lt;chr&gt;</th><th scope=col>&lt;chr&gt;</th><th scope=col>&lt;chr&gt;</th><th scope=col>&lt;dbl&gt;</th><th scope=col>&lt;chr&gt;</th><th scope=col>&lt;chr&gt;</th><th scope=col>&lt;int&gt;</th><th scope=col>&lt;int&gt;</th><th scope=col>&lt;chr&gt;</th></tr>\n",
       "</thead>\n",
       "<tbody>\n",
       "\t<tr><th scope=row>3</th><td>2</td><td>164</td><td>audi</td><td>gas</td><td>std  </td><td>four</td><td>sedan</td><td>fwd</td><td>front</td><td> 99.8</td><td>⋯</td><td>109</td><td>mpfi</td><td>3.19</td><td>3.40</td><td>10.0</td><td>102</td><td>5500</td><td>24</td><td>30</td><td>13950</td></tr>\n",
       "\t<tr><th scope=row>4</th><td>2</td><td>164</td><td>audi</td><td>gas</td><td>std  </td><td>four</td><td>sedan</td><td>4wd</td><td>front</td><td> 99.4</td><td>⋯</td><td>136</td><td>mpfi</td><td>3.19</td><td>3.40</td><td> 8.0</td><td>115</td><td>5500</td><td>18</td><td>22</td><td>17450</td></tr>\n",
       "\t<tr><th scope=row>6</th><td>1</td><td>158</td><td>audi</td><td>gas</td><td>std  </td><td>four</td><td>sedan</td><td>fwd</td><td>front</td><td>105.8</td><td>⋯</td><td>136</td><td>mpfi</td><td>3.19</td><td>3.40</td><td> 8.5</td><td>110</td><td>5500</td><td>19</td><td>25</td><td>17710</td></tr>\n",
       "\t<tr><th scope=row>8</th><td>1</td><td>158</td><td>audi</td><td>gas</td><td>turbo</td><td>four</td><td>sedan</td><td>fwd</td><td>front</td><td>105.8</td><td>⋯</td><td>131</td><td>mpfi</td><td>3.13</td><td>3.40</td><td> 8.3</td><td>140</td><td>5500</td><td>17</td><td>20</td><td>23875</td></tr>\n",
       "\t<tr><th scope=row>10</th><td>2</td><td>192</td><td>bmw </td><td>gas</td><td>std  </td><td>two </td><td>sedan</td><td>rwd</td><td>front</td><td>101.2</td><td>⋯</td><td>108</td><td>mpfi</td><td>3.50</td><td>2.80</td><td> 8.8</td><td>101</td><td>5800</td><td>23</td><td>29</td><td>16430</td></tr>\n",
       "\t<tr><th scope=row>11</th><td>0</td><td>192</td><td>bmw </td><td>gas</td><td>std  </td><td>four</td><td>sedan</td><td>rwd</td><td>front</td><td>101.2</td><td>⋯</td><td>108</td><td>mpfi</td><td>3.50</td><td>2.80</td><td> 8.8</td><td>101</td><td>5800</td><td>23</td><td>29</td><td>16925</td></tr>\n",
       "</tbody>\n",
       "</table>\n"
      ],
      "text/latex": [
       "A data.frame: 6 × 26\n",
       "\\begin{tabular}{r|lllllllllllllllllllll}\n",
       "  & symboling & normalized-losses & make & fuel-type & aspiration & num-of-doors & body-style & drive-wheels & engine-location & wheel-base & ⋯ & engine-size & fuel-system & bore & stroke & compression-ratio & horsepower & peak-rpm & city-mpg & highway-mpg & price\\\\\n",
       "  & <int> & <chr> & <chr> & <chr> & <chr> & <chr> & <chr> & <chr> & <chr> & <dbl> & ⋯ & <int> & <chr> & <chr> & <chr> & <dbl> & <chr> & <chr> & <int> & <int> & <chr>\\\\\n",
       "\\hline\n",
       "\t3 & 2 & 164 & audi & gas & std   & four & sedan & fwd & front &  99.8 & ⋯ & 109 & mpfi & 3.19 & 3.40 & 10.0 & 102 & 5500 & 24 & 30 & 13950\\\\\n",
       "\t4 & 2 & 164 & audi & gas & std   & four & sedan & 4wd & front &  99.4 & ⋯ & 136 & mpfi & 3.19 & 3.40 &  8.0 & 115 & 5500 & 18 & 22 & 17450\\\\\n",
       "\t6 & 1 & 158 & audi & gas & std   & four & sedan & fwd & front & 105.8 & ⋯ & 136 & mpfi & 3.19 & 3.40 &  8.5 & 110 & 5500 & 19 & 25 & 17710\\\\\n",
       "\t8 & 1 & 158 & audi & gas & turbo & four & sedan & fwd & front & 105.8 & ⋯ & 131 & mpfi & 3.13 & 3.40 &  8.3 & 140 & 5500 & 17 & 20 & 23875\\\\\n",
       "\t10 & 2 & 192 & bmw  & gas & std   & two  & sedan & rwd & front & 101.2 & ⋯ & 108 & mpfi & 3.50 & 2.80 &  8.8 & 101 & 5800 & 23 & 29 & 16430\\\\\n",
       "\t11 & 0 & 192 & bmw  & gas & std   & four & sedan & rwd & front & 101.2 & ⋯ & 108 & mpfi & 3.50 & 2.80 &  8.8 & 101 & 5800 & 23 & 29 & 16925\\\\\n",
       "\\end{tabular}\n"
      ],
      "text/markdown": [
       "\n",
       "A data.frame: 6 × 26\n",
       "\n",
       "| <!--/--> | symboling &lt;int&gt; | normalized-losses &lt;chr&gt; | make &lt;chr&gt; | fuel-type &lt;chr&gt; | aspiration &lt;chr&gt; | num-of-doors &lt;chr&gt; | body-style &lt;chr&gt; | drive-wheels &lt;chr&gt; | engine-location &lt;chr&gt; | wheel-base &lt;dbl&gt; | ⋯ ⋯ | engine-size &lt;int&gt; | fuel-system &lt;chr&gt; | bore &lt;chr&gt; | stroke &lt;chr&gt; | compression-ratio &lt;dbl&gt; | horsepower &lt;chr&gt; | peak-rpm &lt;chr&gt; | city-mpg &lt;int&gt; | highway-mpg &lt;int&gt; | price &lt;chr&gt; |\n",
       "|---|---|---|---|---|---|---|---|---|---|---|---|---|---|---|---|---|---|---|---|---|---|\n",
       "| 3 | 2 | 164 | audi | gas | std   | four | sedan | fwd | front |  99.8 | ⋯ | 109 | mpfi | 3.19 | 3.40 | 10.0 | 102 | 5500 | 24 | 30 | 13950 |\n",
       "| 4 | 2 | 164 | audi | gas | std   | four | sedan | 4wd | front |  99.4 | ⋯ | 136 | mpfi | 3.19 | 3.40 |  8.0 | 115 | 5500 | 18 | 22 | 17450 |\n",
       "| 6 | 1 | 158 | audi | gas | std   | four | sedan | fwd | front | 105.8 | ⋯ | 136 | mpfi | 3.19 | 3.40 |  8.5 | 110 | 5500 | 19 | 25 | 17710 |\n",
       "| 8 | 1 | 158 | audi | gas | turbo | four | sedan | fwd | front | 105.8 | ⋯ | 131 | mpfi | 3.13 | 3.40 |  8.3 | 140 | 5500 | 17 | 20 | 23875 |\n",
       "| 10 | 2 | 192 | bmw  | gas | std   | two  | sedan | rwd | front | 101.2 | ⋯ | 108 | mpfi | 3.50 | 2.80 |  8.8 | 101 | 5800 | 23 | 29 | 16430 |\n",
       "| 11 | 0 | 192 | bmw  | gas | std   | four | sedan | rwd | front | 101.2 | ⋯ | 108 | mpfi | 3.50 | 2.80 |  8.8 | 101 | 5800 | 23 | 29 | 16925 |\n",
       "\n"
      ],
      "text/plain": [
       "   symboling normalized-losses make fuel-type aspiration num-of-doors\n",
       "3  2         164               audi gas       std        four        \n",
       "4  2         164               audi gas       std        four        \n",
       "6  1         158               audi gas       std        four        \n",
       "8  1         158               audi gas       turbo      four        \n",
       "10 2         192               bmw  gas       std        two         \n",
       "11 0         192               bmw  gas       std        four        \n",
       "   body-style drive-wheels engine-location wheel-base ⋯ engine-size fuel-system\n",
       "3  sedan      fwd          front            99.8      ⋯ 109         mpfi       \n",
       "4  sedan      4wd          front            99.4      ⋯ 136         mpfi       \n",
       "6  sedan      fwd          front           105.8      ⋯ 136         mpfi       \n",
       "8  sedan      fwd          front           105.8      ⋯ 131         mpfi       \n",
       "10 sedan      rwd          front           101.2      ⋯ 108         mpfi       \n",
       "11 sedan      rwd          front           101.2      ⋯ 108         mpfi       \n",
       "   bore stroke compression-ratio horsepower peak-rpm city-mpg highway-mpg price\n",
       "3  3.19 3.40   10.0              102        5500     24       30          13950\n",
       "4  3.19 3.40    8.0              115        5500     18       22          17450\n",
       "6  3.19 3.40    8.5              110        5500     19       25          17710\n",
       "8  3.13 3.40    8.3              140        5500     17       20          23875\n",
       "10 3.50 2.80    8.8              101        5800     23       29          16430\n",
       "11 3.50 2.80    8.8              101        5800     23       29          16925"
      ]
     },
     "metadata": {},
     "output_type": "display_data"
    }
   ],
   "source": [
    "# Create a new dataset without missing values\n",
    "\n",
    "#ES DECIR SIN FILAS QUE TENGAN ?\n",
    "new_data <- data[!(apply(data, 1, function(x) any(x == \"?\"))), ]\n",
    "\n",
    "# Print the new dataset\n",
    "head(new_data)\n"
   ]
  },
  {
   "attachments": {},
   "cell_type": "markdown",
   "metadata": {},
   "source": [
    "(d) Create a new data set by imputing all the missing values with 0."
   ]
  },
  {
   "cell_type": "code",
   "execution_count": 16,
   "metadata": {
    "vscode": {
     "languageId": "r"
    }
   },
   "outputs": [
    {
     "name": "stderr",
     "output_type": "stream",
     "text": [
      "Registered S3 method overwritten by 'quantmod':\n",
      "  method            from\n",
      "  as.zoo.data.frame zoo \n",
      "\n",
      "\n",
      "Attaching package: 'imputeTS'\n",
      "\n",
      "\n",
      "The following objects are masked from 'package:na.tools':\n",
      "\n",
      "    na.mean, na.replace\n",
      "\n",
      "\n"
     ]
    }
   ],
   "source": [
    "library(imputeTS)\n",
    "#Use function impute()"
   ]
  },
  {
   "cell_type": "code",
   "execution_count": 17,
   "metadata": {
    "vscode": {
     "languageId": "r"
    }
   },
   "outputs": [
    {
     "name": "stdout",
     "output_type": "stream",
     "text": [
      "    symboling normalized-losses          make fuel-type aspiration num-of-doors\n",
      "1           3                 ?   alfa-romero       gas        std          two\n",
      "2           1                 ?   alfa-romero       gas        std          two\n",
      "3           2               164          audi       gas        std         four\n",
      "4           2               164          audi       gas        std         four\n",
      "5           2                 ?          audi       gas        std          two\n",
      "6           1               158          audi       gas        std         four\n",
      "7           1                 ?          audi       gas        std         four\n",
      "8           1               158          audi       gas      turbo         four\n",
      "9           0                 ?          audi       gas      turbo          two\n",
      "10          2               192           bmw       gas        std          two\n",
      "11          0               192           bmw       gas        std         four\n",
      "12          0               188           bmw       gas        std          two\n",
      "13          0               188           bmw       gas        std         four\n",
      "14          1                 ?           bmw       gas        std         four\n",
      "15          0                 ?           bmw       gas        std         four\n",
      "16          0                 ?           bmw       gas        std          two\n",
      "17          0                 ?           bmw       gas        std         four\n",
      "18          2               121     chevrolet       gas        std          two\n",
      "19          1                98     chevrolet       gas        std          two\n",
      "20          0                81     chevrolet       gas        std         four\n",
      "21          1               118         dodge       gas        std          two\n",
      "22          1               118         dodge       gas        std          two\n",
      "23          1               118         dodge       gas      turbo          two\n",
      "24          1               148         dodge       gas        std         four\n",
      "25          1               148         dodge       gas        std         four\n",
      "26          1               148         dodge       gas        std         four\n",
      "27          1               148         dodge       gas      turbo            ?\n",
      "28         -1               110         dodge       gas        std         four\n",
      "29          3               145         dodge       gas      turbo          two\n",
      "30          2               137         honda       gas        std          two\n",
      "31          2               137         honda       gas        std          two\n",
      "32          1               101         honda       gas        std          two\n",
      "33          1               101         honda       gas        std          two\n",
      "34          1               101         honda       gas        std          two\n",
      "35          0               110         honda       gas        std         four\n",
      "36          0                78         honda       gas        std         four\n",
      "37          0               106         honda       gas        std          two\n",
      "38          0               106         honda       gas        std          two\n",
      "39          0                85         honda       gas        std         four\n",
      "40          0                85         honda       gas        std         four\n",
      "41          0                85         honda       gas        std         four\n",
      "42          1               107         honda       gas        std          two\n",
      "43          0                 ?         isuzu       gas        std         four\n",
      "44          1                 ?         isuzu       gas        std          two\n",
      "45          0                 ?         isuzu       gas        std         four\n",
      "46          2                 ?         isuzu       gas        std          two\n",
      "47          0               145        jaguar       gas        std         four\n",
      "48          0                 ?        jaguar       gas        std         four\n",
      "49          0                 ?        jaguar       gas        std          two\n",
      "50          1               104         mazda       gas        std          two\n",
      "51          1               104         mazda       gas        std          two\n",
      "52          1               104         mazda       gas        std          two\n",
      "53          1               113         mazda       gas        std         four\n",
      "54          1               113         mazda       gas        std         four\n",
      "55          3               150         mazda       gas        std          two\n",
      "56          3               150         mazda       gas        std          two\n",
      "57          3               150         mazda       gas        std          two\n",
      "58          3               150         mazda       gas        std          two\n",
      "59          1               129         mazda       gas        std          two\n",
      "60          0               115         mazda       gas        std         four\n",
      "61          1               129         mazda       gas        std          two\n",
      "62          0               115         mazda       gas        std         four\n",
      "63          0                 ?         mazda    diesel        std            ?\n",
      "64          0               115         mazda       gas        std         four\n",
      "65          0               118         mazda       gas        std         four\n",
      "66          0                 ?         mazda    diesel        std         four\n",
      "67         -1                93 mercedes-benz    diesel      turbo         four\n",
      "68         -1                93 mercedes-benz    diesel      turbo         four\n",
      "69          0                93 mercedes-benz    diesel      turbo          two\n",
      "70         -1                93 mercedes-benz    diesel      turbo         four\n",
      "71         -1                 ? mercedes-benz       gas        std         four\n",
      "72          3               142 mercedes-benz       gas        std          two\n",
      "73          0                 ? mercedes-benz       gas        std         four\n",
      "74          1                 ? mercedes-benz       gas        std          two\n",
      "75          1                 ?       mercury       gas      turbo          two\n",
      "76          2               161    mitsubishi       gas        std          two\n",
      "77          2               161    mitsubishi       gas        std          two\n",
      "78          2               161    mitsubishi       gas        std          two\n",
      "79          1               161    mitsubishi       gas      turbo          two\n",
      "80          3               153    mitsubishi       gas      turbo          two\n",
      "81          3               153    mitsubishi       gas        std          two\n",
      "82          3                 ?    mitsubishi       gas      turbo          two\n",
      "83          3                 ?    mitsubishi       gas      turbo          two\n",
      "84          3                 ?    mitsubishi       gas      turbo          two\n",
      "85          1               125    mitsubishi       gas        std         four\n",
      "86          1               125    mitsubishi       gas        std         four\n",
      "87          1               125    mitsubishi       gas      turbo         four\n",
      "88         -1               137    mitsubishi       gas        std         four\n",
      "89          1               128        nissan       gas        std          two\n",
      "90          1               128        nissan    diesel        std          two\n",
      "91          1               128        nissan       gas        std          two\n",
      "92          1               122        nissan       gas        std         four\n",
      "93          1               103        nissan       gas        std         four\n",
      "94          1               128        nissan       gas        std          two\n",
      "95          1               128        nissan       gas        std          two\n",
      "96          1               122        nissan       gas        std         four\n",
      "97          1               103        nissan       gas        std         four\n",
      "98          2               168        nissan       gas        std          two\n",
      "99          0               106        nissan       gas        std         four\n",
      "100         0               106        nissan       gas        std         four\n",
      "101         0               128        nissan       gas        std         four\n",
      "102         0               108        nissan       gas        std         four\n",
      "103         0               108        nissan       gas        std         four\n",
      "104         3               194        nissan       gas        std          two\n",
      "105         3               194        nissan       gas      turbo          two\n",
      "106         1               231        nissan       gas        std          two\n",
      "107         0               161        peugot       gas        std         four\n",
      "108         0               161        peugot    diesel      turbo         four\n",
      "109         0                 ?        peugot       gas        std         four\n",
      "110         0                 ?        peugot    diesel      turbo         four\n",
      "111         0               161        peugot       gas        std         four\n",
      "112         0               161        peugot    diesel      turbo         four\n",
      "113         0                 ?        peugot       gas        std         four\n",
      "114         0                 ?        peugot    diesel      turbo         four\n",
      "115         0               161        peugot       gas        std         four\n",
      "116         0               161        peugot    diesel      turbo         four\n",
      "117         0               161        peugot       gas      turbo         four\n",
      "118         1               119      plymouth       gas        std          two\n",
      "119         1               119      plymouth       gas      turbo          two\n",
      "120         1               154      plymouth       gas        std         four\n",
      "121         1               154      plymouth       gas        std         four\n",
      "122         1               154      plymouth       gas        std         four\n",
      "123        -1                74      plymouth       gas        std         four\n",
      "124         3                 ?      plymouth       gas      turbo          two\n",
      "125         3               186       porsche       gas        std          two\n",
      "126         3                 ?       porsche       gas        std          two\n",
      "127         3                 ?       porsche       gas        std          two\n",
      "128         3                 ?       porsche       gas        std          two\n",
      "129         1                 ?       porsche       gas        std          two\n",
      "130         0                 ?       renault       gas        std         four\n",
      "131         2                 ?       renault       gas        std          two\n",
      "132         3               150          saab       gas        std          two\n",
      "133         2               104          saab       gas        std         four\n",
      "134         3               150          saab       gas        std          two\n",
      "135         2               104          saab       gas        std         four\n",
      "136         3               150          saab       gas      turbo          two\n",
      "137         2               104          saab       gas      turbo         four\n",
      "138         2                83        subaru       gas        std          two\n",
      "139         2                83        subaru       gas        std          two\n",
      "140         2                83        subaru       gas        std          two\n",
      "141         0               102        subaru       gas        std         four\n",
      "142         0               102        subaru       gas        std         four\n",
      "143         0               102        subaru       gas        std         four\n",
      "144         0               102        subaru       gas        std         four\n",
      "145         0               102        subaru       gas      turbo         four\n",
      "146         0                89        subaru       gas        std         four\n",
      "147         0                89        subaru       gas        std         four\n",
      "148         0                85        subaru       gas        std         four\n",
      "149         0                85        subaru       gas      turbo         four\n",
      "150         1                87        toyota       gas        std          two\n",
      "151         1                87        toyota       gas        std          two\n",
      "152         1                74        toyota       gas        std         four\n",
      "153         0                77        toyota       gas        std         four\n",
      "154         0                81        toyota       gas        std         four\n",
      "155         0                91        toyota       gas        std         four\n",
      "156         0                91        toyota       gas        std         four\n",
      "157         0                91        toyota       gas        std         four\n",
      "158         0                91        toyota    diesel        std         four\n",
      "159         0                91        toyota    diesel        std         four\n",
      "160         0                91        toyota       gas        std         four\n",
      "161         0                91        toyota       gas        std         four\n",
      "162         0                91        toyota       gas        std         four\n",
      "163         1               168        toyota       gas        std          two\n",
      "164         1               168        toyota       gas        std          two\n",
      "165         1               168        toyota       gas        std          two\n",
      "166         1               168        toyota       gas        std          two\n",
      "167         2               134        toyota       gas        std          two\n",
      "168         2               134        toyota       gas        std          two\n",
      "169         2               134        toyota       gas        std          two\n",
      "170         2               134        toyota       gas        std          two\n",
      "171         2               134        toyota       gas        std          two\n",
      "172         2               134        toyota       gas        std          two\n",
      "173        -1                65        toyota       gas        std         four\n",
      "174        -1                65        toyota    diesel      turbo         four\n",
      "175        -1                65        toyota       gas        std         four\n",
      "176        -1                65        toyota       gas        std         four\n",
      "177        -1                65        toyota       gas        std         four\n",
      "178         3               197        toyota       gas        std          two\n",
      "179         3               197        toyota       gas        std          two\n",
      "180        -1                90        toyota       gas        std         four\n",
      "181        -1                 ?        toyota       gas        std         four\n",
      "182         2               122    volkswagen    diesel        std          two\n",
      "183         2               122    volkswagen       gas        std          two\n",
      "184         2                94    volkswagen    diesel        std         four\n",
      "185         2                94    volkswagen       gas        std         four\n",
      "186         2                94    volkswagen       gas        std         four\n",
      "187         2                94    volkswagen    diesel      turbo         four\n",
      "188         2                94    volkswagen       gas        std         four\n",
      "189         3                 ?    volkswagen       gas        std          two\n",
      "190         3               256    volkswagen       gas        std          two\n",
      "191         0                 ?    volkswagen       gas        std         four\n",
      "192         0                 ?    volkswagen    diesel      turbo         four\n",
      "193         0                 ?    volkswagen       gas        std         four\n",
      "194        -2               103         volvo       gas        std         four\n",
      "195        -1                74         volvo       gas        std         four\n",
      "196        -2               103         volvo       gas        std         four\n",
      "197        -1                74         volvo       gas        std         four\n",
      "198        -2               103         volvo       gas      turbo         four\n",
      "199        -1                74         volvo       gas      turbo         four\n",
      "200        -1                95         volvo       gas        std         four\n",
      "201        -1                95         volvo       gas      turbo         four\n",
      "202        -1                95         volvo       gas        std         four\n",
      "203        -1                95         volvo    diesel      turbo         four\n",
      "204        -1                95         volvo       gas      turbo         four\n",
      "     body-style drive-wheels engine-location wheel-base length width height\n",
      "1   convertible          rwd           front       88.6  168.8  64.1   48.8\n",
      "2     hatchback          rwd           front       94.5  171.2  65.5   52.4\n",
      "3         sedan          fwd           front       99.8  176.6  66.2   54.3\n",
      "4         sedan          4wd           front       99.4  176.6  66.4   54.3\n",
      "5         sedan          fwd           front       99.8  177.3  66.3   53.1\n",
      "6         sedan          fwd           front      105.8  192.7  71.4   55.7\n",
      "7         wagon          fwd           front      105.8  192.7  71.4   55.7\n",
      "8         sedan          fwd           front      105.8  192.7  71.4   55.9\n",
      "9     hatchback          4wd           front       99.5  178.2  67.9   52.0\n",
      "10        sedan          rwd           front      101.2  176.8  64.8   54.3\n",
      "11        sedan          rwd           front      101.2  176.8  64.8   54.3\n",
      "12        sedan          rwd           front      101.2  176.8  64.8   54.3\n",
      "13        sedan          rwd           front      101.2  176.8  64.8   54.3\n",
      "14        sedan          rwd           front      103.5  189.0  66.9   55.7\n",
      "15        sedan          rwd           front      103.5  189.0  66.9   55.7\n",
      "16        sedan          rwd           front      103.5  193.8  67.9   53.7\n",
      "17        sedan          rwd           front      110.0  197.0  70.9   56.3\n",
      "18    hatchback          fwd           front       88.4  141.1  60.3   53.2\n",
      "19    hatchback          fwd           front       94.5  155.9  63.6   52.0\n",
      "20        sedan          fwd           front       94.5  158.8  63.6   52.0\n",
      "21    hatchback          fwd           front       93.7  157.3  63.8   50.8\n",
      "22    hatchback          fwd           front       93.7  157.3  63.8   50.8\n",
      "23    hatchback          fwd           front       93.7  157.3  63.8   50.8\n",
      "24    hatchback          fwd           front       93.7  157.3  63.8   50.6\n",
      "25        sedan          fwd           front       93.7  157.3  63.8   50.6\n",
      "26        sedan          fwd           front       93.7  157.3  63.8   50.6\n",
      "27        sedan          fwd           front       93.7  157.3  63.8   50.6\n",
      "28        wagon          fwd           front      103.3  174.6  64.6   59.8\n",
      "29    hatchback          fwd           front       95.9  173.2  66.3   50.2\n",
      "30    hatchback          fwd           front       86.6  144.6  63.9   50.8\n",
      "31    hatchback          fwd           front       86.6  144.6  63.9   50.8\n",
      "32    hatchback          fwd           front       93.7  150.0  64.0   52.6\n",
      "33    hatchback          fwd           front       93.7  150.0  64.0   52.6\n",
      "34    hatchback          fwd           front       93.7  150.0  64.0   52.6\n",
      "35        sedan          fwd           front       96.5  163.4  64.0   54.5\n",
      "36        wagon          fwd           front       96.5  157.1  63.9   58.3\n",
      "37    hatchback          fwd           front       96.5  167.5  65.2   53.3\n",
      "38    hatchback          fwd           front       96.5  167.5  65.2   53.3\n",
      "39        sedan          fwd           front       96.5  175.4  65.2   54.1\n",
      "40        sedan          fwd           front       96.5  175.4  62.5   54.1\n",
      "41        sedan          fwd           front       96.5  175.4  65.2   54.1\n",
      "42        sedan          fwd           front       96.5  169.1  66.0   51.0\n",
      "43        sedan          rwd           front       94.3  170.7  61.8   53.5\n",
      "44        sedan          fwd           front       94.5  155.9  63.6   52.0\n",
      "45        sedan          fwd           front       94.5  155.9  63.6   52.0\n",
      "46    hatchback          rwd           front       96.0  172.6  65.2   51.4\n",
      "47        sedan          rwd           front      113.0  199.6  69.6   52.8\n",
      "48        sedan          rwd           front      113.0  199.6  69.6   52.8\n",
      "49        sedan          rwd           front      102.0  191.7  70.6   47.8\n",
      "50    hatchback          fwd           front       93.1  159.1  64.2   54.1\n",
      "51    hatchback          fwd           front       93.1  159.1  64.2   54.1\n",
      "52    hatchback          fwd           front       93.1  159.1  64.2   54.1\n",
      "53        sedan          fwd           front       93.1  166.8  64.2   54.1\n",
      "54        sedan          fwd           front       93.1  166.8  64.2   54.1\n",
      "55    hatchback          rwd           front       95.3  169.0  65.7   49.6\n",
      "56    hatchback          rwd           front       95.3  169.0  65.7   49.6\n",
      "57    hatchback          rwd           front       95.3  169.0  65.7   49.6\n",
      "58    hatchback          rwd           front       95.3  169.0  65.7   49.6\n",
      "59    hatchback          fwd           front       98.8  177.8  66.5   53.7\n",
      "60        sedan          fwd           front       98.8  177.8  66.5   55.5\n",
      "61    hatchback          fwd           front       98.8  177.8  66.5   53.7\n",
      "62        sedan          fwd           front       98.8  177.8  66.5   55.5\n",
      "63        sedan          fwd           front       98.8  177.8  66.5   55.5\n",
      "64    hatchback          fwd           front       98.8  177.8  66.5   55.5\n",
      "65        sedan          rwd           front      104.9  175.0  66.1   54.4\n",
      "66        sedan          rwd           front      104.9  175.0  66.1   54.4\n",
      "67        sedan          rwd           front      110.0  190.9  70.3   56.5\n",
      "68        wagon          rwd           front      110.0  190.9  70.3   58.7\n",
      "69      hardtop          rwd           front      106.7  187.5  70.3   54.9\n",
      "70        sedan          rwd           front      115.6  202.6  71.7   56.3\n",
      "71        sedan          rwd           front      115.6  202.6  71.7   56.5\n",
      "72  convertible          rwd           front       96.6  180.3  70.5   50.8\n",
      "73        sedan          rwd           front      120.9  208.1  71.7   56.7\n",
      "74      hardtop          rwd           front      112.0  199.2  72.0   55.4\n",
      "75    hatchback          rwd           front      102.7  178.4  68.0   54.8\n",
      "76    hatchback          fwd           front       93.7  157.3  64.4   50.8\n",
      "77    hatchback          fwd           front       93.7  157.3  64.4   50.8\n",
      "78    hatchback          fwd           front       93.7  157.3  64.4   50.8\n",
      "79    hatchback          fwd           front       93.0  157.3  63.8   50.8\n",
      "80    hatchback          fwd           front       96.3  173.0  65.4   49.4\n",
      "81    hatchback          fwd           front       96.3  173.0  65.4   49.4\n",
      "82    hatchback          fwd           front       95.9  173.2  66.3   50.2\n",
      "83    hatchback          fwd           front       95.9  173.2  66.3   50.2\n",
      "84    hatchback          fwd           front       95.9  173.2  66.3   50.2\n",
      "85        sedan          fwd           front       96.3  172.4  65.4   51.6\n",
      "86        sedan          fwd           front       96.3  172.4  65.4   51.6\n",
      "87        sedan          fwd           front       96.3  172.4  65.4   51.6\n",
      "88        sedan          fwd           front       96.3  172.4  65.4   51.6\n",
      "89        sedan          fwd           front       94.5  165.3  63.8   54.5\n",
      "90        sedan          fwd           front       94.5  165.3  63.8   54.5\n",
      "91        sedan          fwd           front       94.5  165.3  63.8   54.5\n",
      "92        sedan          fwd           front       94.5  165.3  63.8   54.5\n",
      "93        wagon          fwd           front       94.5  170.2  63.8   53.5\n",
      "94        sedan          fwd           front       94.5  165.3  63.8   54.5\n",
      "95    hatchback          fwd           front       94.5  165.6  63.8   53.3\n",
      "96        sedan          fwd           front       94.5  165.3  63.8   54.5\n",
      "97        wagon          fwd           front       94.5  170.2  63.8   53.5\n",
      "98      hardtop          fwd           front       95.1  162.4  63.8   53.3\n",
      "99    hatchback          fwd           front       97.2  173.4  65.2   54.7\n",
      "100       sedan          fwd           front       97.2  173.4  65.2   54.7\n",
      "101       sedan          fwd           front      100.4  181.7  66.5   55.1\n",
      "102       wagon          fwd           front      100.4  184.6  66.5   56.1\n",
      "103       sedan          fwd           front      100.4  184.6  66.5   55.1\n",
      "104   hatchback          rwd           front       91.3  170.7  67.9   49.7\n",
      "105   hatchback          rwd           front       91.3  170.7  67.9   49.7\n",
      "106   hatchback          rwd           front       99.2  178.5  67.9   49.7\n",
      "107       sedan          rwd           front      107.9  186.7  68.4   56.7\n",
      "108       sedan          rwd           front      107.9  186.7  68.4   56.7\n",
      "109       wagon          rwd           front      114.2  198.9  68.4   58.7\n",
      "110       wagon          rwd           front      114.2  198.9  68.4   58.7\n",
      "111       sedan          rwd           front      107.9  186.7  68.4   56.7\n",
      "112       sedan          rwd           front      107.9  186.7  68.4   56.7\n",
      "113       wagon          rwd           front      114.2  198.9  68.4   56.7\n",
      "114       wagon          rwd           front      114.2  198.9  68.4   58.7\n",
      "115       sedan          rwd           front      107.9  186.7  68.4   56.7\n",
      "116       sedan          rwd           front      107.9  186.7  68.4   56.7\n",
      "117       sedan          rwd           front      108.0  186.7  68.3   56.0\n",
      "118   hatchback          fwd           front       93.7  157.3  63.8   50.8\n",
      "119   hatchback          fwd           front       93.7  157.3  63.8   50.8\n",
      "120   hatchback          fwd           front       93.7  157.3  63.8   50.6\n",
      "121       sedan          fwd           front       93.7  167.3  63.8   50.8\n",
      "122       sedan          fwd           front       93.7  167.3  63.8   50.8\n",
      "123       wagon          fwd           front      103.3  174.6  64.6   59.8\n",
      "124   hatchback          rwd           front       95.9  173.2  66.3   50.2\n",
      "125   hatchback          rwd           front       94.5  168.9  68.3   50.2\n",
      "126     hardtop          rwd            rear       89.5  168.9  65.0   51.6\n",
      "127     hardtop          rwd            rear       89.5  168.9  65.0   51.6\n",
      "128 convertible          rwd            rear       89.5  168.9  65.0   51.6\n",
      "129   hatchback          rwd           front       98.4  175.7  72.3   50.5\n",
      "130       wagon          fwd           front       96.1  181.5  66.5   55.2\n",
      "131   hatchback          fwd           front       96.1  176.8  66.6   50.5\n",
      "132   hatchback          fwd           front       99.1  186.6  66.5   56.1\n",
      "133       sedan          fwd           front       99.1  186.6  66.5   56.1\n",
      "134   hatchback          fwd           front       99.1  186.6  66.5   56.1\n",
      "135       sedan          fwd           front       99.1  186.6  66.5   56.1\n",
      "136   hatchback          fwd           front       99.1  186.6  66.5   56.1\n",
      "137       sedan          fwd           front       99.1  186.6  66.5   56.1\n",
      "138   hatchback          fwd           front       93.7  156.9  63.4   53.7\n",
      "139   hatchback          fwd           front       93.7  157.9  63.6   53.7\n",
      "140   hatchback          4wd           front       93.3  157.3  63.8   55.7\n",
      "141       sedan          fwd           front       97.2  172.0  65.4   52.5\n",
      "142       sedan          fwd           front       97.2  172.0  65.4   52.5\n",
      "143       sedan          fwd           front       97.2  172.0  65.4   52.5\n",
      "144       sedan          4wd           front       97.0  172.0  65.4   54.3\n",
      "145       sedan          4wd           front       97.0  172.0  65.4   54.3\n",
      "146       wagon          fwd           front       97.0  173.5  65.4   53.0\n",
      "147       wagon          fwd           front       97.0  173.5  65.4   53.0\n",
      "148       wagon          4wd           front       96.9  173.6  65.4   54.9\n",
      "149       wagon          4wd           front       96.9  173.6  65.4   54.9\n",
      "150   hatchback          fwd           front       95.7  158.7  63.6   54.5\n",
      "151   hatchback          fwd           front       95.7  158.7  63.6   54.5\n",
      "152   hatchback          fwd           front       95.7  158.7  63.6   54.5\n",
      "153       wagon          fwd           front       95.7  169.7  63.6   59.1\n",
      "154       wagon          4wd           front       95.7  169.7  63.6   59.1\n",
      "155       wagon          4wd           front       95.7  169.7  63.6   59.1\n",
      "156       sedan          fwd           front       95.7  166.3  64.4   53.0\n",
      "157   hatchback          fwd           front       95.7  166.3  64.4   52.8\n",
      "158       sedan          fwd           front       95.7  166.3  64.4   53.0\n",
      "159   hatchback          fwd           front       95.7  166.3  64.4   52.8\n",
      "160       sedan          fwd           front       95.7  166.3  64.4   53.0\n",
      "161   hatchback          fwd           front       95.7  166.3  64.4   52.8\n",
      "162       sedan          fwd           front       95.7  166.3  64.4   52.8\n",
      "163       sedan          rwd           front       94.5  168.7  64.0   52.6\n",
      "164   hatchback          rwd           front       94.5  168.7  64.0   52.6\n",
      "165       sedan          rwd           front       94.5  168.7  64.0   52.6\n",
      "166   hatchback          rwd           front       94.5  168.7  64.0   52.6\n",
      "167     hardtop          rwd           front       98.4  176.2  65.6   52.0\n",
      "168     hardtop          rwd           front       98.4  176.2  65.6   52.0\n",
      "169   hatchback          rwd           front       98.4  176.2  65.6   52.0\n",
      "170     hardtop          rwd           front       98.4  176.2  65.6   52.0\n",
      "171   hatchback          rwd           front       98.4  176.2  65.6   52.0\n",
      "172 convertible          rwd           front       98.4  176.2  65.6   53.0\n",
      "173       sedan          fwd           front      102.4  175.6  66.5   54.9\n",
      "174       sedan          fwd           front      102.4  175.6  66.5   54.9\n",
      "175   hatchback          fwd           front      102.4  175.6  66.5   53.9\n",
      "176       sedan          fwd           front      102.4  175.6  66.5   54.9\n",
      "177   hatchback          fwd           front      102.4  175.6  66.5   53.9\n",
      "178   hatchback          rwd           front      102.9  183.5  67.7   52.0\n",
      "179   hatchback          rwd           front      102.9  183.5  67.7   52.0\n",
      "180       sedan          rwd           front      104.5  187.8  66.5   54.1\n",
      "181       wagon          rwd           front      104.5  187.8  66.5   54.1\n",
      "182       sedan          fwd           front       97.3  171.7  65.5   55.7\n",
      "183       sedan          fwd           front       97.3  171.7  65.5   55.7\n",
      "184       sedan          fwd           front       97.3  171.7  65.5   55.7\n",
      "185       sedan          fwd           front       97.3  171.7  65.5   55.7\n",
      "186       sedan          fwd           front       97.3  171.7  65.5   55.7\n",
      "187       sedan          fwd           front       97.3  171.7  65.5   55.7\n",
      "188       sedan          fwd           front       97.3  171.7  65.5   55.7\n",
      "189 convertible          fwd           front       94.5  159.3  64.2   55.6\n",
      "190   hatchback          fwd           front       94.5  165.7  64.0   51.4\n",
      "191       sedan          fwd           front      100.4  180.2  66.9   55.1\n",
      "192       sedan          fwd           front      100.4  180.2  66.9   55.1\n",
      "193       wagon          fwd           front      100.4  183.1  66.9   55.1\n",
      "194       sedan          rwd           front      104.3  188.8  67.2   56.2\n",
      "195       wagon          rwd           front      104.3  188.8  67.2   57.5\n",
      "196       sedan          rwd           front      104.3  188.8  67.2   56.2\n",
      "197       wagon          rwd           front      104.3  188.8  67.2   57.5\n",
      "198       sedan          rwd           front      104.3  188.8  67.2   56.2\n",
      "199       wagon          rwd           front      104.3  188.8  67.2   57.5\n",
      "200       sedan          rwd           front      109.1  188.8  68.9   55.5\n",
      "201       sedan          rwd           front      109.1  188.8  68.8   55.5\n",
      "202       sedan          rwd           front      109.1  188.8  68.9   55.5\n",
      "203       sedan          rwd           front      109.1  188.8  68.9   55.5\n",
      "204       sedan          rwd           front      109.1  188.8  68.9   55.5\n",
      "    curb-weight engine-type num-of-cylinders engine-size fuel-system bore\n",
      "1          2548        dohc             four         130        mpfi 3.47\n",
      "2          2823        ohcv              six         152        mpfi 2.68\n",
      "3          2337         ohc             four         109        mpfi 3.19\n",
      "4          2824         ohc             five         136        mpfi 3.19\n",
      "5          2507         ohc             five         136        mpfi 3.19\n",
      "6          2844         ohc             five         136        mpfi 3.19\n",
      "7          2954         ohc             five         136        mpfi 3.19\n",
      "8          3086         ohc             five         131        mpfi 3.13\n",
      "9          3053         ohc             five         131        mpfi 3.13\n",
      "10         2395         ohc             four         108        mpfi 3.50\n",
      "11         2395         ohc             four         108        mpfi 3.50\n",
      "12         2710         ohc              six         164        mpfi 3.31\n",
      "13         2765         ohc              six         164        mpfi 3.31\n",
      "14         3055         ohc              six         164        mpfi 3.31\n",
      "15         3230         ohc              six         209        mpfi 3.62\n",
      "16         3380         ohc              six         209        mpfi 3.62\n",
      "17         3505         ohc              six         209        mpfi 3.62\n",
      "18         1488           l            three          61        2bbl 2.91\n",
      "19         1874         ohc             four          90        2bbl 3.03\n",
      "20         1909         ohc             four          90        2bbl 3.03\n",
      "21         1876         ohc             four          90        2bbl 2.97\n",
      "22         1876         ohc             four          90        2bbl 2.97\n",
      "23         2128         ohc             four          98        mpfi 3.03\n",
      "24         1967         ohc             four          90        2bbl 2.97\n",
      "25         1989         ohc             four          90        2bbl 2.97\n",
      "26         1989         ohc             four          90        2bbl 2.97\n",
      "27         2191         ohc             four          98        mpfi 3.03\n",
      "28         2535         ohc             four         122        2bbl 3.34\n",
      "29         2811         ohc             four         156         mfi 3.60\n",
      "30         1713         ohc             four          92        1bbl 2.91\n",
      "31         1819         ohc             four          92        1bbl 2.91\n",
      "32         1837         ohc             four          79        1bbl 2.91\n",
      "33         1940         ohc             four          92        1bbl 2.91\n",
      "34         1956         ohc             four          92        1bbl 2.91\n",
      "35         2010         ohc             four          92        1bbl 2.91\n",
      "36         2024         ohc             four          92        1bbl 2.92\n",
      "37         2236         ohc             four         110        1bbl 3.15\n",
      "38         2289         ohc             four         110        1bbl 3.15\n",
      "39         2304         ohc             four         110        1bbl 3.15\n",
      "40         2372         ohc             four         110        1bbl 3.15\n",
      "41         2465         ohc             four         110        mpfi 3.15\n",
      "42         2293         ohc             four         110        2bbl 3.15\n",
      "43         2337         ohc             four         111        2bbl 3.31\n",
      "44         1874         ohc             four          90        2bbl 3.03\n",
      "45         1909         ohc             four          90        2bbl 3.03\n",
      "46         2734         ohc             four         119        spfi 3.43\n",
      "47         4066        dohc              six         258        mpfi 3.63\n",
      "48         4066        dohc              six         258        mpfi 3.63\n",
      "49         3950        ohcv           twelve         326        mpfi 3.54\n",
      "50         1890         ohc             four          91        2bbl 3.03\n",
      "51         1900         ohc             four          91        2bbl 3.03\n",
      "52         1905         ohc             four          91        2bbl 3.03\n",
      "53         1945         ohc             four          91        2bbl 3.03\n",
      "54         1950         ohc             four          91        2bbl 3.08\n",
      "55         2380       rotor              two          70        4bbl    ?\n",
      "56         2380       rotor              two          70        4bbl    ?\n",
      "57         2385       rotor              two          70        4bbl    ?\n",
      "58         2500       rotor              two          80        mpfi    ?\n",
      "59         2385         ohc             four         122        2bbl 3.39\n",
      "60         2410         ohc             four         122        2bbl 3.39\n",
      "61         2385         ohc             four         122        2bbl 3.39\n",
      "62         2410         ohc             four         122        2bbl 3.39\n",
      "63         2443         ohc             four         122         idi 3.39\n",
      "64         2425         ohc             four         122        2bbl 3.39\n",
      "65         2670         ohc             four         140        mpfi 3.76\n",
      "66         2700         ohc             four         134         idi 3.43\n",
      "67         3515         ohc             five         183         idi 3.58\n",
      "68         3750         ohc             five         183         idi 3.58\n",
      "69         3495         ohc             five         183         idi 3.58\n",
      "70         3770         ohc             five         183         idi 3.58\n",
      "71         3740        ohcv            eight         234        mpfi 3.46\n",
      "72         3685        ohcv            eight         234        mpfi 3.46\n",
      "73         3900        ohcv            eight         308        mpfi 3.80\n",
      "74         3715        ohcv            eight         304        mpfi 3.80\n",
      "75         2910         ohc             four         140        mpfi 3.78\n",
      "76         1918         ohc             four          92        2bbl 2.97\n",
      "77         1944         ohc             four          92        2bbl 2.97\n",
      "78         2004         ohc             four          92        2bbl 2.97\n",
      "79         2145         ohc             four          98        spdi 3.03\n",
      "80         2370         ohc             four         110        spdi 3.17\n",
      "81         2328         ohc             four         122        2bbl 3.35\n",
      "82         2833         ohc             four         156        spdi 3.58\n",
      "83         2921         ohc             four         156        spdi 3.59\n",
      "84         2926         ohc             four         156        spdi 3.59\n",
      "85         2365         ohc             four         122        2bbl 3.35\n",
      "86         2405         ohc             four         122        2bbl 3.35\n",
      "87         2403         ohc             four         110        spdi 3.17\n",
      "88         2403         ohc             four         110        spdi 3.17\n",
      "89         1889         ohc             four          97        2bbl 3.15\n",
      "90         2017         ohc             four         103         idi 2.99\n",
      "91         1918         ohc             four          97        2bbl 3.15\n",
      "92         1938         ohc             four          97        2bbl 3.15\n",
      "93         2024         ohc             four          97        2bbl 3.15\n",
      "94         1951         ohc             four          97        2bbl 3.15\n",
      "95         2028         ohc             four          97        2bbl 3.15\n",
      "96         1971         ohc             four          97        2bbl 3.15\n",
      "97         2037         ohc             four          97        2bbl 3.15\n",
      "98         2008         ohc             four          97        2bbl 3.15\n",
      "99         2324         ohc             four         120        2bbl 3.33\n",
      "100        2302         ohc             four         120        2bbl 3.33\n",
      "101        3095        ohcv              six         181        mpfi 3.43\n",
      "102        3296        ohcv              six         181        mpfi 3.43\n",
      "103        3060        ohcv              six         181        mpfi 3.43\n",
      "104        3071        ohcv              six         181        mpfi 3.43\n",
      "105        3139        ohcv              six         181        mpfi 3.43\n",
      "106        3139        ohcv              six         181        mpfi 3.43\n",
      "107        3020           l             four         120        mpfi 3.46\n",
      "108        3197           l             four         152         idi 3.70\n",
      "109        3230           l             four         120        mpfi 3.46\n",
      "110        3430           l             four         152         idi 3.70\n",
      "111        3075           l             four         120        mpfi 3.46\n",
      "112        3252           l             four         152         idi 3.70\n",
      "113        3285           l             four         120        mpfi 3.46\n",
      "114        3485           l             four         152         idi 3.70\n",
      "115        3075           l             four         120        mpfi 3.46\n",
      "116        3252           l             four         152         idi 3.70\n",
      "117        3130           l             four         134        mpfi 3.61\n",
      "118        1918         ohc             four          90        2bbl 2.97\n",
      "119        2128         ohc             four          98        spdi 3.03\n",
      "120        1967         ohc             four          90        2bbl 2.97\n",
      "121        1989         ohc             four          90        2bbl 2.97\n",
      "122        2191         ohc             four          98        2bbl 2.97\n",
      "123        2535         ohc             four         122        2bbl 3.35\n",
      "124        2818         ohc             four         156        spdi 3.59\n",
      "125        2778         ohc             four         151        mpfi 3.94\n",
      "126        2756        ohcf              six         194        mpfi 3.74\n",
      "127        2756        ohcf              six         194        mpfi 3.74\n",
      "128        2800        ohcf              six         194        mpfi 3.74\n",
      "129        3366       dohcv            eight         203        mpfi 3.94\n",
      "130        2579         ohc             four         132        mpfi 3.46\n",
      "131        2460         ohc             four         132        mpfi 3.46\n",
      "132        2658         ohc             four         121        mpfi 3.54\n",
      "133        2695         ohc             four         121        mpfi 3.54\n",
      "134        2707         ohc             four         121        mpfi 2.54\n",
      "135        2758         ohc             four         121        mpfi 3.54\n",
      "136        2808        dohc             four         121        mpfi 3.54\n",
      "137        2847        dohc             four         121        mpfi 3.54\n",
      "138        2050        ohcf             four          97        2bbl 3.62\n",
      "139        2120        ohcf             four         108        2bbl 3.62\n",
      "140        2240        ohcf             four         108        2bbl 3.62\n",
      "141        2145        ohcf             four         108        2bbl 3.62\n",
      "142        2190        ohcf             four         108        2bbl 3.62\n",
      "143        2340        ohcf             four         108        mpfi 3.62\n",
      "144        2385        ohcf             four         108        2bbl 3.62\n",
      "145        2510        ohcf             four         108        mpfi 3.62\n",
      "146        2290        ohcf             four         108        2bbl 3.62\n",
      "147        2455        ohcf             four         108        mpfi 3.62\n",
      "148        2420        ohcf             four         108        2bbl 3.62\n",
      "149        2650        ohcf             four         108        mpfi 3.62\n",
      "150        1985         ohc             four          92        2bbl 3.05\n",
      "151        2040         ohc             four          92        2bbl 3.05\n",
      "152        2015         ohc             four          92        2bbl 3.05\n",
      "153        2280         ohc             four          92        2bbl 3.05\n",
      "154        2290         ohc             four          92        2bbl 3.05\n",
      "155        3110         ohc             four          92        2bbl 3.05\n",
      "156        2081         ohc             four          98        2bbl 3.19\n",
      "157        2109         ohc             four          98        2bbl 3.19\n",
      "158        2275         ohc             four         110         idi 3.27\n",
      "159        2275         ohc             four         110         idi 3.27\n",
      "160        2094         ohc             four          98        2bbl 3.19\n",
      "161        2122         ohc             four          98        2bbl 3.19\n",
      "162        2140         ohc             four          98        2bbl 3.19\n",
      "163        2169         ohc             four          98        2bbl 3.19\n",
      "164        2204         ohc             four          98        2bbl 3.19\n",
      "165        2265        dohc             four          98        mpfi 3.24\n",
      "166        2300        dohc             four          98        mpfi 3.24\n",
      "167        2540         ohc             four         146        mpfi 3.62\n",
      "168        2536         ohc             four         146        mpfi 3.62\n",
      "169        2551         ohc             four         146        mpfi 3.62\n",
      "170        2679         ohc             four         146        mpfi 3.62\n",
      "171        2714         ohc             four         146        mpfi 3.62\n",
      "172        2975         ohc             four         146        mpfi 3.62\n",
      "173        2326         ohc             four         122        mpfi 3.31\n",
      "174        2480         ohc             four         110         idi 3.27\n",
      "175        2414         ohc             four         122        mpfi 3.31\n",
      "176        2414         ohc             four         122        mpfi 3.31\n",
      "177        2458         ohc             four         122        mpfi 3.31\n",
      "178        2976        dohc              six         171        mpfi 3.27\n",
      "179        3016        dohc              six         171        mpfi 3.27\n",
      "180        3131        dohc              six         171        mpfi 3.27\n",
      "181        3151        dohc              six         161        mpfi 3.27\n",
      "182        2261         ohc             four          97         idi 3.01\n",
      "183        2209         ohc             four         109        mpfi 3.19\n",
      "184        2264         ohc             four          97         idi 3.01\n",
      "185        2212         ohc             four         109        mpfi 3.19\n",
      "186        2275         ohc             four         109        mpfi 3.19\n",
      "187        2319         ohc             four          97         idi 3.01\n",
      "188        2300         ohc             four         109        mpfi 3.19\n",
      "189        2254         ohc             four         109        mpfi 3.19\n",
      "190        2221         ohc             four         109        mpfi 3.19\n",
      "191        2661         ohc             five         136        mpfi 3.19\n",
      "192        2579         ohc             four          97         idi 3.01\n",
      "193        2563         ohc             four         109        mpfi 3.19\n",
      "194        2912         ohc             four         141        mpfi 3.78\n",
      "195        3034         ohc             four         141        mpfi 3.78\n",
      "196        2935         ohc             four         141        mpfi 3.78\n",
      "197        3042         ohc             four         141        mpfi 3.78\n",
      "198        3045         ohc             four         130        mpfi 3.62\n",
      "199        3157         ohc             four         130        mpfi 3.62\n",
      "200        2952         ohc             four         141        mpfi 3.78\n",
      "201        3049         ohc             four         141        mpfi 3.78\n",
      "202        3012        ohcv              six         173        mpfi 3.58\n",
      "203        3217         ohc              six         145         idi 3.01\n",
      "204        3062         ohc             four         141        mpfi 3.78\n",
      "    stroke compression-ratio horsepower peak-rpm city-mpg highway-mpg price\n",
      "1     2.68              9.00        111     5000       21          27 16500\n",
      "2     3.47              9.00        154     5000       19          26 16500\n",
      "3     3.40             10.00        102     5500       24          30 13950\n",
      "4     3.40              8.00        115     5500       18          22 17450\n",
      "5     3.40              8.50        110     5500       19          25 15250\n",
      "6     3.40              8.50        110     5500       19          25 17710\n",
      "7     3.40              8.50        110     5500       19          25 18920\n",
      "8     3.40              8.30        140     5500       17          20 23875\n",
      "9     3.40              7.00        160     5500       16          22     ?\n",
      "10    2.80              8.80        101     5800       23          29 16430\n",
      "11    2.80              8.80        101     5800       23          29 16925\n",
      "12    3.19              9.00        121     4250       21          28 20970\n",
      "13    3.19              9.00        121     4250       21          28 21105\n",
      "14    3.19              9.00        121     4250       20          25 24565\n",
      "15    3.39              8.00        182     5400       16          22 30760\n",
      "16    3.39              8.00        182     5400       16          22 41315\n",
      "17    3.39              8.00        182     5400       15          20 36880\n",
      "18    3.03              9.50         48     5100       47          53  5151\n",
      "19    3.11              9.60         70     5400       38          43  6295\n",
      "20    3.11              9.60         70     5400       38          43  6575\n",
      "21    3.23              9.41         68     5500       37          41  5572\n",
      "22    3.23              9.40         68     5500       31          38  6377\n",
      "23    3.39              7.60        102     5500       24          30  7957\n",
      "24    3.23              9.40         68     5500       31          38  6229\n",
      "25    3.23              9.40         68     5500       31          38  6692\n",
      "26    3.23              9.40         68     5500       31          38  7609\n",
      "27    3.39              7.60        102     5500       24          30  8558\n",
      "28    3.46              8.50         88     5000       24          30  8921\n",
      "29    3.90              7.00        145     5000       19          24 12964\n",
      "30    3.41              9.60         58     4800       49          54  6479\n",
      "31    3.41              9.20         76     6000       31          38  6855\n",
      "32    3.07             10.10         60     5500       38          42  5399\n",
      "33    3.41              9.20         76     6000       30          34  6529\n",
      "34    3.41              9.20         76     6000       30          34  7129\n",
      "35    3.41              9.20         76     6000       30          34  7295\n",
      "36    3.41              9.20         76     6000       30          34  7295\n",
      "37    3.58              9.00         86     5800       27          33  7895\n",
      "38    3.58              9.00         86     5800       27          33  9095\n",
      "39    3.58              9.00         86     5800       27          33  8845\n",
      "40    3.58              9.00         86     5800       27          33 10295\n",
      "41    3.58              9.00        101     5800       24          28 12945\n",
      "42    3.58              9.10        100     5500       25          31 10345\n",
      "43    3.23              8.50         78     4800       24          29  6785\n",
      "44    3.11              9.60         70     5400       38          43     ?\n",
      "45    3.11              9.60         70     5400       38          43     ?\n",
      "46    3.23              9.20         90     5000       24          29 11048\n",
      "47    4.17              8.10        176     4750       15          19 32250\n",
      "48    4.17              8.10        176     4750       15          19 35550\n",
      "49    2.76             11.50        262     5000       13          17 36000\n",
      "50    3.15              9.00         68     5000       30          31  5195\n",
      "51    3.15              9.00         68     5000       31          38  6095\n",
      "52    3.15              9.00         68     5000       31          38  6795\n",
      "53    3.15              9.00         68     5000       31          38  6695\n",
      "54    3.15              9.00         68     5000       31          38  7395\n",
      "55       ?              9.40        101     6000       17          23 10945\n",
      "56       ?              9.40        101     6000       17          23 11845\n",
      "57       ?              9.40        101     6000       17          23 13645\n",
      "58       ?              9.40        135     6000       16          23 15645\n",
      "59    3.39              8.60         84     4800       26          32  8845\n",
      "60    3.39              8.60         84     4800       26          32  8495\n",
      "61    3.39              8.60         84     4800       26          32 10595\n",
      "62    3.39              8.60         84     4800       26          32 10245\n",
      "63    3.39             22.70         64     4650       36          42 10795\n",
      "64    3.39              8.60         84     4800       26          32 11245\n",
      "65    3.16              8.00        120     5000       19          27 18280\n",
      "66    3.64             22.00         72     4200       31          39 18344\n",
      "67    3.64             21.50        123     4350       22          25 25552\n",
      "68    3.64             21.50        123     4350       22          25 28248\n",
      "69    3.64             21.50        123     4350       22          25 28176\n",
      "70    3.64             21.50        123     4350       22          25 31600\n",
      "71    3.10              8.30        155     4750       16          18 34184\n",
      "72    3.10              8.30        155     4750       16          18 35056\n",
      "73    3.35              8.00        184     4500       14          16 40960\n",
      "74    3.35              8.00        184     4500       14          16 45400\n",
      "75    3.12              8.00        175     5000       19          24 16503\n",
      "76    3.23              9.40         68     5500       37          41  5389\n",
      "77    3.23              9.40         68     5500       31          38  6189\n",
      "78    3.23              9.40         68     5500       31          38  6669\n",
      "79    3.39              7.60        102     5500       24          30  7689\n",
      "80    3.46              7.50        116     5500       23          30  9959\n",
      "81    3.46              8.50         88     5000       25          32  8499\n",
      "82    3.86              7.00        145     5000       19          24 12629\n",
      "83    3.86              7.00        145     5000       19          24 14869\n",
      "84    3.86              7.00        145     5000       19          24 14489\n",
      "85    3.46              8.50         88     5000       25          32  6989\n",
      "86    3.46              8.50         88     5000       25          32  8189\n",
      "87    3.46              7.50        116     5500       23          30  9279\n",
      "88    3.46              7.50        116     5500       23          30  9279\n",
      "89    3.29              9.40         69     5200       31          37  5499\n",
      "90    3.47             21.90         55     4800       45          50  7099\n",
      "91    3.29              9.40         69     5200       31          37  6649\n",
      "92    3.29              9.40         69     5200       31          37  6849\n",
      "93    3.29              9.40         69     5200       31          37  7349\n",
      "94    3.29              9.40         69     5200       31          37  7299\n",
      "95    3.29              9.40         69     5200       31          37  7799\n",
      "96    3.29              9.40         69     5200       31          37  7499\n",
      "97    3.29              9.40         69     5200       31          37  7999\n",
      "98    3.29              9.40         69     5200       31          37  8249\n",
      "99    3.47              8.50         97     5200       27          34  8949\n",
      "100   3.47              8.50         97     5200       27          34  9549\n",
      "101   3.27              9.00        152     5200       17          22 13499\n",
      "102   3.27              9.00        152     5200       17          22 14399\n",
      "103   3.27              9.00        152     5200       19          25 13499\n",
      "104   3.27              9.00        160     5200       19          25 17199\n",
      "105   3.27              7.80        200     5200       17          23 19699\n",
      "106   3.27              9.00        160     5200       19          25 18399\n",
      "107   3.19              8.40         97     5000       19          24 11900\n",
      "108   3.52             21.00         95     4150       28          33 13200\n",
      "109   3.19              8.40         97     5000       19          24 12440\n",
      "110   3.52             21.00         95     4150       25          25 13860\n",
      "111   2.19              8.40         95     5000       19          24 15580\n",
      "112   3.52             21.00         95     4150       28          33 16900\n",
      "113   2.19              8.40         95     5000       19          24 16695\n",
      "114   3.52             21.00         95     4150       25          25 17075\n",
      "115   3.19              8.40         97     5000       19          24 16630\n",
      "116   3.52             21.00         95     4150       28          33 17950\n",
      "117   3.21              7.00        142     5600       18          24 18150\n",
      "118   3.23              9.40         68     5500       37          41  5572\n",
      "119   3.39              7.60        102     5500       24          30  7957\n",
      "120   3.23              9.40         68     5500       31          38  6229\n",
      "121   3.23              9.40         68     5500       31          38  6692\n",
      "122   3.23              9.40         68     5500       31          38  7609\n",
      "123   3.46              8.50         88     5000       24          30  8921\n",
      "124   3.86              7.00        145     5000       19          24 12764\n",
      "125   3.11              9.50        143     5500       19          27 22018\n",
      "126   2.90              9.50        207     5900       17          25 32528\n",
      "127   2.90              9.50        207     5900       17          25 34028\n",
      "128   2.90              9.50        207     5900       17          25 37028\n",
      "129   3.11             10.00        288     5750       17          28     ?\n",
      "130   3.90              8.70          ?        ?       23          31  9295\n",
      "131   3.90              8.70          ?        ?       23          31  9895\n",
      "132   3.07              9.31        110     5250       21          28 11850\n",
      "133   3.07              9.30        110     5250       21          28 12170\n",
      "134   2.07              9.30        110     5250       21          28 15040\n",
      "135   3.07              9.30        110     5250       21          28 15510\n",
      "136   3.07              9.00        160     5500       19          26 18150\n",
      "137   3.07              9.00        160     5500       19          26 18620\n",
      "138   2.36              9.00         69     4900       31          36  5118\n",
      "139   2.64              8.70         73     4400       26          31  7053\n",
      "140   2.64              8.70         73     4400       26          31  7603\n",
      "141   2.64              9.50         82     4800       32          37  7126\n",
      "142   2.64              9.50         82     4400       28          33  7775\n",
      "143   2.64              9.00         94     5200       26          32  9960\n",
      "144   2.64              9.00         82     4800       24          25  9233\n",
      "145   2.64              7.70        111     4800       24          29 11259\n",
      "146   2.64              9.00         82     4800       28          32  7463\n",
      "147   2.64              9.00         94     5200       25          31 10198\n",
      "148   2.64              9.00         82     4800       23          29  8013\n",
      "149   2.64              7.70        111     4800       23          23 11694\n",
      "150   3.03              9.00         62     4800       35          39  5348\n",
      "151   3.03              9.00         62     4800       31          38  6338\n",
      "152   3.03              9.00         62     4800       31          38  6488\n",
      "153   3.03              9.00         62     4800       31          37  6918\n",
      "154   3.03              9.00         62     4800       27          32  7898\n",
      "155   3.03              9.00         62     4800       27          32  8778\n",
      "156   3.03              9.00         70     4800       30          37  6938\n",
      "157   3.03              9.00         70     4800       30          37  7198\n",
      "158   3.35             22.50         56     4500       34          36  7898\n",
      "159   3.35             22.50         56     4500       38          47  7788\n",
      "160   3.03              9.00         70     4800       38          47  7738\n",
      "161   3.03              9.00         70     4800       28          34  8358\n",
      "162   3.03              9.00         70     4800       28          34  9258\n",
      "163   3.03              9.00         70     4800       29          34  8058\n",
      "164   3.03              9.00         70     4800       29          34  8238\n",
      "165   3.08              9.40        112     6600       26          29  9298\n",
      "166   3.08              9.40        112     6600       26          29  9538\n",
      "167   3.50              9.30        116     4800       24          30  8449\n",
      "168   3.50              9.30        116     4800       24          30  9639\n",
      "169   3.50              9.30        116     4800       24          30  9989\n",
      "170   3.50              9.30        116     4800       24          30 11199\n",
      "171   3.50              9.30        116     4800       24          30 11549\n",
      "172   3.50              9.30        116     4800       24          30 17669\n",
      "173   3.54              8.70         92     4200       29          34  8948\n",
      "174   3.35             22.50         73     4500       30          33 10698\n",
      "175   3.54              8.70         92     4200       27          32  9988\n",
      "176   3.54              8.70         92     4200       27          32 10898\n",
      "177   3.54              8.70         92     4200       27          32 11248\n",
      "178   3.35              9.30        161     5200       20          24 16558\n",
      "179   3.35              9.30        161     5200       19          24 15998\n",
      "180   3.35              9.20        156     5200       20          24 15690\n",
      "181   3.35              9.20        156     5200       19          24 15750\n",
      "182   3.40             23.00         52     4800       37          46  7775\n",
      "183   3.40              9.00         85     5250       27          34  7975\n",
      "184   3.40             23.00         52     4800       37          46  7995\n",
      "185   3.40              9.00         85     5250       27          34  8195\n",
      "186   3.40              9.00         85     5250       27          34  8495\n",
      "187   3.40             23.00         68     4500       37          42  9495\n",
      "188   3.40             10.00        100     5500       26          32  9995\n",
      "189   3.40              8.50         90     5500       24          29 11595\n",
      "190   3.40              8.50         90     5500       24          29  9980\n",
      "191   3.40              8.50        110     5500       19          24 13295\n",
      "192   3.40             23.00         68     4500       33          38 13845\n",
      "193   3.40              9.00         88     5500       25          31 12290\n",
      "194   3.15              9.50        114     5400       23          28 12940\n",
      "195   3.15              9.50        114     5400       23          28 13415\n",
      "196   3.15              9.50        114     5400       24          28 15985\n",
      "197   3.15              9.50        114     5400       24          28 16515\n",
      "198   3.15              7.50        162     5100       17          22 18420\n",
      "199   3.15              7.50        162     5100       17          22 18950\n",
      "200   3.15              9.50        114     5400       23          28 16845\n",
      "201   3.15              8.70        160     5300       19          25 19045\n",
      "202   2.87              8.80        134     5500       18          23 21485\n",
      "203   3.40             23.00        106     4800       26          27 22470\n",
      "204   3.15              9.50        114     5400       19          25 22625\n"
     ]
    }
   ],
   "source": [
    "new_data_1 <- impute(data, method = \"interpolation\", values = c(\"0\"))\n",
    "print(new_data_1)"
   ]
  },
  {
   "cell_type": "code",
   "execution_count": 18,
   "metadata": {
    "vscode": {
     "languageId": "r"
    }
   },
   "outputs": [
    {
     "data": {
      "text/html": [
       "<table class=\"dataframe\">\n",
       "<caption>A data.frame: 6 × 26</caption>\n",
       "<thead>\n",
       "\t<tr><th></th><th scope=col>symboling</th><th scope=col>normalized-losses</th><th scope=col>make</th><th scope=col>fuel-type</th><th scope=col>aspiration</th><th scope=col>num-of-doors</th><th scope=col>body-style</th><th scope=col>drive-wheels</th><th scope=col>engine-location</th><th scope=col>wheel-base</th><th scope=col>⋯</th><th scope=col>engine-size</th><th scope=col>fuel-system</th><th scope=col>bore</th><th scope=col>stroke</th><th scope=col>compression-ratio</th><th scope=col>horsepower</th><th scope=col>peak-rpm</th><th scope=col>city-mpg</th><th scope=col>highway-mpg</th><th scope=col>price</th></tr>\n",
       "\t<tr><th></th><th scope=col>&lt;int&gt;</th><th scope=col>&lt;chr&gt;</th><th scope=col>&lt;chr&gt;</th><th scope=col>&lt;chr&gt;</th><th scope=col>&lt;chr&gt;</th><th scope=col>&lt;chr&gt;</th><th scope=col>&lt;chr&gt;</th><th scope=col>&lt;chr&gt;</th><th scope=col>&lt;chr&gt;</th><th scope=col>&lt;dbl&gt;</th><th scope=col>⋯</th><th scope=col>&lt;int&gt;</th><th scope=col>&lt;chr&gt;</th><th scope=col>&lt;chr&gt;</th><th scope=col>&lt;chr&gt;</th><th scope=col>&lt;dbl&gt;</th><th scope=col>&lt;chr&gt;</th><th scope=col>&lt;chr&gt;</th><th scope=col>&lt;int&gt;</th><th scope=col>&lt;int&gt;</th><th scope=col>&lt;chr&gt;</th></tr>\n",
       "</thead>\n",
       "<tbody>\n",
       "\t<tr><th scope=row>1</th><td>3</td><td>0  </td><td>alfa-romero</td><td>gas</td><td>std</td><td>two </td><td>convertible</td><td>rwd</td><td>front</td><td> 88.6</td><td>⋯</td><td>130</td><td>mpfi</td><td>3.47</td><td>2.68</td><td> 9.0</td><td>111</td><td>5000</td><td>21</td><td>27</td><td>16500</td></tr>\n",
       "\t<tr><th scope=row>2</th><td>1</td><td>0  </td><td>alfa-romero</td><td>gas</td><td>std</td><td>two </td><td>hatchback  </td><td>rwd</td><td>front</td><td> 94.5</td><td>⋯</td><td>152</td><td>mpfi</td><td>2.68</td><td>3.47</td><td> 9.0</td><td>154</td><td>5000</td><td>19</td><td>26</td><td>16500</td></tr>\n",
       "\t<tr><th scope=row>3</th><td>2</td><td>164</td><td>audi       </td><td>gas</td><td>std</td><td>four</td><td>sedan      </td><td>fwd</td><td>front</td><td> 99.8</td><td>⋯</td><td>109</td><td>mpfi</td><td>3.19</td><td>3.40</td><td>10.0</td><td>102</td><td>5500</td><td>24</td><td>30</td><td>13950</td></tr>\n",
       "\t<tr><th scope=row>4</th><td>2</td><td>164</td><td>audi       </td><td>gas</td><td>std</td><td>four</td><td>sedan      </td><td>4wd</td><td>front</td><td> 99.4</td><td>⋯</td><td>136</td><td>mpfi</td><td>3.19</td><td>3.40</td><td> 8.0</td><td>115</td><td>5500</td><td>18</td><td>22</td><td>17450</td></tr>\n",
       "\t<tr><th scope=row>5</th><td>2</td><td>0  </td><td>audi       </td><td>gas</td><td>std</td><td>two </td><td>sedan      </td><td>fwd</td><td>front</td><td> 99.8</td><td>⋯</td><td>136</td><td>mpfi</td><td>3.19</td><td>3.40</td><td> 8.5</td><td>110</td><td>5500</td><td>19</td><td>25</td><td>15250</td></tr>\n",
       "\t<tr><th scope=row>6</th><td>1</td><td>158</td><td>audi       </td><td>gas</td><td>std</td><td>four</td><td>sedan      </td><td>fwd</td><td>front</td><td>105.8</td><td>⋯</td><td>136</td><td>mpfi</td><td>3.19</td><td>3.40</td><td> 8.5</td><td>110</td><td>5500</td><td>19</td><td>25</td><td>17710</td></tr>\n",
       "</tbody>\n",
       "</table>\n"
      ],
      "text/latex": [
       "A data.frame: 6 × 26\n",
       "\\begin{tabular}{r|lllllllllllllllllllll}\n",
       "  & symboling & normalized-losses & make & fuel-type & aspiration & num-of-doors & body-style & drive-wheels & engine-location & wheel-base & ⋯ & engine-size & fuel-system & bore & stroke & compression-ratio & horsepower & peak-rpm & city-mpg & highway-mpg & price\\\\\n",
       "  & <int> & <chr> & <chr> & <chr> & <chr> & <chr> & <chr> & <chr> & <chr> & <dbl> & ⋯ & <int> & <chr> & <chr> & <chr> & <dbl> & <chr> & <chr> & <int> & <int> & <chr>\\\\\n",
       "\\hline\n",
       "\t1 & 3 & 0   & alfa-romero & gas & std & two  & convertible & rwd & front &  88.6 & ⋯ & 130 & mpfi & 3.47 & 2.68 &  9.0 & 111 & 5000 & 21 & 27 & 16500\\\\\n",
       "\t2 & 1 & 0   & alfa-romero & gas & std & two  & hatchback   & rwd & front &  94.5 & ⋯ & 152 & mpfi & 2.68 & 3.47 &  9.0 & 154 & 5000 & 19 & 26 & 16500\\\\\n",
       "\t3 & 2 & 164 & audi        & gas & std & four & sedan       & fwd & front &  99.8 & ⋯ & 109 & mpfi & 3.19 & 3.40 & 10.0 & 102 & 5500 & 24 & 30 & 13950\\\\\n",
       "\t4 & 2 & 164 & audi        & gas & std & four & sedan       & 4wd & front &  99.4 & ⋯ & 136 & mpfi & 3.19 & 3.40 &  8.0 & 115 & 5500 & 18 & 22 & 17450\\\\\n",
       "\t5 & 2 & 0   & audi        & gas & std & two  & sedan       & fwd & front &  99.8 & ⋯ & 136 & mpfi & 3.19 & 3.40 &  8.5 & 110 & 5500 & 19 & 25 & 15250\\\\\n",
       "\t6 & 1 & 158 & audi        & gas & std & four & sedan       & fwd & front & 105.8 & ⋯ & 136 & mpfi & 3.19 & 3.40 &  8.5 & 110 & 5500 & 19 & 25 & 17710\\\\\n",
       "\\end{tabular}\n"
      ],
      "text/markdown": [
       "\n",
       "A data.frame: 6 × 26\n",
       "\n",
       "| <!--/--> | symboling &lt;int&gt; | normalized-losses &lt;chr&gt; | make &lt;chr&gt; | fuel-type &lt;chr&gt; | aspiration &lt;chr&gt; | num-of-doors &lt;chr&gt; | body-style &lt;chr&gt; | drive-wheels &lt;chr&gt; | engine-location &lt;chr&gt; | wheel-base &lt;dbl&gt; | ⋯ ⋯ | engine-size &lt;int&gt; | fuel-system &lt;chr&gt; | bore &lt;chr&gt; | stroke &lt;chr&gt; | compression-ratio &lt;dbl&gt; | horsepower &lt;chr&gt; | peak-rpm &lt;chr&gt; | city-mpg &lt;int&gt; | highway-mpg &lt;int&gt; | price &lt;chr&gt; |\n",
       "|---|---|---|---|---|---|---|---|---|---|---|---|---|---|---|---|---|---|---|---|---|---|\n",
       "| 1 | 3 | 0   | alfa-romero | gas | std | two  | convertible | rwd | front |  88.6 | ⋯ | 130 | mpfi | 3.47 | 2.68 |  9.0 | 111 | 5000 | 21 | 27 | 16500 |\n",
       "| 2 | 1 | 0   | alfa-romero | gas | std | two  | hatchback   | rwd | front |  94.5 | ⋯ | 152 | mpfi | 2.68 | 3.47 |  9.0 | 154 | 5000 | 19 | 26 | 16500 |\n",
       "| 3 | 2 | 164 | audi        | gas | std | four | sedan       | fwd | front |  99.8 | ⋯ | 109 | mpfi | 3.19 | 3.40 | 10.0 | 102 | 5500 | 24 | 30 | 13950 |\n",
       "| 4 | 2 | 164 | audi        | gas | std | four | sedan       | 4wd | front |  99.4 | ⋯ | 136 | mpfi | 3.19 | 3.40 |  8.0 | 115 | 5500 | 18 | 22 | 17450 |\n",
       "| 5 | 2 | 0   | audi        | gas | std | two  | sedan       | fwd | front |  99.8 | ⋯ | 136 | mpfi | 3.19 | 3.40 |  8.5 | 110 | 5500 | 19 | 25 | 15250 |\n",
       "| 6 | 1 | 158 | audi        | gas | std | four | sedan       | fwd | front | 105.8 | ⋯ | 136 | mpfi | 3.19 | 3.40 |  8.5 | 110 | 5500 | 19 | 25 | 17710 |\n",
       "\n"
      ],
      "text/plain": [
       "  symboling normalized-losses make        fuel-type aspiration num-of-doors\n",
       "1 3         0                 alfa-romero gas       std        two         \n",
       "2 1         0                 alfa-romero gas       std        two         \n",
       "3 2         164               audi        gas       std        four        \n",
       "4 2         164               audi        gas       std        four        \n",
       "5 2         0                 audi        gas       std        two         \n",
       "6 1         158               audi        gas       std        four        \n",
       "  body-style  drive-wheels engine-location wheel-base ⋯ engine-size fuel-system\n",
       "1 convertible rwd          front            88.6      ⋯ 130         mpfi       \n",
       "2 hatchback   rwd          front            94.5      ⋯ 152         mpfi       \n",
       "3 sedan       fwd          front            99.8      ⋯ 109         mpfi       \n",
       "4 sedan       4wd          front            99.4      ⋯ 136         mpfi       \n",
       "5 sedan       fwd          front            99.8      ⋯ 136         mpfi       \n",
       "6 sedan       fwd          front           105.8      ⋯ 136         mpfi       \n",
       "  bore stroke compression-ratio horsepower peak-rpm city-mpg highway-mpg price\n",
       "1 3.47 2.68    9.0              111        5000     21       27          16500\n",
       "2 2.68 3.47    9.0              154        5000     19       26          16500\n",
       "3 3.19 3.40   10.0              102        5500     24       30          13950\n",
       "4 3.19 3.40    8.0              115        5500     18       22          17450\n",
       "5 3.19 3.40    8.5              110        5500     19       25          15250\n",
       "6 3.19 3.40    8.5              110        5500     19       25          17710"
      ]
     },
     "metadata": {},
     "output_type": "display_data"
    },
    {
     "data": {
      "text/html": [
       "<table class=\"dataframe\">\n",
       "<caption>A data.frame: 6 × 26</caption>\n",
       "<thead>\n",
       "\t<tr><th></th><th scope=col>symboling</th><th scope=col>normalized.losses</th><th scope=col>make</th><th scope=col>fuel.type</th><th scope=col>aspiration</th><th scope=col>num.of.doors</th><th scope=col>body.style</th><th scope=col>drive.wheels</th><th scope=col>engine.location</th><th scope=col>wheel.base</th><th scope=col>⋯</th><th scope=col>engine.size</th><th scope=col>fuel.system</th><th scope=col>bore</th><th scope=col>stroke</th><th scope=col>compression.ratio</th><th scope=col>horsepower</th><th scope=col>peak.rpm</th><th scope=col>city.mpg</th><th scope=col>highway.mpg</th><th scope=col>price</th></tr>\n",
       "\t<tr><th></th><th scope=col>&lt;chr&gt;</th><th scope=col>&lt;chr&gt;</th><th scope=col>&lt;chr&gt;</th><th scope=col>&lt;chr&gt;</th><th scope=col>&lt;chr&gt;</th><th scope=col>&lt;chr&gt;</th><th scope=col>&lt;chr&gt;</th><th scope=col>&lt;chr&gt;</th><th scope=col>&lt;chr&gt;</th><th scope=col>&lt;chr&gt;</th><th scope=col>⋯</th><th scope=col>&lt;chr&gt;</th><th scope=col>&lt;chr&gt;</th><th scope=col>&lt;chr&gt;</th><th scope=col>&lt;chr&gt;</th><th scope=col>&lt;chr&gt;</th><th scope=col>&lt;chr&gt;</th><th scope=col>&lt;chr&gt;</th><th scope=col>&lt;chr&gt;</th><th scope=col>&lt;chr&gt;</th><th scope=col>&lt;chr&gt;</th></tr>\n",
       "</thead>\n",
       "<tbody>\n",
       "\t<tr><th scope=row>1</th><td>3</td><td>0  </td><td>alfa-romero</td><td>gas</td><td>std</td><td>two </td><td>convertible</td><td>rwd</td><td>front</td><td>88.6 </td><td>⋯</td><td>130</td><td>mpfi</td><td>3.47</td><td>2.68</td><td>9  </td><td>111</td><td>5000</td><td>21</td><td>27</td><td>16500</td></tr>\n",
       "\t<tr><th scope=row>2</th><td>1</td><td>0  </td><td>alfa-romero</td><td>gas</td><td>std</td><td>two </td><td>hatchback  </td><td>rwd</td><td>front</td><td>94.5 </td><td>⋯</td><td>152</td><td>mpfi</td><td>2.68</td><td>3.47</td><td>9  </td><td>154</td><td>5000</td><td>19</td><td>26</td><td>16500</td></tr>\n",
       "\t<tr><th scope=row>3</th><td>2</td><td>164</td><td>audi       </td><td>gas</td><td>std</td><td>four</td><td>sedan      </td><td>fwd</td><td>front</td><td>99.8 </td><td>⋯</td><td>109</td><td>mpfi</td><td>3.19</td><td>3.40</td><td>10 </td><td>102</td><td>5500</td><td>24</td><td>30</td><td>13950</td></tr>\n",
       "\t<tr><th scope=row>4</th><td>2</td><td>164</td><td>audi       </td><td>gas</td><td>std</td><td>four</td><td>sedan      </td><td>4wd</td><td>front</td><td>99.4 </td><td>⋯</td><td>136</td><td>mpfi</td><td>3.19</td><td>3.40</td><td>8  </td><td>115</td><td>5500</td><td>18</td><td>22</td><td>17450</td></tr>\n",
       "\t<tr><th scope=row>5</th><td>2</td><td>0  </td><td>audi       </td><td>gas</td><td>std</td><td>two </td><td>sedan      </td><td>fwd</td><td>front</td><td>99.8 </td><td>⋯</td><td>136</td><td>mpfi</td><td>3.19</td><td>3.40</td><td>8.5</td><td>110</td><td>5500</td><td>19</td><td>25</td><td>15250</td></tr>\n",
       "\t<tr><th scope=row>6</th><td>1</td><td>158</td><td>audi       </td><td>gas</td><td>std</td><td>four</td><td>sedan      </td><td>fwd</td><td>front</td><td>105.8</td><td>⋯</td><td>136</td><td>mpfi</td><td>3.19</td><td>3.40</td><td>8.5</td><td>110</td><td>5500</td><td>19</td><td>25</td><td>17710</td></tr>\n",
       "</tbody>\n",
       "</table>\n"
      ],
      "text/latex": [
       "A data.frame: 6 × 26\n",
       "\\begin{tabular}{r|lllllllllllllllllllll}\n",
       "  & symboling & normalized.losses & make & fuel.type & aspiration & num.of.doors & body.style & drive.wheels & engine.location & wheel.base & ⋯ & engine.size & fuel.system & bore & stroke & compression.ratio & horsepower & peak.rpm & city.mpg & highway.mpg & price\\\\\n",
       "  & <chr> & <chr> & <chr> & <chr> & <chr> & <chr> & <chr> & <chr> & <chr> & <chr> & ⋯ & <chr> & <chr> & <chr> & <chr> & <chr> & <chr> & <chr> & <chr> & <chr> & <chr>\\\\\n",
       "\\hline\n",
       "\t1 & 3 & 0   & alfa-romero & gas & std & two  & convertible & rwd & front & 88.6  & ⋯ & 130 & mpfi & 3.47 & 2.68 & 9   & 111 & 5000 & 21 & 27 & 16500\\\\\n",
       "\t2 & 1 & 0   & alfa-romero & gas & std & two  & hatchback   & rwd & front & 94.5  & ⋯ & 152 & mpfi & 2.68 & 3.47 & 9   & 154 & 5000 & 19 & 26 & 16500\\\\\n",
       "\t3 & 2 & 164 & audi        & gas & std & four & sedan       & fwd & front & 99.8  & ⋯ & 109 & mpfi & 3.19 & 3.40 & 10  & 102 & 5500 & 24 & 30 & 13950\\\\\n",
       "\t4 & 2 & 164 & audi        & gas & std & four & sedan       & 4wd & front & 99.4  & ⋯ & 136 & mpfi & 3.19 & 3.40 & 8   & 115 & 5500 & 18 & 22 & 17450\\\\\n",
       "\t5 & 2 & 0   & audi        & gas & std & two  & sedan       & fwd & front & 99.8  & ⋯ & 136 & mpfi & 3.19 & 3.40 & 8.5 & 110 & 5500 & 19 & 25 & 15250\\\\\n",
       "\t6 & 1 & 158 & audi        & gas & std & four & sedan       & fwd & front & 105.8 & ⋯ & 136 & mpfi & 3.19 & 3.40 & 8.5 & 110 & 5500 & 19 & 25 & 17710\\\\\n",
       "\\end{tabular}\n"
      ],
      "text/markdown": [
       "\n",
       "A data.frame: 6 × 26\n",
       "\n",
       "| <!--/--> | symboling &lt;chr&gt; | normalized.losses &lt;chr&gt; | make &lt;chr&gt; | fuel.type &lt;chr&gt; | aspiration &lt;chr&gt; | num.of.doors &lt;chr&gt; | body.style &lt;chr&gt; | drive.wheels &lt;chr&gt; | engine.location &lt;chr&gt; | wheel.base &lt;chr&gt; | ⋯ ⋯ | engine.size &lt;chr&gt; | fuel.system &lt;chr&gt; | bore &lt;chr&gt; | stroke &lt;chr&gt; | compression.ratio &lt;chr&gt; | horsepower &lt;chr&gt; | peak.rpm &lt;chr&gt; | city.mpg &lt;chr&gt; | highway.mpg &lt;chr&gt; | price &lt;chr&gt; |\n",
       "|---|---|---|---|---|---|---|---|---|---|---|---|---|---|---|---|---|---|---|---|---|---|\n",
       "| 1 | 3 | 0   | alfa-romero | gas | std | two  | convertible | rwd | front | 88.6  | ⋯ | 130 | mpfi | 3.47 | 2.68 | 9   | 111 | 5000 | 21 | 27 | 16500 |\n",
       "| 2 | 1 | 0   | alfa-romero | gas | std | two  | hatchback   | rwd | front | 94.5  | ⋯ | 152 | mpfi | 2.68 | 3.47 | 9   | 154 | 5000 | 19 | 26 | 16500 |\n",
       "| 3 | 2 | 164 | audi        | gas | std | four | sedan       | fwd | front | 99.8  | ⋯ | 109 | mpfi | 3.19 | 3.40 | 10  | 102 | 5500 | 24 | 30 | 13950 |\n",
       "| 4 | 2 | 164 | audi        | gas | std | four | sedan       | 4wd | front | 99.4  | ⋯ | 136 | mpfi | 3.19 | 3.40 | 8   | 115 | 5500 | 18 | 22 | 17450 |\n",
       "| 5 | 2 | 0   | audi        | gas | std | two  | sedan       | fwd | front | 99.8  | ⋯ | 136 | mpfi | 3.19 | 3.40 | 8.5 | 110 | 5500 | 19 | 25 | 15250 |\n",
       "| 6 | 1 | 158 | audi        | gas | std | four | sedan       | fwd | front | 105.8 | ⋯ | 136 | mpfi | 3.19 | 3.40 | 8.5 | 110 | 5500 | 19 | 25 | 17710 |\n",
       "\n"
      ],
      "text/plain": [
       "  symboling normalized.losses make        fuel.type aspiration num.of.doors\n",
       "1 3         0                 alfa-romero gas       std        two         \n",
       "2 1         0                 alfa-romero gas       std        two         \n",
       "3 2         164               audi        gas       std        four        \n",
       "4 2         164               audi        gas       std        four        \n",
       "5 2         0                 audi        gas       std        two         \n",
       "6 1         158               audi        gas       std        four        \n",
       "  body.style  drive.wheels engine.location wheel.base ⋯ engine.size fuel.system\n",
       "1 convertible rwd          front           88.6       ⋯ 130         mpfi       \n",
       "2 hatchback   rwd          front           94.5       ⋯ 152         mpfi       \n",
       "3 sedan       fwd          front           99.8       ⋯ 109         mpfi       \n",
       "4 sedan       4wd          front           99.4       ⋯ 136         mpfi       \n",
       "5 sedan       fwd          front           99.8       ⋯ 136         mpfi       \n",
       "6 sedan       fwd          front           105.8      ⋯ 136         mpfi       \n",
       "  bore stroke compression.ratio horsepower peak.rpm city.mpg highway.mpg price\n",
       "1 3.47 2.68   9                 111        5000     21       27          16500\n",
       "2 2.68 3.47   9                 154        5000     19       26          16500\n",
       "3 3.19 3.40   10                102        5500     24       30          13950\n",
       "4 3.19 3.40   8                 115        5500     18       22          17450\n",
       "5 3.19 3.40   8.5               110        5500     19       25          15250\n",
       "6 3.19 3.40   8.5               110        5500     19       25          17710"
      ]
     },
     "metadata": {},
     "output_type": "display_data"
    }
   ],
   "source": [
    "#Usamos ? por 0\n",
    "newdata <- replace(data, data == \"?\", 0)\n",
    "head(newdata)\n",
    "#Hacer columnas factor a caracteres, hay columans factor\n",
    "data_caracteres <- as.data.frame(lapply(data, as.character), stringsAsFactors = FALSE)\n",
    "#? a 0\n",
    "newdatad <- replace(data_caracteres, data_caracteres == \"?\", 0)\n",
    "# imprimir \n",
    "head(newdatad)"
   ]
  },
  {
   "attachments": {},
   "cell_type": "markdown",
   "metadata": {},
   "source": [
    "(e) Create a new data set by imputing the mean in all the columns which have double type values.\n"
   ]
  },
  {
   "cell_type": "code",
   "execution_count": 19,
   "metadata": {
    "vscode": {
     "languageId": "r"
    }
   },
   "outputs": [
    {
     "data": {
      "text/html": [
       "<table class=\"dataframe\">\n",
       "<caption>A data.frame: 6 × 26</caption>\n",
       "<thead>\n",
       "\t<tr><th></th><th scope=col>symboling</th><th scope=col>normalized.losses</th><th scope=col>make</th><th scope=col>fuel.type</th><th scope=col>aspiration</th><th scope=col>num.of.doors</th><th scope=col>body.style</th><th scope=col>drive.wheels</th><th scope=col>engine.location</th><th scope=col>wheel.base</th><th scope=col>⋯</th><th scope=col>engine.size</th><th scope=col>fuel.system</th><th scope=col>bore</th><th scope=col>stroke</th><th scope=col>compression.ratio</th><th scope=col>horsepower</th><th scope=col>peak.rpm</th><th scope=col>city.mpg</th><th scope=col>highway.mpg</th><th scope=col>price</th></tr>\n",
       "\t<tr><th></th><th scope=col>&lt;chr&gt;</th><th scope=col>&lt;chr&gt;</th><th scope=col>&lt;chr&gt;</th><th scope=col>&lt;chr&gt;</th><th scope=col>&lt;chr&gt;</th><th scope=col>&lt;chr&gt;</th><th scope=col>&lt;chr&gt;</th><th scope=col>&lt;chr&gt;</th><th scope=col>&lt;chr&gt;</th><th scope=col>&lt;chr&gt;</th><th scope=col>⋯</th><th scope=col>&lt;chr&gt;</th><th scope=col>&lt;chr&gt;</th><th scope=col>&lt;chr&gt;</th><th scope=col>&lt;chr&gt;</th><th scope=col>&lt;chr&gt;</th><th scope=col>&lt;chr&gt;</th><th scope=col>&lt;chr&gt;</th><th scope=col>&lt;chr&gt;</th><th scope=col>&lt;chr&gt;</th><th scope=col>&lt;chr&gt;</th></tr>\n",
       "</thead>\n",
       "<tbody>\n",
       "\t<tr><th scope=row>1</th><td>3</td><td>   </td><td>alfa-romero</td><td>gas</td><td>std</td><td>two </td><td>convertible</td><td>rwd</td><td>front</td><td>88.6 </td><td>⋯</td><td>130</td><td>mpfi</td><td>3.47</td><td>2.68</td><td>9  </td><td>111</td><td>5000</td><td>21</td><td>27</td><td>16500</td></tr>\n",
       "\t<tr><th scope=row>2</th><td>1</td><td>   </td><td>alfa-romero</td><td>gas</td><td>std</td><td>two </td><td>hatchback  </td><td>rwd</td><td>front</td><td>94.5 </td><td>⋯</td><td>152</td><td>mpfi</td><td>2.68</td><td>3.47</td><td>9  </td><td>154</td><td>5000</td><td>19</td><td>26</td><td>16500</td></tr>\n",
       "\t<tr><th scope=row>3</th><td>2</td><td>164</td><td>audi       </td><td>gas</td><td>std</td><td>four</td><td>sedan      </td><td>fwd</td><td>front</td><td>99.8 </td><td>⋯</td><td>109</td><td>mpfi</td><td>3.19</td><td>3.40</td><td>10 </td><td>102</td><td>5500</td><td>24</td><td>30</td><td>13950</td></tr>\n",
       "\t<tr><th scope=row>4</th><td>2</td><td>164</td><td>audi       </td><td>gas</td><td>std</td><td>four</td><td>sedan      </td><td>4wd</td><td>front</td><td>99.4 </td><td>⋯</td><td>136</td><td>mpfi</td><td>3.19</td><td>3.40</td><td>8  </td><td>115</td><td>5500</td><td>18</td><td>22</td><td>17450</td></tr>\n",
       "\t<tr><th scope=row>5</th><td>2</td><td>   </td><td>audi       </td><td>gas</td><td>std</td><td>two </td><td>sedan      </td><td>fwd</td><td>front</td><td>99.8 </td><td>⋯</td><td>136</td><td>mpfi</td><td>3.19</td><td>3.40</td><td>8.5</td><td>110</td><td>5500</td><td>19</td><td>25</td><td>15250</td></tr>\n",
       "\t<tr><th scope=row>6</th><td>1</td><td>158</td><td>audi       </td><td>gas</td><td>std</td><td>four</td><td>sedan      </td><td>fwd</td><td>front</td><td>105.8</td><td>⋯</td><td>136</td><td>mpfi</td><td>3.19</td><td>3.40</td><td>8.5</td><td>110</td><td>5500</td><td>19</td><td>25</td><td>17710</td></tr>\n",
       "</tbody>\n",
       "</table>\n"
      ],
      "text/latex": [
       "A data.frame: 6 × 26\n",
       "\\begin{tabular}{r|lllllllllllllllllllll}\n",
       "  & symboling & normalized.losses & make & fuel.type & aspiration & num.of.doors & body.style & drive.wheels & engine.location & wheel.base & ⋯ & engine.size & fuel.system & bore & stroke & compression.ratio & horsepower & peak.rpm & city.mpg & highway.mpg & price\\\\\n",
       "  & <chr> & <chr> & <chr> & <chr> & <chr> & <chr> & <chr> & <chr> & <chr> & <chr> & ⋯ & <chr> & <chr> & <chr> & <chr> & <chr> & <chr> & <chr> & <chr> & <chr> & <chr>\\\\\n",
       "\\hline\n",
       "\t1 & 3 &     & alfa-romero & gas & std & two  & convertible & rwd & front & 88.6  & ⋯ & 130 & mpfi & 3.47 & 2.68 & 9   & 111 & 5000 & 21 & 27 & 16500\\\\\n",
       "\t2 & 1 &     & alfa-romero & gas & std & two  & hatchback   & rwd & front & 94.5  & ⋯ & 152 & mpfi & 2.68 & 3.47 & 9   & 154 & 5000 & 19 & 26 & 16500\\\\\n",
       "\t3 & 2 & 164 & audi        & gas & std & four & sedan       & fwd & front & 99.8  & ⋯ & 109 & mpfi & 3.19 & 3.40 & 10  & 102 & 5500 & 24 & 30 & 13950\\\\\n",
       "\t4 & 2 & 164 & audi        & gas & std & four & sedan       & 4wd & front & 99.4  & ⋯ & 136 & mpfi & 3.19 & 3.40 & 8   & 115 & 5500 & 18 & 22 & 17450\\\\\n",
       "\t5 & 2 &     & audi        & gas & std & two  & sedan       & fwd & front & 99.8  & ⋯ & 136 & mpfi & 3.19 & 3.40 & 8.5 & 110 & 5500 & 19 & 25 & 15250\\\\\n",
       "\t6 & 1 & 158 & audi        & gas & std & four & sedan       & fwd & front & 105.8 & ⋯ & 136 & mpfi & 3.19 & 3.40 & 8.5 & 110 & 5500 & 19 & 25 & 17710\\\\\n",
       "\\end{tabular}\n"
      ],
      "text/markdown": [
       "\n",
       "A data.frame: 6 × 26\n",
       "\n",
       "| <!--/--> | symboling &lt;chr&gt; | normalized.losses &lt;chr&gt; | make &lt;chr&gt; | fuel.type &lt;chr&gt; | aspiration &lt;chr&gt; | num.of.doors &lt;chr&gt; | body.style &lt;chr&gt; | drive.wheels &lt;chr&gt; | engine.location &lt;chr&gt; | wheel.base &lt;chr&gt; | ⋯ ⋯ | engine.size &lt;chr&gt; | fuel.system &lt;chr&gt; | bore &lt;chr&gt; | stroke &lt;chr&gt; | compression.ratio &lt;chr&gt; | horsepower &lt;chr&gt; | peak.rpm &lt;chr&gt; | city.mpg &lt;chr&gt; | highway.mpg &lt;chr&gt; | price &lt;chr&gt; |\n",
       "|---|---|---|---|---|---|---|---|---|---|---|---|---|---|---|---|---|---|---|---|---|---|\n",
       "| 1 | 3 | <!----> | alfa-romero | gas | std | two  | convertible | rwd | front | 88.6  | ⋯ | 130 | mpfi | 3.47 | 2.68 | 9   | 111 | 5000 | 21 | 27 | 16500 |\n",
       "| 2 | 1 | <!----> | alfa-romero | gas | std | two  | hatchback   | rwd | front | 94.5  | ⋯ | 152 | mpfi | 2.68 | 3.47 | 9   | 154 | 5000 | 19 | 26 | 16500 |\n",
       "| 3 | 2 | 164 | audi        | gas | std | four | sedan       | fwd | front | 99.8  | ⋯ | 109 | mpfi | 3.19 | 3.40 | 10  | 102 | 5500 | 24 | 30 | 13950 |\n",
       "| 4 | 2 | 164 | audi        | gas | std | four | sedan       | 4wd | front | 99.4  | ⋯ | 136 | mpfi | 3.19 | 3.40 | 8   | 115 | 5500 | 18 | 22 | 17450 |\n",
       "| 5 | 2 | <!----> | audi        | gas | std | two  | sedan       | fwd | front | 99.8  | ⋯ | 136 | mpfi | 3.19 | 3.40 | 8.5 | 110 | 5500 | 19 | 25 | 15250 |\n",
       "| 6 | 1 | 158 | audi        | gas | std | four | sedan       | fwd | front | 105.8 | ⋯ | 136 | mpfi | 3.19 | 3.40 | 8.5 | 110 | 5500 | 19 | 25 | 17710 |\n",
       "\n"
      ],
      "text/plain": [
       "  symboling normalized.losses make        fuel.type aspiration num.of.doors\n",
       "1 3                           alfa-romero gas       std        two         \n",
       "2 1                           alfa-romero gas       std        two         \n",
       "3 2         164               audi        gas       std        four        \n",
       "4 2         164               audi        gas       std        four        \n",
       "5 2                           audi        gas       std        two         \n",
       "6 1         158               audi        gas       std        four        \n",
       "  body.style  drive.wheels engine.location wheel.base ⋯ engine.size fuel.system\n",
       "1 convertible rwd          front           88.6       ⋯ 130         mpfi       \n",
       "2 hatchback   rwd          front           94.5       ⋯ 152         mpfi       \n",
       "3 sedan       fwd          front           99.8       ⋯ 109         mpfi       \n",
       "4 sedan       4wd          front           99.4       ⋯ 136         mpfi       \n",
       "5 sedan       fwd          front           99.8       ⋯ 136         mpfi       \n",
       "6 sedan       fwd          front           105.8      ⋯ 136         mpfi       \n",
       "  bore stroke compression.ratio horsepower peak.rpm city.mpg highway.mpg price\n",
       "1 3.47 2.68   9                 111        5000     21       27          16500\n",
       "2 2.68 3.47   9                 154        5000     19       26          16500\n",
       "3 3.19 3.40   10                102        5500     24       30          13950\n",
       "4 3.19 3.40   8                 115        5500     18       22          17450\n",
       "5 3.19 3.40   8.5               110        5500     19       25          15250\n",
       "6 3.19 3.40   8.5               110        5500     19       25          17710"
      ]
     },
     "metadata": {},
     "output_type": "display_data"
    }
   ],
   "source": [
    "#columnas factor a caracteres\n",
    "data_caracteres <- as.data.frame(lapply(data, as.character), stringsAsFactors = FALSE)\n",
    "#? por 0 en el data\n",
    "ndata <- replace(data_caracteres, data_caracteres == \"?\", '')\n",
    "# Imprimir\n",
    "head(ndata)\n"
   ]
  },
  {
   "cell_type": "code",
   "execution_count": 20,
   "metadata": {
    "vscode": {
     "languageId": "r"
    }
   },
   "outputs": [
    {
     "name": "stdout",
     "output_type": "stream",
     "text": [
      "'data.frame':\t204 obs. of  26 variables:\n",
      " $ symboling        : chr  \"3\" \"1\" \"2\" \"2\" ...\n",
      " $ normalized.losses: chr  \"\" \"\" \"164\" \"164\" ...\n",
      " $ make             : chr  \"alfa-romero\" \"alfa-romero\" \"audi\" \"audi\" ...\n",
      " $ fuel.type        : chr  \"gas\" \"gas\" \"gas\" \"gas\" ...\n",
      " $ aspiration       : chr  \"std\" \"std\" \"std\" \"std\" ...\n",
      " $ num.of.doors     : chr  \"two\" \"two\" \"four\" \"four\" ...\n",
      " $ body.style       : chr  \"convertible\" \"hatchback\" \"sedan\" \"sedan\" ...\n",
      " $ drive.wheels     : chr  \"rwd\" \"rwd\" \"fwd\" \"4wd\" ...\n",
      " $ engine.location  : chr  \"front\" \"front\" \"front\" \"front\" ...\n",
      " $ wheel.base       : chr  \"88.6\" \"94.5\" \"99.8\" \"99.4\" ...\n",
      " $ length           : chr  \"168.8\" \"171.2\" \"176.6\" \"176.6\" ...\n",
      " $ width            : chr  \"64.1\" \"65.5\" \"66.2\" \"66.4\" ...\n",
      " $ height           : chr  \"48.8\" \"52.4\" \"54.3\" \"54.3\" ...\n",
      " $ curb.weight      : chr  \"2548\" \"2823\" \"2337\" \"2824\" ...\n",
      " $ engine.type      : chr  \"dohc\" \"ohcv\" \"ohc\" \"ohc\" ...\n",
      " $ num.of.cylinders : chr  \"four\" \"six\" \"four\" \"five\" ...\n",
      " $ engine.size      : chr  \"130\" \"152\" \"109\" \"136\" ...\n",
      " $ fuel.system      : chr  \"mpfi\" \"mpfi\" \"mpfi\" \"mpfi\" ...\n",
      " $ bore             : chr  \"3.47\" \"2.68\" \"3.19\" \"3.19\" ...\n",
      " $ stroke           : chr  \"2.68\" \"3.47\" \"3.40\" \"3.40\" ...\n",
      " $ compression.ratio: chr  \"9\" \"9\" \"10\" \"8\" ...\n",
      " $ horsepower       : chr  \"111\" \"154\" \"102\" \"115\" ...\n",
      " $ peak.rpm         : chr  \"5000\" \"5000\" \"5500\" \"5500\" ...\n",
      " $ city.mpg         : chr  \"21\" \"19\" \"24\" \"18\" ...\n",
      " $ highway.mpg      : chr  \"27\" \"26\" \"30\" \"22\" ...\n",
      " $ price            : chr  \"16500\" \"16500\" \"13950\" \"17450\" ...\n"
     ]
    }
   ],
   "source": [
    "str(ndata)"
   ]
  },
  {
   "cell_type": "code",
   "execution_count": 39,
   "metadata": {
    "vscode": {
     "languageId": "r"
    }
   },
   "outputs": [
    {
     "name": "stdout",
     "output_type": "stream",
     "text": [
      "'data.frame':\t204 obs. of  26 variables:\n",
      " $ symboling        : num  3 1 2 2 2 1 1 1 0 2 ...\n",
      " $ normalized.losses: num  NA NA 164 164 NA 158 NA 158 NA 192 ...\n",
      " $ make             : chr  \"alfa-romero\" \"alfa-romero\" \"audi\" \"audi\" ...\n",
      " $ fuel.type        : chr  \"gas\" \"gas\" \"gas\" \"gas\" ...\n",
      " $ aspiration       : chr  \"std\" \"std\" \"std\" \"std\" ...\n",
      " $ num.of.doors     : chr  \"two\" \"two\" \"four\" \"four\" ...\n",
      " $ body.style       : chr  \"convertible\" \"hatchback\" \"sedan\" \"sedan\" ...\n",
      " $ drive.wheels     : chr  \"rwd\" \"rwd\" \"fwd\" \"4wd\" ...\n",
      " $ engine.location  : chr  \"front\" \"front\" \"front\" \"front\" ...\n",
      " $ wheel.base       : num  88.6 94.5 99.8 99.4 99.8 ...\n",
      " $ length           : num  169 171 177 177 177 ...\n",
      " $ width            : num  64.1 65.5 66.2 66.4 66.3 71.4 71.4 71.4 67.9 64.8 ...\n",
      " $ height           : num  48.8 52.4 54.3 54.3 53.1 55.7 55.7 55.9 52 54.3 ...\n",
      " $ curb.weight      : num  2548 2823 2337 2824 2507 ...\n",
      " $ engine.type      : chr  \"dohc\" \"ohcv\" \"ohc\" \"ohc\" ...\n",
      " $ num.of.cylinders : chr  \"four\" \"six\" \"four\" \"five\" ...\n",
      " $ engine.size      : num  130 152 109 136 136 136 136 131 131 108 ...\n",
      " $ fuel.system      : chr  \"mpfi\" \"mpfi\" \"mpfi\" \"mpfi\" ...\n",
      " $ bore             : num  3.47 2.68 3.19 3.19 3.19 3.19 3.19 3.13 3.13 3.5 ...\n",
      " $ stroke           : num  2.68 3.47 3.4 3.4 3.4 3.4 3.4 3.4 3.4 2.8 ...\n",
      " $ compression.ratio: num  9 9 10 8 8.5 8.5 8.5 8.3 7 8.8 ...\n",
      " $ horsepower       : num  111 154 102 115 110 110 110 140 160 101 ...\n",
      " $ peak.rpm         : num  5000 5000 5500 5500 5500 5500 5500 5500 5500 5800 ...\n",
      " $ city.mpg         : num  21 19 24 18 19 19 19 17 16 23 ...\n",
      " $ highway.mpg      : num  27 26 30 22 25 25 25 20 22 29 ...\n",
      " $ price            : num  16500 16500 13950 17450 15250 ...\n"
     ]
    }
   ],
   "source": [
    "ndata$symboling <- as.numeric(ndata$symboling)\n",
    "ndata$normalized.losses <- as.numeric(ndata$normalized.losses)\n",
    "ndata$wheel.base <- as.numeric(ndata$wheel.base)\n",
    "ndata$length <- as.numeric(ndata$length)\n",
    "ndata$width <- as.numeric(ndata$width)\n",
    "ndata$height <- as.numeric(ndata$height)\n",
    "ndata$curb.weight <- as.numeric(ndata$curb.weight)\n",
    "ndata$engine.size <- as.numeric(ndata$engine.size)\n",
    "ndata$bore <- as.numeric(ndata$bore)\n",
    "ndata$stroke <- as.numeric(ndata$stroke)\n",
    "ndata$compression.ratio <- as.numeric(ndata$compression.ratio)\n",
    "ndata$horsepower <- as.numeric(ndata$horsepower)\n",
    "ndata$peak.rpm <- as.numeric(ndata$peak.rpm)\n",
    "ndata$city.mpg <- as.numeric(ndata$city.mpg)\n",
    "ndata$highway.mpg <- as.numeric(ndata$highway.mpg)\n",
    "ndata$price <- as.numeric(ndata$price)\n",
    "str(ndata)"
   ]
  },
  {
   "cell_type": "code",
   "execution_count": 42,
   "metadata": {
    "vscode": {
     "languageId": "r"
    }
   },
   "outputs": [
    {
     "data": {
      "text/html": [
       "<table class=\"dataframe\">\n",
       "<caption>A data.frame: 6 × 26</caption>\n",
       "<thead>\n",
       "\t<tr><th></th><th scope=col>symboling</th><th scope=col>normalized.losses</th><th scope=col>make</th><th scope=col>fuel.type</th><th scope=col>aspiration</th><th scope=col>num.of.doors</th><th scope=col>body.style</th><th scope=col>drive.wheels</th><th scope=col>engine.location</th><th scope=col>wheel.base</th><th scope=col>⋯</th><th scope=col>engine.size</th><th scope=col>fuel.system</th><th scope=col>bore</th><th scope=col>stroke</th><th scope=col>compression.ratio</th><th scope=col>horsepower</th><th scope=col>peak.rpm</th><th scope=col>city.mpg</th><th scope=col>highway.mpg</th><th scope=col>price</th></tr>\n",
       "\t<tr><th></th><th scope=col>&lt;dbl&gt;</th><th scope=col>&lt;dbl&gt;</th><th scope=col>&lt;chr&gt;</th><th scope=col>&lt;chr&gt;</th><th scope=col>&lt;chr&gt;</th><th scope=col>&lt;chr&gt;</th><th scope=col>&lt;chr&gt;</th><th scope=col>&lt;chr&gt;</th><th scope=col>&lt;chr&gt;</th><th scope=col>&lt;dbl&gt;</th><th scope=col>⋯</th><th scope=col>&lt;dbl&gt;</th><th scope=col>&lt;chr&gt;</th><th scope=col>&lt;dbl&gt;</th><th scope=col>&lt;dbl&gt;</th><th scope=col>&lt;dbl&gt;</th><th scope=col>&lt;dbl&gt;</th><th scope=col>&lt;dbl&gt;</th><th scope=col>&lt;dbl&gt;</th><th scope=col>&lt;dbl&gt;</th><th scope=col>&lt;dbl&gt;</th></tr>\n",
       "</thead>\n",
       "<tbody>\n",
       "\t<tr><th scope=row>1</th><td>3</td><td>  0.8235294</td><td>alfa-romero</td><td>gas</td><td>std</td><td>two </td><td>convertible</td><td>rwd</td><td>front</td><td> 88.6</td><td>⋯</td><td>130</td><td>mpfi</td><td>3.47</td><td>2.68</td><td> 9.0</td><td>111</td><td>5000</td><td>21</td><td>27</td><td>16500</td></tr>\n",
       "\t<tr><th scope=row>2</th><td>1</td><td>122.0000000</td><td>alfa-romero</td><td>gas</td><td>std</td><td>two </td><td>hatchback  </td><td>rwd</td><td>front</td><td> 94.5</td><td>⋯</td><td>152</td><td>mpfi</td><td>2.68</td><td>3.47</td><td> 9.0</td><td>154</td><td>5000</td><td>19</td><td>26</td><td>16500</td></tr>\n",
       "\t<tr><th scope=row>3</th><td>2</td><td>164.0000000</td><td>audi       </td><td>gas</td><td>std</td><td>four</td><td>sedan      </td><td>fwd</td><td>front</td><td> 99.8</td><td>⋯</td><td>109</td><td>mpfi</td><td>3.19</td><td>3.40</td><td>10.0</td><td>102</td><td>5500</td><td>24</td><td>30</td><td>13950</td></tr>\n",
       "\t<tr><th scope=row>4</th><td>2</td><td>164.0000000</td><td>audi       </td><td>gas</td><td>std</td><td>four</td><td>sedan      </td><td>4wd</td><td>front</td><td> 99.4</td><td>⋯</td><td>136</td><td>mpfi</td><td>3.19</td><td>3.40</td><td> 8.0</td><td>115</td><td>5500</td><td>18</td><td>22</td><td>17450</td></tr>\n",
       "\t<tr><th scope=row>5</th><td>2</td><td> 65.9166667</td><td>audi       </td><td>gas</td><td>std</td><td>two </td><td>sedan      </td><td>fwd</td><td>front</td><td> 99.8</td><td>⋯</td><td>136</td><td>mpfi</td><td>3.19</td><td>3.40</td><td> 8.5</td><td>110</td><td>5500</td><td>19</td><td>25</td><td>15250</td></tr>\n",
       "\t<tr><th scope=row>6</th><td>1</td><td>158.0000000</td><td>audi       </td><td>gas</td><td>std</td><td>four</td><td>sedan      </td><td>fwd</td><td>front</td><td>105.8</td><td>⋯</td><td>136</td><td>mpfi</td><td>3.19</td><td>3.40</td><td> 8.5</td><td>110</td><td>5500</td><td>19</td><td>25</td><td>17710</td></tr>\n",
       "</tbody>\n",
       "</table>\n"
      ],
      "text/latex": [
       "A data.frame: 6 × 26\n",
       "\\begin{tabular}{r|lllllllllllllllllllll}\n",
       "  & symboling & normalized.losses & make & fuel.type & aspiration & num.of.doors & body.style & drive.wheels & engine.location & wheel.base & ⋯ & engine.size & fuel.system & bore & stroke & compression.ratio & horsepower & peak.rpm & city.mpg & highway.mpg & price\\\\\n",
       "  & <dbl> & <dbl> & <chr> & <chr> & <chr> & <chr> & <chr> & <chr> & <chr> & <dbl> & ⋯ & <dbl> & <chr> & <dbl> & <dbl> & <dbl> & <dbl> & <dbl> & <dbl> & <dbl> & <dbl>\\\\\n",
       "\\hline\n",
       "\t1 & 3 &   0.8235294 & alfa-romero & gas & std & two  & convertible & rwd & front &  88.6 & ⋯ & 130 & mpfi & 3.47 & 2.68 &  9.0 & 111 & 5000 & 21 & 27 & 16500\\\\\n",
       "\t2 & 1 & 122.0000000 & alfa-romero & gas & std & two  & hatchback   & rwd & front &  94.5 & ⋯ & 152 & mpfi & 2.68 & 3.47 &  9.0 & 154 & 5000 & 19 & 26 & 16500\\\\\n",
       "\t3 & 2 & 164.0000000 & audi        & gas & std & four & sedan       & fwd & front &  99.8 & ⋯ & 109 & mpfi & 3.19 & 3.40 & 10.0 & 102 & 5500 & 24 & 30 & 13950\\\\\n",
       "\t4 & 2 & 164.0000000 & audi        & gas & std & four & sedan       & 4wd & front &  99.4 & ⋯ & 136 & mpfi & 3.19 & 3.40 &  8.0 & 115 & 5500 & 18 & 22 & 17450\\\\\n",
       "\t5 & 2 &  65.9166667 & audi        & gas & std & two  & sedan       & fwd & front &  99.8 & ⋯ & 136 & mpfi & 3.19 & 3.40 &  8.5 & 110 & 5500 & 19 & 25 & 15250\\\\\n",
       "\t6 & 1 & 158.0000000 & audi        & gas & std & four & sedan       & fwd & front & 105.8 & ⋯ & 136 & mpfi & 3.19 & 3.40 &  8.5 & 110 & 5500 & 19 & 25 & 17710\\\\\n",
       "\\end{tabular}\n"
      ],
      "text/markdown": [
       "\n",
       "A data.frame: 6 × 26\n",
       "\n",
       "| <!--/--> | symboling &lt;dbl&gt; | normalized.losses &lt;dbl&gt; | make &lt;chr&gt; | fuel.type &lt;chr&gt; | aspiration &lt;chr&gt; | num.of.doors &lt;chr&gt; | body.style &lt;chr&gt; | drive.wheels &lt;chr&gt; | engine.location &lt;chr&gt; | wheel.base &lt;dbl&gt; | ⋯ ⋯ | engine.size &lt;dbl&gt; | fuel.system &lt;chr&gt; | bore &lt;dbl&gt; | stroke &lt;dbl&gt; | compression.ratio &lt;dbl&gt; | horsepower &lt;dbl&gt; | peak.rpm &lt;dbl&gt; | city.mpg &lt;dbl&gt; | highway.mpg &lt;dbl&gt; | price &lt;dbl&gt; |\n",
       "|---|---|---|---|---|---|---|---|---|---|---|---|---|---|---|---|---|---|---|---|---|---|\n",
       "| 1 | 3 |   0.8235294 | alfa-romero | gas | std | two  | convertible | rwd | front |  88.6 | ⋯ | 130 | mpfi | 3.47 | 2.68 |  9.0 | 111 | 5000 | 21 | 27 | 16500 |\n",
       "| 2 | 1 | 122.0000000 | alfa-romero | gas | std | two  | hatchback   | rwd | front |  94.5 | ⋯ | 152 | mpfi | 2.68 | 3.47 |  9.0 | 154 | 5000 | 19 | 26 | 16500 |\n",
       "| 3 | 2 | 164.0000000 | audi        | gas | std | four | sedan       | fwd | front |  99.8 | ⋯ | 109 | mpfi | 3.19 | 3.40 | 10.0 | 102 | 5500 | 24 | 30 | 13950 |\n",
       "| 4 | 2 | 164.0000000 | audi        | gas | std | four | sedan       | 4wd | front |  99.4 | ⋯ | 136 | mpfi | 3.19 | 3.40 |  8.0 | 115 | 5500 | 18 | 22 | 17450 |\n",
       "| 5 | 2 |  65.9166667 | audi        | gas | std | two  | sedan       | fwd | front |  99.8 | ⋯ | 136 | mpfi | 3.19 | 3.40 |  8.5 | 110 | 5500 | 19 | 25 | 15250 |\n",
       "| 6 | 1 | 158.0000000 | audi        | gas | std | four | sedan       | fwd | front | 105.8 | ⋯ | 136 | mpfi | 3.19 | 3.40 |  8.5 | 110 | 5500 | 19 | 25 | 17710 |\n",
       "\n"
      ],
      "text/plain": [
       "  symboling normalized.losses make        fuel.type aspiration num.of.doors\n",
       "1 3           0.8235294       alfa-romero gas       std        two         \n",
       "2 1         122.0000000       alfa-romero gas       std        two         \n",
       "3 2         164.0000000       audi        gas       std        four        \n",
       "4 2         164.0000000       audi        gas       std        four        \n",
       "5 2          65.9166667       audi        gas       std        two         \n",
       "6 1         158.0000000       audi        gas       std        four        \n",
       "  body.style  drive.wheels engine.location wheel.base ⋯ engine.size fuel.system\n",
       "1 convertible rwd          front            88.6      ⋯ 130         mpfi       \n",
       "2 hatchback   rwd          front            94.5      ⋯ 152         mpfi       \n",
       "3 sedan       fwd          front            99.8      ⋯ 109         mpfi       \n",
       "4 sedan       4wd          front            99.4      ⋯ 136         mpfi       \n",
       "5 sedan       fwd          front            99.8      ⋯ 136         mpfi       \n",
       "6 sedan       fwd          front           105.8      ⋯ 136         mpfi       \n",
       "  bore stroke compression.ratio horsepower peak.rpm city.mpg highway.mpg price\n",
       "1 3.47 2.68    9.0              111        5000     21       27          16500\n",
       "2 2.68 3.47    9.0              154        5000     19       26          16500\n",
       "3 3.19 3.40   10.0              102        5500     24       30          13950\n",
       "4 3.19 3.40    8.0              115        5500     18       22          17450\n",
       "5 3.19 3.40    8.5              110        5500     19       25          15250\n",
       "6 3.19 3.40    8.5              110        5500     19       25          17710"
      ]
     },
     "metadata": {},
     "output_type": "display_data"
    }
   ],
   "source": [
    "#columnas numéricas\n",
    "colnum <- sapply(ndata, is.numeric)\n",
    "\n",
    "#Calcular media de c/c numérica\n",
    "meds <- sapply(ndata[, colnum], mean, na.rm = TRUE)\n",
    "\n",
    "# NA ->media n\n",
    "data_imputada1 <- ndata\n",
    "data_imputada1[, colnum] <- lapply(data_imputada1[, colnum], function(x) {\n",
    "  is_na <- is.na(x)\n",
    "  x[is_na] <- meds[is_na]\n",
    "  return(x)\n",
    "})\n",
    "#1dataframeimputado\n",
    "head(data_imputada1)"
   ]
  },
  {
   "attachments": {},
   "cell_type": "markdown",
   "metadata": {},
   "source": [
    "(f) Create a new data set by imputing the mode in all the columns which have integer type values."
   ]
  },
  {
   "cell_type": "code",
   "execution_count": 43,
   "metadata": {
    "vscode": {
     "languageId": "r"
    }
   },
   "outputs": [],
   "source": [
    "#Moda\n",
    "mode <- function(x) {\n",
    "   return(as.numeric(names(which.max(table(x)))))\n",
    "}\n"
   ]
  },
  {
   "cell_type": "code",
   "execution_count": 45,
   "metadata": {
    "vscode": {
     "languageId": "r"
    }
   },
   "outputs": [
    {
     "data": {
      "text/html": [
       "<table class=\"dataframe\">\n",
       "<caption>A data.frame: 6 × 26</caption>\n",
       "<thead>\n",
       "\t<tr><th></th><th scope=col>symboling</th><th scope=col>normalized.losses</th><th scope=col>make</th><th scope=col>fuel.type</th><th scope=col>aspiration</th><th scope=col>num.of.doors</th><th scope=col>body.style</th><th scope=col>drive.wheels</th><th scope=col>engine.location</th><th scope=col>wheel.base</th><th scope=col>⋯</th><th scope=col>engine.size</th><th scope=col>fuel.system</th><th scope=col>bore</th><th scope=col>stroke</th><th scope=col>compression.ratio</th><th scope=col>horsepower</th><th scope=col>peak.rpm</th><th scope=col>city.mpg</th><th scope=col>highway.mpg</th><th scope=col>price</th></tr>\n",
       "\t<tr><th></th><th scope=col>&lt;dbl&gt;</th><th scope=col>&lt;dbl&gt;</th><th scope=col>&lt;chr&gt;</th><th scope=col>&lt;chr&gt;</th><th scope=col>&lt;chr&gt;</th><th scope=col>&lt;chr&gt;</th><th scope=col>&lt;chr&gt;</th><th scope=col>&lt;chr&gt;</th><th scope=col>&lt;chr&gt;</th><th scope=col>&lt;dbl&gt;</th><th scope=col>⋯</th><th scope=col>&lt;dbl&gt;</th><th scope=col>&lt;chr&gt;</th><th scope=col>&lt;dbl&gt;</th><th scope=col>&lt;dbl&gt;</th><th scope=col>&lt;dbl&gt;</th><th scope=col>&lt;dbl&gt;</th><th scope=col>&lt;dbl&gt;</th><th scope=col>&lt;dbl&gt;</th><th scope=col>&lt;dbl&gt;</th><th scope=col>&lt;dbl&gt;</th></tr>\n",
       "</thead>\n",
       "<tbody>\n",
       "\t<tr><th scope=row>1</th><td>3</td><td>161</td><td>alfa-romero</td><td>gas</td><td>std</td><td>two </td><td>convertible</td><td>rwd</td><td>front</td><td> 88.6</td><td>⋯</td><td>130</td><td>mpfi</td><td>3.47</td><td>2.68</td><td> 9.0</td><td>111</td><td>5000</td><td>21</td><td>27</td><td>16500</td></tr>\n",
       "\t<tr><th scope=row>2</th><td>1</td><td>161</td><td>alfa-romero</td><td>gas</td><td>std</td><td>two </td><td>hatchback  </td><td>rwd</td><td>front</td><td> 94.5</td><td>⋯</td><td>152</td><td>mpfi</td><td>2.68</td><td>3.47</td><td> 9.0</td><td>154</td><td>5000</td><td>19</td><td>26</td><td>16500</td></tr>\n",
       "\t<tr><th scope=row>3</th><td>2</td><td>164</td><td>audi       </td><td>gas</td><td>std</td><td>four</td><td>sedan      </td><td>fwd</td><td>front</td><td> 99.8</td><td>⋯</td><td>109</td><td>mpfi</td><td>3.19</td><td>3.40</td><td>10.0</td><td>102</td><td>5500</td><td>24</td><td>30</td><td>13950</td></tr>\n",
       "\t<tr><th scope=row>4</th><td>2</td><td>164</td><td>audi       </td><td>gas</td><td>std</td><td>four</td><td>sedan      </td><td>4wd</td><td>front</td><td> 99.4</td><td>⋯</td><td>136</td><td>mpfi</td><td>3.19</td><td>3.40</td><td> 8.0</td><td>115</td><td>5500</td><td>18</td><td>22</td><td>17450</td></tr>\n",
       "\t<tr><th scope=row>5</th><td>2</td><td>161</td><td>audi       </td><td>gas</td><td>std</td><td>two </td><td>sedan      </td><td>fwd</td><td>front</td><td> 99.8</td><td>⋯</td><td>136</td><td>mpfi</td><td>3.19</td><td>3.40</td><td> 8.5</td><td>110</td><td>5500</td><td>19</td><td>25</td><td>15250</td></tr>\n",
       "\t<tr><th scope=row>6</th><td>1</td><td>158</td><td>audi       </td><td>gas</td><td>std</td><td>four</td><td>sedan      </td><td>fwd</td><td>front</td><td>105.8</td><td>⋯</td><td>136</td><td>mpfi</td><td>3.19</td><td>3.40</td><td> 8.5</td><td>110</td><td>5500</td><td>19</td><td>25</td><td>17710</td></tr>\n",
       "</tbody>\n",
       "</table>\n"
      ],
      "text/latex": [
       "A data.frame: 6 × 26\n",
       "\\begin{tabular}{r|lllllllllllllllllllll}\n",
       "  & symboling & normalized.losses & make & fuel.type & aspiration & num.of.doors & body.style & drive.wheels & engine.location & wheel.base & ⋯ & engine.size & fuel.system & bore & stroke & compression.ratio & horsepower & peak.rpm & city.mpg & highway.mpg & price\\\\\n",
       "  & <dbl> & <dbl> & <chr> & <chr> & <chr> & <chr> & <chr> & <chr> & <chr> & <dbl> & ⋯ & <dbl> & <chr> & <dbl> & <dbl> & <dbl> & <dbl> & <dbl> & <dbl> & <dbl> & <dbl>\\\\\n",
       "\\hline\n",
       "\t1 & 3 & 161 & alfa-romero & gas & std & two  & convertible & rwd & front &  88.6 & ⋯ & 130 & mpfi & 3.47 & 2.68 &  9.0 & 111 & 5000 & 21 & 27 & 16500\\\\\n",
       "\t2 & 1 & 161 & alfa-romero & gas & std & two  & hatchback   & rwd & front &  94.5 & ⋯ & 152 & mpfi & 2.68 & 3.47 &  9.0 & 154 & 5000 & 19 & 26 & 16500\\\\\n",
       "\t3 & 2 & 164 & audi        & gas & std & four & sedan       & fwd & front &  99.8 & ⋯ & 109 & mpfi & 3.19 & 3.40 & 10.0 & 102 & 5500 & 24 & 30 & 13950\\\\\n",
       "\t4 & 2 & 164 & audi        & gas & std & four & sedan       & 4wd & front &  99.4 & ⋯ & 136 & mpfi & 3.19 & 3.40 &  8.0 & 115 & 5500 & 18 & 22 & 17450\\\\\n",
       "\t5 & 2 & 161 & audi        & gas & std & two  & sedan       & fwd & front &  99.8 & ⋯ & 136 & mpfi & 3.19 & 3.40 &  8.5 & 110 & 5500 & 19 & 25 & 15250\\\\\n",
       "\t6 & 1 & 158 & audi        & gas & std & four & sedan       & fwd & front & 105.8 & ⋯ & 136 & mpfi & 3.19 & 3.40 &  8.5 & 110 & 5500 & 19 & 25 & 17710\\\\\n",
       "\\end{tabular}\n"
      ],
      "text/markdown": [
       "\n",
       "A data.frame: 6 × 26\n",
       "\n",
       "| <!--/--> | symboling &lt;dbl&gt; | normalized.losses &lt;dbl&gt; | make &lt;chr&gt; | fuel.type &lt;chr&gt; | aspiration &lt;chr&gt; | num.of.doors &lt;chr&gt; | body.style &lt;chr&gt; | drive.wheels &lt;chr&gt; | engine.location &lt;chr&gt; | wheel.base &lt;dbl&gt; | ⋯ ⋯ | engine.size &lt;dbl&gt; | fuel.system &lt;chr&gt; | bore &lt;dbl&gt; | stroke &lt;dbl&gt; | compression.ratio &lt;dbl&gt; | horsepower &lt;dbl&gt; | peak.rpm &lt;dbl&gt; | city.mpg &lt;dbl&gt; | highway.mpg &lt;dbl&gt; | price &lt;dbl&gt; |\n",
       "|---|---|---|---|---|---|---|---|---|---|---|---|---|---|---|---|---|---|---|---|---|---|\n",
       "| 1 | 3 | 161 | alfa-romero | gas | std | two  | convertible | rwd | front |  88.6 | ⋯ | 130 | mpfi | 3.47 | 2.68 |  9.0 | 111 | 5000 | 21 | 27 | 16500 |\n",
       "| 2 | 1 | 161 | alfa-romero | gas | std | two  | hatchback   | rwd | front |  94.5 | ⋯ | 152 | mpfi | 2.68 | 3.47 |  9.0 | 154 | 5000 | 19 | 26 | 16500 |\n",
       "| 3 | 2 | 164 | audi        | gas | std | four | sedan       | fwd | front |  99.8 | ⋯ | 109 | mpfi | 3.19 | 3.40 | 10.0 | 102 | 5500 | 24 | 30 | 13950 |\n",
       "| 4 | 2 | 164 | audi        | gas | std | four | sedan       | 4wd | front |  99.4 | ⋯ | 136 | mpfi | 3.19 | 3.40 |  8.0 | 115 | 5500 | 18 | 22 | 17450 |\n",
       "| 5 | 2 | 161 | audi        | gas | std | two  | sedan       | fwd | front |  99.8 | ⋯ | 136 | mpfi | 3.19 | 3.40 |  8.5 | 110 | 5500 | 19 | 25 | 15250 |\n",
       "| 6 | 1 | 158 | audi        | gas | std | four | sedan       | fwd | front | 105.8 | ⋯ | 136 | mpfi | 3.19 | 3.40 |  8.5 | 110 | 5500 | 19 | 25 | 17710 |\n",
       "\n"
      ],
      "text/plain": [
       "  symboling normalized.losses make        fuel.type aspiration num.of.doors\n",
       "1 3         161               alfa-romero gas       std        two         \n",
       "2 1         161               alfa-romero gas       std        two         \n",
       "3 2         164               audi        gas       std        four        \n",
       "4 2         164               audi        gas       std        four        \n",
       "5 2         161               audi        gas       std        two         \n",
       "6 1         158               audi        gas       std        four        \n",
       "  body.style  drive.wheels engine.location wheel.base ⋯ engine.size fuel.system\n",
       "1 convertible rwd          front            88.6      ⋯ 130         mpfi       \n",
       "2 hatchback   rwd          front            94.5      ⋯ 152         mpfi       \n",
       "3 sedan       fwd          front            99.8      ⋯ 109         mpfi       \n",
       "4 sedan       4wd          front            99.4      ⋯ 136         mpfi       \n",
       "5 sedan       fwd          front            99.8      ⋯ 136         mpfi       \n",
       "6 sedan       fwd          front           105.8      ⋯ 136         mpfi       \n",
       "  bore stroke compression.ratio horsepower peak.rpm city.mpg highway.mpg price\n",
       "1 3.47 2.68    9.0              111        5000     21       27          16500\n",
       "2 2.68 3.47    9.0              154        5000     19       26          16500\n",
       "3 3.19 3.40   10.0              102        5500     24       30          13950\n",
       "4 3.19 3.40    8.0              115        5500     18       22          17450\n",
       "5 3.19 3.40    8.5              110        5500     19       25          15250\n",
       "6 3.19 3.40    8.5              110        5500     19       25          17710"
      ]
     },
     "metadata": {},
     "output_type": "display_data"
    }
   ],
   "source": [
    "#repetimos lo mismo que en la anterior\n",
    "colnum<- sapply(ndata, is.numeric)\n",
    "# Na->col\n",
    "data_imputado<-ndata\n",
    "data_imputado[, colnum] <- lapply(data_imputado[, colnum], function(x) {\n",
    "  is_na <- is.na(x)\n",
    "  x[is_na] <- mode(x[!is_na])\n",
    "  return(x)\n",
    "})\n",
    "#imprimir\n",
    "head(data_imputado)"
   ]
  },
  {
   "attachments": {},
   "cell_type": "markdown",
   "metadata": {},
   "source": [
    "(g) Create a new data set by imputing the most frequent value to the column ”nDoors”."
   ]
  },
  {
   "cell_type": "code",
   "execution_count": 25,
   "metadata": {
    "vscode": {
     "languageId": "r"
    }
   },
   "outputs": [
    {
     "name": "stdout",
     "output_type": "stream",
     "text": [
      "NULL\n"
     ]
    }
   ],
   "source": [
    "#USAR IMPUTE_REPLACE()\n",
    "# Create a new dataset by imputing the most frequent value to \"nDoors\"\n",
    "new_data_g <- impute_replace(data, target = \"nDoors\", method = \"mode\")\n",
    "# Print the new dataset\n",
    "print(new_data_g)\n",
    "#NO SIRVE\n"
   ]
  },
  {
   "cell_type": "code",
   "execution_count": 46,
   "metadata": {
    "vscode": {
     "languageId": "r"
    }
   },
   "outputs": [
    {
     "name": "stdout",
     "output_type": "stream",
     "text": [
      "[1] \"four\"\n"
     ]
    }
   ],
   "source": [
    "df<-data_imputado\n",
    "#moda del ultimo\n",
    "moda<-as.character(names(which.max(table(df$num.of.doors))))\n",
    "# Imprimir la moda\n",
    "print(moda)"
   ]
  },
  {
   "cell_type": "code",
   "execution_count": 47,
   "metadata": {
    "vscode": {
     "languageId": "r"
    }
   },
   "outputs": [
    {
     "name": "stdout",
     "output_type": "stream",
     "text": [
      "[1] \"\"     \"four\" \"two\" \n"
     ]
    }
   ],
   "source": [
    "# Convertir la columna a tipo factor\n",
    "columna_factor <- as.factor(df$num.of.doors)\n",
    "# Obtener todos los niveles de la columna factor\n",
    "n <- levels(columna_factor)\n",
    "# Imprimir los niveles\n",
    "print(n)"
   ]
  },
  {
   "cell_type": "code",
   "execution_count": 48,
   "metadata": {
    "vscode": {
     "languageId": "r"
    }
   },
   "outputs": [
    {
     "name": "stdout",
     "output_type": "stream",
     "text": [
      "[1] \"four\" \"two\" \n"
     ]
    }
   ],
   "source": [
    "# Reemplazar \"?\" por 0 en la columna \"num.of.doors\"\n",
    "ndors<-replace(df$num.of.doors,df$num.of.doors == \"\", moda)\n",
    "# Reamplazamos los valores de ndors en la matriz\n",
    "df$num.of.doors <- ndors\n",
    "# Convertir la columna a tipo factor\n",
    "columna_factor <- as.factor(df$num.of.doors)\n",
    "\n",
    "# Obtener todos los niveles de la columna factor\n",
    "n <- levels(columna_factor)\n",
    "\n",
    "# Imprimir los niveles\n",
    "print(n)"
   ]
  },
  {
   "attachments": {},
   "cell_type": "markdown",
   "metadata": {},
   "source": [
    "(h) Combine the three last imputations to obtain a final dataset. Are there any duplicated cases?"
   ]
  },
  {
   "cell_type": "code",
   "execution_count": 51,
   "metadata": {
    "vscode": {
     "languageId": "r"
    }
   },
   "outputs": [
    {
     "data": {
      "text/html": [
       "<table class=\"dataframe\">\n",
       "<caption>A data.frame: 6 × 26</caption>\n",
       "<thead>\n",
       "\t<tr><th></th><th scope=col>symboling</th><th scope=col>normalized.losses</th><th scope=col>make</th><th scope=col>fuel.type</th><th scope=col>aspiration</th><th scope=col>num.of.doors</th><th scope=col>body.style</th><th scope=col>drive.wheels</th><th scope=col>engine.location</th><th scope=col>wheel.base</th><th scope=col>⋯</th><th scope=col>engine.size</th><th scope=col>fuel.system</th><th scope=col>bore</th><th scope=col>stroke</th><th scope=col>compression.ratio</th><th scope=col>horsepower</th><th scope=col>peak.rpm</th><th scope=col>city.mpg</th><th scope=col>highway.mpg</th><th scope=col>price</th></tr>\n",
       "\t<tr><th></th><th scope=col>&lt;dbl&gt;</th><th scope=col>&lt;dbl&gt;</th><th scope=col>&lt;chr&gt;</th><th scope=col>&lt;chr&gt;</th><th scope=col>&lt;chr&gt;</th><th scope=col>&lt;chr&gt;</th><th scope=col>&lt;chr&gt;</th><th scope=col>&lt;chr&gt;</th><th scope=col>&lt;chr&gt;</th><th scope=col>&lt;dbl&gt;</th><th scope=col>⋯</th><th scope=col>&lt;dbl&gt;</th><th scope=col>&lt;chr&gt;</th><th scope=col>&lt;dbl&gt;</th><th scope=col>&lt;dbl&gt;</th><th scope=col>&lt;dbl&gt;</th><th scope=col>&lt;dbl&gt;</th><th scope=col>&lt;dbl&gt;</th><th scope=col>&lt;dbl&gt;</th><th scope=col>&lt;dbl&gt;</th><th scope=col>&lt;dbl&gt;</th></tr>\n",
       "</thead>\n",
       "<tbody>\n",
       "\t<tr><th scope=row>1</th><td>3</td><td>  0.8235294</td><td>alfa-romero</td><td>gas</td><td>std</td><td>two </td><td>convertible</td><td>rwd</td><td>front</td><td> 88.6</td><td>⋯</td><td>130</td><td>mpfi</td><td>3.47</td><td>2.68</td><td> 9.0</td><td>111</td><td>5000</td><td>21</td><td>27</td><td>16500</td></tr>\n",
       "\t<tr><th scope=row>2</th><td>1</td><td>122.0000000</td><td>alfa-romero</td><td>gas</td><td>std</td><td>two </td><td>hatchback  </td><td>rwd</td><td>front</td><td> 94.5</td><td>⋯</td><td>152</td><td>mpfi</td><td>2.68</td><td>3.47</td><td> 9.0</td><td>154</td><td>5000</td><td>19</td><td>26</td><td>16500</td></tr>\n",
       "\t<tr><th scope=row>3</th><td>2</td><td>164.0000000</td><td>audi       </td><td>gas</td><td>std</td><td>four</td><td>sedan      </td><td>fwd</td><td>front</td><td> 99.8</td><td>⋯</td><td>109</td><td>mpfi</td><td>3.19</td><td>3.40</td><td>10.0</td><td>102</td><td>5500</td><td>24</td><td>30</td><td>13950</td></tr>\n",
       "\t<tr><th scope=row>4</th><td>2</td><td>164.0000000</td><td>audi       </td><td>gas</td><td>std</td><td>four</td><td>sedan      </td><td>4wd</td><td>front</td><td> 99.4</td><td>⋯</td><td>136</td><td>mpfi</td><td>3.19</td><td>3.40</td><td> 8.0</td><td>115</td><td>5500</td><td>18</td><td>22</td><td>17450</td></tr>\n",
       "\t<tr><th scope=row>5</th><td>2</td><td> 65.9166667</td><td>audi       </td><td>gas</td><td>std</td><td>two </td><td>sedan      </td><td>fwd</td><td>front</td><td> 99.8</td><td>⋯</td><td>136</td><td>mpfi</td><td>3.19</td><td>3.40</td><td> 8.5</td><td>110</td><td>5500</td><td>19</td><td>25</td><td>15250</td></tr>\n",
       "\t<tr><th scope=row>6</th><td>1</td><td>158.0000000</td><td>audi       </td><td>gas</td><td>std</td><td>four</td><td>sedan      </td><td>fwd</td><td>front</td><td>105.8</td><td>⋯</td><td>136</td><td>mpfi</td><td>3.19</td><td>3.40</td><td> 8.5</td><td>110</td><td>5500</td><td>19</td><td>25</td><td>17710</td></tr>\n",
       "</tbody>\n",
       "</table>\n"
      ],
      "text/latex": [
       "A data.frame: 6 × 26\n",
       "\\begin{tabular}{r|lllllllllllllllllllll}\n",
       "  & symboling & normalized.losses & make & fuel.type & aspiration & num.of.doors & body.style & drive.wheels & engine.location & wheel.base & ⋯ & engine.size & fuel.system & bore & stroke & compression.ratio & horsepower & peak.rpm & city.mpg & highway.mpg & price\\\\\n",
       "  & <dbl> & <dbl> & <chr> & <chr> & <chr> & <chr> & <chr> & <chr> & <chr> & <dbl> & ⋯ & <dbl> & <chr> & <dbl> & <dbl> & <dbl> & <dbl> & <dbl> & <dbl> & <dbl> & <dbl>\\\\\n",
       "\\hline\n",
       "\t1 & 3 &   0.8235294 & alfa-romero & gas & std & two  & convertible & rwd & front &  88.6 & ⋯ & 130 & mpfi & 3.47 & 2.68 &  9.0 & 111 & 5000 & 21 & 27 & 16500\\\\\n",
       "\t2 & 1 & 122.0000000 & alfa-romero & gas & std & two  & hatchback   & rwd & front &  94.5 & ⋯ & 152 & mpfi & 2.68 & 3.47 &  9.0 & 154 & 5000 & 19 & 26 & 16500\\\\\n",
       "\t3 & 2 & 164.0000000 & audi        & gas & std & four & sedan       & fwd & front &  99.8 & ⋯ & 109 & mpfi & 3.19 & 3.40 & 10.0 & 102 & 5500 & 24 & 30 & 13950\\\\\n",
       "\t4 & 2 & 164.0000000 & audi        & gas & std & four & sedan       & 4wd & front &  99.4 & ⋯ & 136 & mpfi & 3.19 & 3.40 &  8.0 & 115 & 5500 & 18 & 22 & 17450\\\\\n",
       "\t5 & 2 &  65.9166667 & audi        & gas & std & two  & sedan       & fwd & front &  99.8 & ⋯ & 136 & mpfi & 3.19 & 3.40 &  8.5 & 110 & 5500 & 19 & 25 & 15250\\\\\n",
       "\t6 & 1 & 158.0000000 & audi        & gas & std & four & sedan       & fwd & front & 105.8 & ⋯ & 136 & mpfi & 3.19 & 3.40 &  8.5 & 110 & 5500 & 19 & 25 & 17710\\\\\n",
       "\\end{tabular}\n"
      ],
      "text/markdown": [
       "\n",
       "A data.frame: 6 × 26\n",
       "\n",
       "| <!--/--> | symboling &lt;dbl&gt; | normalized.losses &lt;dbl&gt; | make &lt;chr&gt; | fuel.type &lt;chr&gt; | aspiration &lt;chr&gt; | num.of.doors &lt;chr&gt; | body.style &lt;chr&gt; | drive.wheels &lt;chr&gt; | engine.location &lt;chr&gt; | wheel.base &lt;dbl&gt; | ⋯ ⋯ | engine.size &lt;dbl&gt; | fuel.system &lt;chr&gt; | bore &lt;dbl&gt; | stroke &lt;dbl&gt; | compression.ratio &lt;dbl&gt; | horsepower &lt;dbl&gt; | peak.rpm &lt;dbl&gt; | city.mpg &lt;dbl&gt; | highway.mpg &lt;dbl&gt; | price &lt;dbl&gt; |\n",
       "|---|---|---|---|---|---|---|---|---|---|---|---|---|---|---|---|---|---|---|---|---|---|\n",
       "| 1 | 3 |   0.8235294 | alfa-romero | gas | std | two  | convertible | rwd | front |  88.6 | ⋯ | 130 | mpfi | 3.47 | 2.68 |  9.0 | 111 | 5000 | 21 | 27 | 16500 |\n",
       "| 2 | 1 | 122.0000000 | alfa-romero | gas | std | two  | hatchback   | rwd | front |  94.5 | ⋯ | 152 | mpfi | 2.68 | 3.47 |  9.0 | 154 | 5000 | 19 | 26 | 16500 |\n",
       "| 3 | 2 | 164.0000000 | audi        | gas | std | four | sedan       | fwd | front |  99.8 | ⋯ | 109 | mpfi | 3.19 | 3.40 | 10.0 | 102 | 5500 | 24 | 30 | 13950 |\n",
       "| 4 | 2 | 164.0000000 | audi        | gas | std | four | sedan       | 4wd | front |  99.4 | ⋯ | 136 | mpfi | 3.19 | 3.40 |  8.0 | 115 | 5500 | 18 | 22 | 17450 |\n",
       "| 5 | 2 |  65.9166667 | audi        | gas | std | two  | sedan       | fwd | front |  99.8 | ⋯ | 136 | mpfi | 3.19 | 3.40 |  8.5 | 110 | 5500 | 19 | 25 | 15250 |\n",
       "| 6 | 1 | 158.0000000 | audi        | gas | std | four | sedan       | fwd | front | 105.8 | ⋯ | 136 | mpfi | 3.19 | 3.40 |  8.5 | 110 | 5500 | 19 | 25 | 17710 |\n",
       "\n"
      ],
      "text/plain": [
       "  symboling normalized.losses make        fuel.type aspiration num.of.doors\n",
       "1 3           0.8235294       alfa-romero gas       std        two         \n",
       "2 1         122.0000000       alfa-romero gas       std        two         \n",
       "3 2         164.0000000       audi        gas       std        four        \n",
       "4 2         164.0000000       audi        gas       std        four        \n",
       "5 2          65.9166667       audi        gas       std        two         \n",
       "6 1         158.0000000       audi        gas       std        four        \n",
       "  body.style  drive.wheels engine.location wheel.base ⋯ engine.size fuel.system\n",
       "1 convertible rwd          front            88.6      ⋯ 130         mpfi       \n",
       "2 hatchback   rwd          front            94.5      ⋯ 152         mpfi       \n",
       "3 sedan       fwd          front            99.8      ⋯ 109         mpfi       \n",
       "4 sedan       4wd          front            99.4      ⋯ 136         mpfi       \n",
       "5 sedan       fwd          front            99.8      ⋯ 136         mpfi       \n",
       "6 sedan       fwd          front           105.8      ⋯ 136         mpfi       \n",
       "  bore stroke compression.ratio horsepower peak.rpm city.mpg highway.mpg price\n",
       "1 3.47 2.68    9.0              111        5000     21       27          16500\n",
       "2 2.68 3.47    9.0              154        5000     19       26          16500\n",
       "3 3.19 3.40   10.0              102        5500     24       30          13950\n",
       "4 3.19 3.40    8.0              115        5500     18       22          17450\n",
       "5 3.19 3.40    8.5              110        5500     19       25          15250\n",
       "6 3.19 3.40    8.5              110        5500     19       25          17710"
      ]
     },
     "metadata": {},
     "output_type": "display_data"
    },
    {
     "name": "stdout",
     "output_type": "stream",
     "text": [
      "'data.frame':\t204 obs. of  26 variables:\n",
      " $ symboling        : num  3 1 2 2 2 1 1 1 0 2 ...\n",
      " $ normalized.losses: num  0.824 122 164 164 65.917 ...\n",
      " $ make             : chr  \"alfa-romero\" \"alfa-romero\" \"audi\" \"audi\" ...\n",
      " $ fuel.type        : chr  \"gas\" \"gas\" \"gas\" \"gas\" ...\n",
      " $ aspiration       : chr  \"std\" \"std\" \"std\" \"std\" ...\n",
      " $ num.of.doors     : chr  \"two\" \"two\" \"four\" \"four\" ...\n",
      " $ body.style       : chr  \"convertible\" \"hatchback\" \"sedan\" \"sedan\" ...\n",
      " $ drive.wheels     : chr  \"rwd\" \"rwd\" \"fwd\" \"4wd\" ...\n",
      " $ engine.location  : chr  \"front\" \"front\" \"front\" \"front\" ...\n",
      " $ wheel.base       : num  88.6 94.5 99.8 99.4 99.8 ...\n",
      " $ length           : num  169 171 177 177 177 ...\n",
      " $ width            : num  64.1 65.5 66.2 66.4 66.3 71.4 71.4 71.4 67.9 64.8 ...\n",
      " $ height           : num  48.8 52.4 54.3 54.3 53.1 55.7 55.7 55.9 52 54.3 ...\n",
      " $ curb.weight      : num  2548 2823 2337 2824 2507 ...\n",
      " $ engine.type      : chr  \"dohc\" \"ohcv\" \"ohc\" \"ohc\" ...\n",
      " $ num.of.cylinders : chr  \"four\" \"six\" \"four\" \"five\" ...\n",
      " $ engine.size      : num  130 152 109 136 136 136 136 131 131 108 ...\n",
      " $ fuel.system      : chr  \"mpfi\" \"mpfi\" \"mpfi\" \"mpfi\" ...\n",
      " $ bore             : num  3.47 2.68 3.19 3.19 3.19 3.19 3.19 3.13 3.13 3.5 ...\n",
      " $ stroke           : num  2.68 3.47 3.4 3.4 3.4 3.4 3.4 3.4 3.4 2.8 ...\n",
      " $ compression.ratio: num  9 9 10 8 8.5 8.5 8.5 8.3 7 8.8 ...\n",
      " $ horsepower       : num  111 154 102 115 110 110 110 140 160 101 ...\n",
      " $ peak.rpm         : num  5000 5000 5500 5500 5500 5500 5500 5500 5500 5800 ...\n",
      " $ city.mpg         : num  21 19 24 18 19 19 19 17 16 23 ...\n",
      " $ highway.mpg      : num  27 26 30 22 25 25 25 20 22 29 ...\n",
      " $ price            : num  16500 16500 13950 17450 15250 ...\n"
     ]
    }
   ],
   "source": [
    "# TIP USE DISTINCT AND COUNT\n",
    "dfh<-df\n",
    "dfh$normalized.losses<-data_imputada1$normalized.losses\n",
    "head(dfh)\n",
    "str(dfh)"
   ]
  },
  {
   "attachments": {},
   "cell_type": "markdown",
   "metadata": {},
   "source": [
    "***2. Data Pre-Processing***\n",
    "\n",
    "2. Load the package dlookr. Use the same car insurance data set above and apply the following transformations to the price attribute. Be critical regarding the obtained results."
   ]
  },
  {
   "cell_type": "code",
   "execution_count": 52,
   "metadata": {
    "vscode": {
     "languageId": "r"
    }
   },
   "outputs": [
    {
     "name": "stderr",
     "output_type": "stream",
     "text": [
      "Warning message:\n",
      "\"package 'dlookr' is in use and will not be installed\"\n",
      "Installing package into 'C:/Users/pc/AppData/Local/R/win-library/4.3'\n",
      "(as 'lib' is unspecified)\n",
      "\n"
     ]
    },
    {
     "name": "stdout",
     "output_type": "stream",
     "text": [
      "package 'gdtools' successfully unpacked and MD5 sums checked\n"
     ]
    },
    {
     "name": "stderr",
     "output_type": "stream",
     "text": [
      "Warning message:\n",
      "\"cannot remove prior installation of package 'gdtools'\"\n",
      "Warning message in file.copy(savedcopy, lib, recursive = TRUE):\n",
      "\"problema al copiar C:\\Users\\pc\\AppData\\Local\\R\\win-library\\4.3\\00LOCK\\gdtools\\libs\\x64\\gdtools.dll  a C:\\Users\\pc\\AppData\\Local\\R\\win-library\\4.3\\gdtools\\libs\\x64\\gdtools.dll: Permission denied\"\n",
      "Warning message:\n",
      "\"restored 'gdtools'\"\n"
     ]
    },
    {
     "name": "stdout",
     "output_type": "stream",
     "text": [
      "\n",
      "The downloaded binary packages are in\n",
      "\tC:\\Users\\pc\\AppData\\Local\\Temp\\Rtmp0OfZ9t\\downloaded_packages\n"
     ]
    }
   ],
   "source": [
    "install.packages(\"dlookr\")\n",
    "install.packages(\"gdtools\")\n"
   ]
  },
  {
   "cell_type": "code",
   "execution_count": 53,
   "metadata": {
    "vscode": {
     "languageId": "r"
    }
   },
   "outputs": [],
   "source": [
    "library(dlookr)\n"
   ]
  },
  {
   "attachments": {},
   "cell_type": "markdown",
   "metadata": {},
   "source": [
    "(a) Apply range-based normalization and z-score normalization.\n",
    "\n",
    "\n",
    "Tip: use the function transform()."
   ]
  },
  {
   "cell_type": "code",
   "execution_count": 54,
   "metadata": {
    "vscode": {
     "languageId": "r"
    }
   },
   "outputs": [
    {
     "name": "stdout",
     "output_type": "stream",
     "text": [
      "    price_range_normalized price_zscore\n",
      "1             0.2825579663   0.43270907\n",
      "2             0.2825579663   0.43270907\n",
      "3             0.2192542575   0.11232252\n",
      "4             0.3061417010   0.55206876\n",
      "5             0.2515267365   0.27565684\n",
      "6             0.3125961968   0.58473562\n",
      "7             0.3426344273   0.73676218\n",
      "8             0.4656422223   1.35931721\n",
      "9             0.0112705427  -0.94030433\n",
      "10            0.2808202175   0.42391414\n",
      "11            0.2931085845   0.48610682\n",
      "12            0.3935256442   0.99432783\n",
      "13            0.3968770170   1.01128947\n",
      "14            0.4827714612   1.44601004\n",
      "15            0.6365622362   2.22436088\n",
      "16            0.8985899409   3.55050990\n",
      "17            0.7884911375   2.99328859\n",
      "18            0.0008192245  -0.99319952\n",
      "19            0.0292190060  -0.84946532\n",
      "20            0.0361700015  -0.81428562\n",
      "21            0.0112705427  -0.94030433\n",
      "22            0.0312546547  -0.83916270\n",
      "23            0.0704781292  -0.64064868\n",
      "24            0.0275805571  -0.85775768\n",
      "25            0.0390745246  -0.79958554\n",
      "26            0.0618390348  -0.68437202\n",
      "27            0.0853979445  -0.56513797\n",
      "28            0.0944094136  -0.51953000\n",
      "29            0.1947768234  -0.01156028\n",
      "30            0.0337868030  -0.82634723\n",
      "31            0.0431209970  -0.77910592\n",
      "32            0.0069758205  -0.96204036\n",
      "33            0.0350280522  -0.82006515\n",
      "34            0.0499230426  -0.74468008\n",
      "35            0.0540439899  -0.72382354\n",
      "36            0.0540439899  -0.72382354\n",
      "37            0.0689389802  -0.64843847\n",
      "38            0.0987289608  -0.49766833\n",
      "39            0.0925227149  -0.52907878\n",
      "40            0.1285189415  -0.34689819\n",
      "41            0.1943051487  -0.01394747\n",
      "42            0.1297601907  -0.34061610\n",
      "43            0.0413832481  -0.78790085\n",
      "44            0.0112705427  -0.94030433\n",
      "45            0.0112705427  -0.94030433\n",
      "46            0.1472121543  -0.25228993\n",
      "47            0.6735514622   2.41156714\n",
      "48            0.7554739089   2.82618502\n",
      "49            0.7666451517   2.88272382\n",
      "50            0.0019115238  -0.98767128\n",
      "51            0.0242540092  -0.87459368\n",
      "52            0.0416314979  -0.78664443\n",
      "53            0.0391489996  -0.79920861\n",
      "54            0.0565264883  -0.71125936\n",
      "55            0.1446551810  -0.26523103\n",
      "56            0.1669976665  -0.15215343\n",
      "57            0.2116826374   0.07400178\n",
      "58            0.2613326051   0.32528534\n",
      "59            0.0925227149  -0.52907878\n",
      "60            0.0838339705  -0.57305340\n",
      "61            0.1359664366  -0.30920566\n",
      "62            0.1272776923  -0.35318028\n",
      "63            0.1409314334  -0.28407730\n",
      "64            0.1521026761  -0.22753850\n",
      "65            0.3267464376   0.65635144\n",
      "66            0.3283352366   0.66439251\n",
      "67            0.5072737203   1.57001848\n",
      "68            0.5742018768   1.90874873\n",
      "69            0.5724144779   1.89970252\n",
      "70            0.6574152227   2.32989998\n",
      "71            0.7215629810   2.65455835\n",
      "72            0.7432103669   2.76411798\n",
      "73            0.8897770716   3.50590706\n",
      "74            1.0000000000   4.06375658\n",
      "75            0.2826324413   0.43308599\n",
      "76            0.0067275706  -0.96329678\n",
      "77            0.0265875577  -0.86278335\n",
      "78            0.0385035500  -0.80247530\n",
      "79            0.0638250335  -0.67432068\n",
      "80            0.1201777469  -0.38911383\n",
      "81            0.0839332704  -0.57255083\n",
      "82            0.1864604538  -0.05365027\n",
      "83            0.2420684177   0.22778732\n",
      "84            0.2326349238   0.18004344\n",
      "85            0.0464475448  -0.76226993\n",
      "86            0.0762375254  -0.61149979\n",
      "87            0.1032967579  -0.47455024\n",
      "88            0.1032967579  -0.47455024\n",
      "89            0.0094583189  -0.94947618\n",
      "90            0.0491782930  -0.74844933\n",
      "91            0.0380070503  -0.80498813\n",
      "92            0.0429720471  -0.77985978\n",
      "93            0.0553845390  -0.71703888\n",
      "94            0.0541432898  -0.72332097\n",
      "95            0.0665557817  -0.66050008\n",
      "96            0.0591082866  -0.69819262\n",
      "97            0.0715207785  -0.63537173\n",
      "98            0.0777270245  -0.60396128\n",
      "99            0.0951045132  -0.51601203\n",
      "100           0.1099995035  -0.44062696\n",
      "101           0.2080581898   0.05565808\n",
      "102           0.2304006752   0.16873568\n",
      "103           0.2080581898   0.05565808\n",
      "104           0.2999106301   0.52053267\n",
      "105           0.3619730897   0.83463713\n",
      "106           0.3297006107   0.67130281\n",
      "107           0.1683630406  -0.14524313\n",
      "108           0.2006355196   0.01809118\n",
      "109           0.1817685319  -0.07739657\n",
      "110           0.2170200089   0.10101476\n",
      "111           0.2597189812   0.31711863\n",
      "112           0.2924879599   0.48296578\n",
      "113           0.2873988382   0.45720921\n",
      "114           0.2968323321   0.50495309\n",
      "115           0.2857852142   0.44904250\n",
      "116           0.3185541929   0.61488965\n",
      "117           0.3235191897   0.64001801\n",
      "118           0.0112705427  -0.94030433\n",
      "119           0.0704781292  -0.64064868\n",
      "120           0.0275805571  -0.85775768\n",
      "121           0.0390745246  -0.79958554\n",
      "122           0.0618390348  -0.68437202\n",
      "123           0.0944094136  -0.51953000\n",
      "124           0.1898118266  -0.03668863\n",
      "125           0.4195422273   1.12600042\n",
      "126           0.6804528077   2.44649556\n",
      "127           0.7176902835   2.63495823\n",
      "128           0.7921652351   3.01188358\n",
      "129           0.0112705427  -0.94030433\n",
      "130           0.1036939576  -0.47253998\n",
      "131           0.1185889479  -0.39715491\n",
      "132           0.1671217914  -0.15152522\n",
      "133           0.1750657862  -0.11131985\n",
      "134           0.2463134899   0.24927206\n",
      "135           0.2579812323   0.30832370\n",
      "136           0.3235191897   0.64001801\n",
      "137           0.3351869321   0.69906965\n",
      "138           0.0000000000  -0.99734570\n",
      "139           0.0480363438  -0.75422885\n",
      "140           0.0616900849  -0.68512587\n",
      "141           0.0498485676  -0.74505700\n",
      "142           0.0659599821  -0.66351548\n",
      "143           0.1202025719  -0.38898819\n",
      "144           0.1021548086  -0.48032977\n",
      "145           0.1524502259  -0.22577951\n",
      "146           0.0582145872  -0.70271572\n",
      "147           0.1261109180  -0.35908545\n",
      "148           0.0718683283  -0.63361274\n",
      "149           0.1632490939  -0.17112534\n",
      "150           0.0057097463  -0.96844809\n",
      "151           0.0302864803  -0.84406273\n",
      "152           0.0340102279  -0.82521646\n",
      "153           0.0446849710  -0.77119049\n",
      "154           0.0690134551  -0.64806155\n",
      "155           0.0908594409  -0.53749678\n",
      "156           0.0451814706  -0.76867766\n",
      "157           0.0516359664  -0.73601079\n",
      "158           0.0690134551  -0.64806155\n",
      "159           0.0662827069  -0.66188214\n",
      "160           0.0650414577  -0.66816423\n",
      "161           0.0804329477  -0.59026633\n",
      "162           0.1027754332  -0.47718872\n",
      "163           0.0729854526  -0.62795886\n",
      "164           0.0774539497  -0.60534334\n",
      "165           0.1037684326  -0.47216305\n",
      "166           0.1097264287  -0.44200902\n",
      "167           0.0826920213  -0.57883292\n",
      "168           0.1122337520  -0.42931920\n",
      "169           0.1209224964  -0.38534458\n",
      "170           0.1509607269  -0.23331802\n",
      "171           0.1596494712  -0.18934340\n",
      "172           0.3115783725   0.57958431\n",
      "173           0.0950796882  -0.51613767\n",
      "174           0.1385234100  -0.29626455\n",
      "175           0.1208976714  -0.38547022\n",
      "176           0.1434884067  -0.27113620\n",
      "177           0.1521771511  -0.22716157\n",
      "178           0.2839978154   0.43999629\n",
      "179           0.2700958244   0.36963689\n",
      "180           0.2624497294   0.33093922\n",
      "181           0.2639392284   0.33847773\n",
      "182           0.0659599821  -0.66351548\n",
      "183           0.0709249789  -0.63838713\n",
      "184           0.0714214786  -0.63587429\n",
      "185           0.0763864753  -0.61074594\n",
      "186           0.0838339705  -0.57305340\n",
      "187           0.1086589544  -0.44741162\n",
      "188           0.1210714463  -0.38459073\n",
      "189           0.1607914205  -0.18356388\n",
      "190           0.1206990715  -0.38647535\n",
      "191           0.2029938931   0.03002715\n",
      "192           0.2166476342   0.09913013\n",
      "193           0.1780447843  -0.09624284\n",
      "194           0.1941810238  -0.01457568\n",
      "195           0.2059728911   0.04510417\n",
      "196           0.2697730996   0.36800355\n",
      "197           0.2829303411   0.43459369\n",
      "198           0.3302219354   0.67394129\n",
      "199           0.3433791768   0.74053143\n",
      "200           0.2911225858   0.47605548\n",
      "201           0.3457375503   0.75246740\n",
      "202           0.4063105109   1.05903335\n",
      "203           0.4307631200   1.18279051\n",
      "204           0.4346109925   1.20226498\n"
     ]
    }
   ],
   "source": [
    "data <- dfh\n",
    "# Normalización basada en rango\n",
    "dfh$price_range_normalized <- (dfh$price - min(dfh$price)) / (max(dfh$price) - min(dfh$price))\n",
    "\n",
    "# Normalización z-score\n",
    "dfh$price_zscore <- (dfh$price - mean(dfh$price)) / sd(dfh$price)\n",
    "print(dfh[c(\"price_range_normalized\", \"price_zscore\")])"
   ]
  },
  {
   "attachments": {},
   "cell_type": "markdown",
   "metadata": {},
   "source": [
    "(b) Discretize it into 4 equal-frequency ranges an into 4 equal-width ranges.\n",
    "\n",
    "\n",
    "Tip: use the function binning()."
   ]
  },
  {
   "cell_type": "code",
   "execution_count": 55,
   "metadata": {
    "vscode": {
     "languageId": "r"
    }
   },
   "outputs": [
    {
     "name": "stdout",
     "output_type": "stream",
     "text": [
      "    price_equal_frequency price_equal_width\n",
      "1                       2                 2\n",
      "2                       2                 2\n",
      "3                       1                 1\n",
      "4                       2                 2\n",
      "5                       2                 2\n",
      "6                       2                 2\n",
      "7                       2                 2\n",
      "8                       2                 2\n",
      "9                       1                 1\n",
      "10                      2                 2\n",
      "11                      2                 2\n",
      "12                      2                 2\n",
      "13                      2                 2\n",
      "14                      2                 2\n",
      "15                      3                 3\n",
      "16                      4                 4\n",
      "17                      4                 4\n",
      "18                      1                 1\n",
      "19                      1                 1\n",
      "20                      1                 1\n",
      "21                      1                 1\n",
      "22                      1                 1\n",
      "23                      1                 1\n",
      "24                      1                 1\n",
      "25                      1                 1\n",
      "26                      1                 1\n",
      "27                      1                 1\n",
      "28                      1                 1\n",
      "29                      1                 1\n",
      "30                      1                 1\n",
      "31                      1                 1\n",
      "32                      1                 1\n",
      "33                      1                 1\n",
      "34                      1                 1\n",
      "35                      1                 1\n",
      "36                      1                 1\n",
      "37                      1                 1\n",
      "38                      1                 1\n",
      "39                      1                 1\n",
      "40                      1                 1\n",
      "41                      1                 1\n",
      "42                      1                 1\n",
      "43                      1                 1\n",
      "44                      1                 1\n",
      "45                      1                 1\n",
      "46                      1                 1\n",
      "47                      3                 3\n",
      "48                      4                 4\n",
      "49                      4                 4\n",
      "50                      1                 1\n",
      "51                      1                 1\n",
      "52                      1                 1\n",
      "53                      1                 1\n",
      "54                      1                 1\n",
      "55                      1                 1\n",
      "56                      1                 1\n",
      "57                      1                 1\n",
      "58                      2                 2\n",
      "59                      1                 1\n",
      "60                      1                 1\n",
      "61                      1                 1\n",
      "62                      1                 1\n",
      "63                      1                 1\n",
      "64                      1                 1\n",
      "65                      2                 2\n",
      "66                      2                 2\n",
      "67                      3                 3\n",
      "68                      3                 3\n",
      "69                      3                 3\n",
      "70                      3                 3\n",
      "71                      3                 3\n",
      "72                      3                 3\n",
      "73                      4                 4\n",
      "74                      4                 4\n",
      "75                      2                 2\n",
      "76                      1                 1\n",
      "77                      1                 1\n",
      "78                      1                 1\n",
      "79                      1                 1\n",
      "80                      1                 1\n",
      "81                      1                 1\n",
      "82                      1                 1\n",
      "83                      1                 1\n",
      "84                      1                 1\n",
      "85                      1                 1\n",
      "86                      1                 1\n",
      "87                      1                 1\n",
      "88                      1                 1\n",
      "89                      1                 1\n",
      "90                      1                 1\n",
      "91                      1                 1\n",
      "92                      1                 1\n",
      "93                      1                 1\n",
      "94                      1                 1\n",
      "95                      1                 1\n",
      "96                      1                 1\n",
      "97                      1                 1\n",
      "98                      1                 1\n",
      "99                      1                 1\n",
      "100                     1                 1\n",
      "101                     1                 1\n",
      "102                     1                 1\n",
      "103                     1                 1\n",
      "104                     2                 2\n",
      "105                     2                 2\n",
      "106                     2                 2\n",
      "107                     1                 1\n",
      "108                     1                 1\n",
      "109                     1                 1\n",
      "110                     1                 1\n",
      "111                     2                 2\n",
      "112                     2                 2\n",
      "113                     2                 2\n",
      "114                     2                 2\n",
      "115                     2                 2\n",
      "116                     2                 2\n",
      "117                     2                 2\n",
      "118                     1                 1\n",
      "119                     1                 1\n",
      "120                     1                 1\n",
      "121                     1                 1\n",
      "122                     1                 1\n",
      "123                     1                 1\n",
      "124                     1                 1\n",
      "125                     2                 2\n",
      "126                     3                 3\n",
      "127                     3                 3\n",
      "128                     4                 4\n",
      "129                     1                 1\n",
      "130                     1                 1\n",
      "131                     1                 1\n",
      "132                     1                 1\n",
      "133                     1                 1\n",
      "134                     1                 1\n",
      "135                     2                 2\n",
      "136                     2                 2\n",
      "137                     2                 2\n",
      "138                     1                 1\n",
      "139                     1                 1\n",
      "140                     1                 1\n",
      "141                     1                 1\n",
      "142                     1                 1\n",
      "143                     1                 1\n",
      "144                     1                 1\n",
      "145                     1                 1\n",
      "146                     1                 1\n",
      "147                     1                 1\n",
      "148                     1                 1\n",
      "149                     1                 1\n",
      "150                     1                 1\n",
      "151                     1                 1\n",
      "152                     1                 1\n",
      "153                     1                 1\n",
      "154                     1                 1\n",
      "155                     1                 1\n",
      "156                     1                 1\n",
      "157                     1                 1\n",
      "158                     1                 1\n",
      "159                     1                 1\n",
      "160                     1                 1\n",
      "161                     1                 1\n",
      "162                     1                 1\n",
      "163                     1                 1\n",
      "164                     1                 1\n",
      "165                     1                 1\n",
      "166                     1                 1\n",
      "167                     1                 1\n",
      "168                     1                 1\n",
      "169                     1                 1\n",
      "170                     1                 1\n",
      "171                     1                 1\n",
      "172                     2                 2\n",
      "173                     1                 1\n",
      "174                     1                 1\n",
      "175                     1                 1\n",
      "176                     1                 1\n",
      "177                     1                 1\n",
      "178                     2                 2\n",
      "179                     2                 2\n",
      "180                     2                 2\n",
      "181                     2                 2\n",
      "182                     1                 1\n",
      "183                     1                 1\n",
      "184                     1                 1\n",
      "185                     1                 1\n",
      "186                     1                 1\n",
      "187                     1                 1\n",
      "188                     1                 1\n",
      "189                     1                 1\n",
      "190                     1                 1\n",
      "191                     1                 1\n",
      "192                     1                 1\n",
      "193                     1                 1\n",
      "194                     1                 1\n",
      "195                     1                 1\n",
      "196                     2                 2\n",
      "197                     2                 2\n",
      "198                     2                 2\n",
      "199                     2                 2\n",
      "200                     2                 2\n",
      "201                     2                 2\n",
      "202                     2                 2\n",
      "203                     2                 2\n",
      "204                     2                 2\n"
     ]
    }
   ],
   "source": [
    "dfh <- data\n",
    "# Discretización en 4 rangos de frecuencia iguales\n",
    "dfh$price_equal_frequency <- cut(dfh$price, breaks = 4, labels = FALSE)\n",
    "\n",
    "# Discretización en 4 rangos de ancho igual\n",
    "dfh$price_equal_width <- cut(dfh$price, breaks = 4, labels = FALSE, include.lowest = TRUE)\n",
    "\n",
    "print(dfh[c(\"price_equal_frequency\", \"price_equal_width\")])"
   ]
  },
  {
   "attachments": {},
   "cell_type": "markdown",
   "metadata": {},
   "source": [
    "***3. With the seed 111019 obtain the following samples on the car insurance data set.***\n",
    "\n",
    "TIP: USE SAMPLE_FRAC()"
   ]
  },
  {
   "cell_type": "code",
   "execution_count": 58,
   "metadata": {
    "vscode": {
     "languageId": "r"
    }
   },
   "outputs": [],
   "source": [
    "# Establecer la semilla\n",
    "set.seed(111019)"
   ]
  },
  {
   "attachments": {},
   "cell_type": "markdown",
   "metadata": {},
   "source": [
    "(a) A random sample of 60% of the cases, with replacement"
   ]
  },
  {
   "cell_type": "code",
   "execution_count": 60,
   "metadata": {
    "vscode": {
     "languageId": "r"
    }
   },
   "outputs": [
    {
     "name": "stdout",
     "output_type": "stream",
     "text": [
      "[1] \"Filas del Data Frame inicial\"\n",
      "[1] 204\n"
     ]
    }
   ],
   "source": [
    "print(\"Filas del Data Frame inicial\")\n",
    "print(nrow(df))\n",
    "df_a <- sample_frac(df, 0.6, replace = TRUE)"
   ]
  },
  {
   "cell_type": "code",
   "execution_count": 61,
   "metadata": {
    "vscode": {
     "languageId": "r"
    }
   },
   "outputs": [
    {
     "name": "stdout",
     "output_type": "stream",
     "text": [
      "[1] \"Muestra aleatoria del 60% de los casos con reemplazo:\"\n",
      "[1] 122\n"
     ]
    },
    {
     "data": {
      "text/html": [
       "<table class=\"dataframe\">\n",
       "<caption>A data.frame: 6 × 26</caption>\n",
       "<thead>\n",
       "\t<tr><th></th><th scope=col>symboling</th><th scope=col>normalized.losses</th><th scope=col>make</th><th scope=col>fuel.type</th><th scope=col>aspiration</th><th scope=col>num.of.doors</th><th scope=col>body.style</th><th scope=col>drive.wheels</th><th scope=col>engine.location</th><th scope=col>wheel.base</th><th scope=col>⋯</th><th scope=col>engine.size</th><th scope=col>fuel.system</th><th scope=col>bore</th><th scope=col>stroke</th><th scope=col>compression.ratio</th><th scope=col>horsepower</th><th scope=col>peak.rpm</th><th scope=col>city.mpg</th><th scope=col>highway.mpg</th><th scope=col>price</th></tr>\n",
       "\t<tr><th></th><th scope=col>&lt;dbl&gt;</th><th scope=col>&lt;dbl&gt;</th><th scope=col>&lt;chr&gt;</th><th scope=col>&lt;chr&gt;</th><th scope=col>&lt;chr&gt;</th><th scope=col>&lt;chr&gt;</th><th scope=col>&lt;chr&gt;</th><th scope=col>&lt;chr&gt;</th><th scope=col>&lt;chr&gt;</th><th scope=col>&lt;dbl&gt;</th><th scope=col>⋯</th><th scope=col>&lt;dbl&gt;</th><th scope=col>&lt;chr&gt;</th><th scope=col>&lt;dbl&gt;</th><th scope=col>&lt;dbl&gt;</th><th scope=col>&lt;dbl&gt;</th><th scope=col>&lt;dbl&gt;</th><th scope=col>&lt;dbl&gt;</th><th scope=col>&lt;dbl&gt;</th><th scope=col>&lt;dbl&gt;</th><th scope=col>&lt;dbl&gt;</th></tr>\n",
       "</thead>\n",
       "<tbody>\n",
       "\t<tr><th scope=row>1</th><td>1</td><td>128</td><td>nissan    </td><td>gas   </td><td>std  </td><td>two </td><td>sedan    </td><td>fwd</td><td>front</td><td> 94.5</td><td>⋯</td><td> 97</td><td>2bbl</td><td>3.15</td><td>3.29</td><td> 9.4</td><td> 69</td><td>5200</td><td>31</td><td>37</td><td> 6649</td></tr>\n",
       "\t<tr><th scope=row>2</th><td>1</td><td>101</td><td>honda     </td><td>gas   </td><td>std  </td><td>two </td><td>hatchback</td><td>fwd</td><td>front</td><td> 93.7</td><td>⋯</td><td> 92</td><td>1bbl</td><td>2.91</td><td>3.41</td><td> 9.2</td><td> 76</td><td>6000</td><td>30</td><td>34</td><td> 7129</td></tr>\n",
       "\t<tr><th scope=row>3</th><td>0</td><td>161</td><td>peugot    </td><td>diesel</td><td>turbo</td><td>four</td><td>sedan    </td><td>rwd</td><td>front</td><td>107.9</td><td>⋯</td><td>152</td><td>idi </td><td>3.70</td><td>3.52</td><td>21.0</td><td> 95</td><td>4150</td><td>28</td><td>33</td><td>17950</td></tr>\n",
       "\t<tr><th scope=row>4</th><td>1</td><td>158</td><td>audi      </td><td>gas   </td><td>std  </td><td>four</td><td>sedan    </td><td>fwd</td><td>front</td><td>105.8</td><td>⋯</td><td>136</td><td>mpfi</td><td>3.19</td><td>3.40</td><td> 8.5</td><td>110</td><td>5500</td><td>19</td><td>25</td><td>17710</td></tr>\n",
       "\t<tr><th scope=row>5</th><td>0</td><td>102</td><td>subaru    </td><td>gas   </td><td>turbo</td><td>four</td><td>sedan    </td><td>4wd</td><td>front</td><td> 97.0</td><td>⋯</td><td>108</td><td>mpfi</td><td>3.62</td><td>2.64</td><td> 7.7</td><td>111</td><td>4800</td><td>24</td><td>29</td><td>11259</td></tr>\n",
       "\t<tr><th scope=row>6</th><td>3</td><td>256</td><td>volkswagen</td><td>gas   </td><td>std  </td><td>two </td><td>hatchback</td><td>fwd</td><td>front</td><td> 94.5</td><td>⋯</td><td>109</td><td>mpfi</td><td>3.19</td><td>3.40</td><td> 8.5</td><td> 90</td><td>5500</td><td>24</td><td>29</td><td> 9980</td></tr>\n",
       "</tbody>\n",
       "</table>\n"
      ],
      "text/latex": [
       "A data.frame: 6 × 26\n",
       "\\begin{tabular}{r|lllllllllllllllllllll}\n",
       "  & symboling & normalized.losses & make & fuel.type & aspiration & num.of.doors & body.style & drive.wheels & engine.location & wheel.base & ⋯ & engine.size & fuel.system & bore & stroke & compression.ratio & horsepower & peak.rpm & city.mpg & highway.mpg & price\\\\\n",
       "  & <dbl> & <dbl> & <chr> & <chr> & <chr> & <chr> & <chr> & <chr> & <chr> & <dbl> & ⋯ & <dbl> & <chr> & <dbl> & <dbl> & <dbl> & <dbl> & <dbl> & <dbl> & <dbl> & <dbl>\\\\\n",
       "\\hline\n",
       "\t1 & 1 & 128 & nissan     & gas    & std   & two  & sedan     & fwd & front &  94.5 & ⋯ &  97 & 2bbl & 3.15 & 3.29 &  9.4 &  69 & 5200 & 31 & 37 &  6649\\\\\n",
       "\t2 & 1 & 101 & honda      & gas    & std   & two  & hatchback & fwd & front &  93.7 & ⋯ &  92 & 1bbl & 2.91 & 3.41 &  9.2 &  76 & 6000 & 30 & 34 &  7129\\\\\n",
       "\t3 & 0 & 161 & peugot     & diesel & turbo & four & sedan     & rwd & front & 107.9 & ⋯ & 152 & idi  & 3.70 & 3.52 & 21.0 &  95 & 4150 & 28 & 33 & 17950\\\\\n",
       "\t4 & 1 & 158 & audi       & gas    & std   & four & sedan     & fwd & front & 105.8 & ⋯ & 136 & mpfi & 3.19 & 3.40 &  8.5 & 110 & 5500 & 19 & 25 & 17710\\\\\n",
       "\t5 & 0 & 102 & subaru     & gas    & turbo & four & sedan     & 4wd & front &  97.0 & ⋯ & 108 & mpfi & 3.62 & 2.64 &  7.7 & 111 & 4800 & 24 & 29 & 11259\\\\\n",
       "\t6 & 3 & 256 & volkswagen & gas    & std   & two  & hatchback & fwd & front &  94.5 & ⋯ & 109 & mpfi & 3.19 & 3.40 &  8.5 &  90 & 5500 & 24 & 29 &  9980\\\\\n",
       "\\end{tabular}\n"
      ],
      "text/markdown": [
       "\n",
       "A data.frame: 6 × 26\n",
       "\n",
       "| <!--/--> | symboling &lt;dbl&gt; | normalized.losses &lt;dbl&gt; | make &lt;chr&gt; | fuel.type &lt;chr&gt; | aspiration &lt;chr&gt; | num.of.doors &lt;chr&gt; | body.style &lt;chr&gt; | drive.wheels &lt;chr&gt; | engine.location &lt;chr&gt; | wheel.base &lt;dbl&gt; | ⋯ ⋯ | engine.size &lt;dbl&gt; | fuel.system &lt;chr&gt; | bore &lt;dbl&gt; | stroke &lt;dbl&gt; | compression.ratio &lt;dbl&gt; | horsepower &lt;dbl&gt; | peak.rpm &lt;dbl&gt; | city.mpg &lt;dbl&gt; | highway.mpg &lt;dbl&gt; | price &lt;dbl&gt; |\n",
       "|---|---|---|---|---|---|---|---|---|---|---|---|---|---|---|---|---|---|---|---|---|---|\n",
       "| 1 | 1 | 128 | nissan     | gas    | std   | two  | sedan     | fwd | front |  94.5 | ⋯ |  97 | 2bbl | 3.15 | 3.29 |  9.4 |  69 | 5200 | 31 | 37 |  6649 |\n",
       "| 2 | 1 | 101 | honda      | gas    | std   | two  | hatchback | fwd | front |  93.7 | ⋯ |  92 | 1bbl | 2.91 | 3.41 |  9.2 |  76 | 6000 | 30 | 34 |  7129 |\n",
       "| 3 | 0 | 161 | peugot     | diesel | turbo | four | sedan     | rwd | front | 107.9 | ⋯ | 152 | idi  | 3.70 | 3.52 | 21.0 |  95 | 4150 | 28 | 33 | 17950 |\n",
       "| 4 | 1 | 158 | audi       | gas    | std   | four | sedan     | fwd | front | 105.8 | ⋯ | 136 | mpfi | 3.19 | 3.40 |  8.5 | 110 | 5500 | 19 | 25 | 17710 |\n",
       "| 5 | 0 | 102 | subaru     | gas    | turbo | four | sedan     | 4wd | front |  97.0 | ⋯ | 108 | mpfi | 3.62 | 2.64 |  7.7 | 111 | 4800 | 24 | 29 | 11259 |\n",
       "| 6 | 3 | 256 | volkswagen | gas    | std   | two  | hatchback | fwd | front |  94.5 | ⋯ | 109 | mpfi | 3.19 | 3.40 |  8.5 |  90 | 5500 | 24 | 29 |  9980 |\n",
       "\n"
      ],
      "text/plain": [
       "  symboling normalized.losses make       fuel.type aspiration num.of.doors\n",
       "1 1         128               nissan     gas       std        two         \n",
       "2 1         101               honda      gas       std        two         \n",
       "3 0         161               peugot     diesel    turbo      four        \n",
       "4 1         158               audi       gas       std        four        \n",
       "5 0         102               subaru     gas       turbo      four        \n",
       "6 3         256               volkswagen gas       std        two         \n",
       "  body.style drive.wheels engine.location wheel.base ⋯ engine.size fuel.system\n",
       "1 sedan      fwd          front            94.5      ⋯  97         2bbl       \n",
       "2 hatchback  fwd          front            93.7      ⋯  92         1bbl       \n",
       "3 sedan      rwd          front           107.9      ⋯ 152         idi        \n",
       "4 sedan      fwd          front           105.8      ⋯ 136         mpfi       \n",
       "5 sedan      4wd          front            97.0      ⋯ 108         mpfi       \n",
       "6 hatchback  fwd          front            94.5      ⋯ 109         mpfi       \n",
       "  bore stroke compression.ratio horsepower peak.rpm city.mpg highway.mpg price\n",
       "1 3.15 3.29    9.4               69        5200     31       37           6649\n",
       "2 2.91 3.41    9.2               76        6000     30       34           7129\n",
       "3 3.70 3.52   21.0               95        4150     28       33          17950\n",
       "4 3.19 3.40    8.5              110        5500     19       25          17710\n",
       "5 3.62 2.64    7.7              111        4800     24       29          11259\n",
       "6 3.19 3.40    8.5               90        5500     24       29           9980"
      ]
     },
     "metadata": {},
     "output_type": "display_data"
    }
   ],
   "source": [
    "print(\"Muestra aleatoria del 60% de los casos con reemplazo:\")\n",
    "print(nrow(df_a))\n",
    "head(df_a)"
   ]
  },
  {
   "attachments": {},
   "cell_type": "markdown",
   "metadata": {},
   "source": [
    "(b) A stratified sample of 60% of the cases of cars, according to the fuelType attribute."
   ]
  },
  {
   "cell_type": "code",
   "execution_count": 62,
   "metadata": {
    "vscode": {
     "languageId": "r"
    }
   },
   "outputs": [
    {
     "name": "stdout",
     "output_type": "stream",
     "text": [
      "[1] \"Inicio como la a (anterior)\"\n",
      "[1] 204\n"
     ]
    }
   ],
   "source": [
    "print(\"Inicio como la a (anterior)\")\n",
    "print(nrow(df))\n",
    "# (b) Muestra estratificada del 60% de los casos de autos según el atributo fuelType\n",
    "df_b <- df %>% \n",
    "    group_by(fuel.type) %>% \n",
    "        sample_frac(0.6, replace = FALSE)"
   ]
  },
  {
   "cell_type": "code",
   "execution_count": 63,
   "metadata": {
    "vscode": {
     "languageId": "r"
    }
   },
   "outputs": [
    {
     "name": "stdout",
     "output_type": "stream",
     "text": [
      "[1] \"A stratified sample of 60% of the cases of cars, according to the fuelType attribute.\"\n",
      "[1] 122\n"
     ]
    },
    {
     "data": {
      "text/html": [
       "<table class=\"dataframe\">\n",
       "<caption>A grouped_df: 6 × 26</caption>\n",
       "<thead>\n",
       "\t<tr><th scope=col>symboling</th><th scope=col>normalized.losses</th><th scope=col>make</th><th scope=col>fuel.type</th><th scope=col>aspiration</th><th scope=col>num.of.doors</th><th scope=col>body.style</th><th scope=col>drive.wheels</th><th scope=col>engine.location</th><th scope=col>wheel.base</th><th scope=col>⋯</th><th scope=col>engine.size</th><th scope=col>fuel.system</th><th scope=col>bore</th><th scope=col>stroke</th><th scope=col>compression.ratio</th><th scope=col>horsepower</th><th scope=col>peak.rpm</th><th scope=col>city.mpg</th><th scope=col>highway.mpg</th><th scope=col>price</th></tr>\n",
       "\t<tr><th scope=col>&lt;dbl&gt;</th><th scope=col>&lt;dbl&gt;</th><th scope=col>&lt;chr&gt;</th><th scope=col>&lt;chr&gt;</th><th scope=col>&lt;chr&gt;</th><th scope=col>&lt;chr&gt;</th><th scope=col>&lt;chr&gt;</th><th scope=col>&lt;chr&gt;</th><th scope=col>&lt;chr&gt;</th><th scope=col>&lt;dbl&gt;</th><th scope=col>⋯</th><th scope=col>&lt;dbl&gt;</th><th scope=col>&lt;chr&gt;</th><th scope=col>&lt;dbl&gt;</th><th scope=col>&lt;dbl&gt;</th><th scope=col>&lt;dbl&gt;</th><th scope=col>&lt;dbl&gt;</th><th scope=col>&lt;dbl&gt;</th><th scope=col>&lt;dbl&gt;</th><th scope=col>&lt;dbl&gt;</th><th scope=col>&lt;dbl&gt;</th></tr>\n",
       "</thead>\n",
       "<tbody>\n",
       "\t<tr><td> 0</td><td> 91</td><td>toyota    </td><td>diesel</td><td>std  </td><td>four</td><td>hatchback</td><td>fwd</td><td>front</td><td> 95.7</td><td>⋯</td><td>110</td><td>idi</td><td>3.27</td><td>3.35</td><td>22.5</td><td> 56</td><td>4500</td><td>38</td><td>47</td><td> 7788</td></tr>\n",
       "\t<tr><td> 2</td><td> 94</td><td>volkswagen</td><td>diesel</td><td>std  </td><td>four</td><td>sedan    </td><td>fwd</td><td>front</td><td> 97.3</td><td>⋯</td><td> 97</td><td>idi</td><td>3.01</td><td>3.40</td><td>23.0</td><td> 52</td><td>4800</td><td>37</td><td>46</td><td> 7995</td></tr>\n",
       "\t<tr><td> 0</td><td>161</td><td>peugot    </td><td>diesel</td><td>turbo</td><td>four</td><td>wagon    </td><td>rwd</td><td>front</td><td>114.2</td><td>⋯</td><td>152</td><td>idi</td><td>3.70</td><td>3.52</td><td>21.0</td><td> 95</td><td>4150</td><td>25</td><td>25</td><td>13860</td></tr>\n",
       "\t<tr><td> 2</td><td>122</td><td>volkswagen</td><td>diesel</td><td>std  </td><td>two </td><td>sedan    </td><td>fwd</td><td>front</td><td> 97.3</td><td>⋯</td><td> 97</td><td>idi</td><td>3.01</td><td>3.40</td><td>23.0</td><td> 52</td><td>4800</td><td>37</td><td>46</td><td> 7775</td></tr>\n",
       "\t<tr><td> 0</td><td>161</td><td>peugot    </td><td>diesel</td><td>turbo</td><td>four</td><td>wagon    </td><td>rwd</td><td>front</td><td>114.2</td><td>⋯</td><td>152</td><td>idi</td><td>3.70</td><td>3.52</td><td>21.0</td><td> 95</td><td>4150</td><td>25</td><td>25</td><td>17075</td></tr>\n",
       "\t<tr><td>-1</td><td> 95</td><td>volvo     </td><td>diesel</td><td>turbo</td><td>four</td><td>sedan    </td><td>rwd</td><td>front</td><td>109.1</td><td>⋯</td><td>145</td><td>idi</td><td>3.01</td><td>3.40</td><td>23.0</td><td>106</td><td>4800</td><td>26</td><td>27</td><td>22470</td></tr>\n",
       "</tbody>\n",
       "</table>\n"
      ],
      "text/latex": [
       "A grouped\\_df: 6 × 26\n",
       "\\begin{tabular}{lllllllllllllllllllll}\n",
       " symboling & normalized.losses & make & fuel.type & aspiration & num.of.doors & body.style & drive.wheels & engine.location & wheel.base & ⋯ & engine.size & fuel.system & bore & stroke & compression.ratio & horsepower & peak.rpm & city.mpg & highway.mpg & price\\\\\n",
       " <dbl> & <dbl> & <chr> & <chr> & <chr> & <chr> & <chr> & <chr> & <chr> & <dbl> & ⋯ & <dbl> & <chr> & <dbl> & <dbl> & <dbl> & <dbl> & <dbl> & <dbl> & <dbl> & <dbl>\\\\\n",
       "\\hline\n",
       "\t  0 &  91 & toyota     & diesel & std   & four & hatchback & fwd & front &  95.7 & ⋯ & 110 & idi & 3.27 & 3.35 & 22.5 &  56 & 4500 & 38 & 47 &  7788\\\\\n",
       "\t  2 &  94 & volkswagen & diesel & std   & four & sedan     & fwd & front &  97.3 & ⋯ &  97 & idi & 3.01 & 3.40 & 23.0 &  52 & 4800 & 37 & 46 &  7995\\\\\n",
       "\t  0 & 161 & peugot     & diesel & turbo & four & wagon     & rwd & front & 114.2 & ⋯ & 152 & idi & 3.70 & 3.52 & 21.0 &  95 & 4150 & 25 & 25 & 13860\\\\\n",
       "\t  2 & 122 & volkswagen & diesel & std   & two  & sedan     & fwd & front &  97.3 & ⋯ &  97 & idi & 3.01 & 3.40 & 23.0 &  52 & 4800 & 37 & 46 &  7775\\\\\n",
       "\t  0 & 161 & peugot     & diesel & turbo & four & wagon     & rwd & front & 114.2 & ⋯ & 152 & idi & 3.70 & 3.52 & 21.0 &  95 & 4150 & 25 & 25 & 17075\\\\\n",
       "\t -1 &  95 & volvo      & diesel & turbo & four & sedan     & rwd & front & 109.1 & ⋯ & 145 & idi & 3.01 & 3.40 & 23.0 & 106 & 4800 & 26 & 27 & 22470\\\\\n",
       "\\end{tabular}\n"
      ],
      "text/markdown": [
       "\n",
       "A grouped_df: 6 × 26\n",
       "\n",
       "| symboling &lt;dbl&gt; | normalized.losses &lt;dbl&gt; | make &lt;chr&gt; | fuel.type &lt;chr&gt; | aspiration &lt;chr&gt; | num.of.doors &lt;chr&gt; | body.style &lt;chr&gt; | drive.wheels &lt;chr&gt; | engine.location &lt;chr&gt; | wheel.base &lt;dbl&gt; | ⋯ ⋯ | engine.size &lt;dbl&gt; | fuel.system &lt;chr&gt; | bore &lt;dbl&gt; | stroke &lt;dbl&gt; | compression.ratio &lt;dbl&gt; | horsepower &lt;dbl&gt; | peak.rpm &lt;dbl&gt; | city.mpg &lt;dbl&gt; | highway.mpg &lt;dbl&gt; | price &lt;dbl&gt; |\n",
       "|---|---|---|---|---|---|---|---|---|---|---|---|---|---|---|---|---|---|---|---|---|\n",
       "|  0 |  91 | toyota     | diesel | std   | four | hatchback | fwd | front |  95.7 | ⋯ | 110 | idi | 3.27 | 3.35 | 22.5 |  56 | 4500 | 38 | 47 |  7788 |\n",
       "|  2 |  94 | volkswagen | diesel | std   | four | sedan     | fwd | front |  97.3 | ⋯ |  97 | idi | 3.01 | 3.40 | 23.0 |  52 | 4800 | 37 | 46 |  7995 |\n",
       "|  0 | 161 | peugot     | diesel | turbo | four | wagon     | rwd | front | 114.2 | ⋯ | 152 | idi | 3.70 | 3.52 | 21.0 |  95 | 4150 | 25 | 25 | 13860 |\n",
       "|  2 | 122 | volkswagen | diesel | std   | two  | sedan     | fwd | front |  97.3 | ⋯ |  97 | idi | 3.01 | 3.40 | 23.0 |  52 | 4800 | 37 | 46 |  7775 |\n",
       "|  0 | 161 | peugot     | diesel | turbo | four | wagon     | rwd | front | 114.2 | ⋯ | 152 | idi | 3.70 | 3.52 | 21.0 |  95 | 4150 | 25 | 25 | 17075 |\n",
       "| -1 |  95 | volvo      | diesel | turbo | four | sedan     | rwd | front | 109.1 | ⋯ | 145 | idi | 3.01 | 3.40 | 23.0 | 106 | 4800 | 26 | 27 | 22470 |\n",
       "\n"
      ],
      "text/plain": [
       "  symboling normalized.losses make       fuel.type aspiration num.of.doors\n",
       "1  0         91               toyota     diesel    std        four        \n",
       "2  2         94               volkswagen diesel    std        four        \n",
       "3  0        161               peugot     diesel    turbo      four        \n",
       "4  2        122               volkswagen diesel    std        two         \n",
       "5  0        161               peugot     diesel    turbo      four        \n",
       "6 -1         95               volvo      diesel    turbo      four        \n",
       "  body.style drive.wheels engine.location wheel.base ⋯ engine.size fuel.system\n",
       "1 hatchback  fwd          front            95.7      ⋯ 110         idi        \n",
       "2 sedan      fwd          front            97.3      ⋯  97         idi        \n",
       "3 wagon      rwd          front           114.2      ⋯ 152         idi        \n",
       "4 sedan      fwd          front            97.3      ⋯  97         idi        \n",
       "5 wagon      rwd          front           114.2      ⋯ 152         idi        \n",
       "6 sedan      rwd          front           109.1      ⋯ 145         idi        \n",
       "  bore stroke compression.ratio horsepower peak.rpm city.mpg highway.mpg price\n",
       "1 3.27 3.35   22.5               56        4500     38       47           7788\n",
       "2 3.01 3.40   23.0               52        4800     37       46           7995\n",
       "3 3.70 3.52   21.0               95        4150     25       25          13860\n",
       "4 3.01 3.40   23.0               52        4800     37       46           7775\n",
       "5 3.70 3.52   21.0               95        4150     25       25          17075\n",
       "6 3.01 3.40   23.0              106        4800     26       27          22470"
      ]
     },
     "metadata": {},
     "output_type": "display_data"
    }
   ],
   "source": [
    "print(\"A stratified sample of 60% of the cases of cars, according to the fuelType attribute.\")\n",
    "print(nrow(df_b))\n",
    "head(df_b)"
   ]
  },
  {
   "attachments": {},
   "cell_type": "markdown",
   "metadata": {},
   "source": [
    "(c) Use the table() function to inspect the distribution of values in each of the two samples above."
   ]
  },
  {
   "cell_type": "code",
   "execution_count": 64,
   "metadata": {
    "vscode": {
     "languageId": "r"
    }
   },
   "outputs": [
    {
     "name": "stdout",
     "output_type": "stream",
     "text": [
      "[1] \"Table A\"\n",
      "\n",
      "diesel    gas \n",
      "    20    102 \n",
      "[1] \"Table B\"\n",
      "\n",
      "diesel    gas \n",
      "    12    110 \n"
     ]
    }
   ],
   "source": [
    "# (c) Inspeccionar la distribución de valores en cada una de las dos muestras\n",
    "table_a <- table(df_a$fuel.type)\n",
    "table_b <- table(df_b$fuel.type)\n",
    "print(\"Table A\")\n",
    "print(table_a)\n",
    "print(\"Table B\")\n",
    "print(table_b)"
   ]
  },
  {
   "attachments": {},
   "cell_type": "markdown",
   "metadata": {},
   "source": [
    "***4. Load the package corrplot and select the numeric attributes of the car insurance data set.***"
   ]
  },
  {
   "cell_type": "code",
   "execution_count": 65,
   "metadata": {
    "vscode": {
     "languageId": "r"
    }
   },
   "outputs": [
    {
     "name": "stderr",
     "output_type": "stream",
     "text": [
      "Installing package into 'C:/Users/pc/AppData/Local/R/win-library/4.3'\n",
      "(as 'lib' is unspecified)\n",
      "\n"
     ]
    },
    {
     "name": "stdout",
     "output_type": "stream",
     "text": [
      "package 'corrplot' successfully unpacked and MD5 sums checked\n",
      "\n",
      "The downloaded binary packages are in\n",
      "\tC:\\Users\\pc\\AppData\\Local\\Temp\\Rtmp0OfZ9t\\downloaded_packages\n"
     ]
    },
    {
     "name": "stderr",
     "output_type": "stream",
     "text": [
      "corrplot 0.92 loaded\n",
      "\n"
     ]
    }
   ],
   "source": [
    "#Instalamos la carpeta y la cargamos\n",
    "install.packages(\"corrplot\")\n",
    "library(corrplot)"
   ]
  },
  {
   "cell_type": "code",
   "execution_count": 68,
   "metadata": {
    "vscode": {
     "languageId": "r"
    }
   },
   "outputs": [
    {
     "name": "stdout",
     "output_type": "stream",
     "text": [
      "        symboling normalized.losses              make         fuel.type \n",
      "                0                 0                 0                 0 \n",
      "       aspiration      num.of.doors        body.style      drive.wheels \n",
      "                0                 0                 0                 0 \n",
      "  engine.location        wheel.base            length             width \n",
      "                0                 0                 0                 0 \n",
      "           height       curb.weight       engine.type  num.of.cylinders \n",
      "                0                 0                 0                 0 \n",
      "      engine.size       fuel.system              bore            stroke \n",
      "                0                 0                 0                 0 \n",
      "compression.ratio        horsepower          peak.rpm          city.mpg \n",
      "                0                 0                 0                 0 \n",
      "      highway.mpg             price \n",
      "                0                 0 \n"
     ]
    }
   ],
   "source": [
    "#NA contar\n",
    "na_counts <- colSums(is.na(df))\n",
    "# Mostrar los resultados\n",
    "print(na_counts)\n",
    "\n",
    "# Seleccionar solo las columnas numéricas del dataframe\n",
    "numeric_columns <- df[sapply(df, is.numeric)]\n",
    "# Calcular la media de cada columna numérica (ignorando los NA)\n",
    "column_means <- colMeans(numeric_columns, na.rm = TRUE)\n",
    "# Reemplazar los NA por la media de cada columna numérica\n",
    "dataframe_replaced <- replace(numeric_columns, is.na(numeric_columns), column_means)\n",
    "# Asignar los valores reemplazados al dataframe original\n",
    "df[sapply(df, is.numeric)] <- dataframe_replaced\n",
    "na_counts <- colSums(is.na(df))"
   ]
  },
  {
   "attachments": {},
   "cell_type": "markdown",
   "metadata": {},
   "source": [
    "(a) Using the function cor(), obtain the pearson correlation coefficient between each pair of variables."
   ]
  },
  {
   "cell_type": "code",
   "execution_count": 69,
   "metadata": {
    "vscode": {
     "languageId": "r"
    }
   },
   "outputs": [
    {
     "data": {
      "image/png": "[encoded data removed]",
      "text/plain": [
       "Plot with title \"\""
      ]
     },
     "metadata": {
      "image/png": {
       "height": 420,
       "width": 420
      }
     },
     "output_type": "display_data"
    }
   ],
   "source": [
    "#Calcular el coeficiente de correlación de Pearson entre cada par de variables\n",
    "cor_pearson <- cor(df[sapply(df, is.numeric)])\n",
    "# Graficar la matriz de correlación\n",
    "corrplot(cor_pearson, method = \"color\", type = \"full\")"
   ]
  },
  {
   "attachments": {},
   "cell_type": "markdown",
   "metadata": {},
   "source": [
    "(b) Apply the function cor.mtest() to the previous result to calculate the p-values and confidence\n",
    "intervals of the correlation coefficient for each pair of variables."
   ]
  },
  {
   "cell_type": "code",
   "execution_count": 70,
   "metadata": {
    "vscode": {
     "languageId": "r"
    }
   },
   "outputs": [
    {
     "data": {
      "text/html": [
       "<dl>\n",
       "\t<dt>$p</dt>\n",
       "\t\t<dd><table class=\"dataframe\">\n",
       "<caption>A matrix: 16 × 16 of type dbl</caption>\n",
       "<thead>\n",
       "\t<tr><th></th><th scope=col>symboling</th><th scope=col>normalized.losses</th><th scope=col>wheel.base</th><th scope=col>length</th><th scope=col>width</th><th scope=col>height</th><th scope=col>curb.weight</th><th scope=col>engine.size</th><th scope=col>bore</th><th scope=col>stroke</th><th scope=col>compression.ratio</th><th scope=col>horsepower</th><th scope=col>peak.rpm</th><th scope=col>city.mpg</th><th scope=col>highway.mpg</th><th scope=col>price</th></tr>\n",
       "</thead>\n",
       "<tbody>\n",
       "\t<tr><th scope=row>symboling</th><td>0.000000e+00</td><td>0.03415409</td><td>1.400038e-03</td><td>1.656921e-02</td><td>5.074923e-02</td><td>1.684403e-06</td><td>7.333503e-02</td><td>2.035490e-01</td><td>1.505763e-01</td><td>0.8964456</td><td>0.0486212344</td><td>6.661273e-01</td><td>0.0039177584</td><td>4.972268e-01</td><td>3.561032e-01</td><td>1.988853e-01</td></tr>\n",
       "\t<tr><th scope=row>normalized.losses</th><td>3.415409e-02</td><td>0.00000000</td><td>7.420196e-01</td><td>3.546287e-01</td><td>1.978951e-01</td><td>5.161168e-02</td><td>1.516572e-01</td><td>6.691563e-02</td><td>1.961943e-01</td><td>0.5677905</td><td>0.0320208469</td><td>1.157685e-02</td><td>0.1663833634</td><td>1.874637e-02</td><td>3.169944e-02</td><td>6.663763e-02</td></tr>\n",
       "\t<tr><th scope=row>wheel.base</th><td>1.400038e-03</td><td>0.74201960</td><td>0.000000e+00</td><td>8.347568e-11</td><td>3.938148e-08</td><td>9.858549e-04</td><td>2.214815e-07</td><td>3.406195e-05</td><td>4.332339e-05</td><td>0.5445752</td><td>0.4898911357</td><td>2.732054e-03</td><td>0.0117223541</td><td>6.075175e-04</td><td>1.624591e-04</td><td>2.478880e-05</td></tr>\n",
       "\t<tr><th scope=row>length</th><td>1.656921e-02</td><td>0.35462868</td><td>8.347568e-11</td><td>0.000000e+00</td><td>4.228656e-12</td><td>1.049997e-02</td><td>2.136907e-11</td><td>2.834977e-07</td><td>6.967799e-07</td><td>0.5622122</td><td>0.9055026195</td><td>8.936395e-05</td><td>0.0505773842</td><td>8.714013e-06</td><td>1.184649e-06</td><td>1.374048e-07</td></tr>\n",
       "\t<tr><th scope=row>width</th><td>5.074923e-02</td><td>0.19789507</td><td>3.938148e-08</td><td>4.228656e-12</td><td>0.000000e+00</td><td>4.624272e-02</td><td>2.255335e-14</td><td>3.761594e-09</td><td>3.503426e-07</td><td>0.4597467</td><td>0.9539149525</td><td>7.469486e-06</td><td>0.0896625454</td><td>1.044765e-06</td><td>1.054933e-07</td><td>2.909038e-09</td></tr>\n",
       "\t<tr><th scope=row>height</th><td>1.684403e-06</td><td>0.05161168</td><td>9.858549e-04</td><td>1.049997e-02</td><td>4.624272e-02</td><td>0.000000e+00</td><td>6.232533e-02</td><td>2.219049e-01</td><td>1.238996e-01</td><td>0.7646306</td><td>0.0569714793</td><td>6.791600e-01</td><td>0.0021791464</td><td>4.048009e-01</td><td>2.821599e-01</td><td>1.819115e-01</td></tr>\n",
       "\t<tr><th scope=row>curb.weight</th><td>7.333503e-02</td><td>0.15165715</td><td>2.214815e-07</td><td>2.136907e-11</td><td>2.255335e-14</td><td>6.232533e-02</td><td>0.000000e+00</td><td>6.647057e-11</td><td>6.934236e-08</td><td>0.4815363</td><td>0.8423747054</td><td>1.342373e-06</td><td>0.1072593981</td><td>1.697082e-07</td><td>1.084777e-08</td><td>5.027064e-11</td></tr>\n",
       "\t<tr><th scope=row>engine.size</th><td>2.035490e-01</td><td>0.06691563</td><td>3.406195e-05</td><td>2.834977e-07</td><td>3.761594e-09</td><td>2.219049e-01</td><td>6.647057e-11</td><td>0.000000e+00</td><td>3.908219e-07</td><td>0.4258894</td><td>0.5793837309</td><td>1.886168e-08</td><td>0.1933881651</td><td>5.682968e-08</td><td>9.035392e-09</td><td>3.020608e-13</td></tr>\n",
       "\t<tr><th scope=row>bore</th><td>1.505763e-01</td><td>0.19619433</td><td>4.332339e-05</td><td>6.967799e-07</td><td>3.503426e-07</td><td>1.238996e-01</td><td>6.934236e-08</td><td>3.908219e-07</td><td>0.000000e+00</td><td>0.8593087</td><td>0.5971059897</td><td>4.042030e-06</td><td>0.1609952477</td><td>7.784108e-07</td><td>2.394160e-07</td><td>3.919888e-07</td></tr>\n",
       "\t<tr><th scope=row>stroke</th><td>8.964456e-01</td><td>0.56779048</td><td>5.445752e-01</td><td>5.622122e-01</td><td>4.597467e-01</td><td>7.646306e-01</td><td>4.815363e-01</td><td>4.258894e-01</td><td>8.593087e-01</td><td>0.0000000</td><td>0.5891952813</td><td>6.030792e-01</td><td>0.6554233174</td><td>5.982523e-01</td><td>5.852441e-01</td><td>5.757831e-01</td></tr>\n",
       "\t<tr><th scope=row>compression.ratio</th><td>4.862123e-02</td><td>0.03202085</td><td>4.898911e-01</td><td>9.055026e-01</td><td>9.539150e-01</td><td>5.697148e-02</td><td>8.423747e-01</td><td>5.793837e-01</td><td>5.971060e-01</td><td>0.5891953</td><td>0.0000000000</td><td>1.217535e-01</td><td>0.0009558972</td><td>1.368133e-01</td><td>2.116158e-01</td><td>5.626787e-01</td></tr>\n",
       "\t<tr><th scope=row>horsepower</th><td>6.661273e-01</td><td>0.01157685</td><td>2.732054e-03</td><td>8.936395e-05</td><td>7.469486e-06</td><td>6.791600e-01</td><td>1.342373e-06</td><td>1.886168e-08</td><td>4.042030e-06</td><td>0.6030792</td><td>0.1217535360</td><td>0.000000e+00</td><td>0.8375460119</td><td>3.030375e-11</td><td>2.668788e-10</td><td>2.457525e-08</td></tr>\n",
       "\t<tr><th scope=row>peak.rpm</th><td>3.917758e-03</td><td>0.16638336</td><td>1.172235e-02</td><td>5.057738e-02</td><td>8.966255e-02</td><td>2.179146e-03</td><td>1.072594e-01</td><td>1.933882e-01</td><td>1.609952e-01</td><td>0.6554233</td><td>0.0009558972</td><td>8.375460e-01</td><td>0.0000000000</td><td>7.586910e-01</td><td>5.898194e-01</td><td>2.424562e-01</td></tr>\n",
       "\t<tr><th scope=row>city.mpg</th><td>4.972268e-01</td><td>0.01874637</td><td>6.075175e-04</td><td>8.714013e-06</td><td>1.044765e-06</td><td>4.048009e-01</td><td>1.697082e-07</td><td>5.682968e-08</td><td>7.784108e-07</td><td>0.5982523</td><td>0.1368133193</td><td>3.030375e-11</td><td>0.7586910004</td><td>0.000000e+00</td><td>3.591595e-17</td><td>1.743948e-08</td></tr>\n",
       "\t<tr><th scope=row>highway.mpg</th><td>3.561032e-01</td><td>0.03169944</td><td>1.624591e-04</td><td>1.184649e-06</td><td>1.054933e-07</td><td>2.821599e-01</td><td>1.084777e-08</td><td>9.035392e-09</td><td>2.394160e-07</td><td>0.5852441</td><td>0.2116157868</td><td>2.668788e-10</td><td>0.5898193609</td><td>3.591595e-17</td><td>0.000000e+00</td><td>1.694582e-09</td></tr>\n",
       "\t<tr><th scope=row>price</th><td>1.988853e-01</td><td>0.06663763</td><td>2.478880e-05</td><td>1.374048e-07</td><td>2.909038e-09</td><td>1.819115e-01</td><td>5.027064e-11</td><td>3.020608e-13</td><td>3.919888e-07</td><td>0.5757831</td><td>0.5626786830</td><td>2.457525e-08</td><td>0.2424561703</td><td>1.743948e-08</td><td>1.694582e-09</td><td>0.000000e+00</td></tr>\n",
       "</tbody>\n",
       "</table>\n",
       "</dd>\n",
       "\t<dt>$lowCI</dt>\n",
       "\t\t<dd><table class=\"dataframe\">\n",
       "<caption>A matrix: 16 × 16 of type dbl</caption>\n",
       "<thead>\n",
       "\t<tr><th></th><th scope=col>symboling</th><th scope=col>normalized.losses</th><th scope=col>wheel.base</th><th scope=col>length</th><th scope=col>width</th><th scope=col>height</th><th scope=col>curb.weight</th><th scope=col>engine.size</th><th scope=col>bore</th><th scope=col>stroke</th><th scope=col>compression.ratio</th><th scope=col>horsepower</th><th scope=col>peak.rpm</th><th scope=col>city.mpg</th><th scope=col>highway.mpg</th><th scope=col>price</th></tr>\n",
       "</thead>\n",
       "<tbody>\n",
       "\t<tr><th scope=row>symboling</th><td> 1.00000000</td><td> 0.04844102</td><td>-0.8990402</td><td>-0.8391707</td><td>-0.79595145</td><td>-0.96616722</td><td>-0.77801111</td><td>-0.71283913</td><td>-0.7350424</td><td>-0.5219461</td><td>-0.79789702</td><td>-0.5791079</td><td> 0.2740527</td><td>-0.3437875</td><td>-0.2832639</td><td>-0.7146573</td></tr>\n",
       "\t<tr><th scope=row>normalized.losses</th><td> 0.04844102</td><td> 1.00000000</td><td>-0.4251623</td><td>-0.2825438</td><td>-0.18751286</td><td>-0.79517846</td><td>-0.14757009</td><td>-0.03489714</td><td>-0.1861876</td><td>-0.3695065</td><td>-0.81552443</td><td> 0.1684557</td><td>-0.1612708</td><td>-0.8350744</td><td>-0.8159223</td><td>-0.0343577</td></tr>\n",
       "\t<tr><th scope=row>wheel.base</th><td>-0.89904018</td><td>-0.42516227</td><td> 1.0000000</td><td> 0.9335623</td><td> 0.84286356</td><td> 0.39057697</td><td> 0.80063248</td><td> 0.60660622</td><td> 0.5939030</td><td>-0.3612983</td><td>-0.34097230</td><td> 0.3063222</td><td>-0.8499393</td><td>-0.9127366</td><td>-0.9301493</td><td> 0.6228249</td></tr>\n",
       "\t<tr><th scope=row>length</th><td>-0.83917069</td><td>-0.28254382</td><td> 0.9335623</td><td> 1.0000000</td><td> 0.95640856</td><td> 0.17853321</td><td> 0.94518341</td><td> 0.79376733</td><td> 0.7667926</td><td>-0.3675551</td><td>-0.47095348</td><td> 0.5533300</td><td>-0.7961065</td><td>-0.9563541</td><td>-0.9679424</td><td> 0.8132909</td></tr>\n",
       "\t<tr><th scope=row>width</th><td>-0.79595145</td><td>-0.18751286</td><td> 0.8428636</td><td> 0.9564086</td><td> 1.00000000</td><td> 0.01180965</td><td> 0.97926398</td><td> 0.88663376</td><td> 0.7876997</td><td>-0.3290804</td><td>-0.50747267</td><td> 0.6785897</td><td>-0.7671810</td><td>-0.9685518</td><td>-0.9777591</td><td> 0.8906309</td></tr>\n",
       "\t<tr><th scope=row>height</th><td>-0.96616722</td><td>-0.79517846</td><td> 0.3905770</td><td> 0.1785332</td><td> 0.01180965</td><td> 1.00000000</td><td>-0.02573169</td><td>-0.20529712</td><td>-0.1184034</td><td>-0.5546693</td><td>-0.01427491</td><td>-0.4061131</td><td>-0.8907221</td><td>-0.6476309</td><td>-0.6848851</td><td>-0.1746700</td></tr>\n",
       "\t<tr><th scope=row>curb.weight</th><td>-0.77801111</td><td>-0.14757009</td><td> 0.8006325</td><td> 0.9451834</td><td> 0.97926398</td><td>-0.02573169</td><td> 1.00000000</td><td> 0.93566181</td><td> 0.8300832</td><td>-0.3377296</td><td>-0.53541994</td><td> 0.7450328</td><td>-0.7568139</td><td>-0.9761156</td><td>-0.9841396</td><td> 0.9381471</td></tr>\n",
       "\t<tr><th scope=row>engine.size</th><td>-0.71283913</td><td>-0.03489714</td><td> 0.6066062</td><td> 0.7937673</td><td> 0.88663376</td><td>-0.20529712</td><td> 0.93566181</td><td> 1.00000000</td><td> 0.7844993</td><td>-0.3150367</td><td>-0.60098178</td><td> 0.8581056</td><td>-0.7168297</td><td>-0.9797222</td><td>-0.9845619</td><td> 0.9700163</td></tr>\n",
       "\t<tr><th scope=row>bore</th><td>-0.73504240</td><td>-0.18618760</td><td> 0.5939030</td><td> 0.7667926</td><td> 0.78769971</td><td>-0.11840336</td><td> 0.83008324</td><td> 0.78449934</td><td> 1.0000000</td><td>-0.4584610</td><td>-0.59646896</td><td> 0.7040464</td><td>-0.7303698</td><td>-0.9699313</td><td>-0.9748467</td><td> 0.7844114</td></tr>\n",
       "\t<tr><th scope=row>stroke</th><td>-0.52194609</td><td>-0.36950655</td><td>-0.3612983</td><td>-0.3675551</td><td>-0.32908043</td><td>-0.55466927</td><td>-0.33772956</td><td>-0.31503667</td><td>-0.4584610</td><td> 1.0000000</td><td>-0.37687890</td><td>-0.3815674</td><td>-0.5817822</td><td>-0.5961780</td><td>-0.5994865</td><td>-0.3722805</td></tr>\n",
       "\t<tr><th scope=row>compression.ratio</th><td>-0.79789702</td><td>-0.81552443</td><td>-0.3409723</td><td>-0.4709535</td><td>-0.50747267</td><td>-0.01427491</td><td>-0.53541994</td><td>-0.60098178</td><td>-0.5964690</td><td>-0.3768789</td><td> 1.00000000</td><td>-0.7490303</td><td>-0.9056000</td><td>-0.1325887</td><td>-0.1978775</td><td>-0.6052619</td></tr>\n",
       "\t<tr><th scope=row>horsepower</th><td>-0.57910792</td><td> 0.16845574</td><td> 0.3063222</td><td> 0.5533300</td><td> 0.67858970</td><td>-0.40611307</td><td> 0.74503281</td><td> 0.85810556</td><td> 0.7040464</td><td>-0.3815674</td><td>-0.74903030</td><td> 1.0000000</td><td>-0.5366185</td><td>-0.9932820</td><td>-0.9907855</td><td> 0.8527999</td></tr>\n",
       "\t<tr><th scope=row>peak.rpm</th><td> 0.27405269</td><td>-0.16127076</td><td>-0.8499393</td><td>-0.7961065</td><td>-0.76718101</td><td>-0.89072210</td><td>-0.75681388</td><td>-0.71682970</td><td>-0.7303698</td><td>-0.5817822</td><td>-0.90560005</td><td>-0.5366185</td><td> 1.0000000</td><td>-0.4300579</td><td>-0.3770912</td><td>-0.6984408</td></tr>\n",
       "\t<tr><th scope=row>city.mpg</th><td>-0.34378754</td><td>-0.83507445</td><td>-0.9127366</td><td>-0.9563541</td><td>-0.96855184</td><td>-0.64763087</td><td>-0.97611555</td><td>-0.97972224</td><td>-0.9699313</td><td>-0.5961780</td><td>-0.13258869</td><td>-0.9932820</td><td>-0.4300579</td><td> 1.0000000</td><td> 0.9917181</td><td>-0.9829860</td></tr>\n",
       "\t<tr><th scope=row>highway.mpg</th><td>-0.28326387</td><td>-0.81592231</td><td>-0.9301493</td><td>-0.9679424</td><td>-0.97775910</td><td>-0.68488505</td><td>-0.98413957</td><td>-0.98456190</td><td>-0.9748467</td><td>-0.5994865</td><td>-0.19787753</td><td>-0.9907855</td><td>-0.3770912</td><td> 0.9917181</td><td> 1.0000000</td><td>-0.9879295</td></tr>\n",
       "\t<tr><th scope=row>price</th><td>-0.71465733</td><td>-0.03435770</td><td> 0.6228249</td><td> 0.8132909</td><td> 0.89063089</td><td>-0.17466999</td><td> 0.93814713</td><td> 0.97001634</td><td> 0.7844114</td><td>-0.3722805</td><td>-0.60526187</td><td> 0.8527999</td><td>-0.6984408</td><td>-0.9829860</td><td>-0.9879295</td><td> 1.0000000</td></tr>\n",
       "</tbody>\n",
       "</table>\n",
       "</dd>\n",
       "\t<dt>$uppCI</dt>\n",
       "\t\t<dd><table class=\"dataframe\">\n",
       "<caption>A matrix: 16 × 16 of type dbl</caption>\n",
       "<thead>\n",
       "\t<tr><th></th><th scope=col>symboling</th><th scope=col>normalized.losses</th><th scope=col>wheel.base</th><th scope=col>length</th><th scope=col>width</th><th scope=col>height</th><th scope=col>curb.weight</th><th scope=col>engine.size</th><th scope=col>bore</th><th scope=col>stroke</th><th scope=col>compression.ratio</th><th scope=col>horsepower</th><th scope=col>peak.rpm</th><th scope=col>city.mpg</th><th scope=col>highway.mpg</th><th scope=col>price</th></tr>\n",
       "</thead>\n",
       "<tbody>\n",
       "\t<tr><th scope=row>symboling</th><td> 1.0000000000</td><td> 0.812951368</td><td>-0.3627059</td><td>-0.1304236316</td><td>-0.0002737128</td><td>-0.737060651</td><td> 0.04684642</td><td> 0.1918527</td><td> 0.1465215</td><td>0.4685272</td><td>-0.005605323</td><td> 0.4020342</td><td> 0.8783345321</td><td> 0.6223374</td><td> 0.6617751</td><td> 0.1882802</td></tr>\n",
       "\t<tr><th scope=row>normalized.losses</th><td> 0.8129513680</td><td> 1.000000000</td><td> 0.5602626</td><td> 0.6622147756</td><td> 0.7150462753</td><td> 0.001832073</td><td> 0.73454931</td><td> 0.7826916</td><td> 0.7157167</td><td>0.6039493</td><td>-0.056055060</td><td> 0.8503095</td><td> 0.7280199063</td><td>-0.1169432</td><td>-0.0572404</td><td> 0.7829008</td></tr>\n",
       "\t<tr><th scope=row>wheel.base</th><td>-0.3627059272</td><td> 0.560262585</td><td> 1.0000000</td><td> 0.9922183828</td><td> 0.9808000093</td><td> 0.905089163</td><td> 0.97513984</td><td> 0.9458372</td><td> 0.9437044</td><td>0.6099326</td><td> 0.624287450</td><td> 0.8861432</td><td>-0.1671580692</td><td>-0.4272170</td><td>-0.5170495</td><td> 0.9485183</td></tr>\n",
       "\t<tr><th scope=row>length</th><td>-0.1304236316</td><td> 0.662214776</td><td> 0.9922184</td><td> 1.0000000000</td><td> 0.9949469952</td><td> 0.853162067</td><td> 0.99361341</td><td> 0.9741977</td><td> 0.9704338</td><td>0.6053818</td><td> 0.519677290</td><td> 0.9366918</td><td>-0.0006970093</td><td>-0.6718853</td><td>-0.7493244</td><td> 0.9768607</td></tr>\n",
       "\t<tr><th scope=row>width</th><td>-0.0002737128</td><td> 0.715046275</td><td> 0.9808000</td><td> 0.9949469952</td><td> 1.0000000000</td><td> 0.800140469</td><td> 0.99762091</td><td> 0.9864310</td><td> 0.9733597</td><td>0.6323941</td><td> 0.483753132</td><td> 0.9573941</td><td> 0.0736191692</td><td>-0.7535693</td><td>-0.8199619</td><td> 0.9869338</td></tr>\n",
       "\t<tr><th scope=row>height</th><td>-0.7370606513</td><td> 0.001832073</td><td> 0.9050892</td><td> 0.8531620667</td><td> 0.8001404688</td><td> 1.000000000</td><td> 0.78622011</td><td> 0.7058858</td><td> 0.7479259</td><td>0.4317877</td><td> 0.790557499</td><td> 0.5758588</td><td>-0.3258851521</td><td> 0.3058722</td><td> 0.2439171</td><td> 0.7214742</td></tr>\n",
       "\t<tr><th scope=row>curb.weight</th><td> 0.0468464209</td><td> 0.734549308</td><td> 0.9751398</td><td> 0.9936134093</td><td> 0.9976209069</td><td> 0.786220112</td><td> 1.00000000</td><td> 0.9924715</td><td> 0.9791113</td><td>0.6265188</td><td> 0.453803425</td><td> 0.9673237</td><td> 0.0981602600</td><td>-0.8077907</td><td>-0.8686037</td><td> 0.9927705</td></tr>\n",
       "\t<tr><th scope=row>engine.size</th><td> 0.1918526541</td><td> 0.782691617</td><td> 0.9458372</td><td> 0.9741976850</td><td> 0.9864310479</td><td> 0.705885822</td><td> 0.99247151</td><td> 1.0000000</td><td> 0.9729157</td><td>0.6417039</td><td> 0.373521876</td><td> 0.9827873</td><td> 0.1839802681</td><td>-0.8346891</td><td>-0.8719039</td><td> 0.9965456</td></tr>\n",
       "\t<tr><th scope=row>bore</th><td> 0.1465215064</td><td> 0.715716713</td><td> 0.9437044</td><td> 0.9704338169</td><td> 0.9733597105</td><td> 0.747925899</td><td> 0.97911126</td><td> 0.9729157</td><td> 1.0000000</td><td>0.5312115</td><td> 0.379559004</td><td> 0.9612780</td><td> 0.1563791879</td><td>-0.7632450</td><td>-0.7984912</td><td> 0.9729035</td></tr>\n",
       "\t<tr><th scope=row>stroke</th><td> 0.4685271819</td><td> 0.603949259</td><td> 0.6099326</td><td> 0.6053817823</td><td> 0.6323940853</td><td> 0.431787686</td><td> 0.62651882</td><td> 0.6417039</td><td> 0.5312115</td><td>1.0000000</td><td> 0.598480011</td><td> 0.5949538</td><td> 0.3986475594</td><td> 0.3799454</td><td> 0.3755314</td><td> 0.6019021</td></tr>\n",
       "\t<tr><th scope=row>compression.ratio</th><td>-0.0056053228</td><td>-0.056055060</td><td> 0.6242874</td><td> 0.5196772897</td><td> 0.4837531318</td><td> 0.790557499</td><td> 0.45380342</td><td> 0.3735219</td><td> 0.3795590</td><td>0.5984800</td><td> 1.000000000</td><td> 0.1159266</td><td>-0.3929749147</td><td> 0.7415069</td><td> 0.7097450</td><td> 0.3677188</td></tr>\n",
       "\t<tr><th scope=row>horsepower</th><td> 0.4020342098</td><td> 0.850309526</td><td> 0.8861432</td><td> 0.9366917655</td><td> 0.9573940578</td><td> 0.575858805</td><td> 0.96732368</td><td> 0.9827873</td><td> 0.9612780</td><td>0.5949538</td><td> 0.115926569</td><td> 1.0000000</td><td> 0.4524670199</td><td>-0.9424112</td><td>-0.9217529</td><td> 0.9820988</td></tr>\n",
       "\t<tr><th scope=row>peak.rpm</th><td> 0.8783345321</td><td> 0.728019906</td><td>-0.1671581</td><td>-0.0006970093</td><td> 0.0736191692</td><td>-0.325885152</td><td> 0.09816026</td><td> 0.1839803</td><td> 0.1563792</td><td>0.3986476</td><td>-0.392974915</td><td> 0.4524670</td><td> 1.0000000000</td><td> 0.5561382</td><td> 0.5983212</td><td> 0.2193210</td></tr>\n",
       "\t<tr><th scope=row>city.mpg</th><td> 0.6223373941</td><td>-0.116943164</td><td>-0.4272170</td><td>-0.6718853358</td><td>-0.7535693483</td><td> 0.305872229</td><td>-0.80779072</td><td>-0.8346891</td><td>-0.7632450</td><td>0.3799454</td><td> 0.741506870</td><td>-0.9424112</td><td> 0.5561382461</td><td> 1.0000000</td><td> 0.9990551</td><td>-0.8596415</td></tr>\n",
       "\t<tr><th scope=row>highway.mpg</th><td> 0.6617750887</td><td>-0.057240402</td><td>-0.5170495</td><td>-0.7493243889</td><td>-0.8199618705</td><td> 0.243917130</td><td>-0.86860369</td><td>-0.8719039</td><td>-0.7984912</td><td>0.3755314</td><td> 0.709744976</td><td>-0.9217529</td><td> 0.5983211670</td><td> 0.9990551</td><td> 1.0000000</td><td>-0.8985905</td></tr>\n",
       "\t<tr><th scope=row>price</th><td> 0.1882801836</td><td> 0.782900754</td><td> 0.9485183</td><td> 0.9768606750</td><td> 0.9869338395</td><td> 0.721474200</td><td> 0.99277052</td><td> 0.9965456</td><td> 0.9729035</td><td>0.6019021</td><td> 0.367718764</td><td> 0.9820988</td><td> 0.2193210193</td><td>-0.8596415</td><td>-0.8985905</td><td> 1.0000000</td></tr>\n",
       "</tbody>\n",
       "</table>\n",
       "</dd>\n",
       "</dl>\n"
      ],
      "text/latex": [
       "\\begin{description}\n",
       "\\item[\\$p] A matrix: 16 × 16 of type dbl\n",
       "\\begin{tabular}{r|llllllllllllllll}\n",
       "  & symboling & normalized.losses & wheel.base & length & width & height & curb.weight & engine.size & bore & stroke & compression.ratio & horsepower & peak.rpm & city.mpg & highway.mpg & price\\\\\n",
       "\\hline\n",
       "\tsymboling & 0.000000e+00 & 0.03415409 & 1.400038e-03 & 1.656921e-02 & 5.074923e-02 & 1.684403e-06 & 7.333503e-02 & 2.035490e-01 & 1.505763e-01 & 0.8964456 & 0.0486212344 & 6.661273e-01 & 0.0039177584 & 4.972268e-01 & 3.561032e-01 & 1.988853e-01\\\\\n",
       "\tnormalized.losses & 3.415409e-02 & 0.00000000 & 7.420196e-01 & 3.546287e-01 & 1.978951e-01 & 5.161168e-02 & 1.516572e-01 & 6.691563e-02 & 1.961943e-01 & 0.5677905 & 0.0320208469 & 1.157685e-02 & 0.1663833634 & 1.874637e-02 & 3.169944e-02 & 6.663763e-02\\\\\n",
       "\twheel.base & 1.400038e-03 & 0.74201960 & 0.000000e+00 & 8.347568e-11 & 3.938148e-08 & 9.858549e-04 & 2.214815e-07 & 3.406195e-05 & 4.332339e-05 & 0.5445752 & 0.4898911357 & 2.732054e-03 & 0.0117223541 & 6.075175e-04 & 1.624591e-04 & 2.478880e-05\\\\\n",
       "\tlength & 1.656921e-02 & 0.35462868 & 8.347568e-11 & 0.000000e+00 & 4.228656e-12 & 1.049997e-02 & 2.136907e-11 & 2.834977e-07 & 6.967799e-07 & 0.5622122 & 0.9055026195 & 8.936395e-05 & 0.0505773842 & 8.714013e-06 & 1.184649e-06 & 1.374048e-07\\\\\n",
       "\twidth & 5.074923e-02 & 0.19789507 & 3.938148e-08 & 4.228656e-12 & 0.000000e+00 & 4.624272e-02 & 2.255335e-14 & 3.761594e-09 & 3.503426e-07 & 0.4597467 & 0.9539149525 & 7.469486e-06 & 0.0896625454 & 1.044765e-06 & 1.054933e-07 & 2.909038e-09\\\\\n",
       "\theight & 1.684403e-06 & 0.05161168 & 9.858549e-04 & 1.049997e-02 & 4.624272e-02 & 0.000000e+00 & 6.232533e-02 & 2.219049e-01 & 1.238996e-01 & 0.7646306 & 0.0569714793 & 6.791600e-01 & 0.0021791464 & 4.048009e-01 & 2.821599e-01 & 1.819115e-01\\\\\n",
       "\tcurb.weight & 7.333503e-02 & 0.15165715 & 2.214815e-07 & 2.136907e-11 & 2.255335e-14 & 6.232533e-02 & 0.000000e+00 & 6.647057e-11 & 6.934236e-08 & 0.4815363 & 0.8423747054 & 1.342373e-06 & 0.1072593981 & 1.697082e-07 & 1.084777e-08 & 5.027064e-11\\\\\n",
       "\tengine.size & 2.035490e-01 & 0.06691563 & 3.406195e-05 & 2.834977e-07 & 3.761594e-09 & 2.219049e-01 & 6.647057e-11 & 0.000000e+00 & 3.908219e-07 & 0.4258894 & 0.5793837309 & 1.886168e-08 & 0.1933881651 & 5.682968e-08 & 9.035392e-09 & 3.020608e-13\\\\\n",
       "\tbore & 1.505763e-01 & 0.19619433 & 4.332339e-05 & 6.967799e-07 & 3.503426e-07 & 1.238996e-01 & 6.934236e-08 & 3.908219e-07 & 0.000000e+00 & 0.8593087 & 0.5971059897 & 4.042030e-06 & 0.1609952477 & 7.784108e-07 & 2.394160e-07 & 3.919888e-07\\\\\n",
       "\tstroke & 8.964456e-01 & 0.56779048 & 5.445752e-01 & 5.622122e-01 & 4.597467e-01 & 7.646306e-01 & 4.815363e-01 & 4.258894e-01 & 8.593087e-01 & 0.0000000 & 0.5891952813 & 6.030792e-01 & 0.6554233174 & 5.982523e-01 & 5.852441e-01 & 5.757831e-01\\\\\n",
       "\tcompression.ratio & 4.862123e-02 & 0.03202085 & 4.898911e-01 & 9.055026e-01 & 9.539150e-01 & 5.697148e-02 & 8.423747e-01 & 5.793837e-01 & 5.971060e-01 & 0.5891953 & 0.0000000000 & 1.217535e-01 & 0.0009558972 & 1.368133e-01 & 2.116158e-01 & 5.626787e-01\\\\\n",
       "\thorsepower & 6.661273e-01 & 0.01157685 & 2.732054e-03 & 8.936395e-05 & 7.469486e-06 & 6.791600e-01 & 1.342373e-06 & 1.886168e-08 & 4.042030e-06 & 0.6030792 & 0.1217535360 & 0.000000e+00 & 0.8375460119 & 3.030375e-11 & 2.668788e-10 & 2.457525e-08\\\\\n",
       "\tpeak.rpm & 3.917758e-03 & 0.16638336 & 1.172235e-02 & 5.057738e-02 & 8.966255e-02 & 2.179146e-03 & 1.072594e-01 & 1.933882e-01 & 1.609952e-01 & 0.6554233 & 0.0009558972 & 8.375460e-01 & 0.0000000000 & 7.586910e-01 & 5.898194e-01 & 2.424562e-01\\\\\n",
       "\tcity.mpg & 4.972268e-01 & 0.01874637 & 6.075175e-04 & 8.714013e-06 & 1.044765e-06 & 4.048009e-01 & 1.697082e-07 & 5.682968e-08 & 7.784108e-07 & 0.5982523 & 0.1368133193 & 3.030375e-11 & 0.7586910004 & 0.000000e+00 & 3.591595e-17 & 1.743948e-08\\\\\n",
       "\thighway.mpg & 3.561032e-01 & 0.03169944 & 1.624591e-04 & 1.184649e-06 & 1.054933e-07 & 2.821599e-01 & 1.084777e-08 & 9.035392e-09 & 2.394160e-07 & 0.5852441 & 0.2116157868 & 2.668788e-10 & 0.5898193609 & 3.591595e-17 & 0.000000e+00 & 1.694582e-09\\\\\n",
       "\tprice & 1.988853e-01 & 0.06663763 & 2.478880e-05 & 1.374048e-07 & 2.909038e-09 & 1.819115e-01 & 5.027064e-11 & 3.020608e-13 & 3.919888e-07 & 0.5757831 & 0.5626786830 & 2.457525e-08 & 0.2424561703 & 1.743948e-08 & 1.694582e-09 & 0.000000e+00\\\\\n",
       "\\end{tabular}\n",
       "\n",
       "\\item[\\$lowCI] A matrix: 16 × 16 of type dbl\n",
       "\\begin{tabular}{r|llllllllllllllll}\n",
       "  & symboling & normalized.losses & wheel.base & length & width & height & curb.weight & engine.size & bore & stroke & compression.ratio & horsepower & peak.rpm & city.mpg & highway.mpg & price\\\\\n",
       "\\hline\n",
       "\tsymboling &  1.00000000 &  0.04844102 & -0.8990402 & -0.8391707 & -0.79595145 & -0.96616722 & -0.77801111 & -0.71283913 & -0.7350424 & -0.5219461 & -0.79789702 & -0.5791079 &  0.2740527 & -0.3437875 & -0.2832639 & -0.7146573\\\\\n",
       "\tnormalized.losses &  0.04844102 &  1.00000000 & -0.4251623 & -0.2825438 & -0.18751286 & -0.79517846 & -0.14757009 & -0.03489714 & -0.1861876 & -0.3695065 & -0.81552443 &  0.1684557 & -0.1612708 & -0.8350744 & -0.8159223 & -0.0343577\\\\\n",
       "\twheel.base & -0.89904018 & -0.42516227 &  1.0000000 &  0.9335623 &  0.84286356 &  0.39057697 &  0.80063248 &  0.60660622 &  0.5939030 & -0.3612983 & -0.34097230 &  0.3063222 & -0.8499393 & -0.9127366 & -0.9301493 &  0.6228249\\\\\n",
       "\tlength & -0.83917069 & -0.28254382 &  0.9335623 &  1.0000000 &  0.95640856 &  0.17853321 &  0.94518341 &  0.79376733 &  0.7667926 & -0.3675551 & -0.47095348 &  0.5533300 & -0.7961065 & -0.9563541 & -0.9679424 &  0.8132909\\\\\n",
       "\twidth & -0.79595145 & -0.18751286 &  0.8428636 &  0.9564086 &  1.00000000 &  0.01180965 &  0.97926398 &  0.88663376 &  0.7876997 & -0.3290804 & -0.50747267 &  0.6785897 & -0.7671810 & -0.9685518 & -0.9777591 &  0.8906309\\\\\n",
       "\theight & -0.96616722 & -0.79517846 &  0.3905770 &  0.1785332 &  0.01180965 &  1.00000000 & -0.02573169 & -0.20529712 & -0.1184034 & -0.5546693 & -0.01427491 & -0.4061131 & -0.8907221 & -0.6476309 & -0.6848851 & -0.1746700\\\\\n",
       "\tcurb.weight & -0.77801111 & -0.14757009 &  0.8006325 &  0.9451834 &  0.97926398 & -0.02573169 &  1.00000000 &  0.93566181 &  0.8300832 & -0.3377296 & -0.53541994 &  0.7450328 & -0.7568139 & -0.9761156 & -0.9841396 &  0.9381471\\\\\n",
       "\tengine.size & -0.71283913 & -0.03489714 &  0.6066062 &  0.7937673 &  0.88663376 & -0.20529712 &  0.93566181 &  1.00000000 &  0.7844993 & -0.3150367 & -0.60098178 &  0.8581056 & -0.7168297 & -0.9797222 & -0.9845619 &  0.9700163\\\\\n",
       "\tbore & -0.73504240 & -0.18618760 &  0.5939030 &  0.7667926 &  0.78769971 & -0.11840336 &  0.83008324 &  0.78449934 &  1.0000000 & -0.4584610 & -0.59646896 &  0.7040464 & -0.7303698 & -0.9699313 & -0.9748467 &  0.7844114\\\\\n",
       "\tstroke & -0.52194609 & -0.36950655 & -0.3612983 & -0.3675551 & -0.32908043 & -0.55466927 & -0.33772956 & -0.31503667 & -0.4584610 &  1.0000000 & -0.37687890 & -0.3815674 & -0.5817822 & -0.5961780 & -0.5994865 & -0.3722805\\\\\n",
       "\tcompression.ratio & -0.79789702 & -0.81552443 & -0.3409723 & -0.4709535 & -0.50747267 & -0.01427491 & -0.53541994 & -0.60098178 & -0.5964690 & -0.3768789 &  1.00000000 & -0.7490303 & -0.9056000 & -0.1325887 & -0.1978775 & -0.6052619\\\\\n",
       "\thorsepower & -0.57910792 &  0.16845574 &  0.3063222 &  0.5533300 &  0.67858970 & -0.40611307 &  0.74503281 &  0.85810556 &  0.7040464 & -0.3815674 & -0.74903030 &  1.0000000 & -0.5366185 & -0.9932820 & -0.9907855 &  0.8527999\\\\\n",
       "\tpeak.rpm &  0.27405269 & -0.16127076 & -0.8499393 & -0.7961065 & -0.76718101 & -0.89072210 & -0.75681388 & -0.71682970 & -0.7303698 & -0.5817822 & -0.90560005 & -0.5366185 &  1.0000000 & -0.4300579 & -0.3770912 & -0.6984408\\\\\n",
       "\tcity.mpg & -0.34378754 & -0.83507445 & -0.9127366 & -0.9563541 & -0.96855184 & -0.64763087 & -0.97611555 & -0.97972224 & -0.9699313 & -0.5961780 & -0.13258869 & -0.9932820 & -0.4300579 &  1.0000000 &  0.9917181 & -0.9829860\\\\\n",
       "\thighway.mpg & -0.28326387 & -0.81592231 & -0.9301493 & -0.9679424 & -0.97775910 & -0.68488505 & -0.98413957 & -0.98456190 & -0.9748467 & -0.5994865 & -0.19787753 & -0.9907855 & -0.3770912 &  0.9917181 &  1.0000000 & -0.9879295\\\\\n",
       "\tprice & -0.71465733 & -0.03435770 &  0.6228249 &  0.8132909 &  0.89063089 & -0.17466999 &  0.93814713 &  0.97001634 &  0.7844114 & -0.3722805 & -0.60526187 &  0.8527999 & -0.6984408 & -0.9829860 & -0.9879295 &  1.0000000\\\\\n",
       "\\end{tabular}\n",
       "\n",
       "\\item[\\$uppCI] A matrix: 16 × 16 of type dbl\n",
       "\\begin{tabular}{r|llllllllllllllll}\n",
       "  & symboling & normalized.losses & wheel.base & length & width & height & curb.weight & engine.size & bore & stroke & compression.ratio & horsepower & peak.rpm & city.mpg & highway.mpg & price\\\\\n",
       "\\hline\n",
       "\tsymboling &  1.0000000000 &  0.812951368 & -0.3627059 & -0.1304236316 & -0.0002737128 & -0.737060651 &  0.04684642 &  0.1918527 &  0.1465215 & 0.4685272 & -0.005605323 &  0.4020342 &  0.8783345321 &  0.6223374 &  0.6617751 &  0.1882802\\\\\n",
       "\tnormalized.losses &  0.8129513680 &  1.000000000 &  0.5602626 &  0.6622147756 &  0.7150462753 &  0.001832073 &  0.73454931 &  0.7826916 &  0.7157167 & 0.6039493 & -0.056055060 &  0.8503095 &  0.7280199063 & -0.1169432 & -0.0572404 &  0.7829008\\\\\n",
       "\twheel.base & -0.3627059272 &  0.560262585 &  1.0000000 &  0.9922183828 &  0.9808000093 &  0.905089163 &  0.97513984 &  0.9458372 &  0.9437044 & 0.6099326 &  0.624287450 &  0.8861432 & -0.1671580692 & -0.4272170 & -0.5170495 &  0.9485183\\\\\n",
       "\tlength & -0.1304236316 &  0.662214776 &  0.9922184 &  1.0000000000 &  0.9949469952 &  0.853162067 &  0.99361341 &  0.9741977 &  0.9704338 & 0.6053818 &  0.519677290 &  0.9366918 & -0.0006970093 & -0.6718853 & -0.7493244 &  0.9768607\\\\\n",
       "\twidth & -0.0002737128 &  0.715046275 &  0.9808000 &  0.9949469952 &  1.0000000000 &  0.800140469 &  0.99762091 &  0.9864310 &  0.9733597 & 0.6323941 &  0.483753132 &  0.9573941 &  0.0736191692 & -0.7535693 & -0.8199619 &  0.9869338\\\\\n",
       "\theight & -0.7370606513 &  0.001832073 &  0.9050892 &  0.8531620667 &  0.8001404688 &  1.000000000 &  0.78622011 &  0.7058858 &  0.7479259 & 0.4317877 &  0.790557499 &  0.5758588 & -0.3258851521 &  0.3058722 &  0.2439171 &  0.7214742\\\\\n",
       "\tcurb.weight &  0.0468464209 &  0.734549308 &  0.9751398 &  0.9936134093 &  0.9976209069 &  0.786220112 &  1.00000000 &  0.9924715 &  0.9791113 & 0.6265188 &  0.453803425 &  0.9673237 &  0.0981602600 & -0.8077907 & -0.8686037 &  0.9927705\\\\\n",
       "\tengine.size &  0.1918526541 &  0.782691617 &  0.9458372 &  0.9741976850 &  0.9864310479 &  0.705885822 &  0.99247151 &  1.0000000 &  0.9729157 & 0.6417039 &  0.373521876 &  0.9827873 &  0.1839802681 & -0.8346891 & -0.8719039 &  0.9965456\\\\\n",
       "\tbore &  0.1465215064 &  0.715716713 &  0.9437044 &  0.9704338169 &  0.9733597105 &  0.747925899 &  0.97911126 &  0.9729157 &  1.0000000 & 0.5312115 &  0.379559004 &  0.9612780 &  0.1563791879 & -0.7632450 & -0.7984912 &  0.9729035\\\\\n",
       "\tstroke &  0.4685271819 &  0.603949259 &  0.6099326 &  0.6053817823 &  0.6323940853 &  0.431787686 &  0.62651882 &  0.6417039 &  0.5312115 & 1.0000000 &  0.598480011 &  0.5949538 &  0.3986475594 &  0.3799454 &  0.3755314 &  0.6019021\\\\\n",
       "\tcompression.ratio & -0.0056053228 & -0.056055060 &  0.6242874 &  0.5196772897 &  0.4837531318 &  0.790557499 &  0.45380342 &  0.3735219 &  0.3795590 & 0.5984800 &  1.000000000 &  0.1159266 & -0.3929749147 &  0.7415069 &  0.7097450 &  0.3677188\\\\\n",
       "\thorsepower &  0.4020342098 &  0.850309526 &  0.8861432 &  0.9366917655 &  0.9573940578 &  0.575858805 &  0.96732368 &  0.9827873 &  0.9612780 & 0.5949538 &  0.115926569 &  1.0000000 &  0.4524670199 & -0.9424112 & -0.9217529 &  0.9820988\\\\\n",
       "\tpeak.rpm &  0.8783345321 &  0.728019906 & -0.1671581 & -0.0006970093 &  0.0736191692 & -0.325885152 &  0.09816026 &  0.1839803 &  0.1563792 & 0.3986476 & -0.392974915 &  0.4524670 &  1.0000000000 &  0.5561382 &  0.5983212 &  0.2193210\\\\\n",
       "\tcity.mpg &  0.6223373941 & -0.116943164 & -0.4272170 & -0.6718853358 & -0.7535693483 &  0.305872229 & -0.80779072 & -0.8346891 & -0.7632450 & 0.3799454 &  0.741506870 & -0.9424112 &  0.5561382461 &  1.0000000 &  0.9990551 & -0.8596415\\\\\n",
       "\thighway.mpg &  0.6617750887 & -0.057240402 & -0.5170495 & -0.7493243889 & -0.8199618705 &  0.243917130 & -0.86860369 & -0.8719039 & -0.7984912 & 0.3755314 &  0.709744976 & -0.9217529 &  0.5983211670 &  0.9990551 &  1.0000000 & -0.8985905\\\\\n",
       "\tprice &  0.1882801836 &  0.782900754 &  0.9485183 &  0.9768606750 &  0.9869338395 &  0.721474200 &  0.99277052 &  0.9965456 &  0.9729035 & 0.6019021 &  0.367718764 &  0.9820988 &  0.2193210193 & -0.8596415 & -0.8985905 &  1.0000000\\\\\n",
       "\\end{tabular}\n",
       "\n",
       "\\end{description}\n"
      ],
      "text/markdown": [
       "$p\n",
       ":   \n",
       "A matrix: 16 × 16 of type dbl\n",
       "\n",
       "| <!--/--> | symboling | normalized.losses | wheel.base | length | width | height | curb.weight | engine.size | bore | stroke | compression.ratio | horsepower | peak.rpm | city.mpg | highway.mpg | price |\n",
       "|---|---|---|---|---|---|---|---|---|---|---|---|---|---|---|---|---|\n",
       "| symboling | 0.000000e+00 | 0.03415409 | 1.400038e-03 | 1.656921e-02 | 5.074923e-02 | 1.684403e-06 | 7.333503e-02 | 2.035490e-01 | 1.505763e-01 | 0.8964456 | 0.0486212344 | 6.661273e-01 | 0.0039177584 | 4.972268e-01 | 3.561032e-01 | 1.988853e-01 |\n",
       "| normalized.losses | 3.415409e-02 | 0.00000000 | 7.420196e-01 | 3.546287e-01 | 1.978951e-01 | 5.161168e-02 | 1.516572e-01 | 6.691563e-02 | 1.961943e-01 | 0.5677905 | 0.0320208469 | 1.157685e-02 | 0.1663833634 | 1.874637e-02 | 3.169944e-02 | 6.663763e-02 |\n",
       "| wheel.base | 1.400038e-03 | 0.74201960 | 0.000000e+00 | 8.347568e-11 | 3.938148e-08 | 9.858549e-04 | 2.214815e-07 | 3.406195e-05 | 4.332339e-05 | 0.5445752 | 0.4898911357 | 2.732054e-03 | 0.0117223541 | 6.075175e-04 | 1.624591e-04 | 2.478880e-05 |\n",
       "| length | 1.656921e-02 | 0.35462868 | 8.347568e-11 | 0.000000e+00 | 4.228656e-12 | 1.049997e-02 | 2.136907e-11 | 2.834977e-07 | 6.967799e-07 | 0.5622122 | 0.9055026195 | 8.936395e-05 | 0.0505773842 | 8.714013e-06 | 1.184649e-06 | 1.374048e-07 |\n",
       "| width | 5.074923e-02 | 0.19789507 | 3.938148e-08 | 4.228656e-12 | 0.000000e+00 | 4.624272e-02 | 2.255335e-14 | 3.761594e-09 | 3.503426e-07 | 0.4597467 | 0.9539149525 | 7.469486e-06 | 0.0896625454 | 1.044765e-06 | 1.054933e-07 | 2.909038e-09 |\n",
       "| height | 1.684403e-06 | 0.05161168 | 9.858549e-04 | 1.049997e-02 | 4.624272e-02 | 0.000000e+00 | 6.232533e-02 | 2.219049e-01 | 1.238996e-01 | 0.7646306 | 0.0569714793 | 6.791600e-01 | 0.0021791464 | 4.048009e-01 | 2.821599e-01 | 1.819115e-01 |\n",
       "| curb.weight | 7.333503e-02 | 0.15165715 | 2.214815e-07 | 2.136907e-11 | 2.255335e-14 | 6.232533e-02 | 0.000000e+00 | 6.647057e-11 | 6.934236e-08 | 0.4815363 | 0.8423747054 | 1.342373e-06 | 0.1072593981 | 1.697082e-07 | 1.084777e-08 | 5.027064e-11 |\n",
       "| engine.size | 2.035490e-01 | 0.06691563 | 3.406195e-05 | 2.834977e-07 | 3.761594e-09 | 2.219049e-01 | 6.647057e-11 | 0.000000e+00 | 3.908219e-07 | 0.4258894 | 0.5793837309 | 1.886168e-08 | 0.1933881651 | 5.682968e-08 | 9.035392e-09 | 3.020608e-13 |\n",
       "| bore | 1.505763e-01 | 0.19619433 | 4.332339e-05 | 6.967799e-07 | 3.503426e-07 | 1.238996e-01 | 6.934236e-08 | 3.908219e-07 | 0.000000e+00 | 0.8593087 | 0.5971059897 | 4.042030e-06 | 0.1609952477 | 7.784108e-07 | 2.394160e-07 | 3.919888e-07 |\n",
       "| stroke | 8.964456e-01 | 0.56779048 | 5.445752e-01 | 5.622122e-01 | 4.597467e-01 | 7.646306e-01 | 4.815363e-01 | 4.258894e-01 | 8.593087e-01 | 0.0000000 | 0.5891952813 | 6.030792e-01 | 0.6554233174 | 5.982523e-01 | 5.852441e-01 | 5.757831e-01 |\n",
       "| compression.ratio | 4.862123e-02 | 0.03202085 | 4.898911e-01 | 9.055026e-01 | 9.539150e-01 | 5.697148e-02 | 8.423747e-01 | 5.793837e-01 | 5.971060e-01 | 0.5891953 | 0.0000000000 | 1.217535e-01 | 0.0009558972 | 1.368133e-01 | 2.116158e-01 | 5.626787e-01 |\n",
       "| horsepower | 6.661273e-01 | 0.01157685 | 2.732054e-03 | 8.936395e-05 | 7.469486e-06 | 6.791600e-01 | 1.342373e-06 | 1.886168e-08 | 4.042030e-06 | 0.6030792 | 0.1217535360 | 0.000000e+00 | 0.8375460119 | 3.030375e-11 | 2.668788e-10 | 2.457525e-08 |\n",
       "| peak.rpm | 3.917758e-03 | 0.16638336 | 1.172235e-02 | 5.057738e-02 | 8.966255e-02 | 2.179146e-03 | 1.072594e-01 | 1.933882e-01 | 1.609952e-01 | 0.6554233 | 0.0009558972 | 8.375460e-01 | 0.0000000000 | 7.586910e-01 | 5.898194e-01 | 2.424562e-01 |\n",
       "| city.mpg | 4.972268e-01 | 0.01874637 | 6.075175e-04 | 8.714013e-06 | 1.044765e-06 | 4.048009e-01 | 1.697082e-07 | 5.682968e-08 | 7.784108e-07 | 0.5982523 | 0.1368133193 | 3.030375e-11 | 0.7586910004 | 0.000000e+00 | 3.591595e-17 | 1.743948e-08 |\n",
       "| highway.mpg | 3.561032e-01 | 0.03169944 | 1.624591e-04 | 1.184649e-06 | 1.054933e-07 | 2.821599e-01 | 1.084777e-08 | 9.035392e-09 | 2.394160e-07 | 0.5852441 | 0.2116157868 | 2.668788e-10 | 0.5898193609 | 3.591595e-17 | 0.000000e+00 | 1.694582e-09 |\n",
       "| price | 1.988853e-01 | 0.06663763 | 2.478880e-05 | 1.374048e-07 | 2.909038e-09 | 1.819115e-01 | 5.027064e-11 | 3.020608e-13 | 3.919888e-07 | 0.5757831 | 0.5626786830 | 2.457525e-08 | 0.2424561703 | 1.743948e-08 | 1.694582e-09 | 0.000000e+00 |\n",
       "\n",
       "\n",
       "$lowCI\n",
       ":   \n",
       "A matrix: 16 × 16 of type dbl\n",
       "\n",
       "| <!--/--> | symboling | normalized.losses | wheel.base | length | width | height | curb.weight | engine.size | bore | stroke | compression.ratio | horsepower | peak.rpm | city.mpg | highway.mpg | price |\n",
       "|---|---|---|---|---|---|---|---|---|---|---|---|---|---|---|---|---|\n",
       "| symboling |  1.00000000 |  0.04844102 | -0.8990402 | -0.8391707 | -0.79595145 | -0.96616722 | -0.77801111 | -0.71283913 | -0.7350424 | -0.5219461 | -0.79789702 | -0.5791079 |  0.2740527 | -0.3437875 | -0.2832639 | -0.7146573 |\n",
       "| normalized.losses |  0.04844102 |  1.00000000 | -0.4251623 | -0.2825438 | -0.18751286 | -0.79517846 | -0.14757009 | -0.03489714 | -0.1861876 | -0.3695065 | -0.81552443 |  0.1684557 | -0.1612708 | -0.8350744 | -0.8159223 | -0.0343577 |\n",
       "| wheel.base | -0.89904018 | -0.42516227 |  1.0000000 |  0.9335623 |  0.84286356 |  0.39057697 |  0.80063248 |  0.60660622 |  0.5939030 | -0.3612983 | -0.34097230 |  0.3063222 | -0.8499393 | -0.9127366 | -0.9301493 |  0.6228249 |\n",
       "| length | -0.83917069 | -0.28254382 |  0.9335623 |  1.0000000 |  0.95640856 |  0.17853321 |  0.94518341 |  0.79376733 |  0.7667926 | -0.3675551 | -0.47095348 |  0.5533300 | -0.7961065 | -0.9563541 | -0.9679424 |  0.8132909 |\n",
       "| width | -0.79595145 | -0.18751286 |  0.8428636 |  0.9564086 |  1.00000000 |  0.01180965 |  0.97926398 |  0.88663376 |  0.7876997 | -0.3290804 | -0.50747267 |  0.6785897 | -0.7671810 | -0.9685518 | -0.9777591 |  0.8906309 |\n",
       "| height | -0.96616722 | -0.79517846 |  0.3905770 |  0.1785332 |  0.01180965 |  1.00000000 | -0.02573169 | -0.20529712 | -0.1184034 | -0.5546693 | -0.01427491 | -0.4061131 | -0.8907221 | -0.6476309 | -0.6848851 | -0.1746700 |\n",
       "| curb.weight | -0.77801111 | -0.14757009 |  0.8006325 |  0.9451834 |  0.97926398 | -0.02573169 |  1.00000000 |  0.93566181 |  0.8300832 | -0.3377296 | -0.53541994 |  0.7450328 | -0.7568139 | -0.9761156 | -0.9841396 |  0.9381471 |\n",
       "| engine.size | -0.71283913 | -0.03489714 |  0.6066062 |  0.7937673 |  0.88663376 | -0.20529712 |  0.93566181 |  1.00000000 |  0.7844993 | -0.3150367 | -0.60098178 |  0.8581056 | -0.7168297 | -0.9797222 | -0.9845619 |  0.9700163 |\n",
       "| bore | -0.73504240 | -0.18618760 |  0.5939030 |  0.7667926 |  0.78769971 | -0.11840336 |  0.83008324 |  0.78449934 |  1.0000000 | -0.4584610 | -0.59646896 |  0.7040464 | -0.7303698 | -0.9699313 | -0.9748467 |  0.7844114 |\n",
       "| stroke | -0.52194609 | -0.36950655 | -0.3612983 | -0.3675551 | -0.32908043 | -0.55466927 | -0.33772956 | -0.31503667 | -0.4584610 |  1.0000000 | -0.37687890 | -0.3815674 | -0.5817822 | -0.5961780 | -0.5994865 | -0.3722805 |\n",
       "| compression.ratio | -0.79789702 | -0.81552443 | -0.3409723 | -0.4709535 | -0.50747267 | -0.01427491 | -0.53541994 | -0.60098178 | -0.5964690 | -0.3768789 |  1.00000000 | -0.7490303 | -0.9056000 | -0.1325887 | -0.1978775 | -0.6052619 |\n",
       "| horsepower | -0.57910792 |  0.16845574 |  0.3063222 |  0.5533300 |  0.67858970 | -0.40611307 |  0.74503281 |  0.85810556 |  0.7040464 | -0.3815674 | -0.74903030 |  1.0000000 | -0.5366185 | -0.9932820 | -0.9907855 |  0.8527999 |\n",
       "| peak.rpm |  0.27405269 | -0.16127076 | -0.8499393 | -0.7961065 | -0.76718101 | -0.89072210 | -0.75681388 | -0.71682970 | -0.7303698 | -0.5817822 | -0.90560005 | -0.5366185 |  1.0000000 | -0.4300579 | -0.3770912 | -0.6984408 |\n",
       "| city.mpg | -0.34378754 | -0.83507445 | -0.9127366 | -0.9563541 | -0.96855184 | -0.64763087 | -0.97611555 | -0.97972224 | -0.9699313 | -0.5961780 | -0.13258869 | -0.9932820 | -0.4300579 |  1.0000000 |  0.9917181 | -0.9829860 |\n",
       "| highway.mpg | -0.28326387 | -0.81592231 | -0.9301493 | -0.9679424 | -0.97775910 | -0.68488505 | -0.98413957 | -0.98456190 | -0.9748467 | -0.5994865 | -0.19787753 | -0.9907855 | -0.3770912 |  0.9917181 |  1.0000000 | -0.9879295 |\n",
       "| price | -0.71465733 | -0.03435770 |  0.6228249 |  0.8132909 |  0.89063089 | -0.17466999 |  0.93814713 |  0.97001634 |  0.7844114 | -0.3722805 | -0.60526187 |  0.8527999 | -0.6984408 | -0.9829860 | -0.9879295 |  1.0000000 |\n",
       "\n",
       "\n",
       "$uppCI\n",
       ":   \n",
       "A matrix: 16 × 16 of type dbl\n",
       "\n",
       "| <!--/--> | symboling | normalized.losses | wheel.base | length | width | height | curb.weight | engine.size | bore | stroke | compression.ratio | horsepower | peak.rpm | city.mpg | highway.mpg | price |\n",
       "|---|---|---|---|---|---|---|---|---|---|---|---|---|---|---|---|---|\n",
       "| symboling |  1.0000000000 |  0.812951368 | -0.3627059 | -0.1304236316 | -0.0002737128 | -0.737060651 |  0.04684642 |  0.1918527 |  0.1465215 | 0.4685272 | -0.005605323 |  0.4020342 |  0.8783345321 |  0.6223374 |  0.6617751 |  0.1882802 |\n",
       "| normalized.losses |  0.8129513680 |  1.000000000 |  0.5602626 |  0.6622147756 |  0.7150462753 |  0.001832073 |  0.73454931 |  0.7826916 |  0.7157167 | 0.6039493 | -0.056055060 |  0.8503095 |  0.7280199063 | -0.1169432 | -0.0572404 |  0.7829008 |\n",
       "| wheel.base | -0.3627059272 |  0.560262585 |  1.0000000 |  0.9922183828 |  0.9808000093 |  0.905089163 |  0.97513984 |  0.9458372 |  0.9437044 | 0.6099326 |  0.624287450 |  0.8861432 | -0.1671580692 | -0.4272170 | -0.5170495 |  0.9485183 |\n",
       "| length | -0.1304236316 |  0.662214776 |  0.9922184 |  1.0000000000 |  0.9949469952 |  0.853162067 |  0.99361341 |  0.9741977 |  0.9704338 | 0.6053818 |  0.519677290 |  0.9366918 | -0.0006970093 | -0.6718853 | -0.7493244 |  0.9768607 |\n",
       "| width | -0.0002737128 |  0.715046275 |  0.9808000 |  0.9949469952 |  1.0000000000 |  0.800140469 |  0.99762091 |  0.9864310 |  0.9733597 | 0.6323941 |  0.483753132 |  0.9573941 |  0.0736191692 | -0.7535693 | -0.8199619 |  0.9869338 |\n",
       "| height | -0.7370606513 |  0.001832073 |  0.9050892 |  0.8531620667 |  0.8001404688 |  1.000000000 |  0.78622011 |  0.7058858 |  0.7479259 | 0.4317877 |  0.790557499 |  0.5758588 | -0.3258851521 |  0.3058722 |  0.2439171 |  0.7214742 |\n",
       "| curb.weight |  0.0468464209 |  0.734549308 |  0.9751398 |  0.9936134093 |  0.9976209069 |  0.786220112 |  1.00000000 |  0.9924715 |  0.9791113 | 0.6265188 |  0.453803425 |  0.9673237 |  0.0981602600 | -0.8077907 | -0.8686037 |  0.9927705 |\n",
       "| engine.size |  0.1918526541 |  0.782691617 |  0.9458372 |  0.9741976850 |  0.9864310479 |  0.705885822 |  0.99247151 |  1.0000000 |  0.9729157 | 0.6417039 |  0.373521876 |  0.9827873 |  0.1839802681 | -0.8346891 | -0.8719039 |  0.9965456 |\n",
       "| bore |  0.1465215064 |  0.715716713 |  0.9437044 |  0.9704338169 |  0.9733597105 |  0.747925899 |  0.97911126 |  0.9729157 |  1.0000000 | 0.5312115 |  0.379559004 |  0.9612780 |  0.1563791879 | -0.7632450 | -0.7984912 |  0.9729035 |\n",
       "| stroke |  0.4685271819 |  0.603949259 |  0.6099326 |  0.6053817823 |  0.6323940853 |  0.431787686 |  0.62651882 |  0.6417039 |  0.5312115 | 1.0000000 |  0.598480011 |  0.5949538 |  0.3986475594 |  0.3799454 |  0.3755314 |  0.6019021 |\n",
       "| compression.ratio | -0.0056053228 | -0.056055060 |  0.6242874 |  0.5196772897 |  0.4837531318 |  0.790557499 |  0.45380342 |  0.3735219 |  0.3795590 | 0.5984800 |  1.000000000 |  0.1159266 | -0.3929749147 |  0.7415069 |  0.7097450 |  0.3677188 |\n",
       "| horsepower |  0.4020342098 |  0.850309526 |  0.8861432 |  0.9366917655 |  0.9573940578 |  0.575858805 |  0.96732368 |  0.9827873 |  0.9612780 | 0.5949538 |  0.115926569 |  1.0000000 |  0.4524670199 | -0.9424112 | -0.9217529 |  0.9820988 |\n",
       "| peak.rpm |  0.8783345321 |  0.728019906 | -0.1671581 | -0.0006970093 |  0.0736191692 | -0.325885152 |  0.09816026 |  0.1839803 |  0.1563792 | 0.3986476 | -0.392974915 |  0.4524670 |  1.0000000000 |  0.5561382 |  0.5983212 |  0.2193210 |\n",
       "| city.mpg |  0.6223373941 | -0.116943164 | -0.4272170 | -0.6718853358 | -0.7535693483 |  0.305872229 | -0.80779072 | -0.8346891 | -0.7632450 | 0.3799454 |  0.741506870 | -0.9424112 |  0.5561382461 |  1.0000000 |  0.9990551 | -0.8596415 |\n",
       "| highway.mpg |  0.6617750887 | -0.057240402 | -0.5170495 | -0.7493243889 | -0.8199618705 |  0.243917130 | -0.86860369 | -0.8719039 | -0.7984912 | 0.3755314 |  0.709744976 | -0.9217529 |  0.5983211670 |  0.9990551 |  1.0000000 | -0.8985905 |\n",
       "| price |  0.1882801836 |  0.782900754 |  0.9485183 |  0.9768606750 |  0.9869338395 |  0.721474200 |  0.99277052 |  0.9965456 |  0.9729035 | 0.6019021 |  0.367718764 |  0.9820988 |  0.2193210193 | -0.8596415 | -0.8985905 |  1.0000000 |\n",
       "\n",
       "\n",
       "\n",
       "\n"
      ],
      "text/plain": [
       "$p\n",
       "                     symboling normalized.losses   wheel.base       length\n",
       "symboling         0.000000e+00        0.03415409 1.400038e-03 1.656921e-02\n",
       "normalized.losses 3.415409e-02        0.00000000 7.420196e-01 3.546287e-01\n",
       "wheel.base        1.400038e-03        0.74201960 0.000000e+00 8.347568e-11\n",
       "length            1.656921e-02        0.35462868 8.347568e-11 0.000000e+00\n",
       "width             5.074923e-02        0.19789507 3.938148e-08 4.228656e-12\n",
       "height            1.684403e-06        0.05161168 9.858549e-04 1.049997e-02\n",
       "curb.weight       7.333503e-02        0.15165715 2.214815e-07 2.136907e-11\n",
       "engine.size       2.035490e-01        0.06691563 3.406195e-05 2.834977e-07\n",
       "bore              1.505763e-01        0.19619433 4.332339e-05 6.967799e-07\n",
       "stroke            8.964456e-01        0.56779048 5.445752e-01 5.622122e-01\n",
       "compression.ratio 4.862123e-02        0.03202085 4.898911e-01 9.055026e-01\n",
       "horsepower        6.661273e-01        0.01157685 2.732054e-03 8.936395e-05\n",
       "peak.rpm          3.917758e-03        0.16638336 1.172235e-02 5.057738e-02\n",
       "city.mpg          4.972268e-01        0.01874637 6.075175e-04 8.714013e-06\n",
       "highway.mpg       3.561032e-01        0.03169944 1.624591e-04 1.184649e-06\n",
       "price             1.988853e-01        0.06663763 2.478880e-05 1.374048e-07\n",
       "                         width       height  curb.weight  engine.size\n",
       "symboling         5.074923e-02 1.684403e-06 7.333503e-02 2.035490e-01\n",
       "normalized.losses 1.978951e-01 5.161168e-02 1.516572e-01 6.691563e-02\n",
       "wheel.base        3.938148e-08 9.858549e-04 2.214815e-07 3.406195e-05\n",
       "length            4.228656e-12 1.049997e-02 2.136907e-11 2.834977e-07\n",
       "width             0.000000e+00 4.624272e-02 2.255335e-14 3.761594e-09\n",
       "height            4.624272e-02 0.000000e+00 6.232533e-02 2.219049e-01\n",
       "curb.weight       2.255335e-14 6.232533e-02 0.000000e+00 6.647057e-11\n",
       "engine.size       3.761594e-09 2.219049e-01 6.647057e-11 0.000000e+00\n",
       "bore              3.503426e-07 1.238996e-01 6.934236e-08 3.908219e-07\n",
       "stroke            4.597467e-01 7.646306e-01 4.815363e-01 4.258894e-01\n",
       "compression.ratio 9.539150e-01 5.697148e-02 8.423747e-01 5.793837e-01\n",
       "horsepower        7.469486e-06 6.791600e-01 1.342373e-06 1.886168e-08\n",
       "peak.rpm          8.966255e-02 2.179146e-03 1.072594e-01 1.933882e-01\n",
       "city.mpg          1.044765e-06 4.048009e-01 1.697082e-07 5.682968e-08\n",
       "highway.mpg       1.054933e-07 2.821599e-01 1.084777e-08 9.035392e-09\n",
       "price             2.909038e-09 1.819115e-01 5.027064e-11 3.020608e-13\n",
       "                          bore    stroke compression.ratio   horsepower\n",
       "symboling         1.505763e-01 0.8964456      0.0486212344 6.661273e-01\n",
       "normalized.losses 1.961943e-01 0.5677905      0.0320208469 1.157685e-02\n",
       "wheel.base        4.332339e-05 0.5445752      0.4898911357 2.732054e-03\n",
       "length            6.967799e-07 0.5622122      0.9055026195 8.936395e-05\n",
       "width             3.503426e-07 0.4597467      0.9539149525 7.469486e-06\n",
       "height            1.238996e-01 0.7646306      0.0569714793 6.791600e-01\n",
       "curb.weight       6.934236e-08 0.4815363      0.8423747054 1.342373e-06\n",
       "engine.size       3.908219e-07 0.4258894      0.5793837309 1.886168e-08\n",
       "bore              0.000000e+00 0.8593087      0.5971059897 4.042030e-06\n",
       "stroke            8.593087e-01 0.0000000      0.5891952813 6.030792e-01\n",
       "compression.ratio 5.971060e-01 0.5891953      0.0000000000 1.217535e-01\n",
       "horsepower        4.042030e-06 0.6030792      0.1217535360 0.000000e+00\n",
       "peak.rpm          1.609952e-01 0.6554233      0.0009558972 8.375460e-01\n",
       "city.mpg          7.784108e-07 0.5982523      0.1368133193 3.030375e-11\n",
       "highway.mpg       2.394160e-07 0.5852441      0.2116157868 2.668788e-10\n",
       "price             3.919888e-07 0.5757831      0.5626786830 2.457525e-08\n",
       "                      peak.rpm     city.mpg  highway.mpg        price\n",
       "symboling         0.0039177584 4.972268e-01 3.561032e-01 1.988853e-01\n",
       "normalized.losses 0.1663833634 1.874637e-02 3.169944e-02 6.663763e-02\n",
       "wheel.base        0.0117223541 6.075175e-04 1.624591e-04 2.478880e-05\n",
       "length            0.0505773842 8.714013e-06 1.184649e-06 1.374048e-07\n",
       "width             0.0896625454 1.044765e-06 1.054933e-07 2.909038e-09\n",
       "height            0.0021791464 4.048009e-01 2.821599e-01 1.819115e-01\n",
       "curb.weight       0.1072593981 1.697082e-07 1.084777e-08 5.027064e-11\n",
       "engine.size       0.1933881651 5.682968e-08 9.035392e-09 3.020608e-13\n",
       "bore              0.1609952477 7.784108e-07 2.394160e-07 3.919888e-07\n",
       "stroke            0.6554233174 5.982523e-01 5.852441e-01 5.757831e-01\n",
       "compression.ratio 0.0009558972 1.368133e-01 2.116158e-01 5.626787e-01\n",
       "horsepower        0.8375460119 3.030375e-11 2.668788e-10 2.457525e-08\n",
       "peak.rpm          0.0000000000 7.586910e-01 5.898194e-01 2.424562e-01\n",
       "city.mpg          0.7586910004 0.000000e+00 3.591595e-17 1.743948e-08\n",
       "highway.mpg       0.5898193609 3.591595e-17 0.000000e+00 1.694582e-09\n",
       "price             0.2424561703 1.743948e-08 1.694582e-09 0.000000e+00\n",
       "\n",
       "$lowCI\n",
       "                    symboling normalized.losses wheel.base     length\n",
       "symboling          1.00000000        0.04844102 -0.8990402 -0.8391707\n",
       "normalized.losses  0.04844102        1.00000000 -0.4251623 -0.2825438\n",
       "wheel.base        -0.89904018       -0.42516227  1.0000000  0.9335623\n",
       "length            -0.83917069       -0.28254382  0.9335623  1.0000000\n",
       "width             -0.79595145       -0.18751286  0.8428636  0.9564086\n",
       "height            -0.96616722       -0.79517846  0.3905770  0.1785332\n",
       "curb.weight       -0.77801111       -0.14757009  0.8006325  0.9451834\n",
       "engine.size       -0.71283913       -0.03489714  0.6066062  0.7937673\n",
       "bore              -0.73504240       -0.18618760  0.5939030  0.7667926\n",
       "stroke            -0.52194609       -0.36950655 -0.3612983 -0.3675551\n",
       "compression.ratio -0.79789702       -0.81552443 -0.3409723 -0.4709535\n",
       "horsepower        -0.57910792        0.16845574  0.3063222  0.5533300\n",
       "peak.rpm           0.27405269       -0.16127076 -0.8499393 -0.7961065\n",
       "city.mpg          -0.34378754       -0.83507445 -0.9127366 -0.9563541\n",
       "highway.mpg       -0.28326387       -0.81592231 -0.9301493 -0.9679424\n",
       "price             -0.71465733       -0.03435770  0.6228249  0.8132909\n",
       "                        width      height curb.weight engine.size       bore\n",
       "symboling         -0.79595145 -0.96616722 -0.77801111 -0.71283913 -0.7350424\n",
       "normalized.losses -0.18751286 -0.79517846 -0.14757009 -0.03489714 -0.1861876\n",
       "wheel.base         0.84286356  0.39057697  0.80063248  0.60660622  0.5939030\n",
       "length             0.95640856  0.17853321  0.94518341  0.79376733  0.7667926\n",
       "width              1.00000000  0.01180965  0.97926398  0.88663376  0.7876997\n",
       "height             0.01180965  1.00000000 -0.02573169 -0.20529712 -0.1184034\n",
       "curb.weight        0.97926398 -0.02573169  1.00000000  0.93566181  0.8300832\n",
       "engine.size        0.88663376 -0.20529712  0.93566181  1.00000000  0.7844993\n",
       "bore               0.78769971 -0.11840336  0.83008324  0.78449934  1.0000000\n",
       "stroke            -0.32908043 -0.55466927 -0.33772956 -0.31503667 -0.4584610\n",
       "compression.ratio -0.50747267 -0.01427491 -0.53541994 -0.60098178 -0.5964690\n",
       "horsepower         0.67858970 -0.40611307  0.74503281  0.85810556  0.7040464\n",
       "peak.rpm          -0.76718101 -0.89072210 -0.75681388 -0.71682970 -0.7303698\n",
       "city.mpg          -0.96855184 -0.64763087 -0.97611555 -0.97972224 -0.9699313\n",
       "highway.mpg       -0.97775910 -0.68488505 -0.98413957 -0.98456190 -0.9748467\n",
       "price              0.89063089 -0.17466999  0.93814713  0.97001634  0.7844114\n",
       "                      stroke compression.ratio horsepower   peak.rpm   city.mpg\n",
       "symboling         -0.5219461       -0.79789702 -0.5791079  0.2740527 -0.3437875\n",
       "normalized.losses -0.3695065       -0.81552443  0.1684557 -0.1612708 -0.8350744\n",
       "wheel.base        -0.3612983       -0.34097230  0.3063222 -0.8499393 -0.9127366\n",
       "length            -0.3675551       -0.47095348  0.5533300 -0.7961065 -0.9563541\n",
       "width             -0.3290804       -0.50747267  0.6785897 -0.7671810 -0.9685518\n",
       "height            -0.5546693       -0.01427491 -0.4061131 -0.8907221 -0.6476309\n",
       "curb.weight       -0.3377296       -0.53541994  0.7450328 -0.7568139 -0.9761156\n",
       "engine.size       -0.3150367       -0.60098178  0.8581056 -0.7168297 -0.9797222\n",
       "bore              -0.4584610       -0.59646896  0.7040464 -0.7303698 -0.9699313\n",
       "stroke             1.0000000       -0.37687890 -0.3815674 -0.5817822 -0.5961780\n",
       "compression.ratio -0.3768789        1.00000000 -0.7490303 -0.9056000 -0.1325887\n",
       "horsepower        -0.3815674       -0.74903030  1.0000000 -0.5366185 -0.9932820\n",
       "peak.rpm          -0.5817822       -0.90560005 -0.5366185  1.0000000 -0.4300579\n",
       "city.mpg          -0.5961780       -0.13258869 -0.9932820 -0.4300579  1.0000000\n",
       "highway.mpg       -0.5994865       -0.19787753 -0.9907855 -0.3770912  0.9917181\n",
       "price             -0.3722805       -0.60526187  0.8527999 -0.6984408 -0.9829860\n",
       "                  highway.mpg      price\n",
       "symboling          -0.2832639 -0.7146573\n",
       "normalized.losses  -0.8159223 -0.0343577\n",
       "wheel.base         -0.9301493  0.6228249\n",
       "length             -0.9679424  0.8132909\n",
       "width              -0.9777591  0.8906309\n",
       "height             -0.6848851 -0.1746700\n",
       "curb.weight        -0.9841396  0.9381471\n",
       "engine.size        -0.9845619  0.9700163\n",
       "bore               -0.9748467  0.7844114\n",
       "stroke             -0.5994865 -0.3722805\n",
       "compression.ratio  -0.1978775 -0.6052619\n",
       "horsepower         -0.9907855  0.8527999\n",
       "peak.rpm           -0.3770912 -0.6984408\n",
       "city.mpg            0.9917181 -0.9829860\n",
       "highway.mpg         1.0000000 -0.9879295\n",
       "price              -0.9879295  1.0000000\n",
       "\n",
       "$uppCI\n",
       "                      symboling normalized.losses wheel.base        length\n",
       "symboling          1.0000000000       0.812951368 -0.3627059 -0.1304236316\n",
       "normalized.losses  0.8129513680       1.000000000  0.5602626  0.6622147756\n",
       "wheel.base        -0.3627059272       0.560262585  1.0000000  0.9922183828\n",
       "length            -0.1304236316       0.662214776  0.9922184  1.0000000000\n",
       "width             -0.0002737128       0.715046275  0.9808000  0.9949469952\n",
       "height            -0.7370606513       0.001832073  0.9050892  0.8531620667\n",
       "curb.weight        0.0468464209       0.734549308  0.9751398  0.9936134093\n",
       "engine.size        0.1918526541       0.782691617  0.9458372  0.9741976850\n",
       "bore               0.1465215064       0.715716713  0.9437044  0.9704338169\n",
       "stroke             0.4685271819       0.603949259  0.6099326  0.6053817823\n",
       "compression.ratio -0.0056053228      -0.056055060  0.6242874  0.5196772897\n",
       "horsepower         0.4020342098       0.850309526  0.8861432  0.9366917655\n",
       "peak.rpm           0.8783345321       0.728019906 -0.1671581 -0.0006970093\n",
       "city.mpg           0.6223373941      -0.116943164 -0.4272170 -0.6718853358\n",
       "highway.mpg        0.6617750887      -0.057240402 -0.5170495 -0.7493243889\n",
       "price              0.1882801836       0.782900754  0.9485183  0.9768606750\n",
       "                          width       height curb.weight engine.size       bore\n",
       "symboling         -0.0002737128 -0.737060651  0.04684642   0.1918527  0.1465215\n",
       "normalized.losses  0.7150462753  0.001832073  0.73454931   0.7826916  0.7157167\n",
       "wheel.base         0.9808000093  0.905089163  0.97513984   0.9458372  0.9437044\n",
       "length             0.9949469952  0.853162067  0.99361341   0.9741977  0.9704338\n",
       "width              1.0000000000  0.800140469  0.99762091   0.9864310  0.9733597\n",
       "height             0.8001404688  1.000000000  0.78622011   0.7058858  0.7479259\n",
       "curb.weight        0.9976209069  0.786220112  1.00000000   0.9924715  0.9791113\n",
       "engine.size        0.9864310479  0.705885822  0.99247151   1.0000000  0.9729157\n",
       "bore               0.9733597105  0.747925899  0.97911126   0.9729157  1.0000000\n",
       "stroke             0.6323940853  0.431787686  0.62651882   0.6417039  0.5312115\n",
       "compression.ratio  0.4837531318  0.790557499  0.45380342   0.3735219  0.3795590\n",
       "horsepower         0.9573940578  0.575858805  0.96732368   0.9827873  0.9612780\n",
       "peak.rpm           0.0736191692 -0.325885152  0.09816026   0.1839803  0.1563792\n",
       "city.mpg          -0.7535693483  0.305872229 -0.80779072  -0.8346891 -0.7632450\n",
       "highway.mpg       -0.8199618705  0.243917130 -0.86860369  -0.8719039 -0.7984912\n",
       "price              0.9869338395  0.721474200  0.99277052   0.9965456  0.9729035\n",
       "                     stroke compression.ratio horsepower      peak.rpm\n",
       "symboling         0.4685272      -0.005605323  0.4020342  0.8783345321\n",
       "normalized.losses 0.6039493      -0.056055060  0.8503095  0.7280199063\n",
       "wheel.base        0.6099326       0.624287450  0.8861432 -0.1671580692\n",
       "length            0.6053818       0.519677290  0.9366918 -0.0006970093\n",
       "width             0.6323941       0.483753132  0.9573941  0.0736191692\n",
       "height            0.4317877       0.790557499  0.5758588 -0.3258851521\n",
       "curb.weight       0.6265188       0.453803425  0.9673237  0.0981602600\n",
       "engine.size       0.6417039       0.373521876  0.9827873  0.1839802681\n",
       "bore              0.5312115       0.379559004  0.9612780  0.1563791879\n",
       "stroke            1.0000000       0.598480011  0.5949538  0.3986475594\n",
       "compression.ratio 0.5984800       1.000000000  0.1159266 -0.3929749147\n",
       "horsepower        0.5949538       0.115926569  1.0000000  0.4524670199\n",
       "peak.rpm          0.3986476      -0.392974915  0.4524670  1.0000000000\n",
       "city.mpg          0.3799454       0.741506870 -0.9424112  0.5561382461\n",
       "highway.mpg       0.3755314       0.709744976 -0.9217529  0.5983211670\n",
       "price             0.6019021       0.367718764  0.9820988  0.2193210193\n",
       "                    city.mpg highway.mpg      price\n",
       "symboling          0.6223374   0.6617751  0.1882802\n",
       "normalized.losses -0.1169432  -0.0572404  0.7829008\n",
       "wheel.base        -0.4272170  -0.5170495  0.9485183\n",
       "length            -0.6718853  -0.7493244  0.9768607\n",
       "width             -0.7535693  -0.8199619  0.9869338\n",
       "height             0.3058722   0.2439171  0.7214742\n",
       "curb.weight       -0.8077907  -0.8686037  0.9927705\n",
       "engine.size       -0.8346891  -0.8719039  0.9965456\n",
       "bore              -0.7632450  -0.7984912  0.9729035\n",
       "stroke             0.3799454   0.3755314  0.6019021\n",
       "compression.ratio  0.7415069   0.7097450  0.3677188\n",
       "horsepower        -0.9424112  -0.9217529  0.9820988\n",
       "peak.rpm           0.5561382   0.5983212  0.2193210\n",
       "city.mpg           1.0000000   0.9990551 -0.8596415\n",
       "highway.mpg        0.9990551   1.0000000 -0.8985905\n",
       "price             -0.8596415  -0.8985905  1.0000000\n"
      ]
     },
     "metadata": {},
     "output_type": "display_data"
    }
   ],
   "source": [
    "# Calcular los valores p y los intervalos de confianza del coeficiente de correlación\n",
    "cor_test <- cor.mtest(cor_pearson)\n",
    "head(cor_test)"
   ]
  },
  {
   "attachments": {},
   "cell_type": "markdown",
   "metadata": {},
   "source": [
    "(c) Plot the all correlation information using the function corrplot. Explore some of its parameters"
   ]
  },
  {
   "cell_type": "code",
   "execution_count": 71,
   "metadata": {
    "vscode": {
     "languageId": "r"
    }
   },
   "outputs": [
    {
     "data": {
      "image/png": "[encoded data removed]",
      "text/plain": [
       "Plot with title \"\""
      ]
     },
     "metadata": {
      "image/png": {
       "height": 420,
       "width": 420
      }
     },
     "output_type": "display_data"
    }
   ],
   "source": [
    "corrplot(cor_pearson, method = \"color\", type = \"upper\", tl.cex = 0.9, tl.col = \"blue\")"
   ]
  },
  {
   "attachments": {},
   "cell_type": "markdown",
   "metadata": {},
   "source": [
    "****5. Load the data set USJudgeRatings, from the datasets package, containing lawyers’ ratings of state\n",
    "judges in the US Superior Court regarding a set of attributes.****"
   ]
  },
  {
   "cell_type": "code",
   "execution_count": 72,
   "metadata": {
    "vscode": {
     "languageId": "r"
    }
   },
   "outputs": [],
   "source": [
    "# Cargar el paquete datasets\n",
    "library(datasets)\n",
    "# Cargar el conjunto de datos USJudgeRatings\n",
    "data(USJudgeRatings)"
   ]
  },
  {
   "attachments": {},
   "cell_type": "markdown",
   "metadata": {},
   "source": [
    "(a) Apply the function prcomp() to obtain the principal components. Inspect how each variable is\n",
    "obtained by the linear combination of each component."
   ]
  },
  {
   "cell_type": "code",
   "execution_count": 73,
   "metadata": {
    "vscode": {
     "languageId": "r"
    }
   },
   "outputs": [
    {
     "data": {
      "text/plain": [
       "      CONT             INTG            DMNR            DILG      \n",
       " Min.   : 5.700   Min.   :5.900   Min.   :4.300   Min.   :5.100  \n",
       " 1st Qu.: 6.850   1st Qu.:7.550   1st Qu.:6.900   1st Qu.:7.150  \n",
       " Median : 7.300   Median :8.100   Median :7.700   Median :7.800  \n",
       " Mean   : 7.437   Mean   :8.021   Mean   :7.516   Mean   :7.693  \n",
       " 3rd Qu.: 7.900   3rd Qu.:8.550   3rd Qu.:8.350   3rd Qu.:8.450  \n",
       " Max.   :10.600   Max.   :9.200   Max.   :9.000   Max.   :9.000  \n",
       "      CFMG            DECI            PREP            FAMI      \n",
       " Min.   :5.400   Min.   :5.700   Min.   :4.800   Min.   :5.100  \n",
       " 1st Qu.:7.000   1st Qu.:7.100   1st Qu.:6.900   1st Qu.:6.950  \n",
       " Median :7.600   Median :7.700   Median :7.700   Median :7.600  \n",
       " Mean   :7.479   Mean   :7.565   Mean   :7.467   Mean   :7.488  \n",
       " 3rd Qu.:8.050   3rd Qu.:8.150   3rd Qu.:8.200   3rd Qu.:8.250  \n",
       " Max.   :8.700   Max.   :8.800   Max.   :9.100   Max.   :9.100  \n",
       "      ORAL            WRIT            PHYS            RTEN      \n",
       " Min.   :4.700   Min.   :4.900   Min.   :4.700   Min.   :4.800  \n",
       " 1st Qu.:6.850   1st Qu.:6.900   1st Qu.:7.700   1st Qu.:7.150  \n",
       " Median :7.500   Median :7.600   Median :8.100   Median :7.800  \n",
       " Mean   :7.293   Mean   :7.384   Mean   :7.935   Mean   :7.602  \n",
       " 3rd Qu.:8.000   3rd Qu.:8.050   3rd Qu.:8.500   3rd Qu.:8.250  \n",
       " Max.   :8.900   Max.   :9.000   Max.   :9.100   Max.   :9.200  "
      ]
     },
     "metadata": {},
     "output_type": "display_data"
    }
   ],
   "source": [
    "summary(USJudgeRatings)"
   ]
  },
  {
   "cell_type": "code",
   "execution_count": 74,
   "metadata": {
    "vscode": {
     "languageId": "r"
    }
   },
   "outputs": [
    {
     "data": {
      "text/plain": [
       "Importance of components:\n",
       "                          PC1     PC2     PC3     PC4     PC5     PC6     PC7\n",
       "Standard deviation     3.1833 1.05078 0.57698 0.50383 0.29061 0.19310 0.14030\n",
       "Proportion of Variance 0.8445 0.09201 0.02774 0.02115 0.00704 0.00311 0.00164\n",
       "Cumulative Proportion  0.8445 0.93647 0.96421 0.98537 0.99240 0.99551 0.99715\n",
       "                           PC8     PC9    PC10    PC11    PC12\n",
       "Standard deviation     0.12416 0.08851 0.07491 0.05708 0.04539\n",
       "Proportion of Variance 0.00128 0.00065 0.00047 0.00027 0.00017\n",
       "Cumulative Proportion  0.99844 0.99909 0.99956 0.99983 1.00000"
      ]
     },
     "metadata": {},
     "output_type": "display_data"
    },
    {
     "data": {
      "text/html": [
       "12"
      ],
      "text/latex": [
       "12"
      ],
      "text/markdown": [
       "12"
      ],
      "text/plain": [
       "[1] 12"
      ]
     },
     "metadata": {},
     "output_type": "display_data"
    },
    {
     "data": {
      "text/html": [
       "5"
      ],
      "text/latex": [
       "5"
      ],
      "text/markdown": [
       "5"
      ],
      "text/plain": [
       "[1] 5"
      ]
     },
     "metadata": {},
     "output_type": "display_data"
    },
    {
     "data": {
      "text/html": [
       "<dl>\n",
       "\t<dt>$sdev</dt>\n",
       "\t\t<dd><style>\n",
       ".list-inline {list-style: none; margin:0; padding: 0}\n",
       ".list-inline>li {display: inline-block}\n",
       ".list-inline>li:not(:last-child)::after {content: \"\\00b7\"; padding: 0 .5ex}\n",
       "</style>\n",
       "<ol class=list-inline><li>3.18331646657345</li><li>1.05078398340642</li><li>0.576976256272017</li><li>0.50383231409437</li><li>0.290607615087922</li><li>0.193095982419043</li><li>0.140295448731006</li><li>0.124158318825053</li><li>0.0885069038207207</li><li>0.0749114592469205</li><li>0.0570804224329125</li><li>0.0453913429451875</li></ol>\n",
       "</dd>\n",
       "\t<dt>$rotation</dt>\n",
       "\t\t<dd><table class=\"dataframe\">\n",
       "<caption>A matrix: 12 × 12 of type dbl</caption>\n",
       "<thead>\n",
       "\t<tr><th></th><th scope=col>PC1</th><th scope=col>PC2</th><th scope=col>PC3</th><th scope=col>PC4</th><th scope=col>PC5</th><th scope=col>PC6</th><th scope=col>PC7</th><th scope=col>PC8</th><th scope=col>PC9</th><th scope=col>PC10</th><th scope=col>PC11</th><th scope=col>PC12</th></tr>\n",
       "</thead>\n",
       "<tbody>\n",
       "\t<tr><th scope=row>CONT</th><td> 0.003075143</td><td> 0.932890644</td><td>-0.334756548</td><td> 0.058576867</td><td> 0.093438368</td><td>-0.004064432</td><td>-0.005214784</td><td> 6.006597e-02</td><td>-0.02514533</td><td> 0.03038881</td><td>-0.0145329260</td><td> 0.007940919</td></tr>\n",
       "\t<tr><th scope=row>INTG</th><td>-0.288550775</td><td>-0.182040993</td><td>-0.549360126</td><td> 0.173977074</td><td>-0.014543880</td><td> 0.369937339</td><td> 0.449810741</td><td>-3.341645e-01</td><td>-0.27537794</td><td>-0.10897641</td><td> 0.1125535650</td><td>-0.009848658</td></tr>\n",
       "\t<tr><th scope=row>DMNR</th><td>-0.286884206</td><td>-0.197565743</td><td>-0.556490386</td><td>-0.124412022</td><td>-0.228832817</td><td>-0.394724667</td><td>-0.466747889</td><td> 2.470974e-01</td><td>-0.19910004</td><td> 0.07241282</td><td>-0.1343234234</td><td>-0.059121657</td></tr>\n",
       "\t<tr><th scope=row>DILG</th><td>-0.304354091</td><td> 0.036304667</td><td> 0.163629910</td><td> 0.321395544</td><td>-0.301936920</td><td> 0.598676072</td><td>-0.209710731</td><td> 3.548587e-01</td><td> 0.03977180</td><td> 0.38339165</td><td>-0.0709517642</td><td>-0.053790339</td></tr>\n",
       "\t<tr><th scope=row>CFMG</th><td>-0.302572733</td><td> 0.168393523</td><td> 0.207341904</td><td> 0.012949223</td><td>-0.448430522</td><td>-0.085728870</td><td>-0.246903359</td><td>-7.135261e-01</td><td> 0.14342471</td><td>-0.09850310</td><td>-0.1658680927</td><td>-0.025082947</td></tr>\n",
       "\t<tr><th scope=row>DECI</th><td>-0.301891969</td><td> 0.127877299</td><td> 0.297902771</td><td> 0.030491779</td><td>-0.424003128</td><td>-0.392609484</td><td> 0.536429933</td><td> 3.024227e-01</td><td>-0.25823773</td><td>-0.06743847</td><td> 0.1284999526</td><td>-0.044141604</td></tr>\n",
       "\t<tr><th scope=row>PREP</th><td>-0.309406446</td><td> 0.032230248</td><td> 0.151869345</td><td> 0.213656069</td><td> 0.202853400</td><td> 0.083216652</td><td>-0.335390036</td><td> 1.536754e-01</td><td>-0.10876864</td><td>-0.67986284</td><td> 0.3187612119</td><td> 0.273286884</td></tr>\n",
       "\t<tr><th scope=row>FAMI</th><td>-0.306679527</td><td>-0.001315183</td><td> 0.195290454</td><td> 0.200651140</td><td> 0.507470003</td><td>-0.101538704</td><td> 0.036378004</td><td>-2.038889e-02</td><td>-0.22306628</td><td>-0.04004599</td><td>-0.5733628652</td><td>-0.421739844</td></tr>\n",
       "\t<tr><th scope=row>ORAL</th><td>-0.312708348</td><td>-0.003625720</td><td> 0.002150634</td><td>-0.007441042</td><td> 0.246059421</td><td>-0.150272440</td><td>-0.057580177</td><td>-9.062990e-02</td><td> 0.29951714</td><td> 0.25599455</td><td> 0.6386061655</td><td>-0.494391025</td></tr>\n",
       "\t<tr><th scope=row>WRIT</th><td>-0.311061231</td><td>-0.031378756</td><td> 0.056045596</td><td> 0.137104995</td><td> 0.305562842</td><td>-0.238172386</td><td> 0.060899994</td><td>-1.261203e-01</td><td> 0.02497324</td><td> 0.47478254</td><td>-0.0004056397</td><td> 0.696107204</td></tr>\n",
       "\t<tr><th scope=row>PHYS</th><td>-0.280723624</td><td> 0.089037698</td><td> 0.154000444</td><td>-0.841266046</td><td> 0.118424976</td><td> 0.299281534</td><td>-0.024959951</td><td> 1.364511e-05</td><td>-0.26627286</td><td> 0.05900837</td><td> 0.0181381019</td><td> 0.053783960</td></tr>\n",
       "\t<tr><th scope=row>RTEN</th><td>-0.309790218</td><td>-0.039381306</td><td>-0.172869757</td><td>-0.184223629</td><td> 0.006717911</td><td> 0.036126847</td><td> 0.256194180</td><td> 2.213898e-01</td><td> 0.75645893</td><td>-0.24993250</td><td>-0.2855143026</td><td> 0.080267574</td></tr>\n",
       "</tbody>\n",
       "</table>\n",
       "</dd>\n",
       "\t<dt>$center</dt>\n",
       "\t\t<dd><style>\n",
       ".dl-inline {width: auto; margin:0; padding: 0}\n",
       ".dl-inline>dt, .dl-inline>dd {float: none; width: auto; display: inline-block}\n",
       ".dl-inline>dt::after {content: \":\\0020\"; padding-right: .5ex}\n",
       ".dl-inline>dt:not(:first-of-type) {padding-left: .5ex}\n",
       "</style><dl class=dl-inline><dt>CONT</dt><dd>7.43720930232558</dd><dt>INTG</dt><dd>8.02093023255814</dd><dt>DMNR</dt><dd>7.51627906976744</dd><dt>DILG</dt><dd>7.69302325581395</dd><dt>CFMG</dt><dd>7.47906976744186</dd><dt>DECI</dt><dd>7.56511627906977</dd><dt>PREP</dt><dd>7.46744186046512</dd><dt>FAMI</dt><dd>7.48837209302326</dd><dt>ORAL</dt><dd>7.29302325581395</dd><dt>WRIT</dt><dd>7.38372093023256</dd><dt>PHYS</dt><dd>7.93488372093023</dd><dt>RTEN</dt><dd>7.60232558139535</dd></dl>\n",
       "</dd>\n",
       "\t<dt>$scale</dt>\n",
       "\t\t<dd><style>\n",
       ".dl-inline {width: auto; margin:0; padding: 0}\n",
       ".dl-inline>dt, .dl-inline>dd {float: none; width: auto; display: inline-block}\n",
       ".dl-inline>dt::after {content: \":\\0020\"; padding-right: .5ex}\n",
       ".dl-inline>dt:not(:first-of-type) {padding-left: .5ex}\n",
       "</style><dl class=dl-inline><dt>CONT</dt><dd>0.940876808851837</dd><dt>INTG</dt><dd>0.770144741972598</dd><dt>DMNR</dt><dd>1.14370538842128</dd><dt>DILG</dt><dd>0.900897792637779</dd><dt>CFMG</dt><dd>0.860110219829242</dd><dt>DECI</dt><dd>0.802936195333291</dd><dt>PREP</dt><dd>0.95337019498313</dd><dt>FAMI</dt><dd>0.948986753464071</dd><dt>ORAL</dt><dd>1.01004369279307</dd><dt>WRIT</dt><dd>0.961132821840021</dd><dt>PHYS</dt><dd>0.939575314635043</dd><dt>RTEN</dt><dd>1.10097108047591</dd></dl>\n",
       "</dd>\n",
       "\t<dt>$x</dt>\n",
       "\t\t<dd><table class=\"dataframe\">\n",
       "<caption>A matrix: 43 × 12 of type dbl</caption>\n",
       "<thead>\n",
       "\t<tr><th></th><th scope=col>PC1</th><th scope=col>PC2</th><th scope=col>PC3</th><th scope=col>PC4</th><th scope=col>PC5</th><th scope=col>PC6</th><th scope=col>PC7</th><th scope=col>PC8</th><th scope=col>PC9</th><th scope=col>PC10</th><th scope=col>PC11</th><th scope=col>PC12</th></tr>\n",
       "</thead>\n",
       "<tbody>\n",
       "\t<tr><th scope=row>AARONSON,L.H.</th><td> 0.58575085</td><td>-1.813099496</td><td> 0.258493450</td><td>-0.885414654</td><td>-0.19810313</td><td>-0.0005757578</td><td> 0.091378585</td><td> 0.135269073</td><td> 0.128575861</td><td>-0.119341425</td><td> 0.010913499</td><td>-0.0598665378</td></tr>\n",
       "\t<tr><th scope=row>ALEXANDER,J.M.</th><td>-2.38001153</td><td>-0.867893241</td><td>-0.460995510</td><td>-0.059917965</td><td>-0.30448920</td><td> 0.2291020429</td><td> 0.146934313</td><td> 0.290680897</td><td>-0.026883362</td><td>-0.033482298</td><td>-0.136780444</td><td>-0.0064969215</td></tr>\n",
       "\t<tr><th scope=row>ARMENTANO,A.J.</th><td>-0.22513903</td><td>-0.298780266</td><td>-0.100848411</td><td> 0.022217708</td><td>-0.13017390</td><td>-0.0150672307</td><td>-0.039344729</td><td> 0.091744399</td><td> 0.067418254</td><td>-0.021651215</td><td>-0.068652395</td><td>-0.0016395476</td></tr>\n",
       "\t<tr><th scope=row>BERDON,R.I.</th><td>-3.61789929</td><td>-0.589367196</td><td> 0.420730823</td><td> 0.197307875</td><td> 0.08296828</td><td> 0.0823548542</td><td> 0.041250034</td><td> 0.088524595</td><td>-0.106836666</td><td>-0.062934470</td><td> 0.023813265</td><td> 0.0034183317</td></tr>\n",
       "\t<tr><th scope=row>BRACKEN,J.J.</th><td> 6.87113152</td><td> 0.135749491</td><td> 0.955449401</td><td> 1.069150774</td><td>-0.30075003</td><td> 0.3662956835</td><td> 0.115683915</td><td>-0.097222215</td><td>-0.034938985</td><td> 0.031586001</td><td> 0.087292928</td><td>-0.1160346423</td></tr>\n",
       "\t<tr><th scope=row>BURNS,E.B.</th><td>-2.44547915</td><td>-1.405785788</td><td>-0.086247837</td><td>-0.148878688</td><td>-0.22772257</td><td> 0.2398656404</td><td>-0.029021619</td><td> 0.118483627</td><td> 0.044602878</td><td> 0.009661878</td><td> 0.022036557</td><td>-0.0009017388</td></tr>\n",
       "\t<tr><th scope=row>CALLAHAN,R.J.</th><td>-3.89138356</td><td> 3.110894543</td><td>-1.314876543</td><td>-0.018764248</td><td> 0.21284769</td><td> 0.0419396303</td><td> 0.046420276</td><td> 0.153019044</td><td>-0.072959759</td><td> 0.094455550</td><td> 0.025127771</td><td>-0.0873311317</td></tr>\n",
       "\t<tr><th scope=row>COHEN,S.S.</th><td> 7.99841189</td><td>-0.267888584</td><td> 0.507336497</td><td>-1.227736837</td><td>-0.07258545</td><td>-0.2385888732</td><td> 0.181235370</td><td> 0.059937870</td><td>-0.134253736</td><td> 0.033146639</td><td>-0.091568221</td><td>-0.0218655616</td></tr>\n",
       "\t<tr><th scope=row>DALY,J.J.</th><td>-3.65964531</td><td>-0.144943790</td><td>-0.094195447</td><td> 0.028960746</td><td>-0.29583854</td><td>-0.0969819070</td><td>-0.011887854</td><td>-0.146590548</td><td>-0.006526473</td><td> 0.091369624</td><td>-0.011234683</td><td> 0.0375220282</td></tr>\n",
       "\t<tr><th scope=row>DANNEHY,J.F.</th><td>-1.04788778</td><td> 1.135606571</td><td> 0.814579222</td><td> 0.003854039</td><td> 0.37949109</td><td> 0.2345704654</td><td> 0.261943894</td><td>-0.074970279</td><td> 0.096004824</td><td> 0.020954205</td><td>-0.011273794</td><td>-0.0017827969</td></tr>\n",
       "\t<tr><th scope=row>DEAN,H.H.</th><td> 0.33709338</td><td>-0.464999441</td><td>-0.058900793</td><td>-0.751658216</td><td>-0.11242247</td><td> 0.0422892179</td><td> 0.160087605</td><td> 0.015906093</td><td>-0.034269335</td><td> 0.036975822</td><td>-0.045887691</td><td> 0.0365390911</td></tr>\n",
       "\t<tr><th scope=row>DEVITA,H.J.</th><td> 1.44067526</td><td>-1.218375607</td><td>-0.384466586</td><td> 0.452235980</td><td>-0.12518210</td><td>-0.3135682951</td><td> 0.013853808</td><td>-0.102990057</td><td> 0.168016090</td><td> 0.099286743</td><td> 0.062916215</td><td>-0.0392446477</td></tr>\n",
       "\t<tr><th scope=row>DRISCOLL,P.J.</th><td> 0.66896509</td><td>-1.282675686</td><td>-1.239794532</td><td>-0.665294900</td><td> 0.65132507</td><td> 0.0848006774</td><td>-0.073357378</td><td>-0.388568866</td><td>-0.057807983</td><td>-0.151281184</td><td>-0.046659654</td><td>-0.0182757879</td></tr>\n",
       "\t<tr><th scope=row>GRILLO,A.E.</th><td> 3.22591748</td><td>-0.559403536</td><td> 0.023478046</td><td> 0.915125061</td><td> 0.02878954</td><td>-0.3315085264</td><td> 0.340410028</td><td> 0.049774146</td><td> 0.051552641</td><td>-0.081441817</td><td>-0.018842793</td><td>-0.0303515066</td></tr>\n",
       "\t<tr><th scope=row>HADDEN,W.L.JR.</th><td>-1.35295403</td><td>-0.838829042</td><td> 0.532444779</td><td>-0.225256379</td><td>-0.16775924</td><td>-0.1884860450</td><td>-0.110350351</td><td>-0.011223545</td><td> 0.036420861</td><td>-0.013478349</td><td> 0.116027430</td><td> 0.0060235240</td></tr>\n",
       "\t<tr><th scope=row>HAMILL,E.C.</th><td> 0.44482896</td><td>-0.180327619</td><td>-0.106039921</td><td>-0.192093511</td><td>-0.04601720</td><td> 0.2939367115</td><td>-0.046408433</td><td> 0.046811333</td><td> 0.091929866</td><td> 0.033427068</td><td> 0.002414615</td><td> 0.0696354274</td></tr>\n",
       "\t<tr><th scope=row>HEALEY.A.H.</th><td> 2.89780301</td><td> 0.379397570</td><td>-0.524823931</td><td> 0.450381779</td><td> 0.28726579</td><td> 0.4210698555</td><td>-0.173786456</td><td> 0.161432845</td><td> 0.099503351</td><td>-0.002305740</td><td>-0.002481062</td><td> 0.0051253992</td></tr>\n",
       "\t<tr><th scope=row>HULL,T.C.</th><td> 0.71794078</td><td> 0.457944683</td><td> 0.410564947</td><td>-0.286548296</td><td> 0.10280455</td><td> 0.1213794801</td><td> 0.244626896</td><td>-0.122849723</td><td> 0.090044320</td><td> 0.170597167</td><td>-0.010455887</td><td> 0.0728601628</td></tr>\n",
       "\t<tr><th scope=row>LEVINE,I.</th><td>-0.64128997</td><td> 0.893845438</td><td>-0.192938545</td><td> 0.175918267</td><td> 0.22924190</td><td> 0.0418932411</td><td> 0.171897077</td><td>-0.074269669</td><td> 0.153332051</td><td>-0.101820814</td><td>-0.084569052</td><td> 0.0069822027</td></tr>\n",
       "\t<tr><th scope=row>LEVISTER,R.L.</th><td> 4.35602343</td><td> 2.415966019</td><td>-0.254950161</td><td>-0.243850553</td><td>-0.25796823</td><td> 0.2588890180</td><td>-0.129317484</td><td>-0.234380552</td><td>-0.057330645</td><td>-0.080808578</td><td>-0.007094446</td><td>-0.0152944106</td></tr>\n",
       "\t<tr><th scope=row>MARTIN,L.F.</th><td> 1.81857291</td><td>-0.792542516</td><td>-1.118234290</td><td>-0.240319482</td><td> 0.14586908</td><td> 0.2764326747</td><td>-0.050828262</td><td> 0.025893427</td><td> 0.077654607</td><td> 0.113323809</td><td> 0.049838188</td><td> 0.0014624317</td></tr>\n",
       "\t<tr><th scope=row>MCGRATH,J.F.</th><td> 3.11914633</td><td> 0.117576569</td><td>-0.287871221</td><td>-0.436184110</td><td>-0.25999353</td><td>-0.0289770461</td><td>-0.151232397</td><td> 0.079635008</td><td>-0.021153991</td><td> 0.059978289</td><td> 0.045941749</td><td>-0.0198343803</td></tr>\n",
       "\t<tr><th scope=row>MIGNONE,A.F.</th><td> 6.35459761</td><td>-1.435778312</td><td>-0.925405154</td><td> 1.694394050</td><td> 0.12124901</td><td>-0.0942965186</td><td>-0.050942546</td><td> 0.043601498</td><td>-0.171266489</td><td> 0.022350067</td><td>-0.063143059</td><td> 0.0662822794</td></tr>\n",
       "\t<tr><th scope=row>MISSAL,H.M.</th><td> 0.08218287</td><td>-1.465958762</td><td>-0.251313810</td><td>-0.053701172</td><td>-0.26869606</td><td> 0.0771725303</td><td>-0.169688886</td><td>-0.109551552</td><td>-0.025699414</td><td> 0.046278658</td><td>-0.039343363</td><td>-0.0149977234</td></tr>\n",
       "\t<tr><th scope=row>MULVEY,H.M.</th><td>-3.35155302</td><td> 0.130803077</td><td> 0.122554855</td><td> 0.134324822</td><td>-0.02396325</td><td>-0.0757784669</td><td>-0.039687957</td><td>-0.120576589</td><td> 0.062465366</td><td>-0.030410251</td><td> 0.011643122</td><td>-0.0243869469</td></tr>\n",
       "\t<tr><th scope=row>NARUK,H.J.</th><td>-4.54888016</td><td> 0.474152684</td><td> 0.225635443</td><td> 0.246582743</td><td> 0.19452459</td><td>-0.1627861912</td><td> 0.082996609</td><td>-0.029519767</td><td>-0.044385659</td><td> 0.027573997</td><td> 0.026900829</td><td> 0.0173532786</td></tr>\n",
       "\t<tr><th scope=row>O'BRIEN,F.J.</th><td>-1.50009420</td><td>-0.422965769</td><td>-0.218985306</td><td>-0.114576855</td><td>-0.18739782</td><td>-0.0628189053</td><td> 0.008748507</td><td>-0.082109673</td><td> 0.031862615</td><td>-0.053075756</td><td> 0.026791275</td><td>-0.0962722571</td></tr>\n",
       "\t<tr><th scope=row>O'SULLIVAN,T.J.</th><td>-3.46995962</td><td> 0.001169151</td><td>-0.301651397</td><td> 0.028787349</td><td>-0.31562249</td><td> 0.0419802134</td><td> 0.068746706</td><td> 0.005959595</td><td>-0.161031626</td><td> 0.009363562</td><td> 0.062069907</td><td>-0.0149897649</td></tr>\n",
       "\t<tr><th scope=row>PASKEY,L.</th><td>-1.89318889</td><td> 0.243290772</td><td> 0.593637247</td><td> 0.164971164</td><td> 0.34899216</td><td>-0.1540524249</td><td>-0.053576784</td><td> 0.019551194</td><td> 0.015813354</td><td> 0.002017242</td><td>-0.045030415</td><td>-0.0443615193</td></tr>\n",
       "\t<tr><th scope=row>RUBINOW,J.E.</th><td>-4.77881831</td><td>-0.442828269</td><td>-0.002947455</td><td> 0.397266645</td><td> 0.42862489</td><td> 0.0167613056</td><td> 0.052193111</td><td> 0.121580871</td><td>-0.014775106</td><td>-0.048561561</td><td> 0.080132548</td><td> 0.0510988286</td></tr>\n",
       "\t<tr><th scope=row>SADEN.G.A.</th><td>-1.09912555</td><td>-0.340140418</td><td> 1.846459807</td><td> 0.175663982</td><td> 0.33115081</td><td> 0.0949003323</td><td>-0.446311662</td><td> 0.028944605</td><td>-0.003826142</td><td> 0.084634783</td><td>-0.121227942</td><td>-0.0443504176</td></tr>\n",
       "\t<tr><th scope=row>SATANIELLO,A.G.</th><td>-0.54233983</td><td> 1.010549922</td><td>-0.327794933</td><td>-0.084030798</td><td>-0.30667686</td><td>-0.0925027367</td><td>-0.147747501</td><td> 0.128600108</td><td> 0.097592542</td><td>-0.022897290</td><td>-0.012261482</td><td> 0.0217814185</td></tr>\n",
       "\t<tr><th scope=row>SHEA,D.M.</th><td>-2.58305047</td><td>-0.394836299</td><td> 0.670906316</td><td> 0.111109337</td><td> 0.27936379</td><td> 0.1911020749</td><td> 0.089847604</td><td>-0.062737539</td><td>-0.089904153</td><td>-0.009075151</td><td> 0.007561938</td><td> 0.0545116136</td></tr>\n",
       "\t<tr><th scope=row>SHEA,J.F.JR.</th><td>-3.59661129</td><td>-0.160319030</td><td>-0.063074149</td><td> 0.066117058</td><td>-0.12859723</td><td>-0.0197253554</td><td> 0.048651991</td><td> 0.024812230</td><td>-0.059981352</td><td>-0.016986656</td><td> 0.012137907</td><td>-0.0396775902</td></tr>\n",
       "\t<tr><th scope=row>SIDOR,W.J.</th><td> 6.86267423</td><td> 0.326512345</td><td> 0.223539990</td><td>-0.193097037</td><td> 0.39272570</td><td>-0.2252404152</td><td>-0.078211936</td><td> 0.094658809</td><td> 0.092912759</td><td>-0.026791382</td><td> 0.097065377</td><td> 0.0754182646</td></tr>\n",
       "\t<tr><th scope=row>SPEZIALE,J.A.</th><td>-2.02563865</td><td> 1.179257159</td><td>-0.096799714</td><td> 0.538847164</td><td>-0.19675847</td><td>-0.2750388588</td><td>-0.155081021</td><td>-0.123100969</td><td> 0.107227085</td><td>-0.090216706</td><td>-0.062818575</td><td> 0.0119487538</td></tr>\n",
       "\t<tr><th scope=row>SPONZO,M.J.</th><td>-1.20653232</td><td>-0.525702950</td><td> 0.152517934</td><td> 0.111379839</td><td>-0.28432243</td><td>-0.0091172669</td><td>-0.076640409</td><td>-0.037530283</td><td> 0.037412524</td><td>-0.092612755</td><td> 0.043416800</td><td> 0.0591061425</td></tr>\n",
       "\t<tr><th scope=row>STAPLETON,J.F.</th><td>-0.71990427</td><td>-0.904025478</td><td> 0.385888468</td><td>-0.388914568</td><td> 0.05031146</td><td> 0.1162176328</td><td> 0.001223657</td><td>-0.099579966</td><td>-0.191780133</td><td>-0.025786502</td><td> 0.075154360</td><td> 0.0303893210</td></tr>\n",
       "\t<tr><th scope=row>TESTO,R.J.</th><td> 2.10627832</td><td> 0.938516933</td><td>-0.212140800</td><td>-0.785805182</td><td> 0.05509681</td><td>-0.2141084516</td><td>-0.092137225</td><td> 0.041876523</td><td> 0.001824720</td><td> 0.044400499</td><td> 0.032758980</td><td> 0.0213157355</td></tr>\n",
       "\t<tr><th scope=row>TIERNEY,W.L.JR.</th><td>-1.35185243</td><td> 1.087567805</td><td> 0.091369799</td><td> 0.243278899</td><td>-0.76332403</td><td>-0.1018517683</td><td> 0.064918966</td><td>-0.174549705</td><td>-0.017910087</td><td> 0.092546802</td><td>-0.061236762</td><td> 0.0627938594</td></tr>\n",
       "\t<tr><th scope=row>WALL,R.A.</th><td> 2.58852864</td><td> 1.904358121</td><td> 0.425457947</td><td>-0.115794124</td><td> 0.24666383</td><td> 0.0124709913</td><td> 0.057849128</td><td> 0.074091944</td><td>-0.034663571</td><td>-0.068939377</td><td> 0.023180225</td><td> 0.0123417004</td></tr>\n",
       "\t<tr><th scope=row>WRIGHT,D.B.</th><td>-1.46295418</td><td>-0.549611549</td><td>-0.299660488</td><td>-0.111793223</td><td> 0.59836658</td><td>-0.3820213787</td><td>-0.033419611</td><td> 0.022081206</td><td>-0.058440648</td><td> 0.156447730</td><td>-0.020268712</td><td>-0.0528375280</td></tr>\n",
       "\t<tr><th scope=row>ZARRILLI,K.J.</th><td> 0.91567027</td><td> 1.423919791</td><td> 0.263911960</td><td> 0.001755516</td><td>-0.19330840</td><td>-0.2023318536</td><td>-0.131917575</td><td> 0.169450551</td><td>-0.125541256</td><td>-0.126476855</td><td> 0.015694950</td><td> 0.0268835640</td></tr>\n",
       "</tbody>\n",
       "</table>\n",
       "</dd>\n",
       "</dl>\n"
      ],
      "text/latex": [
       "\\begin{description}\n",
       "\\item[\\$sdev] \\begin{enumerate*}\n",
       "\\item 3.18331646657345\n",
       "\\item 1.05078398340642\n",
       "\\item 0.576976256272017\n",
       "\\item 0.50383231409437\n",
       "\\item 0.290607615087922\n",
       "\\item 0.193095982419043\n",
       "\\item 0.140295448731006\n",
       "\\item 0.124158318825053\n",
       "\\item 0.0885069038207207\n",
       "\\item 0.0749114592469205\n",
       "\\item 0.0570804224329125\n",
       "\\item 0.0453913429451875\n",
       "\\end{enumerate*}\n",
       "\n",
       "\\item[\\$rotation] A matrix: 12 × 12 of type dbl\n",
       "\\begin{tabular}{r|llllllllllll}\n",
       "  & PC1 & PC2 & PC3 & PC4 & PC5 & PC6 & PC7 & PC8 & PC9 & PC10 & PC11 & PC12\\\\\n",
       "\\hline\n",
       "\tCONT &  0.003075143 &  0.932890644 & -0.334756548 &  0.058576867 &  0.093438368 & -0.004064432 & -0.005214784 &  6.006597e-02 & -0.02514533 &  0.03038881 & -0.0145329260 &  0.007940919\\\\\n",
       "\tINTG & -0.288550775 & -0.182040993 & -0.549360126 &  0.173977074 & -0.014543880 &  0.369937339 &  0.449810741 & -3.341645e-01 & -0.27537794 & -0.10897641 &  0.1125535650 & -0.009848658\\\\\n",
       "\tDMNR & -0.286884206 & -0.197565743 & -0.556490386 & -0.124412022 & -0.228832817 & -0.394724667 & -0.466747889 &  2.470974e-01 & -0.19910004 &  0.07241282 & -0.1343234234 & -0.059121657\\\\\n",
       "\tDILG & -0.304354091 &  0.036304667 &  0.163629910 &  0.321395544 & -0.301936920 &  0.598676072 & -0.209710731 &  3.548587e-01 &  0.03977180 &  0.38339165 & -0.0709517642 & -0.053790339\\\\\n",
       "\tCFMG & -0.302572733 &  0.168393523 &  0.207341904 &  0.012949223 & -0.448430522 & -0.085728870 & -0.246903359 & -7.135261e-01 &  0.14342471 & -0.09850310 & -0.1658680927 & -0.025082947\\\\\n",
       "\tDECI & -0.301891969 &  0.127877299 &  0.297902771 &  0.030491779 & -0.424003128 & -0.392609484 &  0.536429933 &  3.024227e-01 & -0.25823773 & -0.06743847 &  0.1284999526 & -0.044141604\\\\\n",
       "\tPREP & -0.309406446 &  0.032230248 &  0.151869345 &  0.213656069 &  0.202853400 &  0.083216652 & -0.335390036 &  1.536754e-01 & -0.10876864 & -0.67986284 &  0.3187612119 &  0.273286884\\\\\n",
       "\tFAMI & -0.306679527 & -0.001315183 &  0.195290454 &  0.200651140 &  0.507470003 & -0.101538704 &  0.036378004 & -2.038889e-02 & -0.22306628 & -0.04004599 & -0.5733628652 & -0.421739844\\\\\n",
       "\tORAL & -0.312708348 & -0.003625720 &  0.002150634 & -0.007441042 &  0.246059421 & -0.150272440 & -0.057580177 & -9.062990e-02 &  0.29951714 &  0.25599455 &  0.6386061655 & -0.494391025\\\\\n",
       "\tWRIT & -0.311061231 & -0.031378756 &  0.056045596 &  0.137104995 &  0.305562842 & -0.238172386 &  0.060899994 & -1.261203e-01 &  0.02497324 &  0.47478254 & -0.0004056397 &  0.696107204\\\\\n",
       "\tPHYS & -0.280723624 &  0.089037698 &  0.154000444 & -0.841266046 &  0.118424976 &  0.299281534 & -0.024959951 &  1.364511e-05 & -0.26627286 &  0.05900837 &  0.0181381019 &  0.053783960\\\\\n",
       "\tRTEN & -0.309790218 & -0.039381306 & -0.172869757 & -0.184223629 &  0.006717911 &  0.036126847 &  0.256194180 &  2.213898e-01 &  0.75645893 & -0.24993250 & -0.2855143026 &  0.080267574\\\\\n",
       "\\end{tabular}\n",
       "\n",
       "\\item[\\$center] \\begin{description*}\n",
       "\\item[CONT] 7.43720930232558\n",
       "\\item[INTG] 8.02093023255814\n",
       "\\item[DMNR] 7.51627906976744\n",
       "\\item[DILG] 7.69302325581395\n",
       "\\item[CFMG] 7.47906976744186\n",
       "\\item[DECI] 7.56511627906977\n",
       "\\item[PREP] 7.46744186046512\n",
       "\\item[FAMI] 7.48837209302326\n",
       "\\item[ORAL] 7.29302325581395\n",
       "\\item[WRIT] 7.38372093023256\n",
       "\\item[PHYS] 7.93488372093023\n",
       "\\item[RTEN] 7.60232558139535\n",
       "\\end{description*}\n",
       "\n",
       "\\item[\\$scale] \\begin{description*}\n",
       "\\item[CONT] 0.940876808851837\n",
       "\\item[INTG] 0.770144741972598\n",
       "\\item[DMNR] 1.14370538842128\n",
       "\\item[DILG] 0.900897792637779\n",
       "\\item[CFMG] 0.860110219829242\n",
       "\\item[DECI] 0.802936195333291\n",
       "\\item[PREP] 0.95337019498313\n",
       "\\item[FAMI] 0.948986753464071\n",
       "\\item[ORAL] 1.01004369279307\n",
       "\\item[WRIT] 0.961132821840021\n",
       "\\item[PHYS] 0.939575314635043\n",
       "\\item[RTEN] 1.10097108047591\n",
       "\\end{description*}\n",
       "\n",
       "\\item[\\$x] A matrix: 43 × 12 of type dbl\n",
       "\\begin{tabular}{r|llllllllllll}\n",
       "  & PC1 & PC2 & PC3 & PC4 & PC5 & PC6 & PC7 & PC8 & PC9 & PC10 & PC11 & PC12\\\\\n",
       "\\hline\n",
       "\tAARONSON,L.H. &  0.58575085 & -1.813099496 &  0.258493450 & -0.885414654 & -0.19810313 & -0.0005757578 &  0.091378585 &  0.135269073 &  0.128575861 & -0.119341425 &  0.010913499 & -0.0598665378\\\\\n",
       "\tALEXANDER,J.M. & -2.38001153 & -0.867893241 & -0.460995510 & -0.059917965 & -0.30448920 &  0.2291020429 &  0.146934313 &  0.290680897 & -0.026883362 & -0.033482298 & -0.136780444 & -0.0064969215\\\\\n",
       "\tARMENTANO,A.J. & -0.22513903 & -0.298780266 & -0.100848411 &  0.022217708 & -0.13017390 & -0.0150672307 & -0.039344729 &  0.091744399 &  0.067418254 & -0.021651215 & -0.068652395 & -0.0016395476\\\\\n",
       "\tBERDON,R.I. & -3.61789929 & -0.589367196 &  0.420730823 &  0.197307875 &  0.08296828 &  0.0823548542 &  0.041250034 &  0.088524595 & -0.106836666 & -0.062934470 &  0.023813265 &  0.0034183317\\\\\n",
       "\tBRACKEN,J.J. &  6.87113152 &  0.135749491 &  0.955449401 &  1.069150774 & -0.30075003 &  0.3662956835 &  0.115683915 & -0.097222215 & -0.034938985 &  0.031586001 &  0.087292928 & -0.1160346423\\\\\n",
       "\tBURNS,E.B. & -2.44547915 & -1.405785788 & -0.086247837 & -0.148878688 & -0.22772257 &  0.2398656404 & -0.029021619 &  0.118483627 &  0.044602878 &  0.009661878 &  0.022036557 & -0.0009017388\\\\\n",
       "\tCALLAHAN,R.J. & -3.89138356 &  3.110894543 & -1.314876543 & -0.018764248 &  0.21284769 &  0.0419396303 &  0.046420276 &  0.153019044 & -0.072959759 &  0.094455550 &  0.025127771 & -0.0873311317\\\\\n",
       "\tCOHEN,S.S. &  7.99841189 & -0.267888584 &  0.507336497 & -1.227736837 & -0.07258545 & -0.2385888732 &  0.181235370 &  0.059937870 & -0.134253736 &  0.033146639 & -0.091568221 & -0.0218655616\\\\\n",
       "\tDALY,J.J. & -3.65964531 & -0.144943790 & -0.094195447 &  0.028960746 & -0.29583854 & -0.0969819070 & -0.011887854 & -0.146590548 & -0.006526473 &  0.091369624 & -0.011234683 &  0.0375220282\\\\\n",
       "\tDANNEHY,J.F. & -1.04788778 &  1.135606571 &  0.814579222 &  0.003854039 &  0.37949109 &  0.2345704654 &  0.261943894 & -0.074970279 &  0.096004824 &  0.020954205 & -0.011273794 & -0.0017827969\\\\\n",
       "\tDEAN,H.H. &  0.33709338 & -0.464999441 & -0.058900793 & -0.751658216 & -0.11242247 &  0.0422892179 &  0.160087605 &  0.015906093 & -0.034269335 &  0.036975822 & -0.045887691 &  0.0365390911\\\\\n",
       "\tDEVITA,H.J. &  1.44067526 & -1.218375607 & -0.384466586 &  0.452235980 & -0.12518210 & -0.3135682951 &  0.013853808 & -0.102990057 &  0.168016090 &  0.099286743 &  0.062916215 & -0.0392446477\\\\\n",
       "\tDRISCOLL,P.J. &  0.66896509 & -1.282675686 & -1.239794532 & -0.665294900 &  0.65132507 &  0.0848006774 & -0.073357378 & -0.388568866 & -0.057807983 & -0.151281184 & -0.046659654 & -0.0182757879\\\\\n",
       "\tGRILLO,A.E. &  3.22591748 & -0.559403536 &  0.023478046 &  0.915125061 &  0.02878954 & -0.3315085264 &  0.340410028 &  0.049774146 &  0.051552641 & -0.081441817 & -0.018842793 & -0.0303515066\\\\\n",
       "\tHADDEN,W.L.JR. & -1.35295403 & -0.838829042 &  0.532444779 & -0.225256379 & -0.16775924 & -0.1884860450 & -0.110350351 & -0.011223545 &  0.036420861 & -0.013478349 &  0.116027430 &  0.0060235240\\\\\n",
       "\tHAMILL,E.C. &  0.44482896 & -0.180327619 & -0.106039921 & -0.192093511 & -0.04601720 &  0.2939367115 & -0.046408433 &  0.046811333 &  0.091929866 &  0.033427068 &  0.002414615 &  0.0696354274\\\\\n",
       "\tHEALEY.A.H. &  2.89780301 &  0.379397570 & -0.524823931 &  0.450381779 &  0.28726579 &  0.4210698555 & -0.173786456 &  0.161432845 &  0.099503351 & -0.002305740 & -0.002481062 &  0.0051253992\\\\\n",
       "\tHULL,T.C. &  0.71794078 &  0.457944683 &  0.410564947 & -0.286548296 &  0.10280455 &  0.1213794801 &  0.244626896 & -0.122849723 &  0.090044320 &  0.170597167 & -0.010455887 &  0.0728601628\\\\\n",
       "\tLEVINE,I. & -0.64128997 &  0.893845438 & -0.192938545 &  0.175918267 &  0.22924190 &  0.0418932411 &  0.171897077 & -0.074269669 &  0.153332051 & -0.101820814 & -0.084569052 &  0.0069822027\\\\\n",
       "\tLEVISTER,R.L. &  4.35602343 &  2.415966019 & -0.254950161 & -0.243850553 & -0.25796823 &  0.2588890180 & -0.129317484 & -0.234380552 & -0.057330645 & -0.080808578 & -0.007094446 & -0.0152944106\\\\\n",
       "\tMARTIN,L.F. &  1.81857291 & -0.792542516 & -1.118234290 & -0.240319482 &  0.14586908 &  0.2764326747 & -0.050828262 &  0.025893427 &  0.077654607 &  0.113323809 &  0.049838188 &  0.0014624317\\\\\n",
       "\tMCGRATH,J.F. &  3.11914633 &  0.117576569 & -0.287871221 & -0.436184110 & -0.25999353 & -0.0289770461 & -0.151232397 &  0.079635008 & -0.021153991 &  0.059978289 &  0.045941749 & -0.0198343803\\\\\n",
       "\tMIGNONE,A.F. &  6.35459761 & -1.435778312 & -0.925405154 &  1.694394050 &  0.12124901 & -0.0942965186 & -0.050942546 &  0.043601498 & -0.171266489 &  0.022350067 & -0.063143059 &  0.0662822794\\\\\n",
       "\tMISSAL,H.M. &  0.08218287 & -1.465958762 & -0.251313810 & -0.053701172 & -0.26869606 &  0.0771725303 & -0.169688886 & -0.109551552 & -0.025699414 &  0.046278658 & -0.039343363 & -0.0149977234\\\\\n",
       "\tMULVEY,H.M. & -3.35155302 &  0.130803077 &  0.122554855 &  0.134324822 & -0.02396325 & -0.0757784669 & -0.039687957 & -0.120576589 &  0.062465366 & -0.030410251 &  0.011643122 & -0.0243869469\\\\\n",
       "\tNARUK,H.J. & -4.54888016 &  0.474152684 &  0.225635443 &  0.246582743 &  0.19452459 & -0.1627861912 &  0.082996609 & -0.029519767 & -0.044385659 &  0.027573997 &  0.026900829 &  0.0173532786\\\\\n",
       "\tO'BRIEN,F.J. & -1.50009420 & -0.422965769 & -0.218985306 & -0.114576855 & -0.18739782 & -0.0628189053 &  0.008748507 & -0.082109673 &  0.031862615 & -0.053075756 &  0.026791275 & -0.0962722571\\\\\n",
       "\tO'SULLIVAN,T.J. & -3.46995962 &  0.001169151 & -0.301651397 &  0.028787349 & -0.31562249 &  0.0419802134 &  0.068746706 &  0.005959595 & -0.161031626 &  0.009363562 &  0.062069907 & -0.0149897649\\\\\n",
       "\tPASKEY,L. & -1.89318889 &  0.243290772 &  0.593637247 &  0.164971164 &  0.34899216 & -0.1540524249 & -0.053576784 &  0.019551194 &  0.015813354 &  0.002017242 & -0.045030415 & -0.0443615193\\\\\n",
       "\tRUBINOW,J.E. & -4.77881831 & -0.442828269 & -0.002947455 &  0.397266645 &  0.42862489 &  0.0167613056 &  0.052193111 &  0.121580871 & -0.014775106 & -0.048561561 &  0.080132548 &  0.0510988286\\\\\n",
       "\tSADEN.G.A. & -1.09912555 & -0.340140418 &  1.846459807 &  0.175663982 &  0.33115081 &  0.0949003323 & -0.446311662 &  0.028944605 & -0.003826142 &  0.084634783 & -0.121227942 & -0.0443504176\\\\\n",
       "\tSATANIELLO,A.G. & -0.54233983 &  1.010549922 & -0.327794933 & -0.084030798 & -0.30667686 & -0.0925027367 & -0.147747501 &  0.128600108 &  0.097592542 & -0.022897290 & -0.012261482 &  0.0217814185\\\\\n",
       "\tSHEA,D.M. & -2.58305047 & -0.394836299 &  0.670906316 &  0.111109337 &  0.27936379 &  0.1911020749 &  0.089847604 & -0.062737539 & -0.089904153 & -0.009075151 &  0.007561938 &  0.0545116136\\\\\n",
       "\tSHEA,J.F.JR. & -3.59661129 & -0.160319030 & -0.063074149 &  0.066117058 & -0.12859723 & -0.0197253554 &  0.048651991 &  0.024812230 & -0.059981352 & -0.016986656 &  0.012137907 & -0.0396775902\\\\\n",
       "\tSIDOR,W.J. &  6.86267423 &  0.326512345 &  0.223539990 & -0.193097037 &  0.39272570 & -0.2252404152 & -0.078211936 &  0.094658809 &  0.092912759 & -0.026791382 &  0.097065377 &  0.0754182646\\\\\n",
       "\tSPEZIALE,J.A. & -2.02563865 &  1.179257159 & -0.096799714 &  0.538847164 & -0.19675847 & -0.2750388588 & -0.155081021 & -0.123100969 &  0.107227085 & -0.090216706 & -0.062818575 &  0.0119487538\\\\\n",
       "\tSPONZO,M.J. & -1.20653232 & -0.525702950 &  0.152517934 &  0.111379839 & -0.28432243 & -0.0091172669 & -0.076640409 & -0.037530283 &  0.037412524 & -0.092612755 &  0.043416800 &  0.0591061425\\\\\n",
       "\tSTAPLETON,J.F. & -0.71990427 & -0.904025478 &  0.385888468 & -0.388914568 &  0.05031146 &  0.1162176328 &  0.001223657 & -0.099579966 & -0.191780133 & -0.025786502 &  0.075154360 &  0.0303893210\\\\\n",
       "\tTESTO,R.J. &  2.10627832 &  0.938516933 & -0.212140800 & -0.785805182 &  0.05509681 & -0.2141084516 & -0.092137225 &  0.041876523 &  0.001824720 &  0.044400499 &  0.032758980 &  0.0213157355\\\\\n",
       "\tTIERNEY,W.L.JR. & -1.35185243 &  1.087567805 &  0.091369799 &  0.243278899 & -0.76332403 & -0.1018517683 &  0.064918966 & -0.174549705 & -0.017910087 &  0.092546802 & -0.061236762 &  0.0627938594\\\\\n",
       "\tWALL,R.A. &  2.58852864 &  1.904358121 &  0.425457947 & -0.115794124 &  0.24666383 &  0.0124709913 &  0.057849128 &  0.074091944 & -0.034663571 & -0.068939377 &  0.023180225 &  0.0123417004\\\\\n",
       "\tWRIGHT,D.B. & -1.46295418 & -0.549611549 & -0.299660488 & -0.111793223 &  0.59836658 & -0.3820213787 & -0.033419611 &  0.022081206 & -0.058440648 &  0.156447730 & -0.020268712 & -0.0528375280\\\\\n",
       "\tZARRILLI,K.J. &  0.91567027 &  1.423919791 &  0.263911960 &  0.001755516 & -0.19330840 & -0.2023318536 & -0.131917575 &  0.169450551 & -0.125541256 & -0.126476855 &  0.015694950 &  0.0268835640\\\\\n",
       "\\end{tabular}\n",
       "\n",
       "\\end{description}\n"
      ],
      "text/markdown": [
       "$sdev\n",
       ":   1. 3.18331646657345\n",
       "2. 1.05078398340642\n",
       "3. 0.576976256272017\n",
       "4. 0.50383231409437\n",
       "5. 0.290607615087922\n",
       "6. 0.193095982419043\n",
       "7. 0.140295448731006\n",
       "8. 0.124158318825053\n",
       "9. 0.0885069038207207\n",
       "10. 0.0749114592469205\n",
       "11. 0.0570804224329125\n",
       "12. 0.0453913429451875\n",
       "\n",
       "\n",
       "\n",
       "$rotation\n",
       ":   \n",
       "A matrix: 12 × 12 of type dbl\n",
       "\n",
       "| <!--/--> | PC1 | PC2 | PC3 | PC4 | PC5 | PC6 | PC7 | PC8 | PC9 | PC10 | PC11 | PC12 |\n",
       "|---|---|---|---|---|---|---|---|---|---|---|---|---|\n",
       "| CONT |  0.003075143 |  0.932890644 | -0.334756548 |  0.058576867 |  0.093438368 | -0.004064432 | -0.005214784 |  6.006597e-02 | -0.02514533 |  0.03038881 | -0.0145329260 |  0.007940919 |\n",
       "| INTG | -0.288550775 | -0.182040993 | -0.549360126 |  0.173977074 | -0.014543880 |  0.369937339 |  0.449810741 | -3.341645e-01 | -0.27537794 | -0.10897641 |  0.1125535650 | -0.009848658 |\n",
       "| DMNR | -0.286884206 | -0.197565743 | -0.556490386 | -0.124412022 | -0.228832817 | -0.394724667 | -0.466747889 |  2.470974e-01 | -0.19910004 |  0.07241282 | -0.1343234234 | -0.059121657 |\n",
       "| DILG | -0.304354091 |  0.036304667 |  0.163629910 |  0.321395544 | -0.301936920 |  0.598676072 | -0.209710731 |  3.548587e-01 |  0.03977180 |  0.38339165 | -0.0709517642 | -0.053790339 |\n",
       "| CFMG | -0.302572733 |  0.168393523 |  0.207341904 |  0.012949223 | -0.448430522 | -0.085728870 | -0.246903359 | -7.135261e-01 |  0.14342471 | -0.09850310 | -0.1658680927 | -0.025082947 |\n",
       "| DECI | -0.301891969 |  0.127877299 |  0.297902771 |  0.030491779 | -0.424003128 | -0.392609484 |  0.536429933 |  3.024227e-01 | -0.25823773 | -0.06743847 |  0.1284999526 | -0.044141604 |\n",
       "| PREP | -0.309406446 |  0.032230248 |  0.151869345 |  0.213656069 |  0.202853400 |  0.083216652 | -0.335390036 |  1.536754e-01 | -0.10876864 | -0.67986284 |  0.3187612119 |  0.273286884 |\n",
       "| FAMI | -0.306679527 | -0.001315183 |  0.195290454 |  0.200651140 |  0.507470003 | -0.101538704 |  0.036378004 | -2.038889e-02 | -0.22306628 | -0.04004599 | -0.5733628652 | -0.421739844 |\n",
       "| ORAL | -0.312708348 | -0.003625720 |  0.002150634 | -0.007441042 |  0.246059421 | -0.150272440 | -0.057580177 | -9.062990e-02 |  0.29951714 |  0.25599455 |  0.6386061655 | -0.494391025 |\n",
       "| WRIT | -0.311061231 | -0.031378756 |  0.056045596 |  0.137104995 |  0.305562842 | -0.238172386 |  0.060899994 | -1.261203e-01 |  0.02497324 |  0.47478254 | -0.0004056397 |  0.696107204 |\n",
       "| PHYS | -0.280723624 |  0.089037698 |  0.154000444 | -0.841266046 |  0.118424976 |  0.299281534 | -0.024959951 |  1.364511e-05 | -0.26627286 |  0.05900837 |  0.0181381019 |  0.053783960 |\n",
       "| RTEN | -0.309790218 | -0.039381306 | -0.172869757 | -0.184223629 |  0.006717911 |  0.036126847 |  0.256194180 |  2.213898e-01 |  0.75645893 | -0.24993250 | -0.2855143026 |  0.080267574 |\n",
       "\n",
       "\n",
       "$center\n",
       ":   CONT\n",
       ":   7.43720930232558INTG\n",
       ":   8.02093023255814DMNR\n",
       ":   7.51627906976744DILG\n",
       ":   7.69302325581395CFMG\n",
       ":   7.47906976744186DECI\n",
       ":   7.56511627906977PREP\n",
       ":   7.46744186046512FAMI\n",
       ":   7.48837209302326ORAL\n",
       ":   7.29302325581395WRIT\n",
       ":   7.38372093023256PHYS\n",
       ":   7.93488372093023RTEN\n",
       ":   7.60232558139535\n",
       "\n",
       "\n",
       "$scale\n",
       ":   CONT\n",
       ":   0.940876808851837INTG\n",
       ":   0.770144741972598DMNR\n",
       ":   1.14370538842128DILG\n",
       ":   0.900897792637779CFMG\n",
       ":   0.860110219829242DECI\n",
       ":   0.802936195333291PREP\n",
       ":   0.95337019498313FAMI\n",
       ":   0.948986753464071ORAL\n",
       ":   1.01004369279307WRIT\n",
       ":   0.961132821840021PHYS\n",
       ":   0.939575314635043RTEN\n",
       ":   1.10097108047591\n",
       "\n",
       "\n",
       "$x\n",
       ":   \n",
       "A matrix: 43 × 12 of type dbl\n",
       "\n",
       "| <!--/--> | PC1 | PC2 | PC3 | PC4 | PC5 | PC6 | PC7 | PC8 | PC9 | PC10 | PC11 | PC12 |\n",
       "|---|---|---|---|---|---|---|---|---|---|---|---|---|\n",
       "| AARONSON,L.H. |  0.58575085 | -1.813099496 |  0.258493450 | -0.885414654 | -0.19810313 | -0.0005757578 |  0.091378585 |  0.135269073 |  0.128575861 | -0.119341425 |  0.010913499 | -0.0598665378 |\n",
       "| ALEXANDER,J.M. | -2.38001153 | -0.867893241 | -0.460995510 | -0.059917965 | -0.30448920 |  0.2291020429 |  0.146934313 |  0.290680897 | -0.026883362 | -0.033482298 | -0.136780444 | -0.0064969215 |\n",
       "| ARMENTANO,A.J. | -0.22513903 | -0.298780266 | -0.100848411 |  0.022217708 | -0.13017390 | -0.0150672307 | -0.039344729 |  0.091744399 |  0.067418254 | -0.021651215 | -0.068652395 | -0.0016395476 |\n",
       "| BERDON,R.I. | -3.61789929 | -0.589367196 |  0.420730823 |  0.197307875 |  0.08296828 |  0.0823548542 |  0.041250034 |  0.088524595 | -0.106836666 | -0.062934470 |  0.023813265 |  0.0034183317 |\n",
       "| BRACKEN,J.J. |  6.87113152 |  0.135749491 |  0.955449401 |  1.069150774 | -0.30075003 |  0.3662956835 |  0.115683915 | -0.097222215 | -0.034938985 |  0.031586001 |  0.087292928 | -0.1160346423 |\n",
       "| BURNS,E.B. | -2.44547915 | -1.405785788 | -0.086247837 | -0.148878688 | -0.22772257 |  0.2398656404 | -0.029021619 |  0.118483627 |  0.044602878 |  0.009661878 |  0.022036557 | -0.0009017388 |\n",
       "| CALLAHAN,R.J. | -3.89138356 |  3.110894543 | -1.314876543 | -0.018764248 |  0.21284769 |  0.0419396303 |  0.046420276 |  0.153019044 | -0.072959759 |  0.094455550 |  0.025127771 | -0.0873311317 |\n",
       "| COHEN,S.S. |  7.99841189 | -0.267888584 |  0.507336497 | -1.227736837 | -0.07258545 | -0.2385888732 |  0.181235370 |  0.059937870 | -0.134253736 |  0.033146639 | -0.091568221 | -0.0218655616 |\n",
       "| DALY,J.J. | -3.65964531 | -0.144943790 | -0.094195447 |  0.028960746 | -0.29583854 | -0.0969819070 | -0.011887854 | -0.146590548 | -0.006526473 |  0.091369624 | -0.011234683 |  0.0375220282 |\n",
       "| DANNEHY,J.F. | -1.04788778 |  1.135606571 |  0.814579222 |  0.003854039 |  0.37949109 |  0.2345704654 |  0.261943894 | -0.074970279 |  0.096004824 |  0.020954205 | -0.011273794 | -0.0017827969 |\n",
       "| DEAN,H.H. |  0.33709338 | -0.464999441 | -0.058900793 | -0.751658216 | -0.11242247 |  0.0422892179 |  0.160087605 |  0.015906093 | -0.034269335 |  0.036975822 | -0.045887691 |  0.0365390911 |\n",
       "| DEVITA,H.J. |  1.44067526 | -1.218375607 | -0.384466586 |  0.452235980 | -0.12518210 | -0.3135682951 |  0.013853808 | -0.102990057 |  0.168016090 |  0.099286743 |  0.062916215 | -0.0392446477 |\n",
       "| DRISCOLL,P.J. |  0.66896509 | -1.282675686 | -1.239794532 | -0.665294900 |  0.65132507 |  0.0848006774 | -0.073357378 | -0.388568866 | -0.057807983 | -0.151281184 | -0.046659654 | -0.0182757879 |\n",
       "| GRILLO,A.E. |  3.22591748 | -0.559403536 |  0.023478046 |  0.915125061 |  0.02878954 | -0.3315085264 |  0.340410028 |  0.049774146 |  0.051552641 | -0.081441817 | -0.018842793 | -0.0303515066 |\n",
       "| HADDEN,W.L.JR. | -1.35295403 | -0.838829042 |  0.532444779 | -0.225256379 | -0.16775924 | -0.1884860450 | -0.110350351 | -0.011223545 |  0.036420861 | -0.013478349 |  0.116027430 |  0.0060235240 |\n",
       "| HAMILL,E.C. |  0.44482896 | -0.180327619 | -0.106039921 | -0.192093511 | -0.04601720 |  0.2939367115 | -0.046408433 |  0.046811333 |  0.091929866 |  0.033427068 |  0.002414615 |  0.0696354274 |\n",
       "| HEALEY.A.H. |  2.89780301 |  0.379397570 | -0.524823931 |  0.450381779 |  0.28726579 |  0.4210698555 | -0.173786456 |  0.161432845 |  0.099503351 | -0.002305740 | -0.002481062 |  0.0051253992 |\n",
       "| HULL,T.C. |  0.71794078 |  0.457944683 |  0.410564947 | -0.286548296 |  0.10280455 |  0.1213794801 |  0.244626896 | -0.122849723 |  0.090044320 |  0.170597167 | -0.010455887 |  0.0728601628 |\n",
       "| LEVINE,I. | -0.64128997 |  0.893845438 | -0.192938545 |  0.175918267 |  0.22924190 |  0.0418932411 |  0.171897077 | -0.074269669 |  0.153332051 | -0.101820814 | -0.084569052 |  0.0069822027 |\n",
       "| LEVISTER,R.L. |  4.35602343 |  2.415966019 | -0.254950161 | -0.243850553 | -0.25796823 |  0.2588890180 | -0.129317484 | -0.234380552 | -0.057330645 | -0.080808578 | -0.007094446 | -0.0152944106 |\n",
       "| MARTIN,L.F. |  1.81857291 | -0.792542516 | -1.118234290 | -0.240319482 |  0.14586908 |  0.2764326747 | -0.050828262 |  0.025893427 |  0.077654607 |  0.113323809 |  0.049838188 |  0.0014624317 |\n",
       "| MCGRATH,J.F. |  3.11914633 |  0.117576569 | -0.287871221 | -0.436184110 | -0.25999353 | -0.0289770461 | -0.151232397 |  0.079635008 | -0.021153991 |  0.059978289 |  0.045941749 | -0.0198343803 |\n",
       "| MIGNONE,A.F. |  6.35459761 | -1.435778312 | -0.925405154 |  1.694394050 |  0.12124901 | -0.0942965186 | -0.050942546 |  0.043601498 | -0.171266489 |  0.022350067 | -0.063143059 |  0.0662822794 |\n",
       "| MISSAL,H.M. |  0.08218287 | -1.465958762 | -0.251313810 | -0.053701172 | -0.26869606 |  0.0771725303 | -0.169688886 | -0.109551552 | -0.025699414 |  0.046278658 | -0.039343363 | -0.0149977234 |\n",
       "| MULVEY,H.M. | -3.35155302 |  0.130803077 |  0.122554855 |  0.134324822 | -0.02396325 | -0.0757784669 | -0.039687957 | -0.120576589 |  0.062465366 | -0.030410251 |  0.011643122 | -0.0243869469 |\n",
       "| NARUK,H.J. | -4.54888016 |  0.474152684 |  0.225635443 |  0.246582743 |  0.19452459 | -0.1627861912 |  0.082996609 | -0.029519767 | -0.044385659 |  0.027573997 |  0.026900829 |  0.0173532786 |\n",
       "| O'BRIEN,F.J. | -1.50009420 | -0.422965769 | -0.218985306 | -0.114576855 | -0.18739782 | -0.0628189053 |  0.008748507 | -0.082109673 |  0.031862615 | -0.053075756 |  0.026791275 | -0.0962722571 |\n",
       "| O'SULLIVAN,T.J. | -3.46995962 |  0.001169151 | -0.301651397 |  0.028787349 | -0.31562249 |  0.0419802134 |  0.068746706 |  0.005959595 | -0.161031626 |  0.009363562 |  0.062069907 | -0.0149897649 |\n",
       "| PASKEY,L. | -1.89318889 |  0.243290772 |  0.593637247 |  0.164971164 |  0.34899216 | -0.1540524249 | -0.053576784 |  0.019551194 |  0.015813354 |  0.002017242 | -0.045030415 | -0.0443615193 |\n",
       "| RUBINOW,J.E. | -4.77881831 | -0.442828269 | -0.002947455 |  0.397266645 |  0.42862489 |  0.0167613056 |  0.052193111 |  0.121580871 | -0.014775106 | -0.048561561 |  0.080132548 |  0.0510988286 |\n",
       "| SADEN.G.A. | -1.09912555 | -0.340140418 |  1.846459807 |  0.175663982 |  0.33115081 |  0.0949003323 | -0.446311662 |  0.028944605 | -0.003826142 |  0.084634783 | -0.121227942 | -0.0443504176 |\n",
       "| SATANIELLO,A.G. | -0.54233983 |  1.010549922 | -0.327794933 | -0.084030798 | -0.30667686 | -0.0925027367 | -0.147747501 |  0.128600108 |  0.097592542 | -0.022897290 | -0.012261482 |  0.0217814185 |\n",
       "| SHEA,D.M. | -2.58305047 | -0.394836299 |  0.670906316 |  0.111109337 |  0.27936379 |  0.1911020749 |  0.089847604 | -0.062737539 | -0.089904153 | -0.009075151 |  0.007561938 |  0.0545116136 |\n",
       "| SHEA,J.F.JR. | -3.59661129 | -0.160319030 | -0.063074149 |  0.066117058 | -0.12859723 | -0.0197253554 |  0.048651991 |  0.024812230 | -0.059981352 | -0.016986656 |  0.012137907 | -0.0396775902 |\n",
       "| SIDOR,W.J. |  6.86267423 |  0.326512345 |  0.223539990 | -0.193097037 |  0.39272570 | -0.2252404152 | -0.078211936 |  0.094658809 |  0.092912759 | -0.026791382 |  0.097065377 |  0.0754182646 |\n",
       "| SPEZIALE,J.A. | -2.02563865 |  1.179257159 | -0.096799714 |  0.538847164 | -0.19675847 | -0.2750388588 | -0.155081021 | -0.123100969 |  0.107227085 | -0.090216706 | -0.062818575 |  0.0119487538 |\n",
       "| SPONZO,M.J. | -1.20653232 | -0.525702950 |  0.152517934 |  0.111379839 | -0.28432243 | -0.0091172669 | -0.076640409 | -0.037530283 |  0.037412524 | -0.092612755 |  0.043416800 |  0.0591061425 |\n",
       "| STAPLETON,J.F. | -0.71990427 | -0.904025478 |  0.385888468 | -0.388914568 |  0.05031146 |  0.1162176328 |  0.001223657 | -0.099579966 | -0.191780133 | -0.025786502 |  0.075154360 |  0.0303893210 |\n",
       "| TESTO,R.J. |  2.10627832 |  0.938516933 | -0.212140800 | -0.785805182 |  0.05509681 | -0.2141084516 | -0.092137225 |  0.041876523 |  0.001824720 |  0.044400499 |  0.032758980 |  0.0213157355 |\n",
       "| TIERNEY,W.L.JR. | -1.35185243 |  1.087567805 |  0.091369799 |  0.243278899 | -0.76332403 | -0.1018517683 |  0.064918966 | -0.174549705 | -0.017910087 |  0.092546802 | -0.061236762 |  0.0627938594 |\n",
       "| WALL,R.A. |  2.58852864 |  1.904358121 |  0.425457947 | -0.115794124 |  0.24666383 |  0.0124709913 |  0.057849128 |  0.074091944 | -0.034663571 | -0.068939377 |  0.023180225 |  0.0123417004 |\n",
       "| WRIGHT,D.B. | -1.46295418 | -0.549611549 | -0.299660488 | -0.111793223 |  0.59836658 | -0.3820213787 | -0.033419611 |  0.022081206 | -0.058440648 |  0.156447730 | -0.020268712 | -0.0528375280 |\n",
       "| ZARRILLI,K.J. |  0.91567027 |  1.423919791 |  0.263911960 |  0.001755516 | -0.19330840 | -0.2023318536 | -0.131917575 |  0.169450551 | -0.125541256 | -0.126476855 |  0.015694950 |  0.0268835640 |\n",
       "\n",
       "\n",
       "\n",
       "\n"
      ],
      "text/plain": [
       "$sdev\n",
       " [1] 3.18331647 1.05078398 0.57697626 0.50383231 0.29060762 0.19309598\n",
       " [7] 0.14029545 0.12415832 0.08850690 0.07491146 0.05708042 0.04539134\n",
       "\n",
       "$rotation\n",
       "              PC1          PC2          PC3          PC4          PC5\n",
       "CONT  0.003075143  0.932890644 -0.334756548  0.058576867  0.093438368\n",
       "INTG -0.288550775 -0.182040993 -0.549360126  0.173977074 -0.014543880\n",
       "DMNR -0.286884206 -0.197565743 -0.556490386 -0.124412022 -0.228832817\n",
       "DILG -0.304354091  0.036304667  0.163629910  0.321395544 -0.301936920\n",
       "CFMG -0.302572733  0.168393523  0.207341904  0.012949223 -0.448430522\n",
       "DECI -0.301891969  0.127877299  0.297902771  0.030491779 -0.424003128\n",
       "PREP -0.309406446  0.032230248  0.151869345  0.213656069  0.202853400\n",
       "FAMI -0.306679527 -0.001315183  0.195290454  0.200651140  0.507470003\n",
       "ORAL -0.312708348 -0.003625720  0.002150634 -0.007441042  0.246059421\n",
       "WRIT -0.311061231 -0.031378756  0.056045596  0.137104995  0.305562842\n",
       "PHYS -0.280723624  0.089037698  0.154000444 -0.841266046  0.118424976\n",
       "RTEN -0.309790218 -0.039381306 -0.172869757 -0.184223629  0.006717911\n",
       "              PC6          PC7           PC8         PC9        PC10\n",
       "CONT -0.004064432 -0.005214784  6.006597e-02 -0.02514533  0.03038881\n",
       "INTG  0.369937339  0.449810741 -3.341645e-01 -0.27537794 -0.10897641\n",
       "DMNR -0.394724667 -0.466747889  2.470974e-01 -0.19910004  0.07241282\n",
       "DILG  0.598676072 -0.209710731  3.548587e-01  0.03977180  0.38339165\n",
       "CFMG -0.085728870 -0.246903359 -7.135261e-01  0.14342471 -0.09850310\n",
       "DECI -0.392609484  0.536429933  3.024227e-01 -0.25823773 -0.06743847\n",
       "PREP  0.083216652 -0.335390036  1.536754e-01 -0.10876864 -0.67986284\n",
       "FAMI -0.101538704  0.036378004 -2.038889e-02 -0.22306628 -0.04004599\n",
       "ORAL -0.150272440 -0.057580177 -9.062990e-02  0.29951714  0.25599455\n",
       "WRIT -0.238172386  0.060899994 -1.261203e-01  0.02497324  0.47478254\n",
       "PHYS  0.299281534 -0.024959951  1.364511e-05 -0.26627286  0.05900837\n",
       "RTEN  0.036126847  0.256194180  2.213898e-01  0.75645893 -0.24993250\n",
       "              PC11         PC12\n",
       "CONT -0.0145329260  0.007940919\n",
       "INTG  0.1125535650 -0.009848658\n",
       "DMNR -0.1343234234 -0.059121657\n",
       "DILG -0.0709517642 -0.053790339\n",
       "CFMG -0.1658680927 -0.025082947\n",
       "DECI  0.1284999526 -0.044141604\n",
       "PREP  0.3187612119  0.273286884\n",
       "FAMI -0.5733628652 -0.421739844\n",
       "ORAL  0.6386061655 -0.494391025\n",
       "WRIT -0.0004056397  0.696107204\n",
       "PHYS  0.0181381019  0.053783960\n",
       "RTEN -0.2855143026  0.080267574\n",
       "\n",
       "$center\n",
       "    CONT     INTG     DMNR     DILG     CFMG     DECI     PREP     FAMI \n",
       "7.437209 8.020930 7.516279 7.693023 7.479070 7.565116 7.467442 7.488372 \n",
       "    ORAL     WRIT     PHYS     RTEN \n",
       "7.293023 7.383721 7.934884 7.602326 \n",
       "\n",
       "$scale\n",
       "     CONT      INTG      DMNR      DILG      CFMG      DECI      PREP      FAMI \n",
       "0.9408768 0.7701447 1.1437054 0.9008978 0.8601102 0.8029362 0.9533702 0.9489868 \n",
       "     ORAL      WRIT      PHYS      RTEN \n",
       "1.0100437 0.9611328 0.9395753 1.1009711 \n",
       "\n",
       "$x\n",
       "                        PC1          PC2          PC3          PC4         PC5\n",
       "AARONSON,L.H.    0.58575085 -1.813099496  0.258493450 -0.885414654 -0.19810313\n",
       "ALEXANDER,J.M.  -2.38001153 -0.867893241 -0.460995510 -0.059917965 -0.30448920\n",
       "ARMENTANO,A.J.  -0.22513903 -0.298780266 -0.100848411  0.022217708 -0.13017390\n",
       "BERDON,R.I.     -3.61789929 -0.589367196  0.420730823  0.197307875  0.08296828\n",
       "BRACKEN,J.J.     6.87113152  0.135749491  0.955449401  1.069150774 -0.30075003\n",
       "BURNS,E.B.      -2.44547915 -1.405785788 -0.086247837 -0.148878688 -0.22772257\n",
       "CALLAHAN,R.J.   -3.89138356  3.110894543 -1.314876543 -0.018764248  0.21284769\n",
       "COHEN,S.S.       7.99841189 -0.267888584  0.507336497 -1.227736837 -0.07258545\n",
       "DALY,J.J.       -3.65964531 -0.144943790 -0.094195447  0.028960746 -0.29583854\n",
       "DANNEHY,J.F.    -1.04788778  1.135606571  0.814579222  0.003854039  0.37949109\n",
       "DEAN,H.H.        0.33709338 -0.464999441 -0.058900793 -0.751658216 -0.11242247\n",
       "DEVITA,H.J.      1.44067526 -1.218375607 -0.384466586  0.452235980 -0.12518210\n",
       "DRISCOLL,P.J.    0.66896509 -1.282675686 -1.239794532 -0.665294900  0.65132507\n",
       "GRILLO,A.E.      3.22591748 -0.559403536  0.023478046  0.915125061  0.02878954\n",
       "HADDEN,W.L.JR.  -1.35295403 -0.838829042  0.532444779 -0.225256379 -0.16775924\n",
       "HAMILL,E.C.      0.44482896 -0.180327619 -0.106039921 -0.192093511 -0.04601720\n",
       "HEALEY.A.H.      2.89780301  0.379397570 -0.524823931  0.450381779  0.28726579\n",
       "HULL,T.C.        0.71794078  0.457944683  0.410564947 -0.286548296  0.10280455\n",
       "LEVINE,I.       -0.64128997  0.893845438 -0.192938545  0.175918267  0.22924190\n",
       "LEVISTER,R.L.    4.35602343  2.415966019 -0.254950161 -0.243850553 -0.25796823\n",
       "MARTIN,L.F.      1.81857291 -0.792542516 -1.118234290 -0.240319482  0.14586908\n",
       "MCGRATH,J.F.     3.11914633  0.117576569 -0.287871221 -0.436184110 -0.25999353\n",
       "MIGNONE,A.F.     6.35459761 -1.435778312 -0.925405154  1.694394050  0.12124901\n",
       "MISSAL,H.M.      0.08218287 -1.465958762 -0.251313810 -0.053701172 -0.26869606\n",
       "MULVEY,H.M.     -3.35155302  0.130803077  0.122554855  0.134324822 -0.02396325\n",
       "NARUK,H.J.      -4.54888016  0.474152684  0.225635443  0.246582743  0.19452459\n",
       "O'BRIEN,F.J.    -1.50009420 -0.422965769 -0.218985306 -0.114576855 -0.18739782\n",
       "O'SULLIVAN,T.J. -3.46995962  0.001169151 -0.301651397  0.028787349 -0.31562249\n",
       "PASKEY,L.       -1.89318889  0.243290772  0.593637247  0.164971164  0.34899216\n",
       "RUBINOW,J.E.    -4.77881831 -0.442828269 -0.002947455  0.397266645  0.42862489\n",
       "SADEN.G.A.      -1.09912555 -0.340140418  1.846459807  0.175663982  0.33115081\n",
       "SATANIELLO,A.G. -0.54233983  1.010549922 -0.327794933 -0.084030798 -0.30667686\n",
       "SHEA,D.M.       -2.58305047 -0.394836299  0.670906316  0.111109337  0.27936379\n",
       "SHEA,J.F.JR.    -3.59661129 -0.160319030 -0.063074149  0.066117058 -0.12859723\n",
       "SIDOR,W.J.       6.86267423  0.326512345  0.223539990 -0.193097037  0.39272570\n",
       "SPEZIALE,J.A.   -2.02563865  1.179257159 -0.096799714  0.538847164 -0.19675847\n",
       "SPONZO,M.J.     -1.20653232 -0.525702950  0.152517934  0.111379839 -0.28432243\n",
       "STAPLETON,J.F.  -0.71990427 -0.904025478  0.385888468 -0.388914568  0.05031146\n",
       "TESTO,R.J.       2.10627832  0.938516933 -0.212140800 -0.785805182  0.05509681\n",
       "TIERNEY,W.L.JR. -1.35185243  1.087567805  0.091369799  0.243278899 -0.76332403\n",
       "WALL,R.A.        2.58852864  1.904358121  0.425457947 -0.115794124  0.24666383\n",
       "WRIGHT,D.B.     -1.46295418 -0.549611549 -0.299660488 -0.111793223  0.59836658\n",
       "ZARRILLI,K.J.    0.91567027  1.423919791  0.263911960  0.001755516 -0.19330840\n",
       "                          PC6          PC7          PC8          PC9\n",
       "AARONSON,L.H.   -0.0005757578  0.091378585  0.135269073  0.128575861\n",
       "ALEXANDER,J.M.   0.2291020429  0.146934313  0.290680897 -0.026883362\n",
       "ARMENTANO,A.J.  -0.0150672307 -0.039344729  0.091744399  0.067418254\n",
       "BERDON,R.I.      0.0823548542  0.041250034  0.088524595 -0.106836666\n",
       "BRACKEN,J.J.     0.3662956835  0.115683915 -0.097222215 -0.034938985\n",
       "BURNS,E.B.       0.2398656404 -0.029021619  0.118483627  0.044602878\n",
       "CALLAHAN,R.J.    0.0419396303  0.046420276  0.153019044 -0.072959759\n",
       "COHEN,S.S.      -0.2385888732  0.181235370  0.059937870 -0.134253736\n",
       "DALY,J.J.       -0.0969819070 -0.011887854 -0.146590548 -0.006526473\n",
       "DANNEHY,J.F.     0.2345704654  0.261943894 -0.074970279  0.096004824\n",
       "DEAN,H.H.        0.0422892179  0.160087605  0.015906093 -0.034269335\n",
       "DEVITA,H.J.     -0.3135682951  0.013853808 -0.102990057  0.168016090\n",
       "DRISCOLL,P.J.    0.0848006774 -0.073357378 -0.388568866 -0.057807983\n",
       "GRILLO,A.E.     -0.3315085264  0.340410028  0.049774146  0.051552641\n",
       "HADDEN,W.L.JR.  -0.1884860450 -0.110350351 -0.011223545  0.036420861\n",
       "HAMILL,E.C.      0.2939367115 -0.046408433  0.046811333  0.091929866\n",
       "HEALEY.A.H.      0.4210698555 -0.173786456  0.161432845  0.099503351\n",
       "HULL,T.C.        0.1213794801  0.244626896 -0.122849723  0.090044320\n",
       "LEVINE,I.        0.0418932411  0.171897077 -0.074269669  0.153332051\n",
       "LEVISTER,R.L.    0.2588890180 -0.129317484 -0.234380552 -0.057330645\n",
       "MARTIN,L.F.      0.2764326747 -0.050828262  0.025893427  0.077654607\n",
       "MCGRATH,J.F.    -0.0289770461 -0.151232397  0.079635008 -0.021153991\n",
       "MIGNONE,A.F.    -0.0942965186 -0.050942546  0.043601498 -0.171266489\n",
       "MISSAL,H.M.      0.0771725303 -0.169688886 -0.109551552 -0.025699414\n",
       "MULVEY,H.M.     -0.0757784669 -0.039687957 -0.120576589  0.062465366\n",
       "NARUK,H.J.      -0.1627861912  0.082996609 -0.029519767 -0.044385659\n",
       "O'BRIEN,F.J.    -0.0628189053  0.008748507 -0.082109673  0.031862615\n",
       "O'SULLIVAN,T.J.  0.0419802134  0.068746706  0.005959595 -0.161031626\n",
       "PASKEY,L.       -0.1540524249 -0.053576784  0.019551194  0.015813354\n",
       "RUBINOW,J.E.     0.0167613056  0.052193111  0.121580871 -0.014775106\n",
       "SADEN.G.A.       0.0949003323 -0.446311662  0.028944605 -0.003826142\n",
       "SATANIELLO,A.G. -0.0925027367 -0.147747501  0.128600108  0.097592542\n",
       "SHEA,D.M.        0.1911020749  0.089847604 -0.062737539 -0.089904153\n",
       "SHEA,J.F.JR.    -0.0197253554  0.048651991  0.024812230 -0.059981352\n",
       "SIDOR,W.J.      -0.2252404152 -0.078211936  0.094658809  0.092912759\n",
       "SPEZIALE,J.A.   -0.2750388588 -0.155081021 -0.123100969  0.107227085\n",
       "SPONZO,M.J.     -0.0091172669 -0.076640409 -0.037530283  0.037412524\n",
       "STAPLETON,J.F.   0.1162176328  0.001223657 -0.099579966 -0.191780133\n",
       "TESTO,R.J.      -0.2141084516 -0.092137225  0.041876523  0.001824720\n",
       "TIERNEY,W.L.JR. -0.1018517683  0.064918966 -0.174549705 -0.017910087\n",
       "WALL,R.A.        0.0124709913  0.057849128  0.074091944 -0.034663571\n",
       "WRIGHT,D.B.     -0.3820213787 -0.033419611  0.022081206 -0.058440648\n",
       "ZARRILLI,K.J.   -0.2023318536 -0.131917575  0.169450551 -0.125541256\n",
       "                        PC10         PC11          PC12\n",
       "AARONSON,L.H.   -0.119341425  0.010913499 -0.0598665378\n",
       "ALEXANDER,J.M.  -0.033482298 -0.136780444 -0.0064969215\n",
       "ARMENTANO,A.J.  -0.021651215 -0.068652395 -0.0016395476\n",
       "BERDON,R.I.     -0.062934470  0.023813265  0.0034183317\n",
       "BRACKEN,J.J.     0.031586001  0.087292928 -0.1160346423\n",
       "BURNS,E.B.       0.009661878  0.022036557 -0.0009017388\n",
       "CALLAHAN,R.J.    0.094455550  0.025127771 -0.0873311317\n",
       "COHEN,S.S.       0.033146639 -0.091568221 -0.0218655616\n",
       "DALY,J.J.        0.091369624 -0.011234683  0.0375220282\n",
       "DANNEHY,J.F.     0.020954205 -0.011273794 -0.0017827969\n",
       "DEAN,H.H.        0.036975822 -0.045887691  0.0365390911\n",
       "DEVITA,H.J.      0.099286743  0.062916215 -0.0392446477\n",
       "DRISCOLL,P.J.   -0.151281184 -0.046659654 -0.0182757879\n",
       "GRILLO,A.E.     -0.081441817 -0.018842793 -0.0303515066\n",
       "HADDEN,W.L.JR.  -0.013478349  0.116027430  0.0060235240\n",
       "HAMILL,E.C.      0.033427068  0.002414615  0.0696354274\n",
       "HEALEY.A.H.     -0.002305740 -0.002481062  0.0051253992\n",
       "HULL,T.C.        0.170597167 -0.010455887  0.0728601628\n",
       "LEVINE,I.       -0.101820814 -0.084569052  0.0069822027\n",
       "LEVISTER,R.L.   -0.080808578 -0.007094446 -0.0152944106\n",
       "MARTIN,L.F.      0.113323809  0.049838188  0.0014624317\n",
       "MCGRATH,J.F.     0.059978289  0.045941749 -0.0198343803\n",
       "MIGNONE,A.F.     0.022350067 -0.063143059  0.0662822794\n",
       "MISSAL,H.M.      0.046278658 -0.039343363 -0.0149977234\n",
       "MULVEY,H.M.     -0.030410251  0.011643122 -0.0243869469\n",
       "NARUK,H.J.       0.027573997  0.026900829  0.0173532786\n",
       "O'BRIEN,F.J.    -0.053075756  0.026791275 -0.0962722571\n",
       "O'SULLIVAN,T.J.  0.009363562  0.062069907 -0.0149897649\n",
       "PASKEY,L.        0.002017242 -0.045030415 -0.0443615193\n",
       "RUBINOW,J.E.    -0.048561561  0.080132548  0.0510988286\n",
       "SADEN.G.A.       0.084634783 -0.121227942 -0.0443504176\n",
       "SATANIELLO,A.G. -0.022897290 -0.012261482  0.0217814185\n",
       "SHEA,D.M.       -0.009075151  0.007561938  0.0545116136\n",
       "SHEA,J.F.JR.    -0.016986656  0.012137907 -0.0396775902\n",
       "SIDOR,W.J.      -0.026791382  0.097065377  0.0754182646\n",
       "SPEZIALE,J.A.   -0.090216706 -0.062818575  0.0119487538\n",
       "SPONZO,M.J.     -0.092612755  0.043416800  0.0591061425\n",
       "STAPLETON,J.F.  -0.025786502  0.075154360  0.0303893210\n",
       "TESTO,R.J.       0.044400499  0.032758980  0.0213157355\n",
       "TIERNEY,W.L.JR.  0.092546802 -0.061236762  0.0627938594\n",
       "WALL,R.A.       -0.068939377  0.023180225  0.0123417004\n",
       "WRIGHT,D.B.      0.156447730 -0.020268712 -0.0528375280\n",
       "ZARRILLI,K.J.   -0.126476855  0.015694950  0.0268835640\n"
      ]
     },
     "metadata": {},
     "output_type": "display_data"
    },
    {
     "data": {
      "text/html": [
       "<table class=\"dataframe\">\n",
       "<caption>A data.frame: 6 × 12</caption>\n",
       "<thead>\n",
       "\t<tr><th></th><th scope=col>CONT</th><th scope=col>INTG</th><th scope=col>DMNR</th><th scope=col>DILG</th><th scope=col>CFMG</th><th scope=col>DECI</th><th scope=col>PREP</th><th scope=col>FAMI</th><th scope=col>ORAL</th><th scope=col>WRIT</th><th scope=col>PHYS</th><th scope=col>RTEN</th></tr>\n",
       "\t<tr><th></th><th scope=col>&lt;dbl&gt;</th><th scope=col>&lt;dbl&gt;</th><th scope=col>&lt;dbl&gt;</th><th scope=col>&lt;dbl&gt;</th><th scope=col>&lt;dbl&gt;</th><th scope=col>&lt;dbl&gt;</th><th scope=col>&lt;dbl&gt;</th><th scope=col>&lt;dbl&gt;</th><th scope=col>&lt;dbl&gt;</th><th scope=col>&lt;dbl&gt;</th><th scope=col>&lt;dbl&gt;</th><th scope=col>&lt;dbl&gt;</th></tr>\n",
       "</thead>\n",
       "<tbody>\n",
       "\t<tr><th scope=row>AARONSON,L.H.</th><td>5.7</td><td>7.9</td><td>7.7</td><td>7.3</td><td>7.1</td><td>7.4</td><td>7.1</td><td>7.1</td><td>7.1</td><td>7.0</td><td>8.3</td><td>7.8</td></tr>\n",
       "\t<tr><th scope=row>ALEXANDER,J.M.</th><td>6.8</td><td>8.9</td><td>8.8</td><td>8.5</td><td>7.8</td><td>8.1</td><td>8.0</td><td>8.0</td><td>7.8</td><td>7.9</td><td>8.5</td><td>8.7</td></tr>\n",
       "\t<tr><th scope=row>ARMENTANO,A.J.</th><td>7.2</td><td>8.1</td><td>7.8</td><td>7.8</td><td>7.5</td><td>7.6</td><td>7.5</td><td>7.5</td><td>7.3</td><td>7.4</td><td>7.9</td><td>7.8</td></tr>\n",
       "\t<tr><th scope=row>BERDON,R.I.</th><td>6.8</td><td>8.8</td><td>8.5</td><td>8.8</td><td>8.3</td><td>8.5</td><td>8.7</td><td>8.7</td><td>8.4</td><td>8.5</td><td>8.8</td><td>8.7</td></tr>\n",
       "\t<tr><th scope=row>BRACKEN,J.J.</th><td>7.3</td><td>6.4</td><td>4.3</td><td>6.5</td><td>6.0</td><td>6.2</td><td>5.7</td><td>5.7</td><td>5.1</td><td>5.3</td><td>5.5</td><td>4.8</td></tr>\n",
       "\t<tr><th scope=row>BURNS,E.B.</th><td>6.2</td><td>8.8</td><td>8.7</td><td>8.5</td><td>7.9</td><td>8.0</td><td>8.1</td><td>8.0</td><td>8.0</td><td>8.0</td><td>8.6</td><td>8.6</td></tr>\n",
       "</tbody>\n",
       "</table>\n"
      ],
      "text/latex": [
       "A data.frame: 6 × 12\n",
       "\\begin{tabular}{r|llllllllllll}\n",
       "  & CONT & INTG & DMNR & DILG & CFMG & DECI & PREP & FAMI & ORAL & WRIT & PHYS & RTEN\\\\\n",
       "  & <dbl> & <dbl> & <dbl> & <dbl> & <dbl> & <dbl> & <dbl> & <dbl> & <dbl> & <dbl> & <dbl> & <dbl>\\\\\n",
       "\\hline\n",
       "\tAARONSON,L.H. & 5.7 & 7.9 & 7.7 & 7.3 & 7.1 & 7.4 & 7.1 & 7.1 & 7.1 & 7.0 & 8.3 & 7.8\\\\\n",
       "\tALEXANDER,J.M. & 6.8 & 8.9 & 8.8 & 8.5 & 7.8 & 8.1 & 8.0 & 8.0 & 7.8 & 7.9 & 8.5 & 8.7\\\\\n",
       "\tARMENTANO,A.J. & 7.2 & 8.1 & 7.8 & 7.8 & 7.5 & 7.6 & 7.5 & 7.5 & 7.3 & 7.4 & 7.9 & 7.8\\\\\n",
       "\tBERDON,R.I. & 6.8 & 8.8 & 8.5 & 8.8 & 8.3 & 8.5 & 8.7 & 8.7 & 8.4 & 8.5 & 8.8 & 8.7\\\\\n",
       "\tBRACKEN,J.J. & 7.3 & 6.4 & 4.3 & 6.5 & 6.0 & 6.2 & 5.7 & 5.7 & 5.1 & 5.3 & 5.5 & 4.8\\\\\n",
       "\tBURNS,E.B. & 6.2 & 8.8 & 8.7 & 8.5 & 7.9 & 8.0 & 8.1 & 8.0 & 8.0 & 8.0 & 8.6 & 8.6\\\\\n",
       "\\end{tabular}\n"
      ],
      "text/markdown": [
       "\n",
       "A data.frame: 6 × 12\n",
       "\n",
       "| <!--/--> | CONT &lt;dbl&gt; | INTG &lt;dbl&gt; | DMNR &lt;dbl&gt; | DILG &lt;dbl&gt; | CFMG &lt;dbl&gt; | DECI &lt;dbl&gt; | PREP &lt;dbl&gt; | FAMI &lt;dbl&gt; | ORAL &lt;dbl&gt; | WRIT &lt;dbl&gt; | PHYS &lt;dbl&gt; | RTEN &lt;dbl&gt; |\n",
       "|---|---|---|---|---|---|---|---|---|---|---|---|---|\n",
       "| AARONSON,L.H. | 5.7 | 7.9 | 7.7 | 7.3 | 7.1 | 7.4 | 7.1 | 7.1 | 7.1 | 7.0 | 8.3 | 7.8 |\n",
       "| ALEXANDER,J.M. | 6.8 | 8.9 | 8.8 | 8.5 | 7.8 | 8.1 | 8.0 | 8.0 | 7.8 | 7.9 | 8.5 | 8.7 |\n",
       "| ARMENTANO,A.J. | 7.2 | 8.1 | 7.8 | 7.8 | 7.5 | 7.6 | 7.5 | 7.5 | 7.3 | 7.4 | 7.9 | 7.8 |\n",
       "| BERDON,R.I. | 6.8 | 8.8 | 8.5 | 8.8 | 8.3 | 8.5 | 8.7 | 8.7 | 8.4 | 8.5 | 8.8 | 8.7 |\n",
       "| BRACKEN,J.J. | 7.3 | 6.4 | 4.3 | 6.5 | 6.0 | 6.2 | 5.7 | 5.7 | 5.1 | 5.3 | 5.5 | 4.8 |\n",
       "| BURNS,E.B. | 6.2 | 8.8 | 8.7 | 8.5 | 7.9 | 8.0 | 8.1 | 8.0 | 8.0 | 8.0 | 8.6 | 8.6 |\n",
       "\n"
      ],
      "text/plain": [
       "               CONT INTG DMNR DILG CFMG DECI PREP FAMI ORAL WRIT PHYS RTEN\n",
       "AARONSON,L.H.  5.7  7.9  7.7  7.3  7.1  7.4  7.1  7.1  7.1  7.0  8.3  7.8 \n",
       "ALEXANDER,J.M. 6.8  8.9  8.8  8.5  7.8  8.1  8.0  8.0  7.8  7.9  8.5  8.7 \n",
       "ARMENTANO,A.J. 7.2  8.1  7.8  7.8  7.5  7.6  7.5  7.5  7.3  7.4  7.9  7.8 \n",
       "BERDON,R.I.    6.8  8.8  8.5  8.8  8.3  8.5  8.7  8.7  8.4  8.5  8.8  8.7 \n",
       "BRACKEN,J.J.   7.3  6.4  4.3  6.5  6.0  6.2  5.7  5.7  5.1  5.3  5.5  4.8 \n",
       "BURNS,E.B.     6.2  8.8  8.7  8.5  7.9  8.0  8.1  8.0  8.0  8.0  8.6  8.6 "
      ]
     },
     "metadata": {},
     "output_type": "display_data"
    }
   ],
   "source": [
    "#Analizar\n",
    "p <- prcomp(USJudgeRatings, scale. = TRUE)\n",
    "summary(p)\n",
    "length(USJudgeRatings)\n",
    "length(p)\n",
    "head(p)\n",
    "head(USJudgeRatings)"
   ]
  },
  {
   "attachments": {},
   "cell_type": "markdown",
   "metadata": {},
   "source": [
    "(b) Load the package ggbiplot and plot the two first components with the function ggbiplot(). You can\n",
    "label each point with the lawyer’s name by setting the labels parameter."
   ]
  },
  {
   "cell_type": "code",
   "execution_count": 76,
   "metadata": {
    "vscode": {
     "languageId": "r"
    }
   },
   "outputs": [
    {
     "name": "stderr",
     "output_type": "stream",
     "text": [
      "Downloading GitHub repo vqv/ggbiplot@HEAD\n",
      "\n"
     ]
    },
    {
     "name": "stdout",
     "output_type": "stream",
     "text": [
      "plyr (NA -> 1.8.8) [CRAN]\n"
     ]
    },
    {
     "name": "stderr",
     "output_type": "stream",
     "text": [
      "Installing 1 packages: plyr\n",
      "\n",
      "Installing package into 'C:/Users/pc/AppData/Local/R/win-library/4.3'\n",
      "(as 'lib' is unspecified)\n",
      "\n"
     ]
    },
    {
     "name": "stdout",
     "output_type": "stream",
     "text": [
      "package 'plyr' successfully unpacked and MD5 sums checked\n",
      "\n",
      "The downloaded binary packages are in\n",
      "\tC:\\Users\\pc\\AppData\\Local\\Temp\\Rtmp0OfZ9t\\downloaded_packages\n",
      "\u001b[36m──\u001b[39m \u001b[36mR CMD build\u001b[39m \u001b[36m─────────────────────────────────────────────────────────────────\u001b[39m\n",
      "* checking for file 'C:\\Users\\pc\\AppData\\Local\\Temp\\Rtmp0OfZ9t\\remotes65015df4738\\vqv-ggbiplot-7325e88/DESCRIPTION' ... OK\n",
      "* preparing 'ggbiplot':\n",
      "* checking DESCRIPTION meta-information ... OK\n",
      "* checking for LF line-endings in source and make files and shell scripts\n",
      "* checking for empty or unneeded directories\n",
      "* looking to see if a 'data/datalist' file should be added\n",
      "* building 'ggbiplot_0.55.tar.gz'\n",
      "\n"
     ]
    },
    {
     "name": "stderr",
     "output_type": "stream",
     "text": [
      "Installing package into 'C:/Users/pc/AppData/Local/R/win-library/4.3'\n",
      "(as 'lib' is unspecified)\n",
      "\n",
      "Loading required package: ggplot2\n",
      "\n",
      "Loading required package: plyr\n",
      "\n",
      "------------------------------------------------------------------------------\n",
      "\n",
      "You have loaded plyr after dplyr - this is likely to cause problems.\n",
      "If you need functions from both plyr and dplyr, please load plyr first, then dplyr:\n",
      "library(plyr); library(dplyr)\n",
      "\n",
      "------------------------------------------------------------------------------\n",
      "\n",
      "\n",
      "Attaching package: 'plyr'\n",
      "\n",
      "\n",
      "The following objects are masked from 'package:dplyr':\n",
      "\n",
      "    arrange, count, desc, failwith, id, mutate, rename, summarise,\n",
      "    summarize\n",
      "\n",
      "\n",
      "Loading required package: scales\n",
      "\n",
      "\n",
      "Attaching package: 'scales'\n",
      "\n",
      "\n",
      "The following object is masked from 'package:readr':\n",
      "\n",
      "    col_factor\n",
      "\n",
      "\n",
      "Loading required package: grid\n",
      "\n"
     ]
    },
    {
     "data": {
      "text/plain": [
       "Importance of components:\n",
       "                          PC1     PC2     PC3     PC4     PC5     PC6     PC7\n",
       "Standard deviation     3.1833 1.05078 0.57698 0.50383 0.29061 0.19310 0.14030\n",
       "Proportion of Variance 0.8445 0.09201 0.02774 0.02115 0.00704 0.00311 0.00164\n",
       "Cumulative Proportion  0.8445 0.93647 0.96421 0.98537 0.99240 0.99551 0.99715\n",
       "                           PC8     PC9    PC10    PC11    PC12\n",
       "Standard deviation     0.12416 0.08851 0.07491 0.05708 0.04539\n",
       "Proportion of Variance 0.00128 0.00065 0.00047 0.00027 0.00017\n",
       "Cumulative Proportion  0.99844 0.99909 0.99956 0.99983 1.00000"
      ]
     },
     "metadata": {},
     "output_type": "display_data"
    },
    {
     "data": {
      "image/png": "[encoded data removed]",
      "text/plain": [
       "plot without title"
      ]
     },
     "metadata": {
      "image/png": {
       "height": 420,
       "width": 420
      }
     },
     "output_type": "display_data"
    }
   ],
   "source": [
    "# Instalar el paquete ggbiplot desde GitHub\n",
    "devtools::install_github(\"vqv/ggbiplot\")\n",
    "\n",
    "# Cargar el paquete ggbiplot\n",
    "library(ggbiplot)\n",
    "\n",
    "# Obtener los componentes principales\n",
    "p <- prcomp(USJudgeRatings, scale. = TRUE)\n",
    "summary(p)\n",
    "\n",
    "# Plot de los dos primeros componentes\n",
    "ggbiplot(p, labels = rownames(USJudgeRatings))\n"
   ]
  },
  {
   "cell_type": "code",
   "execution_count": 78,
   "metadata": {
    "vscode": {
     "languageId": "r"
    }
   },
   "outputs": [
    {
     "data": {
      "text/plain": [
       "      CONT             INTG            DMNR            DILG      \n",
       " Min.   : 5.700   Min.   :5.900   Min.   :4.300   Min.   :5.100  \n",
       " 1st Qu.: 6.850   1st Qu.:7.550   1st Qu.:6.900   1st Qu.:7.150  \n",
       " Median : 7.300   Median :8.100   Median :7.700   Median :7.800  \n",
       " Mean   : 7.437   Mean   :8.021   Mean   :7.516   Mean   :7.693  \n",
       " 3rd Qu.: 7.900   3rd Qu.:8.550   3rd Qu.:8.350   3rd Qu.:8.450  \n",
       " Max.   :10.600   Max.   :9.200   Max.   :9.000   Max.   :9.000  \n",
       "      CFMG            DECI            PREP            FAMI      \n",
       " Min.   :5.400   Min.   :5.700   Min.   :4.800   Min.   :5.100  \n",
       " 1st Qu.:7.000   1st Qu.:7.100   1st Qu.:6.900   1st Qu.:6.950  \n",
       " Median :7.600   Median :7.700   Median :7.700   Median :7.600  \n",
       " Mean   :7.479   Mean   :7.565   Mean   :7.467   Mean   :7.488  \n",
       " 3rd Qu.:8.050   3rd Qu.:8.150   3rd Qu.:8.200   3rd Qu.:8.250  \n",
       " Max.   :8.700   Max.   :8.800   Max.   :9.100   Max.   :9.100  \n",
       "      ORAL            WRIT            PHYS            RTEN      \n",
       " Min.   :4.700   Min.   :4.900   Min.   :4.700   Min.   :4.800  \n",
       " 1st Qu.:6.850   1st Qu.:6.900   1st Qu.:7.700   1st Qu.:7.150  \n",
       " Median :7.500   Median :7.600   Median :8.100   Median :7.800  \n",
       " Mean   :7.293   Mean   :7.384   Mean   :7.935   Mean   :7.602  \n",
       " 3rd Qu.:8.000   3rd Qu.:8.050   3rd Qu.:8.500   3rd Qu.:8.250  \n",
       " Max.   :8.900   Max.   :9.000   Max.   :9.100   Max.   :9.200  "
      ]
     },
     "metadata": {},
     "output_type": "display_data"
    },
    {
     "name": "stderr",
     "output_type": "stream",
     "text": [
      "Warning message:\n",
      "\"package 'ggbiplot' is in use and will not be installed\"\n"
     ]
    },
    {
     "data": {
      "text/plain": [
       "Importance of components:\n",
       "                          PC1     PC2     PC3     PC4     PC5     PC6     PC7\n",
       "Standard deviation     3.1833 1.05078 0.57698 0.50383 0.29061 0.19310 0.14030\n",
       "Proportion of Variance 0.8445 0.09201 0.02774 0.02115 0.00704 0.00311 0.00164\n",
       "Cumulative Proportion  0.8445 0.93647 0.96421 0.98537 0.99240 0.99551 0.99715\n",
       "                           PC8     PC9    PC10    PC11    PC12\n",
       "Standard deviation     0.12416 0.08851 0.07491 0.05708 0.04539\n",
       "Proportion of Variance 0.00128 0.00065 0.00047 0.00027 0.00017\n",
       "Cumulative Proportion  0.99844 0.99909 0.99956 0.99983 1.00000"
      ]
     },
     "metadata": {},
     "output_type": "display_data"
    },
    {
     "data": {
      "image/png": "[encoded data removed]",
      "text/plain": [
       "plot without title"
      ]
     },
     "metadata": {
      "image/png": {
       "height": 420,
       "width": 420
      }
     },
     "output_type": "display_data"
    }
   ],
   "source": [
    "#MISMO RESULTADO:\n",
    "\n",
    "\n",
    "# Cargar el paquete datasets\n",
    "library(datasets)\n",
    "# Cargar el conjunto de datos USJudgeRatings\n",
    "data(USJudgeRatings)\n",
    "summary(USJudgeRatings)\n",
    "\n",
    "# Cargar el paquete ggbiplot\n",
    "install.packages(\"ggbiplot\")\n",
    "library(ggbiplot)\n",
    "\n",
    "# Obtener los componentes principales\n",
    "p <- prcomp(USJudgeRatings, scale. = TRUE)\n",
    "summary(p)\n",
    "\n",
    "# Plot de los dos primeros componentes\n",
    "ggbiplot(p, labels = rownames(USJudgeRatings))\n"
   ]
  }
 ],
 "metadata": {
  "kernelspec": {
   "display_name": "R",
   "language": "R",
   "name": "ir"
  },
  "language_info": {
   "codemirror_mode": "r",
   "file_extension": ".r",
   "mimetype": "text/x-r-source",
   "name": "R",
   "pygments_lexer": "r",
   "version": "4.3.0"
  },
  "orig_nbformat": 4
 },
 "nbformat": 4,
 "nbformat_minor": 2
}
