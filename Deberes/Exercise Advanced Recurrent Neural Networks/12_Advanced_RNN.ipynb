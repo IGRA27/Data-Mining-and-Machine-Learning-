{
  "nbformat": 4,
  "nbformat_minor": 0,
  "metadata": {
    "colab": {
      "provenance": []
    },
    "kernelspec": {
      "name": "python3",
      "display_name": "Python 3"
    },
    "language_info": {
      "name": "python"
    }
  },
  "cells": [
    {
      "cell_type": "markdown",
      "source": [
        "### AUTOR: Isaac Reyes\n",
        "\n",
        "# 12 Advanced Recurrent Neural Networks\n",
        "Advanced Neural Network architectures represent significant advancements in the field of deep learning, which are most used in the domain of sequence modeling and processing. These architectures build upon the traditional feedforward neural networks and introduce recurrent connections, allowing them to exhibit temporal dynamics and memory capabilities.\n",
        "\n",
        "The Elman RNN employs a simple recurrent loop in its hidden layer, enabling it to capture short-term temporal dependencies, making it suitable for applications such as speech recognition and time series analysis.\n",
        "The Jordan RNN possesses feedback connections from the output layer to the hidden layer, rendering it capable of modeling longer-term dependencies, which finds applications in machine translation and language modeling tasks.\n",
        "The Bidirectional RNN combines both forward and backward temporal processing, allowing it to consider both past and future context in its predictions, making it effective in natural language processing tasks such as sentiment analysis and named entity recognition.\n",
        "These advanced neural network architectures significantly expand the modeling capabilities of traditional neural networks and have become indispensable tools in various sequential data processing applications.\n",
        "\n",
        "### Exercise\n",
        "\n",
        "**Use the IMDB movie reviews dataset to perform sentiment analysis with a Elman, Jordan and Bidirectional RNN. Highlight the differences on the performance of each architecture.**\n",
        "\n"
      ],
      "metadata": {
        "id": "ExwMMG0qi1AR"
      }
    },
    {
      "cell_type": "code",
      "source": [
        "#Aqui añadimos las librerias\n",
        "from tensorflow.keras.datasets import imdb\n",
        "from tensorflow.keras.preprocessing.sequence import pad_sequences\n",
        "from tensorflow.keras.models import Sequential\n",
        "#Aqui añado otras librerias:\n",
        "from tensorflow.keras.layers import Embedding, SimpleRNN, Dense, Bidirectional, TimeDistributed, Lambda\n",
        "from tensorflow.keras import backend as K\n"
      ],
      "metadata": {
        "id": "qSDwYiq9kNsn"
      },
      "execution_count": 5,
      "outputs": []
    },
    {
      "cell_type": "markdown",
      "source": [
        "*1. Load the IMDB movie reviews dataset*"
      ],
      "metadata": {
        "id": "TETFXB_RkRv0"
      }
    },
    {
      "cell_type": "code",
      "execution_count": 6,
      "metadata": {
        "id": "hs2eqTOIg7z3"
      },
      "outputs": [],
      "source": [
        "max_features = 5000  # Number of words to consider as features\n",
        "max_len_short = 100  # Maximum sequence length for short sequences\n",
        "max_len_long = 500   # Maximum sequence length for long sequences\n",
        "#Todo esto son constantes\n",
        "(x_train, y_train), (x_test, y_test) = imdb.load_data(num_words=max_features)"
      ]
    },
    {
      "cell_type": "markdown",
      "source": [
        "2. Pad sequences to a fixed length for RNN input"
      ],
      "metadata": {
        "id": "dKs8bGScjlAC"
      }
    },
    {
      "cell_type": "code",
      "source": [
        "x_train_short = pad_sequences(x_train, maxlen=max_len_short)\n",
        "x_test_short = pad_sequences(x_test, maxlen=max_len_short)\n",
        "#cargamos la data\n",
        "x_train_long = pad_sequences(x_train, maxlen=max_len_long)\n",
        "x_test_long = pad_sequences(x_test, maxlen=max_len_long)\n"
      ],
      "metadata": {
        "id": "c9wwcrMmjoV_"
      },
      "execution_count": 7,
      "outputs": []
    },
    {
      "cell_type": "markdown",
      "source": [
        "3. Build the distinct RNN models"
      ],
      "metadata": {
        "id": "rE0lyL4Njoqn"
      }
    },
    {
      "cell_type": "code",
      "source": [
        "def build_elman_rnn_model():\n",
        "    model = Sequential()\n",
        "    model.add(Embedding(max_features, 32))\n",
        "    model.add(SimpleRNN(32, activation='relu'))\n",
        "    model.add(Dense(1, activation='sigmoid'))\n",
        "    return model\n",
        "\n",
        "    #aqui hago cambios porque a red Jordan no se puede implementar directamente con las capas proporcionadas por Keras porque\n",
        "    #requiere retroalimentación de la salida de la red a la siguiente entrada, lo que no se permite con las capas RNN estándar.\n",
        "    #Sin embargo, una forma de implementar una red Jordan es utilizando una combinación de una capa SimpleRNN con\n",
        "    #return_sequences=True (para obtener la secuencia completa de salidas) seguida por una capa TimeDistributed(Dense(...)) para transformar las salidas en predicciones\n",
        "    #en cada paso de tiempo, y luego una capa Lambda para tomar la salida final.\n",
        "def build_jordan_rnn_model():\n",
        "    model = Sequential()\n",
        "    model.add(Embedding(max_features, 32))\n",
        "    model.add(SimpleRNN(32, activation='relu', return_sequences=True))\n",
        "    #añado:\n",
        "    model.add(TimeDistributed(Dense(32)))\n",
        "    model.add(Lambda(lambda x: K.sum(x, axis=1)))\n",
        "    model.add(Dense(1, activation='sigmoid'))\n",
        "    return model\n",
        "\n",
        "def build_bidirectional_rnn_model():\n",
        "    model = Sequential()\n",
        "    model.add(Embedding(max_features, 32))\n",
        "    model.add(Bidirectional(SimpleRNN(32, activation='relu')))\n",
        "    model.add(Dense(1, activation='sigmoid'))\n",
        "    return model"
      ],
      "metadata": {
        "id": "xQ5JLxIrjrIc"
      },
      "execution_count": 8,
      "outputs": []
    },
    {
      "cell_type": "markdown",
      "source": [
        "4. Train and evaluate the RNN model"
      ],
      "metadata": {
        "id": "Jw194MP2jrXf"
      }
    },
    {
      "cell_type": "code",
      "source": [
        "def train_and_evaluate_model(model, x_train, y_train, x_test, y_test):\n",
        "    model.compile(optimizer='adam', loss='binary_crossentropy', metrics=['accuracy'])\n",
        "    history = model.fit(x_train, y_train, epochs=5, batch_size=128, validation_split=0.2)\n",
        "    loss, accuracy = model.evaluate(x_test, y_test)\n",
        "    return loss, accuracy, history"
      ],
      "metadata": {
        "id": "60LX-iDcjuBS"
      },
      "execution_count": 9,
      "outputs": []
    },
    {
      "cell_type": "markdown",
      "source": [
        "5. Train and evaluate the RNN model on short sequences"
      ],
      "metadata": {
        "id": "vDmC2EEqjuWq"
      }
    },
    {
      "cell_type": "markdown",
      "source": [
        "##### Elman RNN Model"
      ],
      "metadata": {
        "id": "zAeCRCecoDBX"
      }
    },
    {
      "cell_type": "code",
      "source": [
        "print(\"\\nTraining RNN model on short sequences:\")\n",
        "rnn_model_short = build_elman_rnn_model()\n",
        "loss_short, accuracy_short, history_short = train_and_evaluate_model(\n",
        "    rnn_model_short, x_train_short, y_train, x_test_short, y_test\n",
        ")"
      ],
      "metadata": {
        "colab": {
          "base_uri": "https://localhost:8080/"
        },
        "id": "IFHSHExGjwru",
        "outputId": "e92f8960-f5f0-488c-d3a3-aa29a97ab811"
      },
      "execution_count": 10,
      "outputs": [
        {
          "output_type": "stream",
          "name": "stdout",
          "text": [
            "\n",
            "Training RNN model on short sequences:\n",
            "Epoch 1/5\n",
            "157/157 [==============================] - 5s 24ms/step - loss: 0.6009 - accuracy: 0.6657 - val_loss: 0.4191 - val_accuracy: 0.8092\n",
            "Epoch 2/5\n",
            "157/157 [==============================] - 4s 27ms/step - loss: 0.3601 - accuracy: 0.8447 - val_loss: 0.4082 - val_accuracy: 0.8172\n",
            "Epoch 3/5\n",
            "157/157 [==============================] - 4s 23ms/step - loss: 0.2806 - accuracy: 0.8839 - val_loss: 0.3604 - val_accuracy: 0.8402\n",
            "Epoch 4/5\n",
            "157/157 [==============================] - 4s 24ms/step - loss: 0.2384 - accuracy: 0.9060 - val_loss: 0.4038 - val_accuracy: 0.8384\n",
            "Epoch 5/5\n",
            "157/157 [==============================] - 4s 27ms/step - loss: 0.2128 - accuracy: 0.9176 - val_loss: 0.3768 - val_accuracy: 0.8320\n",
            "782/782 [==============================] - 3s 4ms/step - loss: 0.3716 - accuracy: 0.8381\n"
          ]
        }
      ]
    },
    {
      "cell_type": "markdown",
      "source": [
        "##### Jordan RNN Model"
      ],
      "metadata": {
        "id": "NzBZdpJEoSwF"
      }
    },
    {
      "cell_type": "code",
      "source": [
        "print(\"\\nTraining Jordan RNN model on short sequences:\")\n",
        "jordan_model_short = build_jordan_rnn_model()\n",
        "loss_short_jordan, accuracy_short_jordan, history_short_jordan = train_and_evaluate_model(\n",
        "    jordan_model_short, x_train_short, y_train, x_test_short, y_test)"
      ],
      "metadata": {
        "colab": {
          "base_uri": "https://localhost:8080/"
        },
        "id": "5GshvkcJoWxd",
        "outputId": "de520994-68eb-4d3e-f8ce-deb650e4866f"
      },
      "execution_count": 11,
      "outputs": [
        {
          "output_type": "stream",
          "name": "stdout",
          "text": [
            "\n",
            "Training Jordan RNN model on short sequences:\n",
            "Epoch 1/5\n",
            "157/157 [==============================] - 7s 35ms/step - loss: 0.4926 - accuracy: 0.7656 - val_loss: 0.3540 - val_accuracy: 0.8442\n",
            "Epoch 2/5\n",
            "157/157 [==============================] - 4s 28ms/step - loss: 0.2792 - accuracy: 0.8852 - val_loss: 0.3878 - val_accuracy: 0.8254\n",
            "Epoch 3/5\n",
            "157/157 [==============================] - 5s 30ms/step - loss: 0.2190 - accuracy: 0.9133 - val_loss: 0.3750 - val_accuracy: 0.8446\n",
            "Epoch 4/5\n",
            "157/157 [==============================] - 5s 30ms/step - loss: 0.1512 - accuracy: 0.9436 - val_loss: 0.4810 - val_accuracy: 0.8332\n",
            "Epoch 5/5\n",
            "157/157 [==============================] - 4s 27ms/step - loss: 0.0923 - accuracy: 0.9676 - val_loss: 0.5867 - val_accuracy: 0.8238\n",
            "782/782 [==============================] - 4s 6ms/step - loss: 0.6082 - accuracy: 0.8200\n"
          ]
        }
      ]
    },
    {
      "cell_type": "markdown",
      "source": [
        "##### Bidirectional RNN Model"
      ],
      "metadata": {
        "id": "wRWByLszoXI-"
      }
    },
    {
      "cell_type": "code",
      "source": [
        "print(\"\\nTraining Bidirectional RNN model on short sequences:\")\n",
        "bidirectional_model_short = build_bidirectional_rnn_model()\n",
        "loss_short_bidirectional, accuracy_short_bidirectional, history_short_bidirectional = train_and_evaluate_model(\n",
        "    bidirectional_model_short, x_train_short, y_train, x_test_short, y_test)"
      ],
      "metadata": {
        "colab": {
          "base_uri": "https://localhost:8080/"
        },
        "id": "ac-GaRwWoXdq",
        "outputId": "102cecaa-74c6-4bbb-c710-a95f34be7b84"
      },
      "execution_count": 12,
      "outputs": [
        {
          "output_type": "stream",
          "name": "stdout",
          "text": [
            "\n",
            "Training Bidirectional RNN model on short sequences:\n",
            "Epoch 1/5\n",
            "157/157 [==============================] - 8s 40ms/step - loss: 0.6239 - accuracy: 0.6374 - val_loss: 0.4615 - val_accuracy: 0.7998\n",
            "Epoch 2/5\n",
            "157/157 [==============================] - 6s 39ms/step - loss: 0.3794 - accuracy: 0.8342 - val_loss: 0.3597 - val_accuracy: 0.8410\n",
            "Epoch 3/5\n",
            "157/157 [==============================] - 6s 39ms/step - loss: 0.2831 - accuracy: 0.8830 - val_loss: 0.3536 - val_accuracy: 0.8410\n",
            "Epoch 4/5\n",
            "157/157 [==============================] - 7s 44ms/step - loss: 0.2539 - accuracy: 0.8981 - val_loss: 0.3713 - val_accuracy: 0.8340\n",
            "Epoch 5/5\n",
            "157/157 [==============================] - 6s 41ms/step - loss: 0.2048 - accuracy: 0.9196 - val_loss: 0.3774 - val_accuracy: 0.8390\n",
            "782/782 [==============================] - 6s 7ms/step - loss: 0.3698 - accuracy: 0.8378\n"
          ]
        }
      ]
    },
    {
      "cell_type": "markdown",
      "source": [
        "6. Train and evaluate the RNN model on long sequences"
      ],
      "metadata": {
        "id": "KJ_Sxrsejw4g"
      }
    },
    {
      "cell_type": "code",
      "source": [
        "print(\"\\nTraining Elman RNN model on long sequences:\")\n",
        "rnn_model_long = build_elman_rnn_model()\n",
        "loss_long, accuracy_long, history_long = train_and_evaluate_model(\n",
        "    rnn_model_long, x_train_long, y_train, x_test_long, y_test\n",
        ")"
      ],
      "metadata": {
        "colab": {
          "base_uri": "https://localhost:8080/"
        },
        "id": "i3Lb2rXKjy4Z",
        "outputId": "74857d9e-794e-4677-f1ff-d4265bb1f2ce"
      },
      "execution_count": 13,
      "outputs": [
        {
          "output_type": "stream",
          "name": "stdout",
          "text": [
            "\n",
            "Training Elman RNN model on long sequences:\n",
            "Epoch 1/5\n",
            "157/157 [==============================] - 20s 118ms/step - loss: 0.6573 - accuracy: 0.6155 - val_loss: 0.5872 - val_accuracy: 0.7254\n",
            "Epoch 2/5\n",
            "157/157 [==============================] - 18s 116ms/step - loss: 0.4669 - accuracy: 0.7936 - val_loss: 0.4666 - val_accuracy: 0.8024\n",
            "Epoch 3/5\n",
            "157/157 [==============================] - 19s 119ms/step - loss: 0.3709 - accuracy: 0.8419 - val_loss: 0.3895 - val_accuracy: 0.8362\n",
            "Epoch 4/5\n",
            "157/157 [==============================] - 18s 116ms/step - loss: 0.4056 - accuracy: 0.8177 - val_loss: 0.4593 - val_accuracy: 0.7792\n",
            "Epoch 5/5\n",
            "157/157 [==============================] - 19s 120ms/step - loss: 0.2916 - accuracy: 0.8796 - val_loss: 0.3860 - val_accuracy: 0.8430\n",
            "782/782 [==============================] - 13s 17ms/step - loss: 0.3818 - accuracy: 0.8470\n"
          ]
        }
      ]
    },
    {
      "cell_type": "markdown",
      "source": [
        "##### Jordan RNN Model"
      ],
      "metadata": {
        "id": "6wsxi4LZonq8"
      }
    },
    {
      "cell_type": "code",
      "source": [
        "print(\"\\nTraining Jordan RNN model on long sequences:\")\n",
        "jordan_model_long = build_jordan_rnn_model()\n",
        "loss_long_jordan, accuracy_long_jordan, history_long_jordan = train_and_evaluate_model(\n",
        "    jordan_model_long, x_train_long, y_train, x_test_long, y_test)"
      ],
      "metadata": {
        "colab": {
          "base_uri": "https://localhost:8080/"
        },
        "id": "7OyIgxU-ooLB",
        "outputId": "d987a6c1-3561-4a53-aa75-0fb9c18910c9"
      },
      "execution_count": 14,
      "outputs": [
        {
          "output_type": "stream",
          "name": "stdout",
          "text": [
            "\n",
            "Training Jordan RNN model on long sequences:\n",
            "Epoch 1/5\n",
            "157/157 [==============================] - 24s 145ms/step - loss: 0.6316 - accuracy: 0.7537 - val_loss: 0.3272 - val_accuracy: 0.8760\n",
            "Epoch 2/5\n",
            "157/157 [==============================] - 22s 143ms/step - loss: 0.2686 - accuracy: 0.8963 - val_loss: 0.2916 - val_accuracy: 0.8878\n",
            "Epoch 3/5\n",
            "157/157 [==============================] - 22s 143ms/step - loss: 0.1924 - accuracy: 0.9283 - val_loss: 0.3011 - val_accuracy: 0.8886\n",
            "Epoch 4/5\n",
            "157/157 [==============================] - 23s 144ms/step - loss: 0.1608 - accuracy: 0.9380 - val_loss: 0.3523 - val_accuracy: 0.8802\n",
            "Epoch 5/5\n",
            "157/157 [==============================] - 23s 145ms/step - loss: 0.1117 - accuracy: 0.9584 - val_loss: 0.4766 - val_accuracy: 0.8576\n",
            "782/782 [==============================] - 14s 19ms/step - loss: 0.4747 - accuracy: 0.8528\n"
          ]
        }
      ]
    },
    {
      "cell_type": "markdown",
      "source": [
        "##### Bidirectional RNN Model"
      ],
      "metadata": {
        "id": "4uOjkBPFoolP"
      }
    },
    {
      "cell_type": "code",
      "source": [
        "print(\"\\nTraining Bidirectional RNN model on long sequences:\")\n",
        "bidirectional_model_long = build_bidirectional_rnn_model()\n",
        "loss_long_bidirectional, accuracy_long_bidirectional, history_long_bidirectional = train_and_evaluate_model(\n",
        "    bidirectional_model_long, x_train_long, y_train, x_test_long, y_test)"
      ],
      "metadata": {
        "colab": {
          "base_uri": "https://localhost:8080/"
        },
        "id": "ttARHcz0oo5e",
        "outputId": "d884ff01-dba5-425c-83e3-f18f7079b307"
      },
      "execution_count": 15,
      "outputs": [
        {
          "output_type": "stream",
          "name": "stdout",
          "text": [
            "\n",
            "Training Bidirectional RNN model on long sequences:\n",
            "Epoch 1/5\n",
            "157/157 [==============================] - 33s 202ms/step - loss: 0.6452 - accuracy: 0.6297 - val_loss: 0.4668 - val_accuracy: 0.7982\n",
            "Epoch 2/5\n",
            "157/157 [==============================] - 29s 188ms/step - loss: 0.5007 - accuracy: 0.7801 - val_loss: 0.4007 - val_accuracy: 0.8234\n",
            "Epoch 3/5\n",
            "157/157 [==============================] - 30s 193ms/step - loss: 0.3269 - accuracy: 0.8619 - val_loss: 0.3463 - val_accuracy: 0.8492\n",
            "Epoch 4/5\n",
            "157/157 [==============================] - 29s 186ms/step - loss: 0.2620 - accuracy: 0.8949 - val_loss: 0.3217 - val_accuracy: 0.8648\n",
            "Epoch 5/5\n",
            "157/157 [==============================] - 30s 193ms/step - loss: 0.2116 - accuracy: 0.9196 - val_loss: 0.3465 - val_accuracy: 0.8626\n",
            "782/782 [==============================] - 20s 25ms/step - loss: 0.3463 - accuracy: 0.8561\n"
          ]
        }
      ]
    },
    {
      "cell_type": "markdown",
      "source": [
        "7. Compare the results"
      ],
      "metadata": {
        "id": "jn6ItJCujzOW"
      }
    },
    {
      "cell_type": "markdown",
      "source": [
        "##### Elman RNN Model"
      ],
      "metadata": {
        "id": "iWnPWS0sow1a"
      }
    },
    {
      "cell_type": "code",
      "source": [
        "print(\"\\nResults on Short Sequences:\")\n",
        "print(f\"Loss: {loss_short:.4f}, Accuracy: {accuracy_short:.4f}\")\n",
        "\n",
        "print(\"\\nResults on Long Sequences:\")\n",
        "print(f\"Loss: {loss_long:.4f}, Accuracy: {accuracy_long:.4f}\")"
      ],
      "metadata": {
        "colab": {
          "base_uri": "https://localhost:8080/"
        },
        "id": "wkTQz2-gjz3_",
        "outputId": "c185bf82-2bdd-430b-d85e-9e98e99db531"
      },
      "execution_count": 16,
      "outputs": [
        {
          "output_type": "stream",
          "name": "stdout",
          "text": [
            "\n",
            "Results on Short Sequences:\n",
            "Loss: 0.3716, Accuracy: 0.8381\n",
            "\n",
            "Results on Long Sequences:\n",
            "Loss: 0.3818, Accuracy: 0.8470\n"
          ]
        }
      ]
    },
    {
      "cell_type": "markdown",
      "source": [
        "##### Jordan RNN Model"
      ],
      "metadata": {
        "id": "9DQXwF4doxYJ"
      }
    },
    {
      "cell_type": "code",
      "source": [
        "print(\"\\nResults on Short Sequences with Jordan RNN:\")\n",
        "print(f\"Loss: {loss_short_jordan:.4f}, Accuracy: {accuracy_short_jordan:.4f}\")\n",
        "\n",
        "print(\"\\nResults on Long Sequences with Jordan RNN:\")\n",
        "print(f\"Loss: {loss_long_jordan:.4f}, Accuracy: {accuracy_long_jordan:.4f}\")"
      ],
      "metadata": {
        "colab": {
          "base_uri": "https://localhost:8080/"
        },
        "id": "YFJxZPCzoxnM",
        "outputId": "0220b729-8c53-4749-c620-f8ae0e3d66fe"
      },
      "execution_count": 17,
      "outputs": [
        {
          "output_type": "stream",
          "name": "stdout",
          "text": [
            "\n",
            "Results on Short Sequences with Jordan RNN:\n",
            "Loss: 0.6082, Accuracy: 0.8200\n",
            "\n",
            "Results on Long Sequences with Jordan RNN:\n",
            "Loss: 0.4747, Accuracy: 0.8528\n"
          ]
        }
      ]
    },
    {
      "cell_type": "markdown",
      "source": [
        "##### Bidirectional RNN Model"
      ],
      "metadata": {
        "id": "dLZilehxoyCs"
      }
    },
    {
      "cell_type": "code",
      "source": [
        "print(\"\\nResults on Short Sequences with Bidirectional RNN:\")\n",
        "print(f\"Loss: {loss_short_bidirectional:.4f}, Accuracy: {accuracy_short_bidirectional:.4f}\")\n",
        "\n",
        "print(\"\\nResults on Long Sequences with Bidirectional RNN:\")\n",
        "print(f\"Loss: {loss_long_bidirectional:.4f}, Accuracy: {accuracy_long_bidirectional:.4f}\")"
      ],
      "metadata": {
        "colab": {
          "base_uri": "https://localhost:8080/"
        },
        "id": "hVqsvUqOoyT8",
        "outputId": "5adf9e48-7651-4bdb-e501-16d8e044770d"
      },
      "execution_count": 18,
      "outputs": [
        {
          "output_type": "stream",
          "name": "stdout",
          "text": [
            "\n",
            "Results on Short Sequences with Bidirectional RNN:\n",
            "Loss: 0.3698, Accuracy: 0.8378\n",
            "\n",
            "Results on Long Sequences with Bidirectional RNN:\n",
            "Loss: 0.3463, Accuracy: 0.8561\n"
          ]
        }
      ]
    },
    {
      "cell_type": "markdown",
      "source": [
        "En este estudio, se experimentó con tres tipos de arquitecturas de redes neuronales recurrentes (RNN): Elman RNN, Jordan RNN y Bidireccional RNN. Cada uno de estos modelos fue entrenado y evaluado en dos configuraciones diferentes: utilizando secuencias cortas y largas de entrada.\n",
        "\n",
        "En términos generales, todos los modelos demostraron ser competentes en la tarea de clasificación, logrando una precisión de al menos 0.82 en el conjunto de prueba. Esto confirma la eficacia de las RNN en tareas que implican datos secuenciales, como la clasificación de opiniones basada en comentarios de texto.\n",
        "\n",
        "Cuando se compararon los diferentes tipos de RNN, el modelo Jordan superó al Elman en las secuencias largas, pero en las secuencias cortas, su rendimiento fue ligeramente inferior. Esto sugiere que las capacidades de \"memoria\" a largo plazo del modelo Jordan pueden ser especialmente útiles cuando se trata de manejar secuencias más largas.\n",
        "\n",
        "Por otro lado, el rendimiento de los modelos Bidireccionales fue comparable o incluso superior al de los modelos Elman y Jordan, tanto para secuencias cortas como largas. Esta robustez podría deberse a su capacidad para procesar información tanto en la dirección de avance como en la de retroceso de la secuencia de entrada.\n",
        "\n",
        "Respecto a la longitud de las secuencias, se observó que todos los modelos -Elman, Jordan y Bidireccional- se desempeñaron ligeramente mejor con secuencias más largas. Esto puede indicar que tener más información disponible, en forma de una secuencia de entrada más larga, resulta beneficioso para la tarea. Sin embargo, es posible que las secuencias más largas simplemente proporcionen un contexto adicional que facilita a los modelos la comprensión del sentimiento general del comentario.\n",
        "\n",
        "En conclusión, aunque todos los modelos evaluados demostraron ser efectivos para la tarea de clasificación de opiniones, los modelos Bidireccionales mostraron un rendimiento ligeramente superior. Además, utilizar secuencias más largas de entrada mejoró el rendimiento de todos los modelos. Estos hallazgos podrían tener implicaciones valiosas para futuros trabajos en tareas similares de procesamiento del lenguaje natural."
      ],
      "metadata": {
        "id": "-daqRK9gugSS"
      }
    }
  ]
}